{
  "nbformat": 4,
  "nbformat_minor": 0,
  "metadata": {
    "colab": {
      "name": "Covid time food Nutrition.ipynb",
      "provenance": []
    },
    "kernelspec": {
      "name": "python3",
      "display_name": "Python 3"
    },
    "language_info": {
      "name": "python"
    }
  },
  "cells": [
    {
      "cell_type": "code",
      "source": [
        "#importing basic libraries\n",
        "import pandas as pd, numpy as np, seaborn as sns, matplotlib.pyplot as plt\n",
        "%matplotlib inline"
      ],
      "metadata": {
        "id": "kultElXuvJK6"
      },
      "execution_count": 1,
      "outputs": []
    },
    {
      "cell_type": "code",
      "source": [
        "Nutrition= pd.read_excel('/content/Covid time food nutrition.xlsx')\n",
        "Nutrition.head(2)"
      ],
      "metadata": {
        "colab": {
          "base_uri": "https://localhost:8080/",
          "height": 255
        },
        "id": "cx-dUf5wvJ64",
        "outputId": "895e0690-7ce3-4910-93dc-2c65c479ecdc"
      },
      "execution_count": 2,
      "outputs": [
        {
          "output_type": "execute_result",
          "data": {
            "text/plain": [
              "                 name  age  gender marital status  Height(feet)  Weight(kg)  \\\n",
              "0  Hefseeba k johnson   33  Female       Married            5.3          60   \n",
              "1          Athira A k   28  Female       Married            5.2          54   \n",
              "\n",
              "    BMI BMI(result)  Waist blood sugar  ... covid- calcium covid- iron  \\\n",
              "0  23.4      normal     32         low  ...            800          25   \n",
              "1  22.5      normal     30      normal  ...            950          20   \n",
              "\n",
              "  covid- vtamin c post covid- energy post covid - CHO post covid protein  \\\n",
              "0              50               2150              145                 50   \n",
              "1              50               2130              145                 50   \n",
              "\n",
              "  post covid fat post covid - calcium post covid - iron post covid - vitamin c  \n",
              "0             28                 1100                25                     70  \n",
              "1             28                 1100                32                     70  \n",
              "\n",
              "[2 rows x 57 columns]"
            ],
            "text/html": [
              "\n",
              "  <div id=\"df-8c2eb5bb-5d3d-48e2-8980-5d4cb5a4ac4c\">\n",
              "    <div class=\"colab-df-container\">\n",
              "      <div>\n",
              "<style scoped>\n",
              "    .dataframe tbody tr th:only-of-type {\n",
              "        vertical-align: middle;\n",
              "    }\n",
              "\n",
              "    .dataframe tbody tr th {\n",
              "        vertical-align: top;\n",
              "    }\n",
              "\n",
              "    .dataframe thead th {\n",
              "        text-align: right;\n",
              "    }\n",
              "</style>\n",
              "<table border=\"1\" class=\"dataframe\">\n",
              "  <thead>\n",
              "    <tr style=\"text-align: right;\">\n",
              "      <th></th>\n",
              "      <th>name</th>\n",
              "      <th>age</th>\n",
              "      <th>gender</th>\n",
              "      <th>marital status</th>\n",
              "      <th>Height(feet)</th>\n",
              "      <th>Weight(kg)</th>\n",
              "      <th>BMI</th>\n",
              "      <th>BMI(result)</th>\n",
              "      <th>Waist</th>\n",
              "      <th>blood sugar</th>\n",
              "      <th>...</th>\n",
              "      <th>covid- calcium</th>\n",
              "      <th>covid- iron</th>\n",
              "      <th>covid- vtamin c</th>\n",
              "      <th>post covid- energy</th>\n",
              "      <th>post covid - CHO</th>\n",
              "      <th>post covid protein</th>\n",
              "      <th>post covid fat</th>\n",
              "      <th>post covid - calcium</th>\n",
              "      <th>post covid - iron</th>\n",
              "      <th>post covid - vitamin c</th>\n",
              "    </tr>\n",
              "  </thead>\n",
              "  <tbody>\n",
              "    <tr>\n",
              "      <th>0</th>\n",
              "      <td>Hefseeba k johnson</td>\n",
              "      <td>33</td>\n",
              "      <td>Female</td>\n",
              "      <td>Married</td>\n",
              "      <td>5.3</td>\n",
              "      <td>60</td>\n",
              "      <td>23.4</td>\n",
              "      <td>normal</td>\n",
              "      <td>32</td>\n",
              "      <td>low</td>\n",
              "      <td>...</td>\n",
              "      <td>800</td>\n",
              "      <td>25</td>\n",
              "      <td>50</td>\n",
              "      <td>2150</td>\n",
              "      <td>145</td>\n",
              "      <td>50</td>\n",
              "      <td>28</td>\n",
              "      <td>1100</td>\n",
              "      <td>25</td>\n",
              "      <td>70</td>\n",
              "    </tr>\n",
              "    <tr>\n",
              "      <th>1</th>\n",
              "      <td>Athira A k</td>\n",
              "      <td>28</td>\n",
              "      <td>Female</td>\n",
              "      <td>Married</td>\n",
              "      <td>5.2</td>\n",
              "      <td>54</td>\n",
              "      <td>22.5</td>\n",
              "      <td>normal</td>\n",
              "      <td>30</td>\n",
              "      <td>normal</td>\n",
              "      <td>...</td>\n",
              "      <td>950</td>\n",
              "      <td>20</td>\n",
              "      <td>50</td>\n",
              "      <td>2130</td>\n",
              "      <td>145</td>\n",
              "      <td>50</td>\n",
              "      <td>28</td>\n",
              "      <td>1100</td>\n",
              "      <td>32</td>\n",
              "      <td>70</td>\n",
              "    </tr>\n",
              "  </tbody>\n",
              "</table>\n",
              "<p>2 rows × 57 columns</p>\n",
              "</div>\n",
              "      <button class=\"colab-df-convert\" onclick=\"convertToInteractive('df-8c2eb5bb-5d3d-48e2-8980-5d4cb5a4ac4c')\"\n",
              "              title=\"Convert this dataframe to an interactive table.\"\n",
              "              style=\"display:none;\">\n",
              "        \n",
              "  <svg xmlns=\"http://www.w3.org/2000/svg\" height=\"24px\"viewBox=\"0 0 24 24\"\n",
              "       width=\"24px\">\n",
              "    <path d=\"M0 0h24v24H0V0z\" fill=\"none\"/>\n",
              "    <path d=\"M18.56 5.44l.94 2.06.94-2.06 2.06-.94-2.06-.94-.94-2.06-.94 2.06-2.06.94zm-11 1L8.5 8.5l.94-2.06 2.06-.94-2.06-.94L8.5 2.5l-.94 2.06-2.06.94zm10 10l.94 2.06.94-2.06 2.06-.94-2.06-.94-.94-2.06-.94 2.06-2.06.94z\"/><path d=\"M17.41 7.96l-1.37-1.37c-.4-.4-.92-.59-1.43-.59-.52 0-1.04.2-1.43.59L10.3 9.45l-7.72 7.72c-.78.78-.78 2.05 0 2.83L4 21.41c.39.39.9.59 1.41.59.51 0 1.02-.2 1.41-.59l7.78-7.78 2.81-2.81c.8-.78.8-2.07 0-2.86zM5.41 20L4 18.59l7.72-7.72 1.47 1.35L5.41 20z\"/>\n",
              "  </svg>\n",
              "      </button>\n",
              "      \n",
              "  <style>\n",
              "    .colab-df-container {\n",
              "      display:flex;\n",
              "      flex-wrap:wrap;\n",
              "      gap: 12px;\n",
              "    }\n",
              "\n",
              "    .colab-df-convert {\n",
              "      background-color: #E8F0FE;\n",
              "      border: none;\n",
              "      border-radius: 50%;\n",
              "      cursor: pointer;\n",
              "      display: none;\n",
              "      fill: #1967D2;\n",
              "      height: 32px;\n",
              "      padding: 0 0 0 0;\n",
              "      width: 32px;\n",
              "    }\n",
              "\n",
              "    .colab-df-convert:hover {\n",
              "      background-color: #E2EBFA;\n",
              "      box-shadow: 0px 1px 2px rgba(60, 64, 67, 0.3), 0px 1px 3px 1px rgba(60, 64, 67, 0.15);\n",
              "      fill: #174EA6;\n",
              "    }\n",
              "\n",
              "    [theme=dark] .colab-df-convert {\n",
              "      background-color: #3B4455;\n",
              "      fill: #D2E3FC;\n",
              "    }\n",
              "\n",
              "    [theme=dark] .colab-df-convert:hover {\n",
              "      background-color: #434B5C;\n",
              "      box-shadow: 0px 1px 3px 1px rgba(0, 0, 0, 0.15);\n",
              "      filter: drop-shadow(0px 1px 2px rgba(0, 0, 0, 0.3));\n",
              "      fill: #FFFFFF;\n",
              "    }\n",
              "  </style>\n",
              "\n",
              "      <script>\n",
              "        const buttonEl =\n",
              "          document.querySelector('#df-8c2eb5bb-5d3d-48e2-8980-5d4cb5a4ac4c button.colab-df-convert');\n",
              "        buttonEl.style.display =\n",
              "          google.colab.kernel.accessAllowed ? 'block' : 'none';\n",
              "\n",
              "        async function convertToInteractive(key) {\n",
              "          const element = document.querySelector('#df-8c2eb5bb-5d3d-48e2-8980-5d4cb5a4ac4c');\n",
              "          const dataTable =\n",
              "            await google.colab.kernel.invokeFunction('convertToInteractive',\n",
              "                                                     [key], {});\n",
              "          if (!dataTable) return;\n",
              "\n",
              "          const docLinkHtml = 'Like what you see? Visit the ' +\n",
              "            '<a target=\"_blank\" href=https://colab.research.google.com/notebooks/data_table.ipynb>data table notebook</a>'\n",
              "            + ' to learn more about interactive tables.';\n",
              "          element.innerHTML = '';\n",
              "          dataTable['output_type'] = 'display_data';\n",
              "          await google.colab.output.renderOutput(dataTable, element);\n",
              "          const docLink = document.createElement('div');\n",
              "          docLink.innerHTML = docLinkHtml;\n",
              "          element.appendChild(docLink);\n",
              "        }\n",
              "      </script>\n",
              "    </div>\n",
              "  </div>\n",
              "  "
            ]
          },
          "metadata": {},
          "execution_count": 2
        }
      ]
    },
    {
      "cell_type": "code",
      "source": [
        "Nutrition.columns"
      ],
      "metadata": {
        "colab": {
          "base_uri": "https://localhost:8080/"
        },
        "id": "p7P0lwsNvkuX",
        "outputId": "645193b8-173d-4cdd-eed8-f93620c6fdae"
      },
      "execution_count": 3,
      "outputs": [
        {
          "output_type": "execute_result",
          "data": {
            "text/plain": [
              "Index(['name', 'age', 'gender', 'marital status', 'Height(feet)', 'Weight(kg)',\n",
              "       'BMI', 'BMI(result)', 'Waist', 'blood sugar', 'cholesterol',\n",
              "       'creatinine', 'HB count', 'sodium', 'potassium', 'physical appearance',\n",
              "       'hair', 'skin', 'eye', 'tongue', 'teeth', 'nail', 'disease condition',\n",
              "       'medication', 'weight lose', 'post covid symptoms',\n",
              "       'frequency table- cereals & millets', 'pulses & legumes',\n",
              "       'green leafy vegetables', 'roots & tubers', 'other vegetables',\n",
              "       'fruits', 'milk & milk products', 'meat & meat products', 'nuts & oils',\n",
              "       'sugar products', 'pre covid - energy', 'pre covid - CHO',\n",
              "       'pre covid - protein', 'precovid - fat', 'pre covid- calcium',\n",
              "       'pre covid - iron', 'pre covid - vitamin c', 'covid- energy',\n",
              "       'covid- CHO', 'covid - protein', 'covid- fat', 'covid- calcium',\n",
              "       'covid- iron', 'covid- vtamin c', 'post covid- energy',\n",
              "       'post covid - CHO', 'post covid protein', 'post covid fat',\n",
              "       'post covid - calcium', 'post covid - iron', 'post covid - vitamin c'],\n",
              "      dtype='object')"
            ]
          },
          "metadata": {},
          "execution_count": 3
        }
      ]
    },
    {
      "cell_type": "code",
      "source": [
        "Nutrition.shape"
      ],
      "metadata": {
        "colab": {
          "base_uri": "https://localhost:8080/"
        },
        "id": "bNv5URRL84j0",
        "outputId": "32d3389f-f93b-41e7-d705-44acbca67b39"
      },
      "execution_count": 4,
      "outputs": [
        {
          "output_type": "execute_result",
          "data": {
            "text/plain": [
              "(100, 57)"
            ]
          },
          "metadata": {},
          "execution_count": 4
        }
      ]
    },
    {
      "cell_type": "code",
      "source": [
        "Nutrition.info()"
      ],
      "metadata": {
        "colab": {
          "base_uri": "https://localhost:8080/"
        },
        "id": "1kPOH4EQ87mX",
        "outputId": "f61e0aac-6a5f-4c42-d56a-016664b5f56a"
      },
      "execution_count": 5,
      "outputs": [
        {
          "output_type": "stream",
          "name": "stdout",
          "text": [
            "<class 'pandas.core.frame.DataFrame'>\n",
            "RangeIndex: 100 entries, 0 to 99\n",
            "Data columns (total 57 columns):\n",
            " #   Column                              Non-Null Count  Dtype  \n",
            "---  ------                              --------------  -----  \n",
            " 0   name                                100 non-null    object \n",
            " 1   age                                 100 non-null    int64  \n",
            " 2   gender                              100 non-null    object \n",
            " 3   marital status                      100 non-null    object \n",
            " 4   Height(feet)                        100 non-null    float64\n",
            " 5   Weight(kg)                          100 non-null    int64  \n",
            " 6   BMI                                 100 non-null    float64\n",
            " 7   BMI(result)                         100 non-null    object \n",
            " 8   Waist                               100 non-null    int64  \n",
            " 9   blood sugar                         100 non-null    object \n",
            " 10  cholesterol                         100 non-null    object \n",
            " 11  creatinine                          100 non-null    object \n",
            " 12  HB count                            100 non-null    object \n",
            " 13  sodium                              100 non-null    object \n",
            " 14  potassium                           100 non-null    object \n",
            " 15  physical appearance                 100 non-null    object \n",
            " 16  hair                                100 non-null    object \n",
            " 17  skin                                100 non-null    object \n",
            " 18  eye                                 100 non-null    object \n",
            " 19  tongue                              100 non-null    object \n",
            " 20  teeth                               100 non-null    object \n",
            " 21  nail                                100 non-null    object \n",
            " 22  disease condition                   100 non-null    object \n",
            " 23  medication                          100 non-null    object \n",
            " 24  weight lose                         100 non-null    object \n",
            " 25  post covid symptoms                 100 non-null    object \n",
            " 26  frequency table- cereals & millets  100 non-null    object \n",
            " 27  pulses & legumes                    100 non-null    object \n",
            " 28  green leafy vegetables              100 non-null    object \n",
            " 29  roots & tubers                      100 non-null    object \n",
            " 30  other vegetables                    100 non-null    object \n",
            " 31  fruits                              100 non-null    object \n",
            " 32  milk & milk products                100 non-null    object \n",
            " 33  meat & meat products                100 non-null    object \n",
            " 34  nuts & oils                         100 non-null    object \n",
            " 35  sugar products                      100 non-null    object \n",
            " 36  pre covid - energy                  100 non-null    float64\n",
            " 37  pre covid - CHO                     100 non-null    float64\n",
            " 38  pre covid - protein                 100 non-null    int64  \n",
            " 39  precovid - fat                      100 non-null    int64  \n",
            " 40  pre covid- calcium                  100 non-null    int64  \n",
            " 41  pre covid - iron                    100 non-null    int64  \n",
            " 42  pre covid - vitamin c               100 non-null    int64  \n",
            " 43  covid- energy                       100 non-null    int64  \n",
            " 44  covid- CHO                          100 non-null    int64  \n",
            " 45  covid - protein                     100 non-null    int64  \n",
            " 46  covid- fat                          100 non-null    int64  \n",
            " 47  covid- calcium                      100 non-null    int64  \n",
            " 48  covid- iron                         100 non-null    int64  \n",
            " 49  covid- vtamin c                     100 non-null    int64  \n",
            " 50  post covid- energy                  100 non-null    int64  \n",
            " 51  post covid - CHO                    100 non-null    int64  \n",
            " 52  post covid protein                  100 non-null    int64  \n",
            " 53  post covid fat                      100 non-null    int64  \n",
            " 54  post covid - calcium                100 non-null    int64  \n",
            " 55  post covid - iron                   100 non-null    int64  \n",
            " 56  post covid - vitamin c              100 non-null    int64  \n",
            "dtypes: float64(4), int64(22), object(31)\n",
            "memory usage: 44.7+ KB\n"
          ]
        }
      ]
    },
    {
      "cell_type": "markdown",
      "source": [
        "## Correlation"
      ],
      "metadata": {
        "id": "hVxQITBbfbif"
      }
    },
    {
      "cell_type": "code",
      "source": [
        "#correlation\n",
        "Nutrition.corr()"
      ],
      "metadata": {
        "colab": {
          "base_uri": "https://localhost:8080/",
          "height": 1000
        },
        "id": "fkIgI2favqo0",
        "outputId": "76ba74b3-0be0-48f6-a41c-90d9eb52b1c1"
      },
      "execution_count": 6,
      "outputs": [
        {
          "output_type": "execute_result",
          "data": {
            "text/plain": [
              "                             age  Height(feet)  Weight(kg)       BMI  \\\n",
              "age                     1.000000     -0.093412    0.050434  0.130175   \n",
              "Height(feet)           -0.093412      1.000000    0.667250 -0.178440   \n",
              "Weight(kg)              0.050434      0.667250    1.000000  0.567804   \n",
              "BMI                     0.130175     -0.178440    0.567804  1.000000   \n",
              "Waist                   0.091409     -0.129517    0.513283  0.873194   \n",
              "pre covid - energy      0.032849      0.617976    0.741079  0.341247   \n",
              "pre covid - CHO         0.065405     -0.327842    0.044103  0.455551   \n",
              "pre covid - protein     0.051326      0.558107    0.635126  0.257685   \n",
              "precovid - fat          0.101695      0.371803    0.500162  0.266903   \n",
              "pre covid- calcium      0.156591     -0.068454    0.277412  0.413793   \n",
              "pre covid - iron        0.101224     -0.707708   -0.506637  0.062909   \n",
              "pre covid - vitamin c   0.031186      0.653519    0.711785  0.248944   \n",
              "covid- energy           0.033078      0.598533    0.574117  0.125951   \n",
              "covid- CHO              0.130130      0.033223    0.154585  0.164894   \n",
              "covid - protein        -0.098947      0.578613    0.569773  0.099200   \n",
              "covid- fat             -0.032682      0.580098    0.688942  0.252735   \n",
              "covid- calcium         -0.046813     -0.230206   -0.102095  0.119771   \n",
              "covid- iron            -0.007980     -0.694432   -0.549836  0.004952   \n",
              "covid- vtamin c        -0.031054      0.708106    0.666568  0.135529   \n",
              "post covid- energy      0.004849      0.567147    0.683234  0.342632   \n",
              "post covid - CHO       -0.026742     -0.379201   -0.480876 -0.227319   \n",
              "post covid protein     -0.004868      0.712079    0.687128  0.163816   \n",
              "post covid fat         -0.078784      0.706754    0.621518  0.082306   \n",
              "post covid - calcium   -0.032076      0.284910    0.254956  0.018534   \n",
              "post covid - iron      -0.012191     -0.545869   -0.328193  0.153769   \n",
              "post covid - vitamin c  0.019554      0.703822    0.665815  0.137429   \n",
              "\n",
              "                           Waist  pre covid - energy  pre covid - CHO  \\\n",
              "age                     0.091409            0.032849         0.065405   \n",
              "Height(feet)           -0.129517            0.617976        -0.327842   \n",
              "Weight(kg)              0.513283            0.741079         0.044103   \n",
              "BMI                     0.873194            0.341247         0.455551   \n",
              "Waist                   1.000000            0.317988         0.353013   \n",
              "pre covid - energy      0.317988            1.000000         0.047923   \n",
              "pre covid - CHO         0.353013            0.047923         1.000000   \n",
              "pre covid - protein     0.282325            0.894475        -0.064981   \n",
              "precovid - fat          0.257816            0.765555         0.092587   \n",
              "pre covid- calcium      0.351735            0.340048         0.351241   \n",
              "pre covid - iron       -0.000782           -0.695438         0.436594   \n",
              "pre covid - vitamin c   0.254210            0.954681        -0.168892   \n",
              "covid- energy           0.132674            0.835133        -0.267860   \n",
              "covid- CHO              0.211303            0.180999        -0.002007   \n",
              "covid - protein         0.143017            0.782246        -0.237604   \n",
              "covid- fat              0.260404            0.847493        -0.182666   \n",
              "covid- calcium          0.040639            0.009822         0.206836   \n",
              "covid- iron            -0.054755           -0.728012         0.423920   \n",
              "covid- vtamin c         0.167566            0.906464        -0.283413   \n",
              "post covid- energy      0.321625            0.921721         0.138189   \n",
              "post covid - CHO       -0.202402           -0.362365        -0.021379   \n",
              "post covid protein      0.134010            0.835832        -0.209223   \n",
              "post covid fat          0.109873            0.854345        -0.286475   \n",
              "post covid - calcium    0.003266            0.366195        -0.001074   \n",
              "post covid - iron       0.128031           -0.498760         0.392012   \n",
              "post covid - vitamin c  0.153628            0.900464        -0.247484   \n",
              "\n",
              "                        pre covid - protein  precovid - fat  \\\n",
              "age                                0.051326        0.101695   \n",
              "Height(feet)                       0.558107        0.371803   \n",
              "Weight(kg)                         0.635126        0.500162   \n",
              "BMI                                0.257685        0.266903   \n",
              "Waist                              0.282325        0.257816   \n",
              "pre covid - energy                 0.894475        0.765555   \n",
              "pre covid - CHO                   -0.064981        0.092587   \n",
              "pre covid - protein                1.000000        0.819631   \n",
              "precovid - fat                     0.819631        1.000000   \n",
              "pre covid- calcium                 0.414684        0.467781   \n",
              "pre covid - iron                  -0.628283       -0.423264   \n",
              "pre covid - vitamin c              0.901336        0.735172   \n",
              "covid- energy                      0.784917        0.664764   \n",
              "covid- CHO                         0.144045        0.151066   \n",
              "covid - protein                    0.721787        0.598987   \n",
              "covid- fat                         0.782956        0.635647   \n",
              "covid- calcium                    -0.006463        0.110121   \n",
              "covid- iron                       -0.668282       -0.402501   \n",
              "covid- vtamin c                    0.851584        0.661905   \n",
              "post covid- energy                 0.816961        0.718215   \n",
              "post covid - CHO                  -0.200380       -0.052395   \n",
              "post covid protein                 0.749608        0.552686   \n",
              "post covid fat                     0.765880        0.609070   \n",
              "post covid - calcium               0.311629        0.263168   \n",
              "post covid - iron                 -0.479857       -0.289658   \n",
              "post covid - vitamin c             0.849843        0.677759   \n",
              "\n",
              "                        pre covid- calcium  ...  covid- calcium  covid- iron  \\\n",
              "age                               0.156591  ...       -0.046813    -0.007980   \n",
              "Height(feet)                     -0.068454  ...       -0.230206    -0.694432   \n",
              "Weight(kg)                        0.277412  ...       -0.102095    -0.549836   \n",
              "BMI                               0.413793  ...        0.119771     0.004952   \n",
              "Waist                             0.351735  ...        0.040639    -0.054755   \n",
              "pre covid - energy                0.340048  ...        0.009822    -0.728012   \n",
              "pre covid - CHO                   0.351241  ...        0.206836     0.423920   \n",
              "pre covid - protein               0.414684  ...       -0.006463    -0.668282   \n",
              "precovid - fat                    0.467781  ...        0.110121    -0.402501   \n",
              "pre covid- calcium                1.000000  ...        0.429599     0.065282   \n",
              "pre covid - iron                  0.322468  ...        0.332010     0.850513   \n",
              "pre covid - vitamin c             0.319807  ...       -0.011201    -0.798102   \n",
              "covid- energy                     0.192491  ...        0.084936    -0.708763   \n",
              "covid- CHO                        0.100865  ...        0.053591    -0.088940   \n",
              "covid - protein                   0.034410  ...       -0.101491    -0.751045   \n",
              "covid- fat                        0.182251  ...       -0.076688    -0.734722   \n",
              "covid- calcium                    0.429599  ...        1.000000     0.274776   \n",
              "covid- iron                       0.065282  ...        0.274776     1.000000   \n",
              "covid- vtamin c                   0.114793  ...       -0.155862    -0.864740   \n",
              "post covid- energy                0.165204  ...       -0.052855    -0.663300   \n",
              "post covid - CHO                 -0.019837  ...        0.258242     0.353951   \n",
              "post covid protein                0.156514  ...       -0.065745    -0.779043   \n",
              "post covid fat                    0.010132  ...       -0.150128    -0.834233   \n",
              "post covid - calcium              0.067647  ...        0.048106    -0.303959   \n",
              "post covid - iron                 0.063445  ...        0.136252     0.651588   \n",
              "post covid - vitamin c            0.091180  ...       -0.105157    -0.831118   \n",
              "\n",
              "                        covid- vtamin c  post covid- energy  post covid - CHO  \\\n",
              "age                           -0.031054            0.004849         -0.026742   \n",
              "Height(feet)                   0.708106            0.567147         -0.379201   \n",
              "Weight(kg)                     0.666568            0.683234         -0.480876   \n",
              "BMI                            0.135529            0.342632         -0.227319   \n",
              "Waist                          0.167566            0.321625         -0.202402   \n",
              "pre covid - energy             0.906464            0.921721         -0.362365   \n",
              "pre covid - CHO               -0.283413            0.138189         -0.021379   \n",
              "pre covid - protein            0.851584            0.816961         -0.200380   \n",
              "precovid - fat                 0.661905            0.718215         -0.052395   \n",
              "pre covid- calcium             0.114793            0.165204         -0.019837   \n",
              "pre covid - iron              -0.877911           -0.734668          0.255021   \n",
              "pre covid - vitamin c          0.946055            0.856814         -0.330140   \n",
              "covid- energy                  0.871619            0.794126         -0.097149   \n",
              "covid- CHO                     0.159977            0.159552         -0.125803   \n",
              "covid - protein                0.855973            0.768660         -0.184292   \n",
              "covid- fat                     0.875504            0.792963         -0.368205   \n",
              "covid- calcium                -0.155862           -0.052855          0.258242   \n",
              "covid- iron                   -0.864740           -0.663300          0.353951   \n",
              "covid- vtamin c                1.000000            0.854500         -0.317192   \n",
              "post covid- energy             0.854500            1.000000         -0.236950   \n",
              "post covid - CHO              -0.317192           -0.236950          1.000000   \n",
              "post covid protein             0.863259            0.770564         -0.370491   \n",
              "post covid fat                 0.932125            0.825136         -0.319576   \n",
              "post covid - calcium           0.351881            0.375657         -0.050452   \n",
              "post covid - iron             -0.656976           -0.457175          0.080427   \n",
              "post covid - vitamin c         0.944383            0.857972         -0.320242   \n",
              "\n",
              "                        post covid protein  post covid fat  \\\n",
              "age                              -0.004868       -0.078784   \n",
              "Height(feet)                      0.712079        0.706754   \n",
              "Weight(kg)                        0.687128        0.621518   \n",
              "BMI                               0.163816        0.082306   \n",
              "Waist                             0.134010        0.109873   \n",
              "pre covid - energy                0.835832        0.854345   \n",
              "pre covid - CHO                  -0.209223       -0.286475   \n",
              "pre covid - protein               0.749608        0.765880   \n",
              "precovid - fat                    0.552686        0.609070   \n",
              "pre covid- calcium                0.156514        0.010132   \n",
              "pre covid - iron                 -0.758571       -0.888252   \n",
              "pre covid - vitamin c             0.866403        0.894639   \n",
              "covid- energy                     0.758507        0.825672   \n",
              "covid- CHO                        0.092622        0.133306   \n",
              "covid - protein                   0.738178        0.808065   \n",
              "covid- fat                        0.778802        0.810677   \n",
              "covid- calcium                   -0.065745       -0.150128   \n",
              "covid- iron                      -0.779043       -0.834233   \n",
              "covid- vtamin c                   0.863259        0.932125   \n",
              "post covid- energy                0.770564        0.825136   \n",
              "post covid - CHO                 -0.370491       -0.319576   \n",
              "post covid protein                1.000000        0.831747   \n",
              "post covid fat                    0.831747        1.000000   \n",
              "post covid - calcium              0.390119        0.400803   \n",
              "post covid - iron                -0.571209       -0.619753   \n",
              "post covid - vitamin c            0.851470        0.915669   \n",
              "\n",
              "                        post covid - calcium  post covid - iron  \\\n",
              "age                                -0.032076          -0.012191   \n",
              "Height(feet)                        0.284910          -0.545869   \n",
              "Weight(kg)                          0.254956          -0.328193   \n",
              "BMI                                 0.018534           0.153769   \n",
              "Waist                               0.003266           0.128031   \n",
              "pre covid - energy                  0.366195          -0.498760   \n",
              "pre covid - CHO                    -0.001074           0.392012   \n",
              "pre covid - protein                 0.311629          -0.479857   \n",
              "precovid - fat                      0.263168          -0.289658   \n",
              "pre covid- calcium                  0.067647           0.063445   \n",
              "pre covid - iron                   -0.339467           0.650616   \n",
              "pre covid - vitamin c               0.388296          -0.599123   \n",
              "covid- energy                       0.330484          -0.570745   \n",
              "covid- CHO                          0.049143          -0.064888   \n",
              "covid - protein                     0.439934          -0.628107   \n",
              "covid- fat                          0.352073          -0.528144   \n",
              "covid- calcium                      0.048106           0.136252   \n",
              "covid- iron                        -0.303959           0.651588   \n",
              "covid- vtamin c                     0.351881          -0.656976   \n",
              "post covid- energy                  0.375657          -0.457175   \n",
              "post covid - CHO                   -0.050452           0.080427   \n",
              "post covid protein                  0.390119          -0.571209   \n",
              "post covid fat                      0.400803          -0.619753   \n",
              "post covid - calcium                1.000000          -0.370363   \n",
              "post covid - iron                  -0.370363           1.000000   \n",
              "post covid - vitamin c              0.422927          -0.628044   \n",
              "\n",
              "                        post covid - vitamin c  \n",
              "age                                   0.019554  \n",
              "Height(feet)                          0.703822  \n",
              "Weight(kg)                            0.665815  \n",
              "BMI                                   0.137429  \n",
              "Waist                                 0.153628  \n",
              "pre covid - energy                    0.900464  \n",
              "pre covid - CHO                      -0.247484  \n",
              "pre covid - protein                   0.849843  \n",
              "precovid - fat                        0.677759  \n",
              "pre covid- calcium                    0.091180  \n",
              "pre covid - iron                     -0.871394  \n",
              "pre covid - vitamin c                 0.931689  \n",
              "covid- energy                         0.867174  \n",
              "covid- CHO                            0.137463  \n",
              "covid - protein                       0.815632  \n",
              "covid- fat                            0.860046  \n",
              "covid- calcium                       -0.105157  \n",
              "covid- iron                          -0.831118  \n",
              "covid- vtamin c                       0.944383  \n",
              "post covid- energy                    0.857972  \n",
              "post covid - CHO                     -0.320242  \n",
              "post covid protein                    0.851470  \n",
              "post covid fat                        0.915669  \n",
              "post covid - calcium                  0.422927  \n",
              "post covid - iron                    -0.628044  \n",
              "post covid - vitamin c                1.000000  \n",
              "\n",
              "[26 rows x 26 columns]"
            ],
            "text/html": [
              "\n",
              "  <div id=\"df-e6286bc8-c69a-42bd-8697-1f738db10621\">\n",
              "    <div class=\"colab-df-container\">\n",
              "      <div>\n",
              "<style scoped>\n",
              "    .dataframe tbody tr th:only-of-type {\n",
              "        vertical-align: middle;\n",
              "    }\n",
              "\n",
              "    .dataframe tbody tr th {\n",
              "        vertical-align: top;\n",
              "    }\n",
              "\n",
              "    .dataframe thead th {\n",
              "        text-align: right;\n",
              "    }\n",
              "</style>\n",
              "<table border=\"1\" class=\"dataframe\">\n",
              "  <thead>\n",
              "    <tr style=\"text-align: right;\">\n",
              "      <th></th>\n",
              "      <th>age</th>\n",
              "      <th>Height(feet)</th>\n",
              "      <th>Weight(kg)</th>\n",
              "      <th>BMI</th>\n",
              "      <th>Waist</th>\n",
              "      <th>pre covid - energy</th>\n",
              "      <th>pre covid - CHO</th>\n",
              "      <th>pre covid - protein</th>\n",
              "      <th>precovid - fat</th>\n",
              "      <th>pre covid- calcium</th>\n",
              "      <th>...</th>\n",
              "      <th>covid- calcium</th>\n",
              "      <th>covid- iron</th>\n",
              "      <th>covid- vtamin c</th>\n",
              "      <th>post covid- energy</th>\n",
              "      <th>post covid - CHO</th>\n",
              "      <th>post covid protein</th>\n",
              "      <th>post covid fat</th>\n",
              "      <th>post covid - calcium</th>\n",
              "      <th>post covid - iron</th>\n",
              "      <th>post covid - vitamin c</th>\n",
              "    </tr>\n",
              "  </thead>\n",
              "  <tbody>\n",
              "    <tr>\n",
              "      <th>age</th>\n",
              "      <td>1.000000</td>\n",
              "      <td>-0.093412</td>\n",
              "      <td>0.050434</td>\n",
              "      <td>0.130175</td>\n",
              "      <td>0.091409</td>\n",
              "      <td>0.032849</td>\n",
              "      <td>0.065405</td>\n",
              "      <td>0.051326</td>\n",
              "      <td>0.101695</td>\n",
              "      <td>0.156591</td>\n",
              "      <td>...</td>\n",
              "      <td>-0.046813</td>\n",
              "      <td>-0.007980</td>\n",
              "      <td>-0.031054</td>\n",
              "      <td>0.004849</td>\n",
              "      <td>-0.026742</td>\n",
              "      <td>-0.004868</td>\n",
              "      <td>-0.078784</td>\n",
              "      <td>-0.032076</td>\n",
              "      <td>-0.012191</td>\n",
              "      <td>0.019554</td>\n",
              "    </tr>\n",
              "    <tr>\n",
              "      <th>Height(feet)</th>\n",
              "      <td>-0.093412</td>\n",
              "      <td>1.000000</td>\n",
              "      <td>0.667250</td>\n",
              "      <td>-0.178440</td>\n",
              "      <td>-0.129517</td>\n",
              "      <td>0.617976</td>\n",
              "      <td>-0.327842</td>\n",
              "      <td>0.558107</td>\n",
              "      <td>0.371803</td>\n",
              "      <td>-0.068454</td>\n",
              "      <td>...</td>\n",
              "      <td>-0.230206</td>\n",
              "      <td>-0.694432</td>\n",
              "      <td>0.708106</td>\n",
              "      <td>0.567147</td>\n",
              "      <td>-0.379201</td>\n",
              "      <td>0.712079</td>\n",
              "      <td>0.706754</td>\n",
              "      <td>0.284910</td>\n",
              "      <td>-0.545869</td>\n",
              "      <td>0.703822</td>\n",
              "    </tr>\n",
              "    <tr>\n",
              "      <th>Weight(kg)</th>\n",
              "      <td>0.050434</td>\n",
              "      <td>0.667250</td>\n",
              "      <td>1.000000</td>\n",
              "      <td>0.567804</td>\n",
              "      <td>0.513283</td>\n",
              "      <td>0.741079</td>\n",
              "      <td>0.044103</td>\n",
              "      <td>0.635126</td>\n",
              "      <td>0.500162</td>\n",
              "      <td>0.277412</td>\n",
              "      <td>...</td>\n",
              "      <td>-0.102095</td>\n",
              "      <td>-0.549836</td>\n",
              "      <td>0.666568</td>\n",
              "      <td>0.683234</td>\n",
              "      <td>-0.480876</td>\n",
              "      <td>0.687128</td>\n",
              "      <td>0.621518</td>\n",
              "      <td>0.254956</td>\n",
              "      <td>-0.328193</td>\n",
              "      <td>0.665815</td>\n",
              "    </tr>\n",
              "    <tr>\n",
              "      <th>BMI</th>\n",
              "      <td>0.130175</td>\n",
              "      <td>-0.178440</td>\n",
              "      <td>0.567804</td>\n",
              "      <td>1.000000</td>\n",
              "      <td>0.873194</td>\n",
              "      <td>0.341247</td>\n",
              "      <td>0.455551</td>\n",
              "      <td>0.257685</td>\n",
              "      <td>0.266903</td>\n",
              "      <td>0.413793</td>\n",
              "      <td>...</td>\n",
              "      <td>0.119771</td>\n",
              "      <td>0.004952</td>\n",
              "      <td>0.135529</td>\n",
              "      <td>0.342632</td>\n",
              "      <td>-0.227319</td>\n",
              "      <td>0.163816</td>\n",
              "      <td>0.082306</td>\n",
              "      <td>0.018534</td>\n",
              "      <td>0.153769</td>\n",
              "      <td>0.137429</td>\n",
              "    </tr>\n",
              "    <tr>\n",
              "      <th>Waist</th>\n",
              "      <td>0.091409</td>\n",
              "      <td>-0.129517</td>\n",
              "      <td>0.513283</td>\n",
              "      <td>0.873194</td>\n",
              "      <td>1.000000</td>\n",
              "      <td>0.317988</td>\n",
              "      <td>0.353013</td>\n",
              "      <td>0.282325</td>\n",
              "      <td>0.257816</td>\n",
              "      <td>0.351735</td>\n",
              "      <td>...</td>\n",
              "      <td>0.040639</td>\n",
              "      <td>-0.054755</td>\n",
              "      <td>0.167566</td>\n",
              "      <td>0.321625</td>\n",
              "      <td>-0.202402</td>\n",
              "      <td>0.134010</td>\n",
              "      <td>0.109873</td>\n",
              "      <td>0.003266</td>\n",
              "      <td>0.128031</td>\n",
              "      <td>0.153628</td>\n",
              "    </tr>\n",
              "    <tr>\n",
              "      <th>pre covid - energy</th>\n",
              "      <td>0.032849</td>\n",
              "      <td>0.617976</td>\n",
              "      <td>0.741079</td>\n",
              "      <td>0.341247</td>\n",
              "      <td>0.317988</td>\n",
              "      <td>1.000000</td>\n",
              "      <td>0.047923</td>\n",
              "      <td>0.894475</td>\n",
              "      <td>0.765555</td>\n",
              "      <td>0.340048</td>\n",
              "      <td>...</td>\n",
              "      <td>0.009822</td>\n",
              "      <td>-0.728012</td>\n",
              "      <td>0.906464</td>\n",
              "      <td>0.921721</td>\n",
              "      <td>-0.362365</td>\n",
              "      <td>0.835832</td>\n",
              "      <td>0.854345</td>\n",
              "      <td>0.366195</td>\n",
              "      <td>-0.498760</td>\n",
              "      <td>0.900464</td>\n",
              "    </tr>\n",
              "    <tr>\n",
              "      <th>pre covid - CHO</th>\n",
              "      <td>0.065405</td>\n",
              "      <td>-0.327842</td>\n",
              "      <td>0.044103</td>\n",
              "      <td>0.455551</td>\n",
              "      <td>0.353013</td>\n",
              "      <td>0.047923</td>\n",
              "      <td>1.000000</td>\n",
              "      <td>-0.064981</td>\n",
              "      <td>0.092587</td>\n",
              "      <td>0.351241</td>\n",
              "      <td>...</td>\n",
              "      <td>0.206836</td>\n",
              "      <td>0.423920</td>\n",
              "      <td>-0.283413</td>\n",
              "      <td>0.138189</td>\n",
              "      <td>-0.021379</td>\n",
              "      <td>-0.209223</td>\n",
              "      <td>-0.286475</td>\n",
              "      <td>-0.001074</td>\n",
              "      <td>0.392012</td>\n",
              "      <td>-0.247484</td>\n",
              "    </tr>\n",
              "    <tr>\n",
              "      <th>pre covid - protein</th>\n",
              "      <td>0.051326</td>\n",
              "      <td>0.558107</td>\n",
              "      <td>0.635126</td>\n",
              "      <td>0.257685</td>\n",
              "      <td>0.282325</td>\n",
              "      <td>0.894475</td>\n",
              "      <td>-0.064981</td>\n",
              "      <td>1.000000</td>\n",
              "      <td>0.819631</td>\n",
              "      <td>0.414684</td>\n",
              "      <td>...</td>\n",
              "      <td>-0.006463</td>\n",
              "      <td>-0.668282</td>\n",
              "      <td>0.851584</td>\n",
              "      <td>0.816961</td>\n",
              "      <td>-0.200380</td>\n",
              "      <td>0.749608</td>\n",
              "      <td>0.765880</td>\n",
              "      <td>0.311629</td>\n",
              "      <td>-0.479857</td>\n",
              "      <td>0.849843</td>\n",
              "    </tr>\n",
              "    <tr>\n",
              "      <th>precovid - fat</th>\n",
              "      <td>0.101695</td>\n",
              "      <td>0.371803</td>\n",
              "      <td>0.500162</td>\n",
              "      <td>0.266903</td>\n",
              "      <td>0.257816</td>\n",
              "      <td>0.765555</td>\n",
              "      <td>0.092587</td>\n",
              "      <td>0.819631</td>\n",
              "      <td>1.000000</td>\n",
              "      <td>0.467781</td>\n",
              "      <td>...</td>\n",
              "      <td>0.110121</td>\n",
              "      <td>-0.402501</td>\n",
              "      <td>0.661905</td>\n",
              "      <td>0.718215</td>\n",
              "      <td>-0.052395</td>\n",
              "      <td>0.552686</td>\n",
              "      <td>0.609070</td>\n",
              "      <td>0.263168</td>\n",
              "      <td>-0.289658</td>\n",
              "      <td>0.677759</td>\n",
              "    </tr>\n",
              "    <tr>\n",
              "      <th>pre covid- calcium</th>\n",
              "      <td>0.156591</td>\n",
              "      <td>-0.068454</td>\n",
              "      <td>0.277412</td>\n",
              "      <td>0.413793</td>\n",
              "      <td>0.351735</td>\n",
              "      <td>0.340048</td>\n",
              "      <td>0.351241</td>\n",
              "      <td>0.414684</td>\n",
              "      <td>0.467781</td>\n",
              "      <td>1.000000</td>\n",
              "      <td>...</td>\n",
              "      <td>0.429599</td>\n",
              "      <td>0.065282</td>\n",
              "      <td>0.114793</td>\n",
              "      <td>0.165204</td>\n",
              "      <td>-0.019837</td>\n",
              "      <td>0.156514</td>\n",
              "      <td>0.010132</td>\n",
              "      <td>0.067647</td>\n",
              "      <td>0.063445</td>\n",
              "      <td>0.091180</td>\n",
              "    </tr>\n",
              "    <tr>\n",
              "      <th>pre covid - iron</th>\n",
              "      <td>0.101224</td>\n",
              "      <td>-0.707708</td>\n",
              "      <td>-0.506637</td>\n",
              "      <td>0.062909</td>\n",
              "      <td>-0.000782</td>\n",
              "      <td>-0.695438</td>\n",
              "      <td>0.436594</td>\n",
              "      <td>-0.628283</td>\n",
              "      <td>-0.423264</td>\n",
              "      <td>0.322468</td>\n",
              "      <td>...</td>\n",
              "      <td>0.332010</td>\n",
              "      <td>0.850513</td>\n",
              "      <td>-0.877911</td>\n",
              "      <td>-0.734668</td>\n",
              "      <td>0.255021</td>\n",
              "      <td>-0.758571</td>\n",
              "      <td>-0.888252</td>\n",
              "      <td>-0.339467</td>\n",
              "      <td>0.650616</td>\n",
              "      <td>-0.871394</td>\n",
              "    </tr>\n",
              "    <tr>\n",
              "      <th>pre covid - vitamin c</th>\n",
              "      <td>0.031186</td>\n",
              "      <td>0.653519</td>\n",
              "      <td>0.711785</td>\n",
              "      <td>0.248944</td>\n",
              "      <td>0.254210</td>\n",
              "      <td>0.954681</td>\n",
              "      <td>-0.168892</td>\n",
              "      <td>0.901336</td>\n",
              "      <td>0.735172</td>\n",
              "      <td>0.319807</td>\n",
              "      <td>...</td>\n",
              "      <td>-0.011201</td>\n",
              "      <td>-0.798102</td>\n",
              "      <td>0.946055</td>\n",
              "      <td>0.856814</td>\n",
              "      <td>-0.330140</td>\n",
              "      <td>0.866403</td>\n",
              "      <td>0.894639</td>\n",
              "      <td>0.388296</td>\n",
              "      <td>-0.599123</td>\n",
              "      <td>0.931689</td>\n",
              "    </tr>\n",
              "    <tr>\n",
              "      <th>covid- energy</th>\n",
              "      <td>0.033078</td>\n",
              "      <td>0.598533</td>\n",
              "      <td>0.574117</td>\n",
              "      <td>0.125951</td>\n",
              "      <td>0.132674</td>\n",
              "      <td>0.835133</td>\n",
              "      <td>-0.267860</td>\n",
              "      <td>0.784917</td>\n",
              "      <td>0.664764</td>\n",
              "      <td>0.192491</td>\n",
              "      <td>...</td>\n",
              "      <td>0.084936</td>\n",
              "      <td>-0.708763</td>\n",
              "      <td>0.871619</td>\n",
              "      <td>0.794126</td>\n",
              "      <td>-0.097149</td>\n",
              "      <td>0.758507</td>\n",
              "      <td>0.825672</td>\n",
              "      <td>0.330484</td>\n",
              "      <td>-0.570745</td>\n",
              "      <td>0.867174</td>\n",
              "    </tr>\n",
              "    <tr>\n",
              "      <th>covid- CHO</th>\n",
              "      <td>0.130130</td>\n",
              "      <td>0.033223</td>\n",
              "      <td>0.154585</td>\n",
              "      <td>0.164894</td>\n",
              "      <td>0.211303</td>\n",
              "      <td>0.180999</td>\n",
              "      <td>-0.002007</td>\n",
              "      <td>0.144045</td>\n",
              "      <td>0.151066</td>\n",
              "      <td>0.100865</td>\n",
              "      <td>...</td>\n",
              "      <td>0.053591</td>\n",
              "      <td>-0.088940</td>\n",
              "      <td>0.159977</td>\n",
              "      <td>0.159552</td>\n",
              "      <td>-0.125803</td>\n",
              "      <td>0.092622</td>\n",
              "      <td>0.133306</td>\n",
              "      <td>0.049143</td>\n",
              "      <td>-0.064888</td>\n",
              "      <td>0.137463</td>\n",
              "    </tr>\n",
              "    <tr>\n",
              "      <th>covid - protein</th>\n",
              "      <td>-0.098947</td>\n",
              "      <td>0.578613</td>\n",
              "      <td>0.569773</td>\n",
              "      <td>0.099200</td>\n",
              "      <td>0.143017</td>\n",
              "      <td>0.782246</td>\n",
              "      <td>-0.237604</td>\n",
              "      <td>0.721787</td>\n",
              "      <td>0.598987</td>\n",
              "      <td>0.034410</td>\n",
              "      <td>...</td>\n",
              "      <td>-0.101491</td>\n",
              "      <td>-0.751045</td>\n",
              "      <td>0.855973</td>\n",
              "      <td>0.768660</td>\n",
              "      <td>-0.184292</td>\n",
              "      <td>0.738178</td>\n",
              "      <td>0.808065</td>\n",
              "      <td>0.439934</td>\n",
              "      <td>-0.628107</td>\n",
              "      <td>0.815632</td>\n",
              "    </tr>\n",
              "    <tr>\n",
              "      <th>covid- fat</th>\n",
              "      <td>-0.032682</td>\n",
              "      <td>0.580098</td>\n",
              "      <td>0.688942</td>\n",
              "      <td>0.252735</td>\n",
              "      <td>0.260404</td>\n",
              "      <td>0.847493</td>\n",
              "      <td>-0.182666</td>\n",
              "      <td>0.782956</td>\n",
              "      <td>0.635647</td>\n",
              "      <td>0.182251</td>\n",
              "      <td>...</td>\n",
              "      <td>-0.076688</td>\n",
              "      <td>-0.734722</td>\n",
              "      <td>0.875504</td>\n",
              "      <td>0.792963</td>\n",
              "      <td>-0.368205</td>\n",
              "      <td>0.778802</td>\n",
              "      <td>0.810677</td>\n",
              "      <td>0.352073</td>\n",
              "      <td>-0.528144</td>\n",
              "      <td>0.860046</td>\n",
              "    </tr>\n",
              "    <tr>\n",
              "      <th>covid- calcium</th>\n",
              "      <td>-0.046813</td>\n",
              "      <td>-0.230206</td>\n",
              "      <td>-0.102095</td>\n",
              "      <td>0.119771</td>\n",
              "      <td>0.040639</td>\n",
              "      <td>0.009822</td>\n",
              "      <td>0.206836</td>\n",
              "      <td>-0.006463</td>\n",
              "      <td>0.110121</td>\n",
              "      <td>0.429599</td>\n",
              "      <td>...</td>\n",
              "      <td>1.000000</td>\n",
              "      <td>0.274776</td>\n",
              "      <td>-0.155862</td>\n",
              "      <td>-0.052855</td>\n",
              "      <td>0.258242</td>\n",
              "      <td>-0.065745</td>\n",
              "      <td>-0.150128</td>\n",
              "      <td>0.048106</td>\n",
              "      <td>0.136252</td>\n",
              "      <td>-0.105157</td>\n",
              "    </tr>\n",
              "    <tr>\n",
              "      <th>covid- iron</th>\n",
              "      <td>-0.007980</td>\n",
              "      <td>-0.694432</td>\n",
              "      <td>-0.549836</td>\n",
              "      <td>0.004952</td>\n",
              "      <td>-0.054755</td>\n",
              "      <td>-0.728012</td>\n",
              "      <td>0.423920</td>\n",
              "      <td>-0.668282</td>\n",
              "      <td>-0.402501</td>\n",
              "      <td>0.065282</td>\n",
              "      <td>...</td>\n",
              "      <td>0.274776</td>\n",
              "      <td>1.000000</td>\n",
              "      <td>-0.864740</td>\n",
              "      <td>-0.663300</td>\n",
              "      <td>0.353951</td>\n",
              "      <td>-0.779043</td>\n",
              "      <td>-0.834233</td>\n",
              "      <td>-0.303959</td>\n",
              "      <td>0.651588</td>\n",
              "      <td>-0.831118</td>\n",
              "    </tr>\n",
              "    <tr>\n",
              "      <th>covid- vtamin c</th>\n",
              "      <td>-0.031054</td>\n",
              "      <td>0.708106</td>\n",
              "      <td>0.666568</td>\n",
              "      <td>0.135529</td>\n",
              "      <td>0.167566</td>\n",
              "      <td>0.906464</td>\n",
              "      <td>-0.283413</td>\n",
              "      <td>0.851584</td>\n",
              "      <td>0.661905</td>\n",
              "      <td>0.114793</td>\n",
              "      <td>...</td>\n",
              "      <td>-0.155862</td>\n",
              "      <td>-0.864740</td>\n",
              "      <td>1.000000</td>\n",
              "      <td>0.854500</td>\n",
              "      <td>-0.317192</td>\n",
              "      <td>0.863259</td>\n",
              "      <td>0.932125</td>\n",
              "      <td>0.351881</td>\n",
              "      <td>-0.656976</td>\n",
              "      <td>0.944383</td>\n",
              "    </tr>\n",
              "    <tr>\n",
              "      <th>post covid- energy</th>\n",
              "      <td>0.004849</td>\n",
              "      <td>0.567147</td>\n",
              "      <td>0.683234</td>\n",
              "      <td>0.342632</td>\n",
              "      <td>0.321625</td>\n",
              "      <td>0.921721</td>\n",
              "      <td>0.138189</td>\n",
              "      <td>0.816961</td>\n",
              "      <td>0.718215</td>\n",
              "      <td>0.165204</td>\n",
              "      <td>...</td>\n",
              "      <td>-0.052855</td>\n",
              "      <td>-0.663300</td>\n",
              "      <td>0.854500</td>\n",
              "      <td>1.000000</td>\n",
              "      <td>-0.236950</td>\n",
              "      <td>0.770564</td>\n",
              "      <td>0.825136</td>\n",
              "      <td>0.375657</td>\n",
              "      <td>-0.457175</td>\n",
              "      <td>0.857972</td>\n",
              "    </tr>\n",
              "    <tr>\n",
              "      <th>post covid - CHO</th>\n",
              "      <td>-0.026742</td>\n",
              "      <td>-0.379201</td>\n",
              "      <td>-0.480876</td>\n",
              "      <td>-0.227319</td>\n",
              "      <td>-0.202402</td>\n",
              "      <td>-0.362365</td>\n",
              "      <td>-0.021379</td>\n",
              "      <td>-0.200380</td>\n",
              "      <td>-0.052395</td>\n",
              "      <td>-0.019837</td>\n",
              "      <td>...</td>\n",
              "      <td>0.258242</td>\n",
              "      <td>0.353951</td>\n",
              "      <td>-0.317192</td>\n",
              "      <td>-0.236950</td>\n",
              "      <td>1.000000</td>\n",
              "      <td>-0.370491</td>\n",
              "      <td>-0.319576</td>\n",
              "      <td>-0.050452</td>\n",
              "      <td>0.080427</td>\n",
              "      <td>-0.320242</td>\n",
              "    </tr>\n",
              "    <tr>\n",
              "      <th>post covid protein</th>\n",
              "      <td>-0.004868</td>\n",
              "      <td>0.712079</td>\n",
              "      <td>0.687128</td>\n",
              "      <td>0.163816</td>\n",
              "      <td>0.134010</td>\n",
              "      <td>0.835832</td>\n",
              "      <td>-0.209223</td>\n",
              "      <td>0.749608</td>\n",
              "      <td>0.552686</td>\n",
              "      <td>0.156514</td>\n",
              "      <td>...</td>\n",
              "      <td>-0.065745</td>\n",
              "      <td>-0.779043</td>\n",
              "      <td>0.863259</td>\n",
              "      <td>0.770564</td>\n",
              "      <td>-0.370491</td>\n",
              "      <td>1.000000</td>\n",
              "      <td>0.831747</td>\n",
              "      <td>0.390119</td>\n",
              "      <td>-0.571209</td>\n",
              "      <td>0.851470</td>\n",
              "    </tr>\n",
              "    <tr>\n",
              "      <th>post covid fat</th>\n",
              "      <td>-0.078784</td>\n",
              "      <td>0.706754</td>\n",
              "      <td>0.621518</td>\n",
              "      <td>0.082306</td>\n",
              "      <td>0.109873</td>\n",
              "      <td>0.854345</td>\n",
              "      <td>-0.286475</td>\n",
              "      <td>0.765880</td>\n",
              "      <td>0.609070</td>\n",
              "      <td>0.010132</td>\n",
              "      <td>...</td>\n",
              "      <td>-0.150128</td>\n",
              "      <td>-0.834233</td>\n",
              "      <td>0.932125</td>\n",
              "      <td>0.825136</td>\n",
              "      <td>-0.319576</td>\n",
              "      <td>0.831747</td>\n",
              "      <td>1.000000</td>\n",
              "      <td>0.400803</td>\n",
              "      <td>-0.619753</td>\n",
              "      <td>0.915669</td>\n",
              "    </tr>\n",
              "    <tr>\n",
              "      <th>post covid - calcium</th>\n",
              "      <td>-0.032076</td>\n",
              "      <td>0.284910</td>\n",
              "      <td>0.254956</td>\n",
              "      <td>0.018534</td>\n",
              "      <td>0.003266</td>\n",
              "      <td>0.366195</td>\n",
              "      <td>-0.001074</td>\n",
              "      <td>0.311629</td>\n",
              "      <td>0.263168</td>\n",
              "      <td>0.067647</td>\n",
              "      <td>...</td>\n",
              "      <td>0.048106</td>\n",
              "      <td>-0.303959</td>\n",
              "      <td>0.351881</td>\n",
              "      <td>0.375657</td>\n",
              "      <td>-0.050452</td>\n",
              "      <td>0.390119</td>\n",
              "      <td>0.400803</td>\n",
              "      <td>1.000000</td>\n",
              "      <td>-0.370363</td>\n",
              "      <td>0.422927</td>\n",
              "    </tr>\n",
              "    <tr>\n",
              "      <th>post covid - iron</th>\n",
              "      <td>-0.012191</td>\n",
              "      <td>-0.545869</td>\n",
              "      <td>-0.328193</td>\n",
              "      <td>0.153769</td>\n",
              "      <td>0.128031</td>\n",
              "      <td>-0.498760</td>\n",
              "      <td>0.392012</td>\n",
              "      <td>-0.479857</td>\n",
              "      <td>-0.289658</td>\n",
              "      <td>0.063445</td>\n",
              "      <td>...</td>\n",
              "      <td>0.136252</td>\n",
              "      <td>0.651588</td>\n",
              "      <td>-0.656976</td>\n",
              "      <td>-0.457175</td>\n",
              "      <td>0.080427</td>\n",
              "      <td>-0.571209</td>\n",
              "      <td>-0.619753</td>\n",
              "      <td>-0.370363</td>\n",
              "      <td>1.000000</td>\n",
              "      <td>-0.628044</td>\n",
              "    </tr>\n",
              "    <tr>\n",
              "      <th>post covid - vitamin c</th>\n",
              "      <td>0.019554</td>\n",
              "      <td>0.703822</td>\n",
              "      <td>0.665815</td>\n",
              "      <td>0.137429</td>\n",
              "      <td>0.153628</td>\n",
              "      <td>0.900464</td>\n",
              "      <td>-0.247484</td>\n",
              "      <td>0.849843</td>\n",
              "      <td>0.677759</td>\n",
              "      <td>0.091180</td>\n",
              "      <td>...</td>\n",
              "      <td>-0.105157</td>\n",
              "      <td>-0.831118</td>\n",
              "      <td>0.944383</td>\n",
              "      <td>0.857972</td>\n",
              "      <td>-0.320242</td>\n",
              "      <td>0.851470</td>\n",
              "      <td>0.915669</td>\n",
              "      <td>0.422927</td>\n",
              "      <td>-0.628044</td>\n",
              "      <td>1.000000</td>\n",
              "    </tr>\n",
              "  </tbody>\n",
              "</table>\n",
              "<p>26 rows × 26 columns</p>\n",
              "</div>\n",
              "      <button class=\"colab-df-convert\" onclick=\"convertToInteractive('df-e6286bc8-c69a-42bd-8697-1f738db10621')\"\n",
              "              title=\"Convert this dataframe to an interactive table.\"\n",
              "              style=\"display:none;\">\n",
              "        \n",
              "  <svg xmlns=\"http://www.w3.org/2000/svg\" height=\"24px\"viewBox=\"0 0 24 24\"\n",
              "       width=\"24px\">\n",
              "    <path d=\"M0 0h24v24H0V0z\" fill=\"none\"/>\n",
              "    <path d=\"M18.56 5.44l.94 2.06.94-2.06 2.06-.94-2.06-.94-.94-2.06-.94 2.06-2.06.94zm-11 1L8.5 8.5l.94-2.06 2.06-.94-2.06-.94L8.5 2.5l-.94 2.06-2.06.94zm10 10l.94 2.06.94-2.06 2.06-.94-2.06-.94-.94-2.06-.94 2.06-2.06.94z\"/><path d=\"M17.41 7.96l-1.37-1.37c-.4-.4-.92-.59-1.43-.59-.52 0-1.04.2-1.43.59L10.3 9.45l-7.72 7.72c-.78.78-.78 2.05 0 2.83L4 21.41c.39.39.9.59 1.41.59.51 0 1.02-.2 1.41-.59l7.78-7.78 2.81-2.81c.8-.78.8-2.07 0-2.86zM5.41 20L4 18.59l7.72-7.72 1.47 1.35L5.41 20z\"/>\n",
              "  </svg>\n",
              "      </button>\n",
              "      \n",
              "  <style>\n",
              "    .colab-df-container {\n",
              "      display:flex;\n",
              "      flex-wrap:wrap;\n",
              "      gap: 12px;\n",
              "    }\n",
              "\n",
              "    .colab-df-convert {\n",
              "      background-color: #E8F0FE;\n",
              "      border: none;\n",
              "      border-radius: 50%;\n",
              "      cursor: pointer;\n",
              "      display: none;\n",
              "      fill: #1967D2;\n",
              "      height: 32px;\n",
              "      padding: 0 0 0 0;\n",
              "      width: 32px;\n",
              "    }\n",
              "\n",
              "    .colab-df-convert:hover {\n",
              "      background-color: #E2EBFA;\n",
              "      box-shadow: 0px 1px 2px rgba(60, 64, 67, 0.3), 0px 1px 3px 1px rgba(60, 64, 67, 0.15);\n",
              "      fill: #174EA6;\n",
              "    }\n",
              "\n",
              "    [theme=dark] .colab-df-convert {\n",
              "      background-color: #3B4455;\n",
              "      fill: #D2E3FC;\n",
              "    }\n",
              "\n",
              "    [theme=dark] .colab-df-convert:hover {\n",
              "      background-color: #434B5C;\n",
              "      box-shadow: 0px 1px 3px 1px rgba(0, 0, 0, 0.15);\n",
              "      filter: drop-shadow(0px 1px 2px rgba(0, 0, 0, 0.3));\n",
              "      fill: #FFFFFF;\n",
              "    }\n",
              "  </style>\n",
              "\n",
              "      <script>\n",
              "        const buttonEl =\n",
              "          document.querySelector('#df-e6286bc8-c69a-42bd-8697-1f738db10621 button.colab-df-convert');\n",
              "        buttonEl.style.display =\n",
              "          google.colab.kernel.accessAllowed ? 'block' : 'none';\n",
              "\n",
              "        async function convertToInteractive(key) {\n",
              "          const element = document.querySelector('#df-e6286bc8-c69a-42bd-8697-1f738db10621');\n",
              "          const dataTable =\n",
              "            await google.colab.kernel.invokeFunction('convertToInteractive',\n",
              "                                                     [key], {});\n",
              "          if (!dataTable) return;\n",
              "\n",
              "          const docLinkHtml = 'Like what you see? Visit the ' +\n",
              "            '<a target=\"_blank\" href=https://colab.research.google.com/notebooks/data_table.ipynb>data table notebook</a>'\n",
              "            + ' to learn more about interactive tables.';\n",
              "          element.innerHTML = '';\n",
              "          dataTable['output_type'] = 'display_data';\n",
              "          await google.colab.output.renderOutput(dataTable, element);\n",
              "          const docLink = document.createElement('div');\n",
              "          docLink.innerHTML = docLinkHtml;\n",
              "          element.appendChild(docLink);\n",
              "        }\n",
              "      </script>\n",
              "    </div>\n",
              "  </div>\n",
              "  "
            ]
          },
          "metadata": {},
          "execution_count": 6
        }
      ]
    },
    {
      "cell_type": "code",
      "source": [
        "nutrition1=Nutrition[['pre covid - energy','covid- energy','post covid- energy']]\n",
        "nutrition1.corr()\n"
      ],
      "metadata": {
        "colab": {
          "base_uri": "https://localhost:8080/",
          "height": 143
        },
        "id": "YagKNiVLdRuo",
        "outputId": "2ed8905e-f2b8-4f4c-e4c5-5fec1865e2a2"
      },
      "execution_count": 7,
      "outputs": [
        {
          "output_type": "execute_result",
          "data": {
            "text/plain": [
              "                    pre covid - energy  covid- energy  post covid- energy\n",
              "pre covid - energy            1.000000       0.835133            0.921721\n",
              "covid- energy                 0.835133       1.000000            0.794126\n",
              "post covid- energy            0.921721       0.794126            1.000000"
            ],
            "text/html": [
              "\n",
              "  <div id=\"df-8b454f14-e804-4c51-8edb-a3db6944d788\">\n",
              "    <div class=\"colab-df-container\">\n",
              "      <div>\n",
              "<style scoped>\n",
              "    .dataframe tbody tr th:only-of-type {\n",
              "        vertical-align: middle;\n",
              "    }\n",
              "\n",
              "    .dataframe tbody tr th {\n",
              "        vertical-align: top;\n",
              "    }\n",
              "\n",
              "    .dataframe thead th {\n",
              "        text-align: right;\n",
              "    }\n",
              "</style>\n",
              "<table border=\"1\" class=\"dataframe\">\n",
              "  <thead>\n",
              "    <tr style=\"text-align: right;\">\n",
              "      <th></th>\n",
              "      <th>pre covid - energy</th>\n",
              "      <th>covid- energy</th>\n",
              "      <th>post covid- energy</th>\n",
              "    </tr>\n",
              "  </thead>\n",
              "  <tbody>\n",
              "    <tr>\n",
              "      <th>pre covid - energy</th>\n",
              "      <td>1.000000</td>\n",
              "      <td>0.835133</td>\n",
              "      <td>0.921721</td>\n",
              "    </tr>\n",
              "    <tr>\n",
              "      <th>covid- energy</th>\n",
              "      <td>0.835133</td>\n",
              "      <td>1.000000</td>\n",
              "      <td>0.794126</td>\n",
              "    </tr>\n",
              "    <tr>\n",
              "      <th>post covid- energy</th>\n",
              "      <td>0.921721</td>\n",
              "      <td>0.794126</td>\n",
              "      <td>1.000000</td>\n",
              "    </tr>\n",
              "  </tbody>\n",
              "</table>\n",
              "</div>\n",
              "      <button class=\"colab-df-convert\" onclick=\"convertToInteractive('df-8b454f14-e804-4c51-8edb-a3db6944d788')\"\n",
              "              title=\"Convert this dataframe to an interactive table.\"\n",
              "              style=\"display:none;\">\n",
              "        \n",
              "  <svg xmlns=\"http://www.w3.org/2000/svg\" height=\"24px\"viewBox=\"0 0 24 24\"\n",
              "       width=\"24px\">\n",
              "    <path d=\"M0 0h24v24H0V0z\" fill=\"none\"/>\n",
              "    <path d=\"M18.56 5.44l.94 2.06.94-2.06 2.06-.94-2.06-.94-.94-2.06-.94 2.06-2.06.94zm-11 1L8.5 8.5l.94-2.06 2.06-.94-2.06-.94L8.5 2.5l-.94 2.06-2.06.94zm10 10l.94 2.06.94-2.06 2.06-.94-2.06-.94-.94-2.06-.94 2.06-2.06.94z\"/><path d=\"M17.41 7.96l-1.37-1.37c-.4-.4-.92-.59-1.43-.59-.52 0-1.04.2-1.43.59L10.3 9.45l-7.72 7.72c-.78.78-.78 2.05 0 2.83L4 21.41c.39.39.9.59 1.41.59.51 0 1.02-.2 1.41-.59l7.78-7.78 2.81-2.81c.8-.78.8-2.07 0-2.86zM5.41 20L4 18.59l7.72-7.72 1.47 1.35L5.41 20z\"/>\n",
              "  </svg>\n",
              "      </button>\n",
              "      \n",
              "  <style>\n",
              "    .colab-df-container {\n",
              "      display:flex;\n",
              "      flex-wrap:wrap;\n",
              "      gap: 12px;\n",
              "    }\n",
              "\n",
              "    .colab-df-convert {\n",
              "      background-color: #E8F0FE;\n",
              "      border: none;\n",
              "      border-radius: 50%;\n",
              "      cursor: pointer;\n",
              "      display: none;\n",
              "      fill: #1967D2;\n",
              "      height: 32px;\n",
              "      padding: 0 0 0 0;\n",
              "      width: 32px;\n",
              "    }\n",
              "\n",
              "    .colab-df-convert:hover {\n",
              "      background-color: #E2EBFA;\n",
              "      box-shadow: 0px 1px 2px rgba(60, 64, 67, 0.3), 0px 1px 3px 1px rgba(60, 64, 67, 0.15);\n",
              "      fill: #174EA6;\n",
              "    }\n",
              "\n",
              "    [theme=dark] .colab-df-convert {\n",
              "      background-color: #3B4455;\n",
              "      fill: #D2E3FC;\n",
              "    }\n",
              "\n",
              "    [theme=dark] .colab-df-convert:hover {\n",
              "      background-color: #434B5C;\n",
              "      box-shadow: 0px 1px 3px 1px rgba(0, 0, 0, 0.15);\n",
              "      filter: drop-shadow(0px 1px 2px rgba(0, 0, 0, 0.3));\n",
              "      fill: #FFFFFF;\n",
              "    }\n",
              "  </style>\n",
              "\n",
              "      <script>\n",
              "        const buttonEl =\n",
              "          document.querySelector('#df-8b454f14-e804-4c51-8edb-a3db6944d788 button.colab-df-convert');\n",
              "        buttonEl.style.display =\n",
              "          google.colab.kernel.accessAllowed ? 'block' : 'none';\n",
              "\n",
              "        async function convertToInteractive(key) {\n",
              "          const element = document.querySelector('#df-8b454f14-e804-4c51-8edb-a3db6944d788');\n",
              "          const dataTable =\n",
              "            await google.colab.kernel.invokeFunction('convertToInteractive',\n",
              "                                                     [key], {});\n",
              "          if (!dataTable) return;\n",
              "\n",
              "          const docLinkHtml = 'Like what you see? Visit the ' +\n",
              "            '<a target=\"_blank\" href=https://colab.research.google.com/notebooks/data_table.ipynb>data table notebook</a>'\n",
              "            + ' to learn more about interactive tables.';\n",
              "          element.innerHTML = '';\n",
              "          dataTable['output_type'] = 'display_data';\n",
              "          await google.colab.output.renderOutput(dataTable, element);\n",
              "          const docLink = document.createElement('div');\n",
              "          docLink.innerHTML = docLinkHtml;\n",
              "          element.appendChild(docLink);\n",
              "        }\n",
              "      </script>\n",
              "    </div>\n",
              "  </div>\n",
              "  "
            ]
          },
          "metadata": {},
          "execution_count": 7
        }
      ]
    },
    {
      "cell_type": "code",
      "source": [
        "nutrition2=Nutrition[['pre covid - CHO','covid- CHO','post covid - CHO']]\n",
        "nutrition2.corr()"
      ],
      "metadata": {
        "colab": {
          "base_uri": "https://localhost:8080/",
          "height": 143
        },
        "id": "Jn_5yAg3dSEk",
        "outputId": "ca5d3db1-28f6-4ba5-d11e-4b82b7f9c8ea"
      },
      "execution_count": 8,
      "outputs": [
        {
          "output_type": "execute_result",
          "data": {
            "text/plain": [
              "                  pre covid - CHO  covid- CHO  post covid - CHO\n",
              "pre covid - CHO          1.000000   -0.002007         -0.021379\n",
              "covid- CHO              -0.002007    1.000000         -0.125803\n",
              "post covid - CHO        -0.021379   -0.125803          1.000000"
            ],
            "text/html": [
              "\n",
              "  <div id=\"df-424b8833-2258-407b-9f5a-1aefaf6e1d3f\">\n",
              "    <div class=\"colab-df-container\">\n",
              "      <div>\n",
              "<style scoped>\n",
              "    .dataframe tbody tr th:only-of-type {\n",
              "        vertical-align: middle;\n",
              "    }\n",
              "\n",
              "    .dataframe tbody tr th {\n",
              "        vertical-align: top;\n",
              "    }\n",
              "\n",
              "    .dataframe thead th {\n",
              "        text-align: right;\n",
              "    }\n",
              "</style>\n",
              "<table border=\"1\" class=\"dataframe\">\n",
              "  <thead>\n",
              "    <tr style=\"text-align: right;\">\n",
              "      <th></th>\n",
              "      <th>pre covid - CHO</th>\n",
              "      <th>covid- CHO</th>\n",
              "      <th>post covid - CHO</th>\n",
              "    </tr>\n",
              "  </thead>\n",
              "  <tbody>\n",
              "    <tr>\n",
              "      <th>pre covid - CHO</th>\n",
              "      <td>1.000000</td>\n",
              "      <td>-0.002007</td>\n",
              "      <td>-0.021379</td>\n",
              "    </tr>\n",
              "    <tr>\n",
              "      <th>covid- CHO</th>\n",
              "      <td>-0.002007</td>\n",
              "      <td>1.000000</td>\n",
              "      <td>-0.125803</td>\n",
              "    </tr>\n",
              "    <tr>\n",
              "      <th>post covid - CHO</th>\n",
              "      <td>-0.021379</td>\n",
              "      <td>-0.125803</td>\n",
              "      <td>1.000000</td>\n",
              "    </tr>\n",
              "  </tbody>\n",
              "</table>\n",
              "</div>\n",
              "      <button class=\"colab-df-convert\" onclick=\"convertToInteractive('df-424b8833-2258-407b-9f5a-1aefaf6e1d3f')\"\n",
              "              title=\"Convert this dataframe to an interactive table.\"\n",
              "              style=\"display:none;\">\n",
              "        \n",
              "  <svg xmlns=\"http://www.w3.org/2000/svg\" height=\"24px\"viewBox=\"0 0 24 24\"\n",
              "       width=\"24px\">\n",
              "    <path d=\"M0 0h24v24H0V0z\" fill=\"none\"/>\n",
              "    <path d=\"M18.56 5.44l.94 2.06.94-2.06 2.06-.94-2.06-.94-.94-2.06-.94 2.06-2.06.94zm-11 1L8.5 8.5l.94-2.06 2.06-.94-2.06-.94L8.5 2.5l-.94 2.06-2.06.94zm10 10l.94 2.06.94-2.06 2.06-.94-2.06-.94-.94-2.06-.94 2.06-2.06.94z\"/><path d=\"M17.41 7.96l-1.37-1.37c-.4-.4-.92-.59-1.43-.59-.52 0-1.04.2-1.43.59L10.3 9.45l-7.72 7.72c-.78.78-.78 2.05 0 2.83L4 21.41c.39.39.9.59 1.41.59.51 0 1.02-.2 1.41-.59l7.78-7.78 2.81-2.81c.8-.78.8-2.07 0-2.86zM5.41 20L4 18.59l7.72-7.72 1.47 1.35L5.41 20z\"/>\n",
              "  </svg>\n",
              "      </button>\n",
              "      \n",
              "  <style>\n",
              "    .colab-df-container {\n",
              "      display:flex;\n",
              "      flex-wrap:wrap;\n",
              "      gap: 12px;\n",
              "    }\n",
              "\n",
              "    .colab-df-convert {\n",
              "      background-color: #E8F0FE;\n",
              "      border: none;\n",
              "      border-radius: 50%;\n",
              "      cursor: pointer;\n",
              "      display: none;\n",
              "      fill: #1967D2;\n",
              "      height: 32px;\n",
              "      padding: 0 0 0 0;\n",
              "      width: 32px;\n",
              "    }\n",
              "\n",
              "    .colab-df-convert:hover {\n",
              "      background-color: #E2EBFA;\n",
              "      box-shadow: 0px 1px 2px rgba(60, 64, 67, 0.3), 0px 1px 3px 1px rgba(60, 64, 67, 0.15);\n",
              "      fill: #174EA6;\n",
              "    }\n",
              "\n",
              "    [theme=dark] .colab-df-convert {\n",
              "      background-color: #3B4455;\n",
              "      fill: #D2E3FC;\n",
              "    }\n",
              "\n",
              "    [theme=dark] .colab-df-convert:hover {\n",
              "      background-color: #434B5C;\n",
              "      box-shadow: 0px 1px 3px 1px rgba(0, 0, 0, 0.15);\n",
              "      filter: drop-shadow(0px 1px 2px rgba(0, 0, 0, 0.3));\n",
              "      fill: #FFFFFF;\n",
              "    }\n",
              "  </style>\n",
              "\n",
              "      <script>\n",
              "        const buttonEl =\n",
              "          document.querySelector('#df-424b8833-2258-407b-9f5a-1aefaf6e1d3f button.colab-df-convert');\n",
              "        buttonEl.style.display =\n",
              "          google.colab.kernel.accessAllowed ? 'block' : 'none';\n",
              "\n",
              "        async function convertToInteractive(key) {\n",
              "          const element = document.querySelector('#df-424b8833-2258-407b-9f5a-1aefaf6e1d3f');\n",
              "          const dataTable =\n",
              "            await google.colab.kernel.invokeFunction('convertToInteractive',\n",
              "                                                     [key], {});\n",
              "          if (!dataTable) return;\n",
              "\n",
              "          const docLinkHtml = 'Like what you see? Visit the ' +\n",
              "            '<a target=\"_blank\" href=https://colab.research.google.com/notebooks/data_table.ipynb>data table notebook</a>'\n",
              "            + ' to learn more about interactive tables.';\n",
              "          element.innerHTML = '';\n",
              "          dataTable['output_type'] = 'display_data';\n",
              "          await google.colab.output.renderOutput(dataTable, element);\n",
              "          const docLink = document.createElement('div');\n",
              "          docLink.innerHTML = docLinkHtml;\n",
              "          element.appendChild(docLink);\n",
              "        }\n",
              "      </script>\n",
              "    </div>\n",
              "  </div>\n",
              "  "
            ]
          },
          "metadata": {},
          "execution_count": 8
        }
      ]
    },
    {
      "cell_type": "code",
      "source": [
        "nutrition2=Nutrition[['pre covid - protein','covid - protein','post covid protein']]\n",
        "nutrition2.corr()"
      ],
      "metadata": {
        "colab": {
          "base_uri": "https://localhost:8080/",
          "height": 143
        },
        "id": "7cJARgkUePct",
        "outputId": "c72cb54a-0d36-4bae-94b1-f8ea85b993a4"
      },
      "execution_count": 9,
      "outputs": [
        {
          "output_type": "execute_result",
          "data": {
            "text/plain": [
              "                     pre covid - protein  covid - protein  post covid protein\n",
              "pre covid - protein             1.000000         0.721787            0.749608\n",
              "covid - protein                 0.721787         1.000000            0.738178\n",
              "post covid protein              0.749608         0.738178            1.000000"
            ],
            "text/html": [
              "\n",
              "  <div id=\"df-02c2f61e-8cb5-4f5c-ac7e-6e4fea9a0ea9\">\n",
              "    <div class=\"colab-df-container\">\n",
              "      <div>\n",
              "<style scoped>\n",
              "    .dataframe tbody tr th:only-of-type {\n",
              "        vertical-align: middle;\n",
              "    }\n",
              "\n",
              "    .dataframe tbody tr th {\n",
              "        vertical-align: top;\n",
              "    }\n",
              "\n",
              "    .dataframe thead th {\n",
              "        text-align: right;\n",
              "    }\n",
              "</style>\n",
              "<table border=\"1\" class=\"dataframe\">\n",
              "  <thead>\n",
              "    <tr style=\"text-align: right;\">\n",
              "      <th></th>\n",
              "      <th>pre covid - protein</th>\n",
              "      <th>covid - protein</th>\n",
              "      <th>post covid protein</th>\n",
              "    </tr>\n",
              "  </thead>\n",
              "  <tbody>\n",
              "    <tr>\n",
              "      <th>pre covid - protein</th>\n",
              "      <td>1.000000</td>\n",
              "      <td>0.721787</td>\n",
              "      <td>0.749608</td>\n",
              "    </tr>\n",
              "    <tr>\n",
              "      <th>covid - protein</th>\n",
              "      <td>0.721787</td>\n",
              "      <td>1.000000</td>\n",
              "      <td>0.738178</td>\n",
              "    </tr>\n",
              "    <tr>\n",
              "      <th>post covid protein</th>\n",
              "      <td>0.749608</td>\n",
              "      <td>0.738178</td>\n",
              "      <td>1.000000</td>\n",
              "    </tr>\n",
              "  </tbody>\n",
              "</table>\n",
              "</div>\n",
              "      <button class=\"colab-df-convert\" onclick=\"convertToInteractive('df-02c2f61e-8cb5-4f5c-ac7e-6e4fea9a0ea9')\"\n",
              "              title=\"Convert this dataframe to an interactive table.\"\n",
              "              style=\"display:none;\">\n",
              "        \n",
              "  <svg xmlns=\"http://www.w3.org/2000/svg\" height=\"24px\"viewBox=\"0 0 24 24\"\n",
              "       width=\"24px\">\n",
              "    <path d=\"M0 0h24v24H0V0z\" fill=\"none\"/>\n",
              "    <path d=\"M18.56 5.44l.94 2.06.94-2.06 2.06-.94-2.06-.94-.94-2.06-.94 2.06-2.06.94zm-11 1L8.5 8.5l.94-2.06 2.06-.94-2.06-.94L8.5 2.5l-.94 2.06-2.06.94zm10 10l.94 2.06.94-2.06 2.06-.94-2.06-.94-.94-2.06-.94 2.06-2.06.94z\"/><path d=\"M17.41 7.96l-1.37-1.37c-.4-.4-.92-.59-1.43-.59-.52 0-1.04.2-1.43.59L10.3 9.45l-7.72 7.72c-.78.78-.78 2.05 0 2.83L4 21.41c.39.39.9.59 1.41.59.51 0 1.02-.2 1.41-.59l7.78-7.78 2.81-2.81c.8-.78.8-2.07 0-2.86zM5.41 20L4 18.59l7.72-7.72 1.47 1.35L5.41 20z\"/>\n",
              "  </svg>\n",
              "      </button>\n",
              "      \n",
              "  <style>\n",
              "    .colab-df-container {\n",
              "      display:flex;\n",
              "      flex-wrap:wrap;\n",
              "      gap: 12px;\n",
              "    }\n",
              "\n",
              "    .colab-df-convert {\n",
              "      background-color: #E8F0FE;\n",
              "      border: none;\n",
              "      border-radius: 50%;\n",
              "      cursor: pointer;\n",
              "      display: none;\n",
              "      fill: #1967D2;\n",
              "      height: 32px;\n",
              "      padding: 0 0 0 0;\n",
              "      width: 32px;\n",
              "    }\n",
              "\n",
              "    .colab-df-convert:hover {\n",
              "      background-color: #E2EBFA;\n",
              "      box-shadow: 0px 1px 2px rgba(60, 64, 67, 0.3), 0px 1px 3px 1px rgba(60, 64, 67, 0.15);\n",
              "      fill: #174EA6;\n",
              "    }\n",
              "\n",
              "    [theme=dark] .colab-df-convert {\n",
              "      background-color: #3B4455;\n",
              "      fill: #D2E3FC;\n",
              "    }\n",
              "\n",
              "    [theme=dark] .colab-df-convert:hover {\n",
              "      background-color: #434B5C;\n",
              "      box-shadow: 0px 1px 3px 1px rgba(0, 0, 0, 0.15);\n",
              "      filter: drop-shadow(0px 1px 2px rgba(0, 0, 0, 0.3));\n",
              "      fill: #FFFFFF;\n",
              "    }\n",
              "  </style>\n",
              "\n",
              "      <script>\n",
              "        const buttonEl =\n",
              "          document.querySelector('#df-02c2f61e-8cb5-4f5c-ac7e-6e4fea9a0ea9 button.colab-df-convert');\n",
              "        buttonEl.style.display =\n",
              "          google.colab.kernel.accessAllowed ? 'block' : 'none';\n",
              "\n",
              "        async function convertToInteractive(key) {\n",
              "          const element = document.querySelector('#df-02c2f61e-8cb5-4f5c-ac7e-6e4fea9a0ea9');\n",
              "          const dataTable =\n",
              "            await google.colab.kernel.invokeFunction('convertToInteractive',\n",
              "                                                     [key], {});\n",
              "          if (!dataTable) return;\n",
              "\n",
              "          const docLinkHtml = 'Like what you see? Visit the ' +\n",
              "            '<a target=\"_blank\" href=https://colab.research.google.com/notebooks/data_table.ipynb>data table notebook</a>'\n",
              "            + ' to learn more about interactive tables.';\n",
              "          element.innerHTML = '';\n",
              "          dataTable['output_type'] = 'display_data';\n",
              "          await google.colab.output.renderOutput(dataTable, element);\n",
              "          const docLink = document.createElement('div');\n",
              "          docLink.innerHTML = docLinkHtml;\n",
              "          element.appendChild(docLink);\n",
              "        }\n",
              "      </script>\n",
              "    </div>\n",
              "  </div>\n",
              "  "
            ]
          },
          "metadata": {},
          "execution_count": 9
        }
      ]
    },
    {
      "cell_type": "code",
      "source": [
        "nutrition3=Nutrition[['precovid - fat','covid- fat','post covid fat']]\n",
        "nutrition3.corr()"
      ],
      "metadata": {
        "colab": {
          "base_uri": "https://localhost:8080/",
          "height": 143
        },
        "id": "pc3QyxcbePiO",
        "outputId": "c4179cc2-6333-4ae9-e0df-5d39140ed531"
      },
      "execution_count": 10,
      "outputs": [
        {
          "output_type": "execute_result",
          "data": {
            "text/plain": [
              "                precovid - fat  covid- fat  post covid fat\n",
              "precovid - fat        1.000000    0.635647        0.609070\n",
              "covid- fat            0.635647    1.000000        0.810677\n",
              "post covid fat        0.609070    0.810677        1.000000"
            ],
            "text/html": [
              "\n",
              "  <div id=\"df-2f52fdc1-e0c8-46ed-9dfe-37fd40bc58fd\">\n",
              "    <div class=\"colab-df-container\">\n",
              "      <div>\n",
              "<style scoped>\n",
              "    .dataframe tbody tr th:only-of-type {\n",
              "        vertical-align: middle;\n",
              "    }\n",
              "\n",
              "    .dataframe tbody tr th {\n",
              "        vertical-align: top;\n",
              "    }\n",
              "\n",
              "    .dataframe thead th {\n",
              "        text-align: right;\n",
              "    }\n",
              "</style>\n",
              "<table border=\"1\" class=\"dataframe\">\n",
              "  <thead>\n",
              "    <tr style=\"text-align: right;\">\n",
              "      <th></th>\n",
              "      <th>precovid - fat</th>\n",
              "      <th>covid- fat</th>\n",
              "      <th>post covid fat</th>\n",
              "    </tr>\n",
              "  </thead>\n",
              "  <tbody>\n",
              "    <tr>\n",
              "      <th>precovid - fat</th>\n",
              "      <td>1.000000</td>\n",
              "      <td>0.635647</td>\n",
              "      <td>0.609070</td>\n",
              "    </tr>\n",
              "    <tr>\n",
              "      <th>covid- fat</th>\n",
              "      <td>0.635647</td>\n",
              "      <td>1.000000</td>\n",
              "      <td>0.810677</td>\n",
              "    </tr>\n",
              "    <tr>\n",
              "      <th>post covid fat</th>\n",
              "      <td>0.609070</td>\n",
              "      <td>0.810677</td>\n",
              "      <td>1.000000</td>\n",
              "    </tr>\n",
              "  </tbody>\n",
              "</table>\n",
              "</div>\n",
              "      <button class=\"colab-df-convert\" onclick=\"convertToInteractive('df-2f52fdc1-e0c8-46ed-9dfe-37fd40bc58fd')\"\n",
              "              title=\"Convert this dataframe to an interactive table.\"\n",
              "              style=\"display:none;\">\n",
              "        \n",
              "  <svg xmlns=\"http://www.w3.org/2000/svg\" height=\"24px\"viewBox=\"0 0 24 24\"\n",
              "       width=\"24px\">\n",
              "    <path d=\"M0 0h24v24H0V0z\" fill=\"none\"/>\n",
              "    <path d=\"M18.56 5.44l.94 2.06.94-2.06 2.06-.94-2.06-.94-.94-2.06-.94 2.06-2.06.94zm-11 1L8.5 8.5l.94-2.06 2.06-.94-2.06-.94L8.5 2.5l-.94 2.06-2.06.94zm10 10l.94 2.06.94-2.06 2.06-.94-2.06-.94-.94-2.06-.94 2.06-2.06.94z\"/><path d=\"M17.41 7.96l-1.37-1.37c-.4-.4-.92-.59-1.43-.59-.52 0-1.04.2-1.43.59L10.3 9.45l-7.72 7.72c-.78.78-.78 2.05 0 2.83L4 21.41c.39.39.9.59 1.41.59.51 0 1.02-.2 1.41-.59l7.78-7.78 2.81-2.81c.8-.78.8-2.07 0-2.86zM5.41 20L4 18.59l7.72-7.72 1.47 1.35L5.41 20z\"/>\n",
              "  </svg>\n",
              "      </button>\n",
              "      \n",
              "  <style>\n",
              "    .colab-df-container {\n",
              "      display:flex;\n",
              "      flex-wrap:wrap;\n",
              "      gap: 12px;\n",
              "    }\n",
              "\n",
              "    .colab-df-convert {\n",
              "      background-color: #E8F0FE;\n",
              "      border: none;\n",
              "      border-radius: 50%;\n",
              "      cursor: pointer;\n",
              "      display: none;\n",
              "      fill: #1967D2;\n",
              "      height: 32px;\n",
              "      padding: 0 0 0 0;\n",
              "      width: 32px;\n",
              "    }\n",
              "\n",
              "    .colab-df-convert:hover {\n",
              "      background-color: #E2EBFA;\n",
              "      box-shadow: 0px 1px 2px rgba(60, 64, 67, 0.3), 0px 1px 3px 1px rgba(60, 64, 67, 0.15);\n",
              "      fill: #174EA6;\n",
              "    }\n",
              "\n",
              "    [theme=dark] .colab-df-convert {\n",
              "      background-color: #3B4455;\n",
              "      fill: #D2E3FC;\n",
              "    }\n",
              "\n",
              "    [theme=dark] .colab-df-convert:hover {\n",
              "      background-color: #434B5C;\n",
              "      box-shadow: 0px 1px 3px 1px rgba(0, 0, 0, 0.15);\n",
              "      filter: drop-shadow(0px 1px 2px rgba(0, 0, 0, 0.3));\n",
              "      fill: #FFFFFF;\n",
              "    }\n",
              "  </style>\n",
              "\n",
              "      <script>\n",
              "        const buttonEl =\n",
              "          document.querySelector('#df-2f52fdc1-e0c8-46ed-9dfe-37fd40bc58fd button.colab-df-convert');\n",
              "        buttonEl.style.display =\n",
              "          google.colab.kernel.accessAllowed ? 'block' : 'none';\n",
              "\n",
              "        async function convertToInteractive(key) {\n",
              "          const element = document.querySelector('#df-2f52fdc1-e0c8-46ed-9dfe-37fd40bc58fd');\n",
              "          const dataTable =\n",
              "            await google.colab.kernel.invokeFunction('convertToInteractive',\n",
              "                                                     [key], {});\n",
              "          if (!dataTable) return;\n",
              "\n",
              "          const docLinkHtml = 'Like what you see? Visit the ' +\n",
              "            '<a target=\"_blank\" href=https://colab.research.google.com/notebooks/data_table.ipynb>data table notebook</a>'\n",
              "            + ' to learn more about interactive tables.';\n",
              "          element.innerHTML = '';\n",
              "          dataTable['output_type'] = 'display_data';\n",
              "          await google.colab.output.renderOutput(dataTable, element);\n",
              "          const docLink = document.createElement('div');\n",
              "          docLink.innerHTML = docLinkHtml;\n",
              "          element.appendChild(docLink);\n",
              "        }\n",
              "      </script>\n",
              "    </div>\n",
              "  </div>\n",
              "  "
            ]
          },
          "metadata": {},
          "execution_count": 10
        }
      ]
    },
    {
      "cell_type": "code",
      "source": [
        "nutrition4=Nutrition[['pre covid- calcium','covid- calcium','post covid - calcium']]\n",
        "nutrition4.corr()"
      ],
      "metadata": {
        "colab": {
          "base_uri": "https://localhost:8080/",
          "height": 143
        },
        "id": "Zh1Cv26hePma",
        "outputId": "f331739b-43b7-492d-a6b7-c302a9a035e9"
      },
      "execution_count": 11,
      "outputs": [
        {
          "output_type": "execute_result",
          "data": {
            "text/plain": [
              "                      pre covid- calcium  covid- calcium  post covid - calcium\n",
              "pre covid- calcium              1.000000        0.429599              0.067647\n",
              "covid- calcium                  0.429599        1.000000              0.048106\n",
              "post covid - calcium            0.067647        0.048106              1.000000"
            ],
            "text/html": [
              "\n",
              "  <div id=\"df-e611007e-5420-484d-8359-e148acd1fdd3\">\n",
              "    <div class=\"colab-df-container\">\n",
              "      <div>\n",
              "<style scoped>\n",
              "    .dataframe tbody tr th:only-of-type {\n",
              "        vertical-align: middle;\n",
              "    }\n",
              "\n",
              "    .dataframe tbody tr th {\n",
              "        vertical-align: top;\n",
              "    }\n",
              "\n",
              "    .dataframe thead th {\n",
              "        text-align: right;\n",
              "    }\n",
              "</style>\n",
              "<table border=\"1\" class=\"dataframe\">\n",
              "  <thead>\n",
              "    <tr style=\"text-align: right;\">\n",
              "      <th></th>\n",
              "      <th>pre covid- calcium</th>\n",
              "      <th>covid- calcium</th>\n",
              "      <th>post covid - calcium</th>\n",
              "    </tr>\n",
              "  </thead>\n",
              "  <tbody>\n",
              "    <tr>\n",
              "      <th>pre covid- calcium</th>\n",
              "      <td>1.000000</td>\n",
              "      <td>0.429599</td>\n",
              "      <td>0.067647</td>\n",
              "    </tr>\n",
              "    <tr>\n",
              "      <th>covid- calcium</th>\n",
              "      <td>0.429599</td>\n",
              "      <td>1.000000</td>\n",
              "      <td>0.048106</td>\n",
              "    </tr>\n",
              "    <tr>\n",
              "      <th>post covid - calcium</th>\n",
              "      <td>0.067647</td>\n",
              "      <td>0.048106</td>\n",
              "      <td>1.000000</td>\n",
              "    </tr>\n",
              "  </tbody>\n",
              "</table>\n",
              "</div>\n",
              "      <button class=\"colab-df-convert\" onclick=\"convertToInteractive('df-e611007e-5420-484d-8359-e148acd1fdd3')\"\n",
              "              title=\"Convert this dataframe to an interactive table.\"\n",
              "              style=\"display:none;\">\n",
              "        \n",
              "  <svg xmlns=\"http://www.w3.org/2000/svg\" height=\"24px\"viewBox=\"0 0 24 24\"\n",
              "       width=\"24px\">\n",
              "    <path d=\"M0 0h24v24H0V0z\" fill=\"none\"/>\n",
              "    <path d=\"M18.56 5.44l.94 2.06.94-2.06 2.06-.94-2.06-.94-.94-2.06-.94 2.06-2.06.94zm-11 1L8.5 8.5l.94-2.06 2.06-.94-2.06-.94L8.5 2.5l-.94 2.06-2.06.94zm10 10l.94 2.06.94-2.06 2.06-.94-2.06-.94-.94-2.06-.94 2.06-2.06.94z\"/><path d=\"M17.41 7.96l-1.37-1.37c-.4-.4-.92-.59-1.43-.59-.52 0-1.04.2-1.43.59L10.3 9.45l-7.72 7.72c-.78.78-.78 2.05 0 2.83L4 21.41c.39.39.9.59 1.41.59.51 0 1.02-.2 1.41-.59l7.78-7.78 2.81-2.81c.8-.78.8-2.07 0-2.86zM5.41 20L4 18.59l7.72-7.72 1.47 1.35L5.41 20z\"/>\n",
              "  </svg>\n",
              "      </button>\n",
              "      \n",
              "  <style>\n",
              "    .colab-df-container {\n",
              "      display:flex;\n",
              "      flex-wrap:wrap;\n",
              "      gap: 12px;\n",
              "    }\n",
              "\n",
              "    .colab-df-convert {\n",
              "      background-color: #E8F0FE;\n",
              "      border: none;\n",
              "      border-radius: 50%;\n",
              "      cursor: pointer;\n",
              "      display: none;\n",
              "      fill: #1967D2;\n",
              "      height: 32px;\n",
              "      padding: 0 0 0 0;\n",
              "      width: 32px;\n",
              "    }\n",
              "\n",
              "    .colab-df-convert:hover {\n",
              "      background-color: #E2EBFA;\n",
              "      box-shadow: 0px 1px 2px rgba(60, 64, 67, 0.3), 0px 1px 3px 1px rgba(60, 64, 67, 0.15);\n",
              "      fill: #174EA6;\n",
              "    }\n",
              "\n",
              "    [theme=dark] .colab-df-convert {\n",
              "      background-color: #3B4455;\n",
              "      fill: #D2E3FC;\n",
              "    }\n",
              "\n",
              "    [theme=dark] .colab-df-convert:hover {\n",
              "      background-color: #434B5C;\n",
              "      box-shadow: 0px 1px 3px 1px rgba(0, 0, 0, 0.15);\n",
              "      filter: drop-shadow(0px 1px 2px rgba(0, 0, 0, 0.3));\n",
              "      fill: #FFFFFF;\n",
              "    }\n",
              "  </style>\n",
              "\n",
              "      <script>\n",
              "        const buttonEl =\n",
              "          document.querySelector('#df-e611007e-5420-484d-8359-e148acd1fdd3 button.colab-df-convert');\n",
              "        buttonEl.style.display =\n",
              "          google.colab.kernel.accessAllowed ? 'block' : 'none';\n",
              "\n",
              "        async function convertToInteractive(key) {\n",
              "          const element = document.querySelector('#df-e611007e-5420-484d-8359-e148acd1fdd3');\n",
              "          const dataTable =\n",
              "            await google.colab.kernel.invokeFunction('convertToInteractive',\n",
              "                                                     [key], {});\n",
              "          if (!dataTable) return;\n",
              "\n",
              "          const docLinkHtml = 'Like what you see? Visit the ' +\n",
              "            '<a target=\"_blank\" href=https://colab.research.google.com/notebooks/data_table.ipynb>data table notebook</a>'\n",
              "            + ' to learn more about interactive tables.';\n",
              "          element.innerHTML = '';\n",
              "          dataTable['output_type'] = 'display_data';\n",
              "          await google.colab.output.renderOutput(dataTable, element);\n",
              "          const docLink = document.createElement('div');\n",
              "          docLink.innerHTML = docLinkHtml;\n",
              "          element.appendChild(docLink);\n",
              "        }\n",
              "      </script>\n",
              "    </div>\n",
              "  </div>\n",
              "  "
            ]
          },
          "metadata": {},
          "execution_count": 11
        }
      ]
    },
    {
      "cell_type": "code",
      "source": [
        "nutrition5=Nutrition[['pre covid - iron','covid- iron','post covid - iron']]\n",
        "nutrition5.corr()"
      ],
      "metadata": {
        "colab": {
          "base_uri": "https://localhost:8080/",
          "height": 143
        },
        "id": "kS0JINb0ePrS",
        "outputId": "c39b657c-7e7d-43d5-a235-84b9874d355e"
      },
      "execution_count": 12,
      "outputs": [
        {
          "output_type": "execute_result",
          "data": {
            "text/plain": [
              "                   pre covid - iron  covid- iron  post covid - iron\n",
              "pre covid - iron           1.000000     0.850513           0.650616\n",
              "covid- iron                0.850513     1.000000           0.651588\n",
              "post covid - iron          0.650616     0.651588           1.000000"
            ],
            "text/html": [
              "\n",
              "  <div id=\"df-58d0d697-ad9c-40a9-b3bd-dc48e435c177\">\n",
              "    <div class=\"colab-df-container\">\n",
              "      <div>\n",
              "<style scoped>\n",
              "    .dataframe tbody tr th:only-of-type {\n",
              "        vertical-align: middle;\n",
              "    }\n",
              "\n",
              "    .dataframe tbody tr th {\n",
              "        vertical-align: top;\n",
              "    }\n",
              "\n",
              "    .dataframe thead th {\n",
              "        text-align: right;\n",
              "    }\n",
              "</style>\n",
              "<table border=\"1\" class=\"dataframe\">\n",
              "  <thead>\n",
              "    <tr style=\"text-align: right;\">\n",
              "      <th></th>\n",
              "      <th>pre covid - iron</th>\n",
              "      <th>covid- iron</th>\n",
              "      <th>post covid - iron</th>\n",
              "    </tr>\n",
              "  </thead>\n",
              "  <tbody>\n",
              "    <tr>\n",
              "      <th>pre covid - iron</th>\n",
              "      <td>1.000000</td>\n",
              "      <td>0.850513</td>\n",
              "      <td>0.650616</td>\n",
              "    </tr>\n",
              "    <tr>\n",
              "      <th>covid- iron</th>\n",
              "      <td>0.850513</td>\n",
              "      <td>1.000000</td>\n",
              "      <td>0.651588</td>\n",
              "    </tr>\n",
              "    <tr>\n",
              "      <th>post covid - iron</th>\n",
              "      <td>0.650616</td>\n",
              "      <td>0.651588</td>\n",
              "      <td>1.000000</td>\n",
              "    </tr>\n",
              "  </tbody>\n",
              "</table>\n",
              "</div>\n",
              "      <button class=\"colab-df-convert\" onclick=\"convertToInteractive('df-58d0d697-ad9c-40a9-b3bd-dc48e435c177')\"\n",
              "              title=\"Convert this dataframe to an interactive table.\"\n",
              "              style=\"display:none;\">\n",
              "        \n",
              "  <svg xmlns=\"http://www.w3.org/2000/svg\" height=\"24px\"viewBox=\"0 0 24 24\"\n",
              "       width=\"24px\">\n",
              "    <path d=\"M0 0h24v24H0V0z\" fill=\"none\"/>\n",
              "    <path d=\"M18.56 5.44l.94 2.06.94-2.06 2.06-.94-2.06-.94-.94-2.06-.94 2.06-2.06.94zm-11 1L8.5 8.5l.94-2.06 2.06-.94-2.06-.94L8.5 2.5l-.94 2.06-2.06.94zm10 10l.94 2.06.94-2.06 2.06-.94-2.06-.94-.94-2.06-.94 2.06-2.06.94z\"/><path d=\"M17.41 7.96l-1.37-1.37c-.4-.4-.92-.59-1.43-.59-.52 0-1.04.2-1.43.59L10.3 9.45l-7.72 7.72c-.78.78-.78 2.05 0 2.83L4 21.41c.39.39.9.59 1.41.59.51 0 1.02-.2 1.41-.59l7.78-7.78 2.81-2.81c.8-.78.8-2.07 0-2.86zM5.41 20L4 18.59l7.72-7.72 1.47 1.35L5.41 20z\"/>\n",
              "  </svg>\n",
              "      </button>\n",
              "      \n",
              "  <style>\n",
              "    .colab-df-container {\n",
              "      display:flex;\n",
              "      flex-wrap:wrap;\n",
              "      gap: 12px;\n",
              "    }\n",
              "\n",
              "    .colab-df-convert {\n",
              "      background-color: #E8F0FE;\n",
              "      border: none;\n",
              "      border-radius: 50%;\n",
              "      cursor: pointer;\n",
              "      display: none;\n",
              "      fill: #1967D2;\n",
              "      height: 32px;\n",
              "      padding: 0 0 0 0;\n",
              "      width: 32px;\n",
              "    }\n",
              "\n",
              "    .colab-df-convert:hover {\n",
              "      background-color: #E2EBFA;\n",
              "      box-shadow: 0px 1px 2px rgba(60, 64, 67, 0.3), 0px 1px 3px 1px rgba(60, 64, 67, 0.15);\n",
              "      fill: #174EA6;\n",
              "    }\n",
              "\n",
              "    [theme=dark] .colab-df-convert {\n",
              "      background-color: #3B4455;\n",
              "      fill: #D2E3FC;\n",
              "    }\n",
              "\n",
              "    [theme=dark] .colab-df-convert:hover {\n",
              "      background-color: #434B5C;\n",
              "      box-shadow: 0px 1px 3px 1px rgba(0, 0, 0, 0.15);\n",
              "      filter: drop-shadow(0px 1px 2px rgba(0, 0, 0, 0.3));\n",
              "      fill: #FFFFFF;\n",
              "    }\n",
              "  </style>\n",
              "\n",
              "      <script>\n",
              "        const buttonEl =\n",
              "          document.querySelector('#df-58d0d697-ad9c-40a9-b3bd-dc48e435c177 button.colab-df-convert');\n",
              "        buttonEl.style.display =\n",
              "          google.colab.kernel.accessAllowed ? 'block' : 'none';\n",
              "\n",
              "        async function convertToInteractive(key) {\n",
              "          const element = document.querySelector('#df-58d0d697-ad9c-40a9-b3bd-dc48e435c177');\n",
              "          const dataTable =\n",
              "            await google.colab.kernel.invokeFunction('convertToInteractive',\n",
              "                                                     [key], {});\n",
              "          if (!dataTable) return;\n",
              "\n",
              "          const docLinkHtml = 'Like what you see? Visit the ' +\n",
              "            '<a target=\"_blank\" href=https://colab.research.google.com/notebooks/data_table.ipynb>data table notebook</a>'\n",
              "            + ' to learn more about interactive tables.';\n",
              "          element.innerHTML = '';\n",
              "          dataTable['output_type'] = 'display_data';\n",
              "          await google.colab.output.renderOutput(dataTable, element);\n",
              "          const docLink = document.createElement('div');\n",
              "          docLink.innerHTML = docLinkHtml;\n",
              "          element.appendChild(docLink);\n",
              "        }\n",
              "      </script>\n",
              "    </div>\n",
              "  </div>\n",
              "  "
            ]
          },
          "metadata": {},
          "execution_count": 12
        }
      ]
    },
    {
      "cell_type": "code",
      "source": [
        "nutrition6=Nutrition[['pre covid - vitamin c','covid- vtamin c','post covid - vitamin c']]\n",
        "nutrition6.corr()"
      ],
      "metadata": {
        "colab": {
          "base_uri": "https://localhost:8080/",
          "height": 143
        },
        "id": "TAu_jUS-e6o7",
        "outputId": "7b68c0e7-f05e-40c4-a259-336a6b91b958"
      },
      "execution_count": 13,
      "outputs": [
        {
          "output_type": "execute_result",
          "data": {
            "text/plain": [
              "                        pre covid - vitamin c  covid- vtamin c  \\\n",
              "pre covid - vitamin c                1.000000         0.946055   \n",
              "covid- vtamin c                      0.946055         1.000000   \n",
              "post covid - vitamin c               0.931689         0.944383   \n",
              "\n",
              "                        post covid - vitamin c  \n",
              "pre covid - vitamin c                 0.931689  \n",
              "covid- vtamin c                       0.944383  \n",
              "post covid - vitamin c                1.000000  "
            ],
            "text/html": [
              "\n",
              "  <div id=\"df-dca7e4e5-0c28-4457-9f2f-45f5c2c08b77\">\n",
              "    <div class=\"colab-df-container\">\n",
              "      <div>\n",
              "<style scoped>\n",
              "    .dataframe tbody tr th:only-of-type {\n",
              "        vertical-align: middle;\n",
              "    }\n",
              "\n",
              "    .dataframe tbody tr th {\n",
              "        vertical-align: top;\n",
              "    }\n",
              "\n",
              "    .dataframe thead th {\n",
              "        text-align: right;\n",
              "    }\n",
              "</style>\n",
              "<table border=\"1\" class=\"dataframe\">\n",
              "  <thead>\n",
              "    <tr style=\"text-align: right;\">\n",
              "      <th></th>\n",
              "      <th>pre covid - vitamin c</th>\n",
              "      <th>covid- vtamin c</th>\n",
              "      <th>post covid - vitamin c</th>\n",
              "    </tr>\n",
              "  </thead>\n",
              "  <tbody>\n",
              "    <tr>\n",
              "      <th>pre covid - vitamin c</th>\n",
              "      <td>1.000000</td>\n",
              "      <td>0.946055</td>\n",
              "      <td>0.931689</td>\n",
              "    </tr>\n",
              "    <tr>\n",
              "      <th>covid- vtamin c</th>\n",
              "      <td>0.946055</td>\n",
              "      <td>1.000000</td>\n",
              "      <td>0.944383</td>\n",
              "    </tr>\n",
              "    <tr>\n",
              "      <th>post covid - vitamin c</th>\n",
              "      <td>0.931689</td>\n",
              "      <td>0.944383</td>\n",
              "      <td>1.000000</td>\n",
              "    </tr>\n",
              "  </tbody>\n",
              "</table>\n",
              "</div>\n",
              "      <button class=\"colab-df-convert\" onclick=\"convertToInteractive('df-dca7e4e5-0c28-4457-9f2f-45f5c2c08b77')\"\n",
              "              title=\"Convert this dataframe to an interactive table.\"\n",
              "              style=\"display:none;\">\n",
              "        \n",
              "  <svg xmlns=\"http://www.w3.org/2000/svg\" height=\"24px\"viewBox=\"0 0 24 24\"\n",
              "       width=\"24px\">\n",
              "    <path d=\"M0 0h24v24H0V0z\" fill=\"none\"/>\n",
              "    <path d=\"M18.56 5.44l.94 2.06.94-2.06 2.06-.94-2.06-.94-.94-2.06-.94 2.06-2.06.94zm-11 1L8.5 8.5l.94-2.06 2.06-.94-2.06-.94L8.5 2.5l-.94 2.06-2.06.94zm10 10l.94 2.06.94-2.06 2.06-.94-2.06-.94-.94-2.06-.94 2.06-2.06.94z\"/><path d=\"M17.41 7.96l-1.37-1.37c-.4-.4-.92-.59-1.43-.59-.52 0-1.04.2-1.43.59L10.3 9.45l-7.72 7.72c-.78.78-.78 2.05 0 2.83L4 21.41c.39.39.9.59 1.41.59.51 0 1.02-.2 1.41-.59l7.78-7.78 2.81-2.81c.8-.78.8-2.07 0-2.86zM5.41 20L4 18.59l7.72-7.72 1.47 1.35L5.41 20z\"/>\n",
              "  </svg>\n",
              "      </button>\n",
              "      \n",
              "  <style>\n",
              "    .colab-df-container {\n",
              "      display:flex;\n",
              "      flex-wrap:wrap;\n",
              "      gap: 12px;\n",
              "    }\n",
              "\n",
              "    .colab-df-convert {\n",
              "      background-color: #E8F0FE;\n",
              "      border: none;\n",
              "      border-radius: 50%;\n",
              "      cursor: pointer;\n",
              "      display: none;\n",
              "      fill: #1967D2;\n",
              "      height: 32px;\n",
              "      padding: 0 0 0 0;\n",
              "      width: 32px;\n",
              "    }\n",
              "\n",
              "    .colab-df-convert:hover {\n",
              "      background-color: #E2EBFA;\n",
              "      box-shadow: 0px 1px 2px rgba(60, 64, 67, 0.3), 0px 1px 3px 1px rgba(60, 64, 67, 0.15);\n",
              "      fill: #174EA6;\n",
              "    }\n",
              "\n",
              "    [theme=dark] .colab-df-convert {\n",
              "      background-color: #3B4455;\n",
              "      fill: #D2E3FC;\n",
              "    }\n",
              "\n",
              "    [theme=dark] .colab-df-convert:hover {\n",
              "      background-color: #434B5C;\n",
              "      box-shadow: 0px 1px 3px 1px rgba(0, 0, 0, 0.15);\n",
              "      filter: drop-shadow(0px 1px 2px rgba(0, 0, 0, 0.3));\n",
              "      fill: #FFFFFF;\n",
              "    }\n",
              "  </style>\n",
              "\n",
              "      <script>\n",
              "        const buttonEl =\n",
              "          document.querySelector('#df-dca7e4e5-0c28-4457-9f2f-45f5c2c08b77 button.colab-df-convert');\n",
              "        buttonEl.style.display =\n",
              "          google.colab.kernel.accessAllowed ? 'block' : 'none';\n",
              "\n",
              "        async function convertToInteractive(key) {\n",
              "          const element = document.querySelector('#df-dca7e4e5-0c28-4457-9f2f-45f5c2c08b77');\n",
              "          const dataTable =\n",
              "            await google.colab.kernel.invokeFunction('convertToInteractive',\n",
              "                                                     [key], {});\n",
              "          if (!dataTable) return;\n",
              "\n",
              "          const docLinkHtml = 'Like what you see? Visit the ' +\n",
              "            '<a target=\"_blank\" href=https://colab.research.google.com/notebooks/data_table.ipynb>data table notebook</a>'\n",
              "            + ' to learn more about interactive tables.';\n",
              "          element.innerHTML = '';\n",
              "          dataTable['output_type'] = 'display_data';\n",
              "          await google.colab.output.renderOutput(dataTable, element);\n",
              "          const docLink = document.createElement('div');\n",
              "          docLink.innerHTML = docLinkHtml;\n",
              "          element.appendChild(docLink);\n",
              "        }\n",
              "      </script>\n",
              "    </div>\n",
              "  </div>\n",
              "  "
            ]
          },
          "metadata": {},
          "execution_count": 13
        }
      ]
    },
    {
      "cell_type": "code",
      "source": [
        "Nutrition.plot.scatter(x='pre covid - vitamin c', y='covid- vtamin c')"
      ],
      "metadata": {
        "colab": {
          "base_uri": "https://localhost:8080/",
          "height": 296
        },
        "id": "Cw7ubURUe6ww",
        "outputId": "396d7538-5f5b-40df-90ba-76201d382c01"
      },
      "execution_count": 14,
      "outputs": [
        {
          "output_type": "execute_result",
          "data": {
            "text/plain": [
              "<matplotlib.axes._subplots.AxesSubplot at 0x7fe3d67cf9d0>"
            ]
          },
          "metadata": {},
          "execution_count": 14
        },
        {
          "output_type": "display_data",
          "data": {
            "text/plain": [
              "<Figure size 432x288 with 1 Axes>"
            ],
            "image/png": "[encoded data removed]"
          },
          "metadata": {
            "needs_background": "light"
          }
        }
      ]
    },
    {
      "cell_type": "code",
      "source": [
        "Nutrition.plot.scatter(x='covid- vtamin c', y='post covid - vitamin c')"
      ],
      "metadata": {
        "colab": {
          "base_uri": "https://localhost:8080/",
          "height": 299
        },
        "id": "wclZdIiInQ-A",
        "outputId": "727e10cf-aaaf-422b-8ff9-e4f700cc9d0f"
      },
      "execution_count": 15,
      "outputs": [
        {
          "output_type": "execute_result",
          "data": {
            "text/plain": [
              "<matplotlib.axes._subplots.AxesSubplot at 0x7fe3d6694950>"
            ]
          },
          "metadata": {},
          "execution_count": 15
        },
        {
          "output_type": "display_data",
          "data": {
            "text/plain": [
              "<Figure size 432x288 with 1 Axes>"
            ],
            "image/png": "[encoded data removed]"
          },
          "metadata": {
            "needs_background": "light"
          }
        }
      ]
    },
    {
      "cell_type": "code",
      "source": [
        "Nutrition.plot.scatter(x='pre covid - vitamin c', y='post covid - vitamin c')"
      ],
      "metadata": {
        "colab": {
          "base_uri": "https://localhost:8080/",
          "height": 299
        },
        "id": "IOJIFVIQnhLf",
        "outputId": "6b93f881-60c3-4c33-d4ff-94e166a9108b"
      },
      "execution_count": 16,
      "outputs": [
        {
          "output_type": "execute_result",
          "data": {
            "text/plain": [
              "<matplotlib.axes._subplots.AxesSubplot at 0x7fe3d61cb4d0>"
            ]
          },
          "metadata": {},
          "execution_count": 16
        },
        {
          "output_type": "display_data",
          "data": {
            "text/plain": [
              "<Figure size 432x288 with 1 Axes>"
            ],
            "image/png": "[encoded data removed]"
          },
          "metadata": {
            "needs_background": "light"
          }
        }
      ]
    },
    {
      "cell_type": "code",
      "source": [
        "import  scipy.stats as stats\n",
        "from scipy.stats import chi2"
      ],
      "metadata": {
        "id": "rap-pDh3vyMd"
      },
      "execution_count": 17,
      "outputs": []
    },
    {
      "cell_type": "markdown",
      "source": [
        "## Chi Square Analysis "
      ],
      "metadata": {
        "id": "nziXZaQRBDmo"
      }
    },
    {
      "cell_type": "markdown",
      "source": [
        "###1. Blood Sugar"
      ],
      "metadata": {
        "id": "OXNuzdmqBDu9"
      }
    },
    {
      "cell_type": "code",
      "source": [
        "ctab1=pd.crosstab(Nutrition['gender'],Nutrition['blood sugar']) \n",
        "ctab1"
      ],
      "metadata": {
        "colab": {
          "base_uri": "https://localhost:8080/",
          "height": 0
        },
        "id": "W6udKSN5wFrf",
        "outputId": "dbd111e1-5ea2-4a69-c3f8-14dde51660bd"
      },
      "execution_count": 18,
      "outputs": [
        {
          "output_type": "execute_result",
          "data": {
            "text/plain": [
              "blood sugar  high  low  normal\n",
              "gender                        \n",
              "Female         10    7      33\n",
              "Male            6    4      40"
            ],
            "text/html": [
              "\n",
              "  <div id=\"df-be735343-49a3-4419-bf4a-34e610e611c6\">\n",
              "    <div class=\"colab-df-container\">\n",
              "      <div>\n",
              "<style scoped>\n",
              "    .dataframe tbody tr th:only-of-type {\n",
              "        vertical-align: middle;\n",
              "    }\n",
              "\n",
              "    .dataframe tbody tr th {\n",
              "        vertical-align: top;\n",
              "    }\n",
              "\n",
              "    .dataframe thead th {\n",
              "        text-align: right;\n",
              "    }\n",
              "</style>\n",
              "<table border=\"1\" class=\"dataframe\">\n",
              "  <thead>\n",
              "    <tr style=\"text-align: right;\">\n",
              "      <th>blood sugar</th>\n",
              "      <th>high</th>\n",
              "      <th>low</th>\n",
              "      <th>normal</th>\n",
              "    </tr>\n",
              "    <tr>\n",
              "      <th>gender</th>\n",
              "      <th></th>\n",
              "      <th></th>\n",
              "      <th></th>\n",
              "    </tr>\n",
              "  </thead>\n",
              "  <tbody>\n",
              "    <tr>\n",
              "      <th>Female</th>\n",
              "      <td>10</td>\n",
              "      <td>7</td>\n",
              "      <td>33</td>\n",
              "    </tr>\n",
              "    <tr>\n",
              "      <th>Male</th>\n",
              "      <td>6</td>\n",
              "      <td>4</td>\n",
              "      <td>40</td>\n",
              "    </tr>\n",
              "  </tbody>\n",
              "</table>\n",
              "</div>\n",
              "      <button class=\"colab-df-convert\" onclick=\"convertToInteractive('df-be735343-49a3-4419-bf4a-34e610e611c6')\"\n",
              "              title=\"Convert this dataframe to an interactive table.\"\n",
              "              style=\"display:none;\">\n",
              "        \n",
              "  <svg xmlns=\"http://www.w3.org/2000/svg\" height=\"24px\"viewBox=\"0 0 24 24\"\n",
              "       width=\"24px\">\n",
              "    <path d=\"M0 0h24v24H0V0z\" fill=\"none\"/>\n",
              "    <path d=\"M18.56 5.44l.94 2.06.94-2.06 2.06-.94-2.06-.94-.94-2.06-.94 2.06-2.06.94zm-11 1L8.5 8.5l.94-2.06 2.06-.94-2.06-.94L8.5 2.5l-.94 2.06-2.06.94zm10 10l.94 2.06.94-2.06 2.06-.94-2.06-.94-.94-2.06-.94 2.06-2.06.94z\"/><path d=\"M17.41 7.96l-1.37-1.37c-.4-.4-.92-.59-1.43-.59-.52 0-1.04.2-1.43.59L10.3 9.45l-7.72 7.72c-.78.78-.78 2.05 0 2.83L4 21.41c.39.39.9.59 1.41.59.51 0 1.02-.2 1.41-.59l7.78-7.78 2.81-2.81c.8-.78.8-2.07 0-2.86zM5.41 20L4 18.59l7.72-7.72 1.47 1.35L5.41 20z\"/>\n",
              "  </svg>\n",
              "      </button>\n",
              "      \n",
              "  <style>\n",
              "    .colab-df-container {\n",
              "      display:flex;\n",
              "      flex-wrap:wrap;\n",
              "      gap: 12px;\n",
              "    }\n",
              "\n",
              "    .colab-df-convert {\n",
              "      background-color: #E8F0FE;\n",
              "      border: none;\n",
              "      border-radius: 50%;\n",
              "      cursor: pointer;\n",
              "      display: none;\n",
              "      fill: #1967D2;\n",
              "      height: 32px;\n",
              "      padding: 0 0 0 0;\n",
              "      width: 32px;\n",
              "    }\n",
              "\n",
              "    .colab-df-convert:hover {\n",
              "      background-color: #E2EBFA;\n",
              "      box-shadow: 0px 1px 2px rgba(60, 64, 67, 0.3), 0px 1px 3px 1px rgba(60, 64, 67, 0.15);\n",
              "      fill: #174EA6;\n",
              "    }\n",
              "\n",
              "    [theme=dark] .colab-df-convert {\n",
              "      background-color: #3B4455;\n",
              "      fill: #D2E3FC;\n",
              "    }\n",
              "\n",
              "    [theme=dark] .colab-df-convert:hover {\n",
              "      background-color: #434B5C;\n",
              "      box-shadow: 0px 1px 3px 1px rgba(0, 0, 0, 0.15);\n",
              "      filter: drop-shadow(0px 1px 2px rgba(0, 0, 0, 0.3));\n",
              "      fill: #FFFFFF;\n",
              "    }\n",
              "  </style>\n",
              "\n",
              "      <script>\n",
              "        const buttonEl =\n",
              "          document.querySelector('#df-be735343-49a3-4419-bf4a-34e610e611c6 button.colab-df-convert');\n",
              "        buttonEl.style.display =\n",
              "          google.colab.kernel.accessAllowed ? 'block' : 'none';\n",
              "\n",
              "        async function convertToInteractive(key) {\n",
              "          const element = document.querySelector('#df-be735343-49a3-4419-bf4a-34e610e611c6');\n",
              "          const dataTable =\n",
              "            await google.colab.kernel.invokeFunction('convertToInteractive',\n",
              "                                                     [key], {});\n",
              "          if (!dataTable) return;\n",
              "\n",
              "          const docLinkHtml = 'Like what you see? Visit the ' +\n",
              "            '<a target=\"_blank\" href=https://colab.research.google.com/notebooks/data_table.ipynb>data table notebook</a>'\n",
              "            + ' to learn more about interactive tables.';\n",
              "          element.innerHTML = '';\n",
              "          dataTable['output_type'] = 'display_data';\n",
              "          await google.colab.output.renderOutput(dataTable, element);\n",
              "          const docLink = document.createElement('div');\n",
              "          docLink.innerHTML = docLinkHtml;\n",
              "          element.appendChild(docLink);\n",
              "        }\n",
              "      </script>\n",
              "    </div>\n",
              "  </div>\n",
              "  "
            ]
          },
          "metadata": {},
          "execution_count": 18
        }
      ]
    },
    {
      "cell_type": "code",
      "source": [
        "ctab1.plot(kind='bar', cmap ='cividis')\n",
        "plt.title('Gender vs bloodsugar', fontdict= {'fontsize':20, 'fontweight':5, 'color':'darkblue'})"
      ],
      "metadata": {
        "colab": {
          "base_uri": "https://localhost:8080/",
          "height": 0
        },
        "id": "8NHaP0WcwmJA",
        "outputId": "a97d704d-57b0-42a6-9f1a-77227dc15381"
      },
      "execution_count": 19,
      "outputs": [
        {
          "output_type": "execute_result",
          "data": {
            "text/plain": [
              "Text(0.5, 1.0, 'Gender vs bloodsugar')"
            ]
          },
          "metadata": {},
          "execution_count": 19
        },
        {
          "output_type": "display_data",
          "data": {
            "text/plain": [
              "<Figure size 432x288 with 1 Axes>"
            ],
            "image/png": "[encoded data removed]"
          },
          "metadata": {
            "needs_background": "light"
          }
        }
      ]
    },
    {
      "cell_type": "code",
      "source": [
        "alpha=0.05\n",
        "values=stats.chi2_contingency(ctab1)\n",
        "values"
      ],
      "metadata": {
        "colab": {
          "base_uri": "https://localhost:8080/"
        },
        "id": "OU8ocvh8wvS5",
        "outputId": "7571496e-21f9-4eb5-8eee-32b5ccb3bbd7"
      },
      "execution_count": 20,
      "outputs": [
        {
          "output_type": "execute_result",
          "data": {
            "text/plain": [
              "(2.4894146948941467, 0.28802518710425357, 2, array([[ 8. ,  5.5, 36.5],\n",
              "        [ 8. ,  5.5, 36.5]]))"
            ]
          },
          "metadata": {},
          "execution_count": 20
        }
      ]
    },
    {
      "cell_type": "code",
      "source": [
        "p_value1=values[1]\n",
        "p_value1"
      ],
      "metadata": {
        "colab": {
          "base_uri": "https://localhost:8080/"
        },
        "id": "xqjGxef6w16g",
        "outputId": "37556267-d23e-4758-be0f-7da7f258698b"
      },
      "execution_count": 21,
      "outputs": [
        {
          "output_type": "execute_result",
          "data": {
            "text/plain": [
              "0.28802518710425357"
            ]
          },
          "metadata": {},
          "execution_count": 21
        }
      ]
    },
    {
      "cell_type": "code",
      "source": [
        "if p_value1 <= alpha:\n",
        "   print(\"Reject H0\")\n",
        "else:\n",
        "  print(\"Accept H0\")"
      ],
      "metadata": {
        "colab": {
          "base_uri": "https://localhost:8080/"
        },
        "id": "5nAHuMTww38O",
        "outputId": "070b4ba9-6477-4bd6-c22c-5540dabaa6bf"
      },
      "execution_count": 22,
      "outputs": [
        {
          "output_type": "stream",
          "name": "stdout",
          "text": [
            "Accept H0\n"
          ]
        }
      ]
    },
    {
      "cell_type": "markdown",
      "source": [
        "### 2.Cholestrol"
      ],
      "metadata": {
        "id": "H0yfy9liBJNm"
      }
    },
    {
      "cell_type": "code",
      "source": [
        "ctab2=pd.crosstab(Nutrition['gender'],Nutrition['cholesterol']) \n",
        "ctab2"
      ],
      "metadata": {
        "colab": {
          "base_uri": "https://localhost:8080/",
          "height": 0
        },
        "id": "QVVPyIlR6Ue7",
        "outputId": "6578cc9d-0d05-47f5-b794-d9ee583d7d0d"
      },
      "execution_count": 23,
      "outputs": [
        {
          "output_type": "execute_result",
          "data": {
            "text/plain": [
              "cholesterol  high  low  normal\n",
              "gender                        \n",
              "Female         11    0      39\n",
              "Male            3    1      46"
            ],
            "text/html": [
              "\n",
              "  <div id=\"df-560424f2-3a93-4889-86ca-4b19e27d36de\">\n",
              "    <div class=\"colab-df-container\">\n",
              "      <div>\n",
              "<style scoped>\n",
              "    .dataframe tbody tr th:only-of-type {\n",
              "        vertical-align: middle;\n",
              "    }\n",
              "\n",
              "    .dataframe tbody tr th {\n",
              "        vertical-align: top;\n",
              "    }\n",
              "\n",
              "    .dataframe thead th {\n",
              "        text-align: right;\n",
              "    }\n",
              "</style>\n",
              "<table border=\"1\" class=\"dataframe\">\n",
              "  <thead>\n",
              "    <tr style=\"text-align: right;\">\n",
              "      <th>cholesterol</th>\n",
              "      <th>high</th>\n",
              "      <th>low</th>\n",
              "      <th>normal</th>\n",
              "    </tr>\n",
              "    <tr>\n",
              "      <th>gender</th>\n",
              "      <th></th>\n",
              "      <th></th>\n",
              "      <th></th>\n",
              "    </tr>\n",
              "  </thead>\n",
              "  <tbody>\n",
              "    <tr>\n",
              "      <th>Female</th>\n",
              "      <td>11</td>\n",
              "      <td>0</td>\n",
              "      <td>39</td>\n",
              "    </tr>\n",
              "    <tr>\n",
              "      <th>Male</th>\n",
              "      <td>3</td>\n",
              "      <td>1</td>\n",
              "      <td>46</td>\n",
              "    </tr>\n",
              "  </tbody>\n",
              "</table>\n",
              "</div>\n",
              "      <button class=\"colab-df-convert\" onclick=\"convertToInteractive('df-560424f2-3a93-4889-86ca-4b19e27d36de')\"\n",
              "              title=\"Convert this dataframe to an interactive table.\"\n",
              "              style=\"display:none;\">\n",
              "        \n",
              "  <svg xmlns=\"http://www.w3.org/2000/svg\" height=\"24px\"viewBox=\"0 0 24 24\"\n",
              "       width=\"24px\">\n",
              "    <path d=\"M0 0h24v24H0V0z\" fill=\"none\"/>\n",
              "    <path d=\"M18.56 5.44l.94 2.06.94-2.06 2.06-.94-2.06-.94-.94-2.06-.94 2.06-2.06.94zm-11 1L8.5 8.5l.94-2.06 2.06-.94-2.06-.94L8.5 2.5l-.94 2.06-2.06.94zm10 10l.94 2.06.94-2.06 2.06-.94-2.06-.94-.94-2.06-.94 2.06-2.06.94z\"/><path d=\"M17.41 7.96l-1.37-1.37c-.4-.4-.92-.59-1.43-.59-.52 0-1.04.2-1.43.59L10.3 9.45l-7.72 7.72c-.78.78-.78 2.05 0 2.83L4 21.41c.39.39.9.59 1.41.59.51 0 1.02-.2 1.41-.59l7.78-7.78 2.81-2.81c.8-.78.8-2.07 0-2.86zM5.41 20L4 18.59l7.72-7.72 1.47 1.35L5.41 20z\"/>\n",
              "  </svg>\n",
              "      </button>\n",
              "      \n",
              "  <style>\n",
              "    .colab-df-container {\n",
              "      display:flex;\n",
              "      flex-wrap:wrap;\n",
              "      gap: 12px;\n",
              "    }\n",
              "\n",
              "    .colab-df-convert {\n",
              "      background-color: #E8F0FE;\n",
              "      border: none;\n",
              "      border-radius: 50%;\n",
              "      cursor: pointer;\n",
              "      display: none;\n",
              "      fill: #1967D2;\n",
              "      height: 32px;\n",
              "      padding: 0 0 0 0;\n",
              "      width: 32px;\n",
              "    }\n",
              "\n",
              "    .colab-df-convert:hover {\n",
              "      background-color: #E2EBFA;\n",
              "      box-shadow: 0px 1px 2px rgba(60, 64, 67, 0.3), 0px 1px 3px 1px rgba(60, 64, 67, 0.15);\n",
              "      fill: #174EA6;\n",
              "    }\n",
              "\n",
              "    [theme=dark] .colab-df-convert {\n",
              "      background-color: #3B4455;\n",
              "      fill: #D2E3FC;\n",
              "    }\n",
              "\n",
              "    [theme=dark] .colab-df-convert:hover {\n",
              "      background-color: #434B5C;\n",
              "      box-shadow: 0px 1px 3px 1px rgba(0, 0, 0, 0.15);\n",
              "      filter: drop-shadow(0px 1px 2px rgba(0, 0, 0, 0.3));\n",
              "      fill: #FFFFFF;\n",
              "    }\n",
              "  </style>\n",
              "\n",
              "      <script>\n",
              "        const buttonEl =\n",
              "          document.querySelector('#df-560424f2-3a93-4889-86ca-4b19e27d36de button.colab-df-convert');\n",
              "        buttonEl.style.display =\n",
              "          google.colab.kernel.accessAllowed ? 'block' : 'none';\n",
              "\n",
              "        async function convertToInteractive(key) {\n",
              "          const element = document.querySelector('#df-560424f2-3a93-4889-86ca-4b19e27d36de');\n",
              "          const dataTable =\n",
              "            await google.colab.kernel.invokeFunction('convertToInteractive',\n",
              "                                                     [key], {});\n",
              "          if (!dataTable) return;\n",
              "\n",
              "          const docLinkHtml = 'Like what you see? Visit the ' +\n",
              "            '<a target=\"_blank\" href=https://colab.research.google.com/notebooks/data_table.ipynb>data table notebook</a>'\n",
              "            + ' to learn more about interactive tables.';\n",
              "          element.innerHTML = '';\n",
              "          dataTable['output_type'] = 'display_data';\n",
              "          await google.colab.output.renderOutput(dataTable, element);\n",
              "          const docLink = document.createElement('div');\n",
              "          docLink.innerHTML = docLinkHtml;\n",
              "          element.appendChild(docLink);\n",
              "        }\n",
              "      </script>\n",
              "    </div>\n",
              "  </div>\n",
              "  "
            ]
          },
          "metadata": {},
          "execution_count": 23
        }
      ]
    },
    {
      "cell_type": "code",
      "source": [
        "ctab2.plot(kind='bar', cmap ='cividis')\n",
        "plt.title('Gender vs cholesterol', fontdict= {'fontsize':20, 'fontweight':5, 'color':'darkblue'})"
      ],
      "metadata": {
        "colab": {
          "base_uri": "https://localhost:8080/",
          "height": 0
        },
        "id": "1RYsZ_496Ykx",
        "outputId": "9fa141f7-9bdf-451b-c141-a48ae68cc3db"
      },
      "execution_count": 24,
      "outputs": [
        {
          "output_type": "execute_result",
          "data": {
            "text/plain": [
              "Text(0.5, 1.0, 'Gender vs cholesterol')"
            ]
          },
          "metadata": {},
          "execution_count": 24
        },
        {
          "output_type": "display_data",
          "data": {
            "text/plain": [
              "<Figure size 432x288 with 1 Axes>"
            ],
            "image/png": "[encoded data removed]"
          },
          "metadata": {
            "needs_background": "light"
          }
        }
      ]
    },
    {
      "cell_type": "code",
      "source": [
        "alpha=0.05\n",
        "values=stats.chi2_contingency(ctab2)\n",
        "values"
      ],
      "metadata": {
        "colab": {
          "base_uri": "https://localhost:8080/"
        },
        "id": "aAGrvF0H-B7-",
        "outputId": "0aee038f-b202-4d12-f79e-3bdd3c465518"
      },
      "execution_count": 25,
      "outputs": [
        {
          "output_type": "execute_result",
          "data": {
            "text/plain": [
              "(6.147899159663865, 0.046238172390227025, 2, array([[ 7. ,  0.5, 42.5],\n",
              "        [ 7. ,  0.5, 42.5]]))"
            ]
          },
          "metadata": {},
          "execution_count": 25
        }
      ]
    },
    {
      "cell_type": "code",
      "source": [
        "p_value2=values[1]\n",
        "p_value2"
      ],
      "metadata": {
        "colab": {
          "base_uri": "https://localhost:8080/"
        },
        "id": "T_V6ub1Q-H-M",
        "outputId": "2ea5cf25-6ce2-4583-c2ec-f09d281a4920"
      },
      "execution_count": 26,
      "outputs": [
        {
          "output_type": "execute_result",
          "data": {
            "text/plain": [
              "0.046238172390227025"
            ]
          },
          "metadata": {},
          "execution_count": 26
        }
      ]
    },
    {
      "cell_type": "code",
      "source": [
        "if p_value2 <= alpha:\n",
        "   print(\"Reject H0\")\n",
        "else:\n",
        "  print(\"Accept H0\")"
      ],
      "metadata": {
        "colab": {
          "base_uri": "https://localhost:8080/"
        },
        "id": "DblOpXtY-P4-",
        "outputId": "1a0a8bc0-03d5-4248-dc8c-b6ca689c2466"
      },
      "execution_count": 27,
      "outputs": [
        {
          "output_type": "stream",
          "name": "stdout",
          "text": [
            "Reject H0\n"
          ]
        }
      ]
    },
    {
      "cell_type": "markdown",
      "source": [
        "### 3.Creatine"
      ],
      "metadata": {
        "id": "Zhq48uUOBNZ-"
      }
    },
    {
      "cell_type": "code",
      "source": [
        "ctab3=pd.crosstab(Nutrition['gender'],Nutrition['creatinine']) \n",
        "ctab3"
      ],
      "metadata": {
        "colab": {
          "base_uri": "https://localhost:8080/",
          "height": 0
        },
        "id": "EseBWSrX6h_O",
        "outputId": "e1975779-a4f2-402f-b428-be98ab8ce88b"
      },
      "execution_count": 28,
      "outputs": [
        {
          "output_type": "execute_result",
          "data": {
            "text/plain": [
              "creatinine  high  low  normal\n",
              "gender                       \n",
              "Female         3    1      46\n",
              "Male           0    0      50"
            ],
            "text/html": [
              "\n",
              "  <div id=\"df-b874cc13-147f-4eed-8205-36c7126f6e3b\">\n",
              "    <div class=\"colab-df-container\">\n",
              "      <div>\n",
              "<style scoped>\n",
              "    .dataframe tbody tr th:only-of-type {\n",
              "        vertical-align: middle;\n",
              "    }\n",
              "\n",
              "    .dataframe tbody tr th {\n",
              "        vertical-align: top;\n",
              "    }\n",
              "\n",
              "    .dataframe thead th {\n",
              "        text-align: right;\n",
              "    }\n",
              "</style>\n",
              "<table border=\"1\" class=\"dataframe\">\n",
              "  <thead>\n",
              "    <tr style=\"text-align: right;\">\n",
              "      <th>creatinine</th>\n",
              "      <th>high</th>\n",
              "      <th>low</th>\n",
              "      <th>normal</th>\n",
              "    </tr>\n",
              "    <tr>\n",
              "      <th>gender</th>\n",
              "      <th></th>\n",
              "      <th></th>\n",
              "      <th></th>\n",
              "    </tr>\n",
              "  </thead>\n",
              "  <tbody>\n",
              "    <tr>\n",
              "      <th>Female</th>\n",
              "      <td>3</td>\n",
              "      <td>1</td>\n",
              "      <td>46</td>\n",
              "    </tr>\n",
              "    <tr>\n",
              "      <th>Male</th>\n",
              "      <td>0</td>\n",
              "      <td>0</td>\n",
              "      <td>50</td>\n",
              "    </tr>\n",
              "  </tbody>\n",
              "</table>\n",
              "</div>\n",
              "      <button class=\"colab-df-convert\" onclick=\"convertToInteractive('df-b874cc13-147f-4eed-8205-36c7126f6e3b')\"\n",
              "              title=\"Convert this dataframe to an interactive table.\"\n",
              "              style=\"display:none;\">\n",
              "        \n",
              "  <svg xmlns=\"http://www.w3.org/2000/svg\" height=\"24px\"viewBox=\"0 0 24 24\"\n",
              "       width=\"24px\">\n",
              "    <path d=\"M0 0h24v24H0V0z\" fill=\"none\"/>\n",
              "    <path d=\"M18.56 5.44l.94 2.06.94-2.06 2.06-.94-2.06-.94-.94-2.06-.94 2.06-2.06.94zm-11 1L8.5 8.5l.94-2.06 2.06-.94-2.06-.94L8.5 2.5l-.94 2.06-2.06.94zm10 10l.94 2.06.94-2.06 2.06-.94-2.06-.94-.94-2.06-.94 2.06-2.06.94z\"/><path d=\"M17.41 7.96l-1.37-1.37c-.4-.4-.92-.59-1.43-.59-.52 0-1.04.2-1.43.59L10.3 9.45l-7.72 7.72c-.78.78-.78 2.05 0 2.83L4 21.41c.39.39.9.59 1.41.59.51 0 1.02-.2 1.41-.59l7.78-7.78 2.81-2.81c.8-.78.8-2.07 0-2.86zM5.41 20L4 18.59l7.72-7.72 1.47 1.35L5.41 20z\"/>\n",
              "  </svg>\n",
              "      </button>\n",
              "      \n",
              "  <style>\n",
              "    .colab-df-container {\n",
              "      display:flex;\n",
              "      flex-wrap:wrap;\n",
              "      gap: 12px;\n",
              "    }\n",
              "\n",
              "    .colab-df-convert {\n",
              "      background-color: #E8F0FE;\n",
              "      border: none;\n",
              "      border-radius: 50%;\n",
              "      cursor: pointer;\n",
              "      display: none;\n",
              "      fill: #1967D2;\n",
              "      height: 32px;\n",
              "      padding: 0 0 0 0;\n",
              "      width: 32px;\n",
              "    }\n",
              "\n",
              "    .colab-df-convert:hover {\n",
              "      background-color: #E2EBFA;\n",
              "      box-shadow: 0px 1px 2px rgba(60, 64, 67, 0.3), 0px 1px 3px 1px rgba(60, 64, 67, 0.15);\n",
              "      fill: #174EA6;\n",
              "    }\n",
              "\n",
              "    [theme=dark] .colab-df-convert {\n",
              "      background-color: #3B4455;\n",
              "      fill: #D2E3FC;\n",
              "    }\n",
              "\n",
              "    [theme=dark] .colab-df-convert:hover {\n",
              "      background-color: #434B5C;\n",
              "      box-shadow: 0px 1px 3px 1px rgba(0, 0, 0, 0.15);\n",
              "      filter: drop-shadow(0px 1px 2px rgba(0, 0, 0, 0.3));\n",
              "      fill: #FFFFFF;\n",
              "    }\n",
              "  </style>\n",
              "\n",
              "      <script>\n",
              "        const buttonEl =\n",
              "          document.querySelector('#df-b874cc13-147f-4eed-8205-36c7126f6e3b button.colab-df-convert');\n",
              "        buttonEl.style.display =\n",
              "          google.colab.kernel.accessAllowed ? 'block' : 'none';\n",
              "\n",
              "        async function convertToInteractive(key) {\n",
              "          const element = document.querySelector('#df-b874cc13-147f-4eed-8205-36c7126f6e3b');\n",
              "          const dataTable =\n",
              "            await google.colab.kernel.invokeFunction('convertToInteractive',\n",
              "                                                     [key], {});\n",
              "          if (!dataTable) return;\n",
              "\n",
              "          const docLinkHtml = 'Like what you see? Visit the ' +\n",
              "            '<a target=\"_blank\" href=https://colab.research.google.com/notebooks/data_table.ipynb>data table notebook</a>'\n",
              "            + ' to learn more about interactive tables.';\n",
              "          element.innerHTML = '';\n",
              "          dataTable['output_type'] = 'display_data';\n",
              "          await google.colab.output.renderOutput(dataTable, element);\n",
              "          const docLink = document.createElement('div');\n",
              "          docLink.innerHTML = docLinkHtml;\n",
              "          element.appendChild(docLink);\n",
              "        }\n",
              "      </script>\n",
              "    </div>\n",
              "  </div>\n",
              "  "
            ]
          },
          "metadata": {},
          "execution_count": 28
        }
      ]
    },
    {
      "cell_type": "code",
      "source": [
        "ctab3.plot(kind='bar', cmap ='cividis')\n",
        "plt.title('Gender vs creatinine', fontdict= {'fontsize':20, 'fontweight':5, 'color':'darkblue'})"
      ],
      "metadata": {
        "colab": {
          "base_uri": "https://localhost:8080/",
          "height": 0
        },
        "id": "QqjY6dhn7MMO",
        "outputId": "255337b6-5212-4e85-bd45-1cdec0f6e5db"
      },
      "execution_count": 29,
      "outputs": [
        {
          "output_type": "execute_result",
          "data": {
            "text/plain": [
              "Text(0.5, 1.0, 'Gender vs creatinine')"
            ]
          },
          "metadata": {},
          "execution_count": 29
        },
        {
          "output_type": "display_data",
          "data": {
            "text/plain": [
              "<Figure size 432x288 with 1 Axes>"
            ],
            "image/png": "[encoded data removed]"
          },
          "metadata": {
            "needs_background": "light"
          }
        }
      ]
    },
    {
      "cell_type": "code",
      "source": [
        "alpha=0.05\n",
        "values=stats.chi2_contingency(ctab3)\n",
        "values"
      ],
      "metadata": {
        "colab": {
          "base_uri": "https://localhost:8080/"
        },
        "id": "2xsnTASY-ztk",
        "outputId": "82238941-7710-408e-d0ea-4da4106ecb9f"
      },
      "execution_count": 30,
      "outputs": [
        {
          "output_type": "execute_result",
          "data": {
            "text/plain": [
              "(4.166666666666667, 0.12451447144412299, 2, array([[ 1.5,  0.5, 48. ],\n",
              "        [ 1.5,  0.5, 48. ]]))"
            ]
          },
          "metadata": {},
          "execution_count": 30
        }
      ]
    },
    {
      "cell_type": "code",
      "source": [
        "p_value3=values[1]\n",
        "p_value3"
      ],
      "metadata": {
        "colab": {
          "base_uri": "https://localhost:8080/"
        },
        "id": "UDrW964a-zw_",
        "outputId": "ed9e4635-f42a-47b2-b91b-5731b070c207"
      },
      "execution_count": 31,
      "outputs": [
        {
          "output_type": "execute_result",
          "data": {
            "text/plain": [
              "0.12451447144412299"
            ]
          },
          "metadata": {},
          "execution_count": 31
        }
      ]
    },
    {
      "cell_type": "code",
      "source": [
        "if p_value3 <= alpha:\n",
        "   print(\"Reject H0\")\n",
        "else:\n",
        "  print(\"Accept H0\")"
      ],
      "metadata": {
        "colab": {
          "base_uri": "https://localhost:8080/"
        },
        "id": "K6auhCSZ-z0h",
        "outputId": "7bf84a22-3e55-492b-cdde-2cfe2b764ab4"
      },
      "execution_count": 32,
      "outputs": [
        {
          "output_type": "stream",
          "name": "stdout",
          "text": [
            "Accept H0\n"
          ]
        }
      ]
    },
    {
      "cell_type": "markdown",
      "source": [
        "### 4.HB count"
      ],
      "metadata": {
        "id": "VGozl_nTBQSf"
      }
    },
    {
      "cell_type": "code",
      "source": [
        "ctab4=pd.crosstab(Nutrition['gender'],Nutrition['HB count']) \n",
        "ctab4"
      ],
      "metadata": {
        "colab": {
          "base_uri": "https://localhost:8080/",
          "height": 0
        },
        "id": "SEFZpD4r7QB2",
        "outputId": "08152d4c-bed6-4374-9f61-52d64b8fda03"
      },
      "execution_count": 33,
      "outputs": [
        {
          "output_type": "execute_result",
          "data": {
            "text/plain": [
              "HB count  high  low  normal\n",
              "gender                     \n",
              "Female       7   11      32\n",
              "Male         0    8      42"
            ],
            "text/html": [
              "\n",
              "  <div id=\"df-99604dec-c7c2-4faa-b9d6-ee0e06342098\">\n",
              "    <div class=\"colab-df-container\">\n",
              "      <div>\n",
              "<style scoped>\n",
              "    .dataframe tbody tr th:only-of-type {\n",
              "        vertical-align: middle;\n",
              "    }\n",
              "\n",
              "    .dataframe tbody tr th {\n",
              "        vertical-align: top;\n",
              "    }\n",
              "\n",
              "    .dataframe thead th {\n",
              "        text-align: right;\n",
              "    }\n",
              "</style>\n",
              "<table border=\"1\" class=\"dataframe\">\n",
              "  <thead>\n",
              "    <tr style=\"text-align: right;\">\n",
              "      <th>HB count</th>\n",
              "      <th>high</th>\n",
              "      <th>low</th>\n",
              "      <th>normal</th>\n",
              "    </tr>\n",
              "    <tr>\n",
              "      <th>gender</th>\n",
              "      <th></th>\n",
              "      <th></th>\n",
              "      <th></th>\n",
              "    </tr>\n",
              "  </thead>\n",
              "  <tbody>\n",
              "    <tr>\n",
              "      <th>Female</th>\n",
              "      <td>7</td>\n",
              "      <td>11</td>\n",
              "      <td>32</td>\n",
              "    </tr>\n",
              "    <tr>\n",
              "      <th>Male</th>\n",
              "      <td>0</td>\n",
              "      <td>8</td>\n",
              "      <td>42</td>\n",
              "    </tr>\n",
              "  </tbody>\n",
              "</table>\n",
              "</div>\n",
              "      <button class=\"colab-df-convert\" onclick=\"convertToInteractive('df-99604dec-c7c2-4faa-b9d6-ee0e06342098')\"\n",
              "              title=\"Convert this dataframe to an interactive table.\"\n",
              "              style=\"display:none;\">\n",
              "        \n",
              "  <svg xmlns=\"http://www.w3.org/2000/svg\" height=\"24px\"viewBox=\"0 0 24 24\"\n",
              "       width=\"24px\">\n",
              "    <path d=\"M0 0h24v24H0V0z\" fill=\"none\"/>\n",
              "    <path d=\"M18.56 5.44l.94 2.06.94-2.06 2.06-.94-2.06-.94-.94-2.06-.94 2.06-2.06.94zm-11 1L8.5 8.5l.94-2.06 2.06-.94-2.06-.94L8.5 2.5l-.94 2.06-2.06.94zm10 10l.94 2.06.94-2.06 2.06-.94-2.06-.94-.94-2.06-.94 2.06-2.06.94z\"/><path d=\"M17.41 7.96l-1.37-1.37c-.4-.4-.92-.59-1.43-.59-.52 0-1.04.2-1.43.59L10.3 9.45l-7.72 7.72c-.78.78-.78 2.05 0 2.83L4 21.41c.39.39.9.59 1.41.59.51 0 1.02-.2 1.41-.59l7.78-7.78 2.81-2.81c.8-.78.8-2.07 0-2.86zM5.41 20L4 18.59l7.72-7.72 1.47 1.35L5.41 20z\"/>\n",
              "  </svg>\n",
              "      </button>\n",
              "      \n",
              "  <style>\n",
              "    .colab-df-container {\n",
              "      display:flex;\n",
              "      flex-wrap:wrap;\n",
              "      gap: 12px;\n",
              "    }\n",
              "\n",
              "    .colab-df-convert {\n",
              "      background-color: #E8F0FE;\n",
              "      border: none;\n",
              "      border-radius: 50%;\n",
              "      cursor: pointer;\n",
              "      display: none;\n",
              "      fill: #1967D2;\n",
              "      height: 32px;\n",
              "      padding: 0 0 0 0;\n",
              "      width: 32px;\n",
              "    }\n",
              "\n",
              "    .colab-df-convert:hover {\n",
              "      background-color: #E2EBFA;\n",
              "      box-shadow: 0px 1px 2px rgba(60, 64, 67, 0.3), 0px 1px 3px 1px rgba(60, 64, 67, 0.15);\n",
              "      fill: #174EA6;\n",
              "    }\n",
              "\n",
              "    [theme=dark] .colab-df-convert {\n",
              "      background-color: #3B4455;\n",
              "      fill: #D2E3FC;\n",
              "    }\n",
              "\n",
              "    [theme=dark] .colab-df-convert:hover {\n",
              "      background-color: #434B5C;\n",
              "      box-shadow: 0px 1px 3px 1px rgba(0, 0, 0, 0.15);\n",
              "      filter: drop-shadow(0px 1px 2px rgba(0, 0, 0, 0.3));\n",
              "      fill: #FFFFFF;\n",
              "    }\n",
              "  </style>\n",
              "\n",
              "      <script>\n",
              "        const buttonEl =\n",
              "          document.querySelector('#df-99604dec-c7c2-4faa-b9d6-ee0e06342098 button.colab-df-convert');\n",
              "        buttonEl.style.display =\n",
              "          google.colab.kernel.accessAllowed ? 'block' : 'none';\n",
              "\n",
              "        async function convertToInteractive(key) {\n",
              "          const element = document.querySelector('#df-99604dec-c7c2-4faa-b9d6-ee0e06342098');\n",
              "          const dataTable =\n",
              "            await google.colab.kernel.invokeFunction('convertToInteractive',\n",
              "                                                     [key], {});\n",
              "          if (!dataTable) return;\n",
              "\n",
              "          const docLinkHtml = 'Like what you see? Visit the ' +\n",
              "            '<a target=\"_blank\" href=https://colab.research.google.com/notebooks/data_table.ipynb>data table notebook</a>'\n",
              "            + ' to learn more about interactive tables.';\n",
              "          element.innerHTML = '';\n",
              "          dataTable['output_type'] = 'display_data';\n",
              "          await google.colab.output.renderOutput(dataTable, element);\n",
              "          const docLink = document.createElement('div');\n",
              "          docLink.innerHTML = docLinkHtml;\n",
              "          element.appendChild(docLink);\n",
              "        }\n",
              "      </script>\n",
              "    </div>\n",
              "  </div>\n",
              "  "
            ]
          },
          "metadata": {},
          "execution_count": 33
        }
      ]
    },
    {
      "cell_type": "code",
      "source": [
        "ctab4.plot(kind='bar', cmap ='cividis')\n",
        "plt.title('Gender vs HB count', fontdict= {'fontsize':20, 'fontweight':5, 'color':'darkblue'})"
      ],
      "metadata": {
        "colab": {
          "base_uri": "https://localhost:8080/",
          "height": 0
        },
        "id": "ApsL8fdq7hpL",
        "outputId": "8d2ee01a-2c2e-4a08-eeda-6a10bb5ecf4e"
      },
      "execution_count": 34,
      "outputs": [
        {
          "output_type": "execute_result",
          "data": {
            "text/plain": [
              "Text(0.5, 1.0, 'Gender vs HB count')"
            ]
          },
          "metadata": {},
          "execution_count": 34
        },
        {
          "output_type": "display_data",
          "data": {
            "text/plain": [
              "<Figure size 432x288 with 1 Axes>"
            ],
            "image/png": "[encoded data removed]"
          },
          "metadata": {
            "needs_background": "light"
          }
        }
      ]
    },
    {
      "cell_type": "code",
      "source": [
        "alpha=0.05\n",
        "values=stats.chi2_contingency(ctab4)\n",
        "values"
      ],
      "metadata": {
        "colab": {
          "base_uri": "https://localhost:8080/"
        },
        "outputId": "c83bdbb6-75d6-41ce-a189-116e8c8d51d7",
        "id": "XH69WERy_Qe0"
      },
      "execution_count": 35,
      "outputs": [
        {
          "output_type": "execute_result",
          "data": {
            "text/plain": [
              "(8.825035561877668, 0.01212461274847375, 2, array([[ 3.5,  9.5, 37. ],\n",
              "        [ 3.5,  9.5, 37. ]]))"
            ]
          },
          "metadata": {},
          "execution_count": 35
        }
      ]
    },
    {
      "cell_type": "code",
      "source": [
        "p_value4=values[1]\n",
        "p_value4"
      ],
      "metadata": {
        "colab": {
          "base_uri": "https://localhost:8080/"
        },
        "outputId": "878efc6f-0ddb-47e2-d98d-3af606d576c1",
        "id": "-XfODb2F_Qe1"
      },
      "execution_count": 36,
      "outputs": [
        {
          "output_type": "execute_result",
          "data": {
            "text/plain": [
              "0.01212461274847375"
            ]
          },
          "metadata": {},
          "execution_count": 36
        }
      ]
    },
    {
      "cell_type": "code",
      "source": [
        "if p_value4 <= alpha:\n",
        "   print(\"Reject H0\")\n",
        "else:\n",
        "  print(\"Accept H0\")"
      ],
      "metadata": {
        "colab": {
          "base_uri": "https://localhost:8080/"
        },
        "outputId": "6247ad7e-22b3-462e-f87c-1cb9057403c1",
        "id": "8YcAwGdw_Qe2"
      },
      "execution_count": 37,
      "outputs": [
        {
          "output_type": "stream",
          "name": "stdout",
          "text": [
            "Reject H0\n"
          ]
        }
      ]
    },
    {
      "cell_type": "markdown",
      "source": [
        "### 5.Sodium"
      ],
      "metadata": {
        "id": "Cu6-KpX5BT43"
      }
    },
    {
      "cell_type": "code",
      "source": [
        "ctab5=pd.crosstab(Nutrition['gender'],Nutrition['sodium']) \n",
        "ctab5"
      ],
      "metadata": {
        "colab": {
          "base_uri": "https://localhost:8080/",
          "height": 0
        },
        "id": "MazvtzTk7qYq",
        "outputId": "62314ebc-63bd-40f4-dffd-b058c4768e8f"
      },
      "execution_count": 38,
      "outputs": [
        {
          "output_type": "execute_result",
          "data": {
            "text/plain": [
              "sodium  low  normal\n",
              "gender             \n",
              "Female    3      47\n",
              "Male      0      50"
            ],
            "text/html": [
              "\n",
              "  <div id=\"df-39e5eef0-612b-454a-8789-6f791541dee1\">\n",
              "    <div class=\"colab-df-container\">\n",
              "      <div>\n",
              "<style scoped>\n",
              "    .dataframe tbody tr th:only-of-type {\n",
              "        vertical-align: middle;\n",
              "    }\n",
              "\n",
              "    .dataframe tbody tr th {\n",
              "        vertical-align: top;\n",
              "    }\n",
              "\n",
              "    .dataframe thead th {\n",
              "        text-align: right;\n",
              "    }\n",
              "</style>\n",
              "<table border=\"1\" class=\"dataframe\">\n",
              "  <thead>\n",
              "    <tr style=\"text-align: right;\">\n",
              "      <th>sodium</th>\n",
              "      <th>low</th>\n",
              "      <th>normal</th>\n",
              "    </tr>\n",
              "    <tr>\n",
              "      <th>gender</th>\n",
              "      <th></th>\n",
              "      <th></th>\n",
              "    </tr>\n",
              "  </thead>\n",
              "  <tbody>\n",
              "    <tr>\n",
              "      <th>Female</th>\n",
              "      <td>3</td>\n",
              "      <td>47</td>\n",
              "    </tr>\n",
              "    <tr>\n",
              "      <th>Male</th>\n",
              "      <td>0</td>\n",
              "      <td>50</td>\n",
              "    </tr>\n",
              "  </tbody>\n",
              "</table>\n",
              "</div>\n",
              "      <button class=\"colab-df-convert\" onclick=\"convertToInteractive('df-39e5eef0-612b-454a-8789-6f791541dee1')\"\n",
              "              title=\"Convert this dataframe to an interactive table.\"\n",
              "              style=\"display:none;\">\n",
              "        \n",
              "  <svg xmlns=\"http://www.w3.org/2000/svg\" height=\"24px\"viewBox=\"0 0 24 24\"\n",
              "       width=\"24px\">\n",
              "    <path d=\"M0 0h24v24H0V0z\" fill=\"none\"/>\n",
              "    <path d=\"M18.56 5.44l.94 2.06.94-2.06 2.06-.94-2.06-.94-.94-2.06-.94 2.06-2.06.94zm-11 1L8.5 8.5l.94-2.06 2.06-.94-2.06-.94L8.5 2.5l-.94 2.06-2.06.94zm10 10l.94 2.06.94-2.06 2.06-.94-2.06-.94-.94-2.06-.94 2.06-2.06.94z\"/><path d=\"M17.41 7.96l-1.37-1.37c-.4-.4-.92-.59-1.43-.59-.52 0-1.04.2-1.43.59L10.3 9.45l-7.72 7.72c-.78.78-.78 2.05 0 2.83L4 21.41c.39.39.9.59 1.41.59.51 0 1.02-.2 1.41-.59l7.78-7.78 2.81-2.81c.8-.78.8-2.07 0-2.86zM5.41 20L4 18.59l7.72-7.72 1.47 1.35L5.41 20z\"/>\n",
              "  </svg>\n",
              "      </button>\n",
              "      \n",
              "  <style>\n",
              "    .colab-df-container {\n",
              "      display:flex;\n",
              "      flex-wrap:wrap;\n",
              "      gap: 12px;\n",
              "    }\n",
              "\n",
              "    .colab-df-convert {\n",
              "      background-color: #E8F0FE;\n",
              "      border: none;\n",
              "      border-radius: 50%;\n",
              "      cursor: pointer;\n",
              "      display: none;\n",
              "      fill: #1967D2;\n",
              "      height: 32px;\n",
              "      padding: 0 0 0 0;\n",
              "      width: 32px;\n",
              "    }\n",
              "\n",
              "    .colab-df-convert:hover {\n",
              "      background-color: #E2EBFA;\n",
              "      box-shadow: 0px 1px 2px rgba(60, 64, 67, 0.3), 0px 1px 3px 1px rgba(60, 64, 67, 0.15);\n",
              "      fill: #174EA6;\n",
              "    }\n",
              "\n",
              "    [theme=dark] .colab-df-convert {\n",
              "      background-color: #3B4455;\n",
              "      fill: #D2E3FC;\n",
              "    }\n",
              "\n",
              "    [theme=dark] .colab-df-convert:hover {\n",
              "      background-color: #434B5C;\n",
              "      box-shadow: 0px 1px 3px 1px rgba(0, 0, 0, 0.15);\n",
              "      filter: drop-shadow(0px 1px 2px rgba(0, 0, 0, 0.3));\n",
              "      fill: #FFFFFF;\n",
              "    }\n",
              "  </style>\n",
              "\n",
              "      <script>\n",
              "        const buttonEl =\n",
              "          document.querySelector('#df-39e5eef0-612b-454a-8789-6f791541dee1 button.colab-df-convert');\n",
              "        buttonEl.style.display =\n",
              "          google.colab.kernel.accessAllowed ? 'block' : 'none';\n",
              "\n",
              "        async function convertToInteractive(key) {\n",
              "          const element = document.querySelector('#df-39e5eef0-612b-454a-8789-6f791541dee1');\n",
              "          const dataTable =\n",
              "            await google.colab.kernel.invokeFunction('convertToInteractive',\n",
              "                                                     [key], {});\n",
              "          if (!dataTable) return;\n",
              "\n",
              "          const docLinkHtml = 'Like what you see? Visit the ' +\n",
              "            '<a target=\"_blank\" href=https://colab.research.google.com/notebooks/data_table.ipynb>data table notebook</a>'\n",
              "            + ' to learn more about interactive tables.';\n",
              "          element.innerHTML = '';\n",
              "          dataTable['output_type'] = 'display_data';\n",
              "          await google.colab.output.renderOutput(dataTable, element);\n",
              "          const docLink = document.createElement('div');\n",
              "          docLink.innerHTML = docLinkHtml;\n",
              "          element.appendChild(docLink);\n",
              "        }\n",
              "      </script>\n",
              "    </div>\n",
              "  </div>\n",
              "  "
            ]
          },
          "metadata": {},
          "execution_count": 38
        }
      ]
    },
    {
      "cell_type": "code",
      "source": [
        "ctab5.plot(kind='bar', cmap ='cividis')\n",
        "plt.title('Gender vs Sodium', fontdict= {'fontsize':20, 'fontweight':5, 'color':'darkblue'})"
      ],
      "metadata": {
        "colab": {
          "base_uri": "https://localhost:8080/",
          "height": 0
        },
        "id": "Zn9vCcWJ76Yw",
        "outputId": "9ed56cd8-3ce4-4810-b0b2-94301ec4622b"
      },
      "execution_count": 39,
      "outputs": [
        {
          "output_type": "execute_result",
          "data": {
            "text/plain": [
              "Text(0.5, 1.0, 'Gender vs Sodium')"
            ]
          },
          "metadata": {},
          "execution_count": 39
        },
        {
          "output_type": "display_data",
          "data": {
            "text/plain": [
              "<Figure size 432x288 with 1 Axes>"
            ],
            "image/png": "[encoded data removed]"
          },
          "metadata": {
            "needs_background": "light"
          }
        }
      ]
    },
    {
      "cell_type": "code",
      "source": [
        "alpha=0.05\n",
        "values=stats.chi2_contingency(ctab5)\n",
        "values"
      ],
      "metadata": {
        "colab": {
          "base_uri": "https://localhost:8080/"
        },
        "outputId": "c4cc8ab3-1711-4e34-a42d-1f88f33a4eb7",
        "id": "McP47Qsk_ZRM"
      },
      "execution_count": 40,
      "outputs": [
        {
          "output_type": "execute_result",
          "data": {
            "text/plain": [
              "(1.3745704467353952, 0.24102816726442872, 1, array([[ 1.5, 48.5],\n",
              "        [ 1.5, 48.5]]))"
            ]
          },
          "metadata": {},
          "execution_count": 40
        }
      ]
    },
    {
      "cell_type": "code",
      "source": [
        "p_value5=values[1]\n",
        "p_value5"
      ],
      "metadata": {
        "colab": {
          "base_uri": "https://localhost:8080/"
        },
        "outputId": "9177c632-66e1-4b24-b74d-9ece5474b7e8",
        "id": "khXT0g4A_ZRO"
      },
      "execution_count": 41,
      "outputs": [
        {
          "output_type": "execute_result",
          "data": {
            "text/plain": [
              "0.24102816726442872"
            ]
          },
          "metadata": {},
          "execution_count": 41
        }
      ]
    },
    {
      "cell_type": "code",
      "source": [
        "if p_value5 <= alpha:\n",
        "   print(\"Reject H0\")\n",
        "else:\n",
        "  print(\"Accept H0\")"
      ],
      "metadata": {
        "colab": {
          "base_uri": "https://localhost:8080/"
        },
        "outputId": "89d6538e-8bdd-45f6-c622-f27ca4ac8b71",
        "id": "1fy2c6FM_ZRO"
      },
      "execution_count": 42,
      "outputs": [
        {
          "output_type": "stream",
          "name": "stdout",
          "text": [
            "Accept H0\n"
          ]
        }
      ]
    },
    {
      "cell_type": "markdown",
      "source": [
        "### 6.Pottasium"
      ],
      "metadata": {
        "id": "Rm5r1T17BW5X"
      }
    },
    {
      "cell_type": "code",
      "source": [
        "ctab6=pd.crosstab(Nutrition['gender'],Nutrition['potassium']) \n",
        "ctab6"
      ],
      "metadata": {
        "colab": {
          "base_uri": "https://localhost:8080/",
          "height": 0
        },
        "outputId": "024d8f28-d079-4256-e92d-a3a8909d0b8a",
        "id": "5Dq4Xg1dBll5"
      },
      "execution_count": 43,
      "outputs": [
        {
          "output_type": "execute_result",
          "data": {
            "text/plain": [
              "potassium  low  normal\n",
              "gender                \n",
              "Female       1      49\n",
              "Male         0      50"
            ],
            "text/html": [
              "\n",
              "  <div id=\"df-f63b4066-3a33-4ec3-bed3-7b49ed047b2f\">\n",
              "    <div class=\"colab-df-container\">\n",
              "      <div>\n",
              "<style scoped>\n",
              "    .dataframe tbody tr th:only-of-type {\n",
              "        vertical-align: middle;\n",
              "    }\n",
              "\n",
              "    .dataframe tbody tr th {\n",
              "        vertical-align: top;\n",
              "    }\n",
              "\n",
              "    .dataframe thead th {\n",
              "        text-align: right;\n",
              "    }\n",
              "</style>\n",
              "<table border=\"1\" class=\"dataframe\">\n",
              "  <thead>\n",
              "    <tr style=\"text-align: right;\">\n",
              "      <th>potassium</th>\n",
              "      <th>low</th>\n",
              "      <th>normal</th>\n",
              "    </tr>\n",
              "    <tr>\n",
              "      <th>gender</th>\n",
              "      <th></th>\n",
              "      <th></th>\n",
              "    </tr>\n",
              "  </thead>\n",
              "  <tbody>\n",
              "    <tr>\n",
              "      <th>Female</th>\n",
              "      <td>1</td>\n",
              "      <td>49</td>\n",
              "    </tr>\n",
              "    <tr>\n",
              "      <th>Male</th>\n",
              "      <td>0</td>\n",
              "      <td>50</td>\n",
              "    </tr>\n",
              "  </tbody>\n",
              "</table>\n",
              "</div>\n",
              "      <button class=\"colab-df-convert\" onclick=\"convertToInteractive('df-f63b4066-3a33-4ec3-bed3-7b49ed047b2f')\"\n",
              "              title=\"Convert this dataframe to an interactive table.\"\n",
              "              style=\"display:none;\">\n",
              "        \n",
              "  <svg xmlns=\"http://www.w3.org/2000/svg\" height=\"24px\"viewBox=\"0 0 24 24\"\n",
              "       width=\"24px\">\n",
              "    <path d=\"M0 0h24v24H0V0z\" fill=\"none\"/>\n",
              "    <path d=\"M18.56 5.44l.94 2.06.94-2.06 2.06-.94-2.06-.94-.94-2.06-.94 2.06-2.06.94zm-11 1L8.5 8.5l.94-2.06 2.06-.94-2.06-.94L8.5 2.5l-.94 2.06-2.06.94zm10 10l.94 2.06.94-2.06 2.06-.94-2.06-.94-.94-2.06-.94 2.06-2.06.94z\"/><path d=\"M17.41 7.96l-1.37-1.37c-.4-.4-.92-.59-1.43-.59-.52 0-1.04.2-1.43.59L10.3 9.45l-7.72 7.72c-.78.78-.78 2.05 0 2.83L4 21.41c.39.39.9.59 1.41.59.51 0 1.02-.2 1.41-.59l7.78-7.78 2.81-2.81c.8-.78.8-2.07 0-2.86zM5.41 20L4 18.59l7.72-7.72 1.47 1.35L5.41 20z\"/>\n",
              "  </svg>\n",
              "      </button>\n",
              "      \n",
              "  <style>\n",
              "    .colab-df-container {\n",
              "      display:flex;\n",
              "      flex-wrap:wrap;\n",
              "      gap: 12px;\n",
              "    }\n",
              "\n",
              "    .colab-df-convert {\n",
              "      background-color: #E8F0FE;\n",
              "      border: none;\n",
              "      border-radius: 50%;\n",
              "      cursor: pointer;\n",
              "      display: none;\n",
              "      fill: #1967D2;\n",
              "      height: 32px;\n",
              "      padding: 0 0 0 0;\n",
              "      width: 32px;\n",
              "    }\n",
              "\n",
              "    .colab-df-convert:hover {\n",
              "      background-color: #E2EBFA;\n",
              "      box-shadow: 0px 1px 2px rgba(60, 64, 67, 0.3), 0px 1px 3px 1px rgba(60, 64, 67, 0.15);\n",
              "      fill: #174EA6;\n",
              "    }\n",
              "\n",
              "    [theme=dark] .colab-df-convert {\n",
              "      background-color: #3B4455;\n",
              "      fill: #D2E3FC;\n",
              "    }\n",
              "\n",
              "    [theme=dark] .colab-df-convert:hover {\n",
              "      background-color: #434B5C;\n",
              "      box-shadow: 0px 1px 3px 1px rgba(0, 0, 0, 0.15);\n",
              "      filter: drop-shadow(0px 1px 2px rgba(0, 0, 0, 0.3));\n",
              "      fill: #FFFFFF;\n",
              "    }\n",
              "  </style>\n",
              "\n",
              "      <script>\n",
              "        const buttonEl =\n",
              "          document.querySelector('#df-f63b4066-3a33-4ec3-bed3-7b49ed047b2f button.colab-df-convert');\n",
              "        buttonEl.style.display =\n",
              "          google.colab.kernel.accessAllowed ? 'block' : 'none';\n",
              "\n",
              "        async function convertToInteractive(key) {\n",
              "          const element = document.querySelector('#df-f63b4066-3a33-4ec3-bed3-7b49ed047b2f');\n",
              "          const dataTable =\n",
              "            await google.colab.kernel.invokeFunction('convertToInteractive',\n",
              "                                                     [key], {});\n",
              "          if (!dataTable) return;\n",
              "\n",
              "          const docLinkHtml = 'Like what you see? Visit the ' +\n",
              "            '<a target=\"_blank\" href=https://colab.research.google.com/notebooks/data_table.ipynb>data table notebook</a>'\n",
              "            + ' to learn more about interactive tables.';\n",
              "          element.innerHTML = '';\n",
              "          dataTable['output_type'] = 'display_data';\n",
              "          await google.colab.output.renderOutput(dataTable, element);\n",
              "          const docLink = document.createElement('div');\n",
              "          docLink.innerHTML = docLinkHtml;\n",
              "          element.appendChild(docLink);\n",
              "        }\n",
              "      </script>\n",
              "    </div>\n",
              "  </div>\n",
              "  "
            ]
          },
          "metadata": {},
          "execution_count": 43
        }
      ]
    },
    {
      "cell_type": "code",
      "source": [
        "ctab6.plot(kind='bar', cmap ='cividis')\n",
        "plt.title('Gender vs pottasium', fontdict= {'fontsize':20, 'fontweight':5, 'color':'darkblue'})"
      ],
      "metadata": {
        "colab": {
          "base_uri": "https://localhost:8080/",
          "height": 0
        },
        "outputId": "5f10c7e0-975c-4296-ba3e-5676b7b5a078",
        "id": "n7_fZPwABflf"
      },
      "execution_count": 44,
      "outputs": [
        {
          "output_type": "execute_result",
          "data": {
            "text/plain": [
              "Text(0.5, 1.0, 'Gender vs pottasium')"
            ]
          },
          "metadata": {},
          "execution_count": 44
        },
        {
          "output_type": "display_data",
          "data": {
            "text/plain": [
              "<Figure size 432x288 with 1 Axes>"
            ],
            "image/png": "[encoded data removed]"
          },
          "metadata": {
            "needs_background": "light"
          }
        }
      ]
    },
    {
      "cell_type": "code",
      "source": [
        "alpha=0.05\n",
        "values=stats.chi2_contingency(ctab6)\n",
        "values"
      ],
      "metadata": {
        "colab": {
          "base_uri": "https://localhost:8080/"
        },
        "outputId": "4e09a7f9-8ab2-4f8c-f3ad-01edc1d0d477",
        "id": "0SAyWkP8Bflh"
      },
      "execution_count": 45,
      "outputs": [
        {
          "output_type": "execute_result",
          "data": {
            "text/plain": [
              "(0.0, 1.0, 1, array([[ 0.5, 49.5],\n",
              "        [ 0.5, 49.5]]))"
            ]
          },
          "metadata": {},
          "execution_count": 45
        }
      ]
    },
    {
      "cell_type": "code",
      "source": [
        "p_value6=values[1]\n",
        "p_value6"
      ],
      "metadata": {
        "colab": {
          "base_uri": "https://localhost:8080/"
        },
        "outputId": "2f0804b2-7829-425d-bd98-5bad5094a980",
        "id": "4_-CQdnaBflh"
      },
      "execution_count": 46,
      "outputs": [
        {
          "output_type": "execute_result",
          "data": {
            "text/plain": [
              "1.0"
            ]
          },
          "metadata": {},
          "execution_count": 46
        }
      ]
    },
    {
      "cell_type": "code",
      "source": [
        "if p_value6 <= alpha:\n",
        "   print(\"Reject H0\")\n",
        "else:\n",
        "  print(\"Accept H0\")"
      ],
      "metadata": {
        "colab": {
          "base_uri": "https://localhost:8080/"
        },
        "outputId": "64e19bbc-a7ba-4f31-f4a4-862beabb3544",
        "id": "TizhyZkmBfli"
      },
      "execution_count": 47,
      "outputs": [
        {
          "output_type": "stream",
          "name": "stdout",
          "text": [
            "Accept H0\n"
          ]
        }
      ]
    },
    {
      "cell_type": "markdown",
      "source": [
        "### 7.Physical Appearence"
      ],
      "metadata": {
        "id": "TqgLBj7ZCN4l"
      }
    },
    {
      "cell_type": "code",
      "source": [
        "ctab7=pd.crosstab(Nutrition['gender'],Nutrition['physical appearance']) \n",
        "ctab7"
      ],
      "metadata": {
        "colab": {
          "base_uri": "https://localhost:8080/",
          "height": 0
        },
        "outputId": "56915de7-affa-466c-e1ea-ccd82fda106e",
        "id": "WRElxnj9CcKD"
      },
      "execution_count": 48,
      "outputs": [
        {
          "output_type": "execute_result",
          "data": {
            "text/plain": [
              "physical appearance  fair  normal  poor\n",
              "gender                                 \n",
              "Female                  5      37     8\n",
              "Male                    9      41     0"
            ],
            "text/html": [
              "\n",
              "  <div id=\"df-c5e96528-b6a8-4f6a-9516-6bfb39e2a54a\">\n",
              "    <div class=\"colab-df-container\">\n",
              "      <div>\n",
              "<style scoped>\n",
              "    .dataframe tbody tr th:only-of-type {\n",
              "        vertical-align: middle;\n",
              "    }\n",
              "\n",
              "    .dataframe tbody tr th {\n",
              "        vertical-align: top;\n",
              "    }\n",
              "\n",
              "    .dataframe thead th {\n",
              "        text-align: right;\n",
              "    }\n",
              "</style>\n",
              "<table border=\"1\" class=\"dataframe\">\n",
              "  <thead>\n",
              "    <tr style=\"text-align: right;\">\n",
              "      <th>physical appearance</th>\n",
              "      <th>fair</th>\n",
              "      <th>normal</th>\n",
              "      <th>poor</th>\n",
              "    </tr>\n",
              "    <tr>\n",
              "      <th>gender</th>\n",
              "      <th></th>\n",
              "      <th></th>\n",
              "      <th></th>\n",
              "    </tr>\n",
              "  </thead>\n",
              "  <tbody>\n",
              "    <tr>\n",
              "      <th>Female</th>\n",
              "      <td>5</td>\n",
              "      <td>37</td>\n",
              "      <td>8</td>\n",
              "    </tr>\n",
              "    <tr>\n",
              "      <th>Male</th>\n",
              "      <td>9</td>\n",
              "      <td>41</td>\n",
              "      <td>0</td>\n",
              "    </tr>\n",
              "  </tbody>\n",
              "</table>\n",
              "</div>\n",
              "      <button class=\"colab-df-convert\" onclick=\"convertToInteractive('df-c5e96528-b6a8-4f6a-9516-6bfb39e2a54a')\"\n",
              "              title=\"Convert this dataframe to an interactive table.\"\n",
              "              style=\"display:none;\">\n",
              "        \n",
              "  <svg xmlns=\"http://www.w3.org/2000/svg\" height=\"24px\"viewBox=\"0 0 24 24\"\n",
              "       width=\"24px\">\n",
              "    <path d=\"M0 0h24v24H0V0z\" fill=\"none\"/>\n",
              "    <path d=\"M18.56 5.44l.94 2.06.94-2.06 2.06-.94-2.06-.94-.94-2.06-.94 2.06-2.06.94zm-11 1L8.5 8.5l.94-2.06 2.06-.94-2.06-.94L8.5 2.5l-.94 2.06-2.06.94zm10 10l.94 2.06.94-2.06 2.06-.94-2.06-.94-.94-2.06-.94 2.06-2.06.94z\"/><path d=\"M17.41 7.96l-1.37-1.37c-.4-.4-.92-.59-1.43-.59-.52 0-1.04.2-1.43.59L10.3 9.45l-7.72 7.72c-.78.78-.78 2.05 0 2.83L4 21.41c.39.39.9.59 1.41.59.51 0 1.02-.2 1.41-.59l7.78-7.78 2.81-2.81c.8-.78.8-2.07 0-2.86zM5.41 20L4 18.59l7.72-7.72 1.47 1.35L5.41 20z\"/>\n",
              "  </svg>\n",
              "      </button>\n",
              "      \n",
              "  <style>\n",
              "    .colab-df-container {\n",
              "      display:flex;\n",
              "      flex-wrap:wrap;\n",
              "      gap: 12px;\n",
              "    }\n",
              "\n",
              "    .colab-df-convert {\n",
              "      background-color: #E8F0FE;\n",
              "      border: none;\n",
              "      border-radius: 50%;\n",
              "      cursor: pointer;\n",
              "      display: none;\n",
              "      fill: #1967D2;\n",
              "      height: 32px;\n",
              "      padding: 0 0 0 0;\n",
              "      width: 32px;\n",
              "    }\n",
              "\n",
              "    .colab-df-convert:hover {\n",
              "      background-color: #E2EBFA;\n",
              "      box-shadow: 0px 1px 2px rgba(60, 64, 67, 0.3), 0px 1px 3px 1px rgba(60, 64, 67, 0.15);\n",
              "      fill: #174EA6;\n",
              "    }\n",
              "\n",
              "    [theme=dark] .colab-df-convert {\n",
              "      background-color: #3B4455;\n",
              "      fill: #D2E3FC;\n",
              "    }\n",
              "\n",
              "    [theme=dark] .colab-df-convert:hover {\n",
              "      background-color: #434B5C;\n",
              "      box-shadow: 0px 1px 3px 1px rgba(0, 0, 0, 0.15);\n",
              "      filter: drop-shadow(0px 1px 2px rgba(0, 0, 0, 0.3));\n",
              "      fill: #FFFFFF;\n",
              "    }\n",
              "  </style>\n",
              "\n",
              "      <script>\n",
              "        const buttonEl =\n",
              "          document.querySelector('#df-c5e96528-b6a8-4f6a-9516-6bfb39e2a54a button.colab-df-convert');\n",
              "        buttonEl.style.display =\n",
              "          google.colab.kernel.accessAllowed ? 'block' : 'none';\n",
              "\n",
              "        async function convertToInteractive(key) {\n",
              "          const element = document.querySelector('#df-c5e96528-b6a8-4f6a-9516-6bfb39e2a54a');\n",
              "          const dataTable =\n",
              "            await google.colab.kernel.invokeFunction('convertToInteractive',\n",
              "                                                     [key], {});\n",
              "          if (!dataTable) return;\n",
              "\n",
              "          const docLinkHtml = 'Like what you see? Visit the ' +\n",
              "            '<a target=\"_blank\" href=https://colab.research.google.com/notebooks/data_table.ipynb>data table notebook</a>'\n",
              "            + ' to learn more about interactive tables.';\n",
              "          element.innerHTML = '';\n",
              "          dataTable['output_type'] = 'display_data';\n",
              "          await google.colab.output.renderOutput(dataTable, element);\n",
              "          const docLink = document.createElement('div');\n",
              "          docLink.innerHTML = docLinkHtml;\n",
              "          element.appendChild(docLink);\n",
              "        }\n",
              "      </script>\n",
              "    </div>\n",
              "  </div>\n",
              "  "
            ]
          },
          "metadata": {},
          "execution_count": 48
        }
      ]
    },
    {
      "cell_type": "code",
      "source": [
        "ctab7.plot(kind='bar', cmap ='cividis')\n",
        "plt.title('Gender vs Physical Appearence', fontdict= {'fontsize':20, 'fontweight':5, 'color':'darkblue'})"
      ],
      "metadata": {
        "colab": {
          "base_uri": "https://localhost:8080/",
          "height": 0
        },
        "outputId": "9400e734-839d-4133-9eed-e092b831e0c3",
        "id": "Wv8EwmO-CcKF"
      },
      "execution_count": 49,
      "outputs": [
        {
          "output_type": "execute_result",
          "data": {
            "text/plain": [
              "Text(0.5, 1.0, 'Gender vs Physical Appearence')"
            ]
          },
          "metadata": {},
          "execution_count": 49
        },
        {
          "output_type": "display_data",
          "data": {
            "text/plain": [
              "<Figure size 432x288 with 1 Axes>"
            ],
            "image/png": "[encoded data removed]"
          },
          "metadata": {
            "needs_background": "light"
          }
        }
      ]
    },
    {
      "cell_type": "code",
      "source": [
        "alpha=0.05\n",
        "values=stats.chi2_contingency(ctab7)\n",
        "values"
      ],
      "metadata": {
        "colab": {
          "base_uri": "https://localhost:8080/"
        },
        "outputId": "31fd4d66-9c2e-4823-ac5e-4fa54b6e7fed",
        "id": "w4sHIRebCcKF"
      },
      "execution_count": 50,
      "outputs": [
        {
          "output_type": "execute_result",
          "data": {
            "text/plain": [
              "(9.347985347985347, 0.009334923714652287, 2, array([[ 7., 39.,  4.],\n",
              "        [ 7., 39.,  4.]]))"
            ]
          },
          "metadata": {},
          "execution_count": 50
        }
      ]
    },
    {
      "cell_type": "code",
      "source": [
        "p_value7=values[1]\n",
        "p_value7"
      ],
      "metadata": {
        "colab": {
          "base_uri": "https://localhost:8080/"
        },
        "outputId": "e9d679d7-023d-4f4d-cd96-08106228729c",
        "id": "DIrwGW3ICcKG"
      },
      "execution_count": 51,
      "outputs": [
        {
          "output_type": "execute_result",
          "data": {
            "text/plain": [
              "0.009334923714652287"
            ]
          },
          "metadata": {},
          "execution_count": 51
        }
      ]
    },
    {
      "cell_type": "code",
      "source": [
        "if p_value7 <= alpha:\n",
        "   print(\"Reject H0\")\n",
        "else:\n",
        "  print(\"Accept H0\")"
      ],
      "metadata": {
        "colab": {
          "base_uri": "https://localhost:8080/"
        },
        "outputId": "0a3ae692-4ecb-4717-f02f-351466bacc98",
        "id": "RS2w_5CyCcKG"
      },
      "execution_count": 52,
      "outputs": [
        {
          "output_type": "stream",
          "name": "stdout",
          "text": [
            "Reject H0\n"
          ]
        }
      ]
    },
    {
      "cell_type": "markdown",
      "source": [
        "### 8. Hair"
      ],
      "metadata": {
        "id": "D-lhF2ghDhlV"
      }
    },
    {
      "cell_type": "code",
      "source": [
        "ctab8=pd.crosstab(Nutrition['gender'],Nutrition['hair']) \n",
        "ctab8"
      ],
      "metadata": {
        "colab": {
          "base_uri": "https://localhost:8080/",
          "height": 0
        },
        "outputId": "a9a994a9-bc10-4725-da9c-b564c2085e12",
        "id": "eQqLQx6mD4Kn"
      },
      "execution_count": 53,
      "outputs": [
        {
          "output_type": "execute_result",
          "data": {
            "text/plain": [
              "hair    fair  normal  poor\n",
              "gender                    \n",
              "Female     8      40     2\n",
              "Male       0      50     0"
            ],
            "text/html": [
              "\n",
              "  <div id=\"df-9237c2b8-bd76-46ed-884b-b356765abc56\">\n",
              "    <div class=\"colab-df-container\">\n",
              "      <div>\n",
              "<style scoped>\n",
              "    .dataframe tbody tr th:only-of-type {\n",
              "        vertical-align: middle;\n",
              "    }\n",
              "\n",
              "    .dataframe tbody tr th {\n",
              "        vertical-align: top;\n",
              "    }\n",
              "\n",
              "    .dataframe thead th {\n",
              "        text-align: right;\n",
              "    }\n",
              "</style>\n",
              "<table border=\"1\" class=\"dataframe\">\n",
              "  <thead>\n",
              "    <tr style=\"text-align: right;\">\n",
              "      <th>hair</th>\n",
              "      <th>fair</th>\n",
              "      <th>normal</th>\n",
              "      <th>poor</th>\n",
              "    </tr>\n",
              "    <tr>\n",
              "      <th>gender</th>\n",
              "      <th></th>\n",
              "      <th></th>\n",
              "      <th></th>\n",
              "    </tr>\n",
              "  </thead>\n",
              "  <tbody>\n",
              "    <tr>\n",
              "      <th>Female</th>\n",
              "      <td>8</td>\n",
              "      <td>40</td>\n",
              "      <td>2</td>\n",
              "    </tr>\n",
              "    <tr>\n",
              "      <th>Male</th>\n",
              "      <td>0</td>\n",
              "      <td>50</td>\n",
              "      <td>0</td>\n",
              "    </tr>\n",
              "  </tbody>\n",
              "</table>\n",
              "</div>\n",
              "      <button class=\"colab-df-convert\" onclick=\"convertToInteractive('df-9237c2b8-bd76-46ed-884b-b356765abc56')\"\n",
              "              title=\"Convert this dataframe to an interactive table.\"\n",
              "              style=\"display:none;\">\n",
              "        \n",
              "  <svg xmlns=\"http://www.w3.org/2000/svg\" height=\"24px\"viewBox=\"0 0 24 24\"\n",
              "       width=\"24px\">\n",
              "    <path d=\"M0 0h24v24H0V0z\" fill=\"none\"/>\n",
              "    <path d=\"M18.56 5.44l.94 2.06.94-2.06 2.06-.94-2.06-.94-.94-2.06-.94 2.06-2.06.94zm-11 1L8.5 8.5l.94-2.06 2.06-.94-2.06-.94L8.5 2.5l-.94 2.06-2.06.94zm10 10l.94 2.06.94-2.06 2.06-.94-2.06-.94-.94-2.06-.94 2.06-2.06.94z\"/><path d=\"M17.41 7.96l-1.37-1.37c-.4-.4-.92-.59-1.43-.59-.52 0-1.04.2-1.43.59L10.3 9.45l-7.72 7.72c-.78.78-.78 2.05 0 2.83L4 21.41c.39.39.9.59 1.41.59.51 0 1.02-.2 1.41-.59l7.78-7.78 2.81-2.81c.8-.78.8-2.07 0-2.86zM5.41 20L4 18.59l7.72-7.72 1.47 1.35L5.41 20z\"/>\n",
              "  </svg>\n",
              "      </button>\n",
              "      \n",
              "  <style>\n",
              "    .colab-df-container {\n",
              "      display:flex;\n",
              "      flex-wrap:wrap;\n",
              "      gap: 12px;\n",
              "    }\n",
              "\n",
              "    .colab-df-convert {\n",
              "      background-color: #E8F0FE;\n",
              "      border: none;\n",
              "      border-radius: 50%;\n",
              "      cursor: pointer;\n",
              "      display: none;\n",
              "      fill: #1967D2;\n",
              "      height: 32px;\n",
              "      padding: 0 0 0 0;\n",
              "      width: 32px;\n",
              "    }\n",
              "\n",
              "    .colab-df-convert:hover {\n",
              "      background-color: #E2EBFA;\n",
              "      box-shadow: 0px 1px 2px rgba(60, 64, 67, 0.3), 0px 1px 3px 1px rgba(60, 64, 67, 0.15);\n",
              "      fill: #174EA6;\n",
              "    }\n",
              "\n",
              "    [theme=dark] .colab-df-convert {\n",
              "      background-color: #3B4455;\n",
              "      fill: #D2E3FC;\n",
              "    }\n",
              "\n",
              "    [theme=dark] .colab-df-convert:hover {\n",
              "      background-color: #434B5C;\n",
              "      box-shadow: 0px 1px 3px 1px rgba(0, 0, 0, 0.15);\n",
              "      filter: drop-shadow(0px 1px 2px rgba(0, 0, 0, 0.3));\n",
              "      fill: #FFFFFF;\n",
              "    }\n",
              "  </style>\n",
              "\n",
              "      <script>\n",
              "        const buttonEl =\n",
              "          document.querySelector('#df-9237c2b8-bd76-46ed-884b-b356765abc56 button.colab-df-convert');\n",
              "        buttonEl.style.display =\n",
              "          google.colab.kernel.accessAllowed ? 'block' : 'none';\n",
              "\n",
              "        async function convertToInteractive(key) {\n",
              "          const element = document.querySelector('#df-9237c2b8-bd76-46ed-884b-b356765abc56');\n",
              "          const dataTable =\n",
              "            await google.colab.kernel.invokeFunction('convertToInteractive',\n",
              "                                                     [key], {});\n",
              "          if (!dataTable) return;\n",
              "\n",
              "          const docLinkHtml = 'Like what you see? Visit the ' +\n",
              "            '<a target=\"_blank\" href=https://colab.research.google.com/notebooks/data_table.ipynb>data table notebook</a>'\n",
              "            + ' to learn more about interactive tables.';\n",
              "          element.innerHTML = '';\n",
              "          dataTable['output_type'] = 'display_data';\n",
              "          await google.colab.output.renderOutput(dataTable, element);\n",
              "          const docLink = document.createElement('div');\n",
              "          docLink.innerHTML = docLinkHtml;\n",
              "          element.appendChild(docLink);\n",
              "        }\n",
              "      </script>\n",
              "    </div>\n",
              "  </div>\n",
              "  "
            ]
          },
          "metadata": {},
          "execution_count": 53
        }
      ]
    },
    {
      "cell_type": "code",
      "source": [
        "ctab8.plot(kind='bar', cmap ='cividis')\n",
        "plt.title('Gender vs Hair', fontdict= {'fontsize':20, 'fontweight':5, 'color':'darkblue'})"
      ],
      "metadata": {
        "colab": {
          "base_uri": "https://localhost:8080/",
          "height": 0
        },
        "outputId": "8059d0c7-6ac9-4247-a68f-134ef874911c",
        "id": "cbWY-7pqD4Ko"
      },
      "execution_count": 54,
      "outputs": [
        {
          "output_type": "execute_result",
          "data": {
            "text/plain": [
              "Text(0.5, 1.0, 'Gender vs Hair')"
            ]
          },
          "metadata": {},
          "execution_count": 54
        },
        {
          "output_type": "display_data",
          "data": {
            "text/plain": [
              "<Figure size 432x288 with 1 Axes>"
            ],
            "image/png": "[encoded data removed]"
          },
          "metadata": {
            "needs_background": "light"
          }
        }
      ]
    },
    {
      "cell_type": "code",
      "source": [
        "alpha=0.05\n",
        "values=stats.chi2_contingency(ctab8)\n",
        "values"
      ],
      "metadata": {
        "colab": {
          "base_uri": "https://localhost:8080/"
        },
        "outputId": "ffc54577-97e1-435c-c91b-c57f59423ff0",
        "id": "gkrFHJiPD4Kp"
      },
      "execution_count": 55,
      "outputs": [
        {
          "output_type": "execute_result",
          "data": {
            "text/plain": [
              "(11.11111111111111, 0.0038659201394728067, 2, array([[ 4., 45.,  1.],\n",
              "        [ 4., 45.,  1.]]))"
            ]
          },
          "metadata": {},
          "execution_count": 55
        }
      ]
    },
    {
      "cell_type": "code",
      "source": [
        "p_value8=values[1]\n",
        "p_value8"
      ],
      "metadata": {
        "colab": {
          "base_uri": "https://localhost:8080/"
        },
        "outputId": "dff7fb57-4c03-404c-ea06-f72c78d75fab",
        "id": "6SZXd5a6D4Kq"
      },
      "execution_count": 56,
      "outputs": [
        {
          "output_type": "execute_result",
          "data": {
            "text/plain": [
              "0.0038659201394728067"
            ]
          },
          "metadata": {},
          "execution_count": 56
        }
      ]
    },
    {
      "cell_type": "code",
      "source": [
        "if p_value8 <= alpha:\n",
        "   print(\"Reject H0\")\n",
        "else:\n",
        "  print(\"Accept H0\")"
      ],
      "metadata": {
        "colab": {
          "base_uri": "https://localhost:8080/"
        },
        "outputId": "5c91c508-b8c0-4c35-c564-8ef3d58b22f7",
        "id": "h2G1D2kVD4Kr"
      },
      "execution_count": 57,
      "outputs": [
        {
          "output_type": "stream",
          "name": "stdout",
          "text": [
            "Reject H0\n"
          ]
        }
      ]
    },
    {
      "cell_type": "markdown",
      "source": [
        "### 9.Skin"
      ],
      "metadata": {
        "id": "ZbDxFKymEWmW"
      }
    },
    {
      "cell_type": "code",
      "source": [
        "ctab9=pd.crosstab(Nutrition['gender'],Nutrition['skin']) \n",
        "ctab9"
      ],
      "metadata": {
        "colab": {
          "base_uri": "https://localhost:8080/",
          "height": 0
        },
        "outputId": "5db93adf-203c-4510-e2df-bb72b1e737bc",
        "id": "EHYbUgZfEhoQ"
      },
      "execution_count": 58,
      "outputs": [
        {
          "output_type": "execute_result",
          "data": {
            "text/plain": [
              "skin    fair  normal\n",
              "gender              \n",
              "Female     0      50\n",
              "Male       9      41"
            ],
            "text/html": [
              "\n",
              "  <div id=\"df-28de979c-491d-45cb-835d-db888e9cfabe\">\n",
              "    <div class=\"colab-df-container\">\n",
              "      <div>\n",
              "<style scoped>\n",
              "    .dataframe tbody tr th:only-of-type {\n",
              "        vertical-align: middle;\n",
              "    }\n",
              "\n",
              "    .dataframe tbody tr th {\n",
              "        vertical-align: top;\n",
              "    }\n",
              "\n",
              "    .dataframe thead th {\n",
              "        text-align: right;\n",
              "    }\n",
              "</style>\n",
              "<table border=\"1\" class=\"dataframe\">\n",
              "  <thead>\n",
              "    <tr style=\"text-align: right;\">\n",
              "      <th>skin</th>\n",
              "      <th>fair</th>\n",
              "      <th>normal</th>\n",
              "    </tr>\n",
              "    <tr>\n",
              "      <th>gender</th>\n",
              "      <th></th>\n",
              "      <th></th>\n",
              "    </tr>\n",
              "  </thead>\n",
              "  <tbody>\n",
              "    <tr>\n",
              "      <th>Female</th>\n",
              "      <td>0</td>\n",
              "      <td>50</td>\n",
              "    </tr>\n",
              "    <tr>\n",
              "      <th>Male</th>\n",
              "      <td>9</td>\n",
              "      <td>41</td>\n",
              "    </tr>\n",
              "  </tbody>\n",
              "</table>\n",
              "</div>\n",
              "      <button class=\"colab-df-convert\" onclick=\"convertToInteractive('df-28de979c-491d-45cb-835d-db888e9cfabe')\"\n",
              "              title=\"Convert this dataframe to an interactive table.\"\n",
              "              style=\"display:none;\">\n",
              "        \n",
              "  <svg xmlns=\"http://www.w3.org/2000/svg\" height=\"24px\"viewBox=\"0 0 24 24\"\n",
              "       width=\"24px\">\n",
              "    <path d=\"M0 0h24v24H0V0z\" fill=\"none\"/>\n",
              "    <path d=\"M18.56 5.44l.94 2.06.94-2.06 2.06-.94-2.06-.94-.94-2.06-.94 2.06-2.06.94zm-11 1L8.5 8.5l.94-2.06 2.06-.94-2.06-.94L8.5 2.5l-.94 2.06-2.06.94zm10 10l.94 2.06.94-2.06 2.06-.94-2.06-.94-.94-2.06-.94 2.06-2.06.94z\"/><path d=\"M17.41 7.96l-1.37-1.37c-.4-.4-.92-.59-1.43-.59-.52 0-1.04.2-1.43.59L10.3 9.45l-7.72 7.72c-.78.78-.78 2.05 0 2.83L4 21.41c.39.39.9.59 1.41.59.51 0 1.02-.2 1.41-.59l7.78-7.78 2.81-2.81c.8-.78.8-2.07 0-2.86zM5.41 20L4 18.59l7.72-7.72 1.47 1.35L5.41 20z\"/>\n",
              "  </svg>\n",
              "      </button>\n",
              "      \n",
              "  <style>\n",
              "    .colab-df-container {\n",
              "      display:flex;\n",
              "      flex-wrap:wrap;\n",
              "      gap: 12px;\n",
              "    }\n",
              "\n",
              "    .colab-df-convert {\n",
              "      background-color: #E8F0FE;\n",
              "      border: none;\n",
              "      border-radius: 50%;\n",
              "      cursor: pointer;\n",
              "      display: none;\n",
              "      fill: #1967D2;\n",
              "      height: 32px;\n",
              "      padding: 0 0 0 0;\n",
              "      width: 32px;\n",
              "    }\n",
              "\n",
              "    .colab-df-convert:hover {\n",
              "      background-color: #E2EBFA;\n",
              "      box-shadow: 0px 1px 2px rgba(60, 64, 67, 0.3), 0px 1px 3px 1px rgba(60, 64, 67, 0.15);\n",
              "      fill: #174EA6;\n",
              "    }\n",
              "\n",
              "    [theme=dark] .colab-df-convert {\n",
              "      background-color: #3B4455;\n",
              "      fill: #D2E3FC;\n",
              "    }\n",
              "\n",
              "    [theme=dark] .colab-df-convert:hover {\n",
              "      background-color: #434B5C;\n",
              "      box-shadow: 0px 1px 3px 1px rgba(0, 0, 0, 0.15);\n",
              "      filter: drop-shadow(0px 1px 2px rgba(0, 0, 0, 0.3));\n",
              "      fill: #FFFFFF;\n",
              "    }\n",
              "  </style>\n",
              "\n",
              "      <script>\n",
              "        const buttonEl =\n",
              "          document.querySelector('#df-28de979c-491d-45cb-835d-db888e9cfabe button.colab-df-convert');\n",
              "        buttonEl.style.display =\n",
              "          google.colab.kernel.accessAllowed ? 'block' : 'none';\n",
              "\n",
              "        async function convertToInteractive(key) {\n",
              "          const element = document.querySelector('#df-28de979c-491d-45cb-835d-db888e9cfabe');\n",
              "          const dataTable =\n",
              "            await google.colab.kernel.invokeFunction('convertToInteractive',\n",
              "                                                     [key], {});\n",
              "          if (!dataTable) return;\n",
              "\n",
              "          const docLinkHtml = 'Like what you see? Visit the ' +\n",
              "            '<a target=\"_blank\" href=https://colab.research.google.com/notebooks/data_table.ipynb>data table notebook</a>'\n",
              "            + ' to learn more about interactive tables.';\n",
              "          element.innerHTML = '';\n",
              "          dataTable['output_type'] = 'display_data';\n",
              "          await google.colab.output.renderOutput(dataTable, element);\n",
              "          const docLink = document.createElement('div');\n",
              "          docLink.innerHTML = docLinkHtml;\n",
              "          element.appendChild(docLink);\n",
              "        }\n",
              "      </script>\n",
              "    </div>\n",
              "  </div>\n",
              "  "
            ]
          },
          "metadata": {},
          "execution_count": 58
        }
      ]
    },
    {
      "cell_type": "code",
      "source": [
        "ctab9.plot(kind='bar', cmap ='cividis')\n",
        "plt.title('Gender vs Skin', fontdict= {'fontsize':20, 'fontweight':5, 'color':'darkblue'})"
      ],
      "metadata": {
        "colab": {
          "base_uri": "https://localhost:8080/",
          "height": 0
        },
        "outputId": "e3520b41-1af3-45eb-cf9f-9be76697b2e2",
        "id": "Zbqs5h0zEhoS"
      },
      "execution_count": 59,
      "outputs": [
        {
          "output_type": "execute_result",
          "data": {
            "text/plain": [
              "Text(0.5, 1.0, 'Gender vs Skin')"
            ]
          },
          "metadata": {},
          "execution_count": 59
        },
        {
          "output_type": "display_data",
          "data": {
            "text/plain": [
              "<Figure size 432x288 with 1 Axes>"
            ],
            "image/png": "[encoded data removed]"
          },
          "metadata": {
            "needs_background": "light"
          }
        }
      ]
    },
    {
      "cell_type": "code",
      "source": [
        "alpha=0.05\n",
        "values=stats.chi2_contingency(ctab9)\n",
        "values"
      ],
      "metadata": {
        "colab": {
          "base_uri": "https://localhost:8080/"
        },
        "outputId": "b0c39ce0-03bc-443e-9ae0-b17ed3d24c98",
        "id": "YC7n8MPLEhoS"
      },
      "execution_count": 60,
      "outputs": [
        {
          "output_type": "execute_result",
          "data": {
            "text/plain": [
              "(7.814407814407814, 0.005183132922906616, 1, array([[ 4.5, 45.5],\n",
              "        [ 4.5, 45.5]]))"
            ]
          },
          "metadata": {},
          "execution_count": 60
        }
      ]
    },
    {
      "cell_type": "code",
      "source": [
        "p_value9=values[1]\n",
        "p_value9"
      ],
      "metadata": {
        "colab": {
          "base_uri": "https://localhost:8080/"
        },
        "outputId": "4c20faa6-1fd7-4ed7-a1aa-cc981d4c5be8",
        "id": "r0czBWybEhoT"
      },
      "execution_count": 61,
      "outputs": [
        {
          "output_type": "execute_result",
          "data": {
            "text/plain": [
              "0.005183132922906616"
            ]
          },
          "metadata": {},
          "execution_count": 61
        }
      ]
    },
    {
      "cell_type": "code",
      "source": [
        "if p_value9 <= alpha:\n",
        "   print(\"Reject H0\")\n",
        "else:\n",
        "  print(\"Accept H0\")"
      ],
      "metadata": {
        "colab": {
          "base_uri": "https://localhost:8080/"
        },
        "outputId": "15f95a00-c7e9-4a50-ee12-77a56f4c2185",
        "id": "G66iu8FnEhoT"
      },
      "execution_count": 62,
      "outputs": [
        {
          "output_type": "stream",
          "name": "stdout",
          "text": [
            "Reject H0\n"
          ]
        }
      ]
    },
    {
      "cell_type": "markdown",
      "source": [
        "### 10.Eyes"
      ],
      "metadata": {
        "id": "FWjdq4YYEbY1"
      }
    },
    {
      "cell_type": "code",
      "source": [
        "ctab10=pd.crosstab(Nutrition['gender'],Nutrition['eye']) \n",
        "ctab10"
      ],
      "metadata": {
        "colab": {
          "base_uri": "https://localhost:8080/",
          "height": 0
        },
        "outputId": "d2275e5b-a37c-4076-d0da-4a2c3a8c82b7",
        "id": "mKFOoiC1E8Gp"
      },
      "execution_count": 63,
      "outputs": [
        {
          "output_type": "execute_result",
          "data": {
            "text/plain": [
              "eye     normal\n",
              "gender        \n",
              "Female      50\n",
              "Male        50"
            ],
            "text/html": [
              "\n",
              "  <div id=\"df-8d0ae752-a3a4-4473-82bc-f3731d38bb40\">\n",
              "    <div class=\"colab-df-container\">\n",
              "      <div>\n",
              "<style scoped>\n",
              "    .dataframe tbody tr th:only-of-type {\n",
              "        vertical-align: middle;\n",
              "    }\n",
              "\n",
              "    .dataframe tbody tr th {\n",
              "        vertical-align: top;\n",
              "    }\n",
              "\n",
              "    .dataframe thead th {\n",
              "        text-align: right;\n",
              "    }\n",
              "</style>\n",
              "<table border=\"1\" class=\"dataframe\">\n",
              "  <thead>\n",
              "    <tr style=\"text-align: right;\">\n",
              "      <th>eye</th>\n",
              "      <th>normal</th>\n",
              "    </tr>\n",
              "    <tr>\n",
              "      <th>gender</th>\n",
              "      <th></th>\n",
              "    </tr>\n",
              "  </thead>\n",
              "  <tbody>\n",
              "    <tr>\n",
              "      <th>Female</th>\n",
              "      <td>50</td>\n",
              "    </tr>\n",
              "    <tr>\n",
              "      <th>Male</th>\n",
              "      <td>50</td>\n",
              "    </tr>\n",
              "  </tbody>\n",
              "</table>\n",
              "</div>\n",
              "      <button class=\"colab-df-convert\" onclick=\"convertToInteractive('df-8d0ae752-a3a4-4473-82bc-f3731d38bb40')\"\n",
              "              title=\"Convert this dataframe to an interactive table.\"\n",
              "              style=\"display:none;\">\n",
              "        \n",
              "  <svg xmlns=\"http://www.w3.org/2000/svg\" height=\"24px\"viewBox=\"0 0 24 24\"\n",
              "       width=\"24px\">\n",
              "    <path d=\"M0 0h24v24H0V0z\" fill=\"none\"/>\n",
              "    <path d=\"M18.56 5.44l.94 2.06.94-2.06 2.06-.94-2.06-.94-.94-2.06-.94 2.06-2.06.94zm-11 1L8.5 8.5l.94-2.06 2.06-.94-2.06-.94L8.5 2.5l-.94 2.06-2.06.94zm10 10l.94 2.06.94-2.06 2.06-.94-2.06-.94-.94-2.06-.94 2.06-2.06.94z\"/><path d=\"M17.41 7.96l-1.37-1.37c-.4-.4-.92-.59-1.43-.59-.52 0-1.04.2-1.43.59L10.3 9.45l-7.72 7.72c-.78.78-.78 2.05 0 2.83L4 21.41c.39.39.9.59 1.41.59.51 0 1.02-.2 1.41-.59l7.78-7.78 2.81-2.81c.8-.78.8-2.07 0-2.86zM5.41 20L4 18.59l7.72-7.72 1.47 1.35L5.41 20z\"/>\n",
              "  </svg>\n",
              "      </button>\n",
              "      \n",
              "  <style>\n",
              "    .colab-df-container {\n",
              "      display:flex;\n",
              "      flex-wrap:wrap;\n",
              "      gap: 12px;\n",
              "    }\n",
              "\n",
              "    .colab-df-convert {\n",
              "      background-color: #E8F0FE;\n",
              "      border: none;\n",
              "      border-radius: 50%;\n",
              "      cursor: pointer;\n",
              "      display: none;\n",
              "      fill: #1967D2;\n",
              "      height: 32px;\n",
              "      padding: 0 0 0 0;\n",
              "      width: 32px;\n",
              "    }\n",
              "\n",
              "    .colab-df-convert:hover {\n",
              "      background-color: #E2EBFA;\n",
              "      box-shadow: 0px 1px 2px rgba(60, 64, 67, 0.3), 0px 1px 3px 1px rgba(60, 64, 67, 0.15);\n",
              "      fill: #174EA6;\n",
              "    }\n",
              "\n",
              "    [theme=dark] .colab-df-convert {\n",
              "      background-color: #3B4455;\n",
              "      fill: #D2E3FC;\n",
              "    }\n",
              "\n",
              "    [theme=dark] .colab-df-convert:hover {\n",
              "      background-color: #434B5C;\n",
              "      box-shadow: 0px 1px 3px 1px rgba(0, 0, 0, 0.15);\n",
              "      filter: drop-shadow(0px 1px 2px rgba(0, 0, 0, 0.3));\n",
              "      fill: #FFFFFF;\n",
              "    }\n",
              "  </style>\n",
              "\n",
              "      <script>\n",
              "        const buttonEl =\n",
              "          document.querySelector('#df-8d0ae752-a3a4-4473-82bc-f3731d38bb40 button.colab-df-convert');\n",
              "        buttonEl.style.display =\n",
              "          google.colab.kernel.accessAllowed ? 'block' : 'none';\n",
              "\n",
              "        async function convertToInteractive(key) {\n",
              "          const element = document.querySelector('#df-8d0ae752-a3a4-4473-82bc-f3731d38bb40');\n",
              "          const dataTable =\n",
              "            await google.colab.kernel.invokeFunction('convertToInteractive',\n",
              "                                                     [key], {});\n",
              "          if (!dataTable) return;\n",
              "\n",
              "          const docLinkHtml = 'Like what you see? Visit the ' +\n",
              "            '<a target=\"_blank\" href=https://colab.research.google.com/notebooks/data_table.ipynb>data table notebook</a>'\n",
              "            + ' to learn more about interactive tables.';\n",
              "          element.innerHTML = '';\n",
              "          dataTable['output_type'] = 'display_data';\n",
              "          await google.colab.output.renderOutput(dataTable, element);\n",
              "          const docLink = document.createElement('div');\n",
              "          docLink.innerHTML = docLinkHtml;\n",
              "          element.appendChild(docLink);\n",
              "        }\n",
              "      </script>\n",
              "    </div>\n",
              "  </div>\n",
              "  "
            ]
          },
          "metadata": {},
          "execution_count": 63
        }
      ]
    },
    {
      "cell_type": "code",
      "source": [
        "ctab10.plot(kind='bar', cmap ='cividis')\n",
        "plt.title('Gender vs Eyes', fontdict= {'fontsize':20, 'fontweight':5, 'color':'darkblue'})"
      ],
      "metadata": {
        "colab": {
          "base_uri": "https://localhost:8080/",
          "height": 0
        },
        "outputId": "6de9999d-7231-4a96-9c2c-c87001cb5227",
        "id": "Hj0o_vRSE8Gr"
      },
      "execution_count": 64,
      "outputs": [
        {
          "output_type": "execute_result",
          "data": {
            "text/plain": [
              "Text(0.5, 1.0, 'Gender vs Eyes')"
            ]
          },
          "metadata": {},
          "execution_count": 64
        },
        {
          "output_type": "display_data",
          "data": {
            "text/plain": [
              "<Figure size 432x288 with 1 Axes>"
            ],
            "image/png": "[encoded data removed]"
          },
          "metadata": {
            "needs_background": "light"
          }
        }
      ]
    },
    {
      "cell_type": "code",
      "source": [
        "alpha=0.05\n",
        "values=stats.chi2_contingency(ctab10)\n",
        "values"
      ],
      "metadata": {
        "colab": {
          "base_uri": "https://localhost:8080/"
        },
        "outputId": "0b4e7fe6-4cb8-4a25-ac1c-06124c1ac890",
        "id": "6PC68GzaE8Gs"
      },
      "execution_count": 65,
      "outputs": [
        {
          "output_type": "execute_result",
          "data": {
            "text/plain": [
              "(0.0, 1.0, 0, array([[50.],\n",
              "        [50.]]))"
            ]
          },
          "metadata": {},
          "execution_count": 65
        }
      ]
    },
    {
      "cell_type": "code",
      "source": [
        "p_value10=values[1]\n",
        "p_value10"
      ],
      "metadata": {
        "colab": {
          "base_uri": "https://localhost:8080/"
        },
        "outputId": "5ea8b492-ddd3-4505-d5ee-c5a6b739bbfd",
        "id": "Q8ZIpuuVE8Gt"
      },
      "execution_count": 66,
      "outputs": [
        {
          "output_type": "execute_result",
          "data": {
            "text/plain": [
              "1.0"
            ]
          },
          "metadata": {},
          "execution_count": 66
        }
      ]
    },
    {
      "cell_type": "code",
      "source": [
        "if p_value10 <= alpha:\n",
        "   print(\"Reject H0\")\n",
        "else:\n",
        "  print(\"Accept H0\")"
      ],
      "metadata": {
        "colab": {
          "base_uri": "https://localhost:8080/"
        },
        "outputId": "cb246fb9-3bbb-4f4b-f712-906bf729638d",
        "id": "0-FVcO1EE8Gu"
      },
      "execution_count": 67,
      "outputs": [
        {
          "output_type": "stream",
          "name": "stdout",
          "text": [
            "Accept H0\n"
          ]
        }
      ]
    },
    {
      "cell_type": "markdown",
      "source": [
        "###11. Tongue"
      ],
      "metadata": {
        "id": "Il_trXqcuiDc"
      }
    },
    {
      "cell_type": "code",
      "source": [
        "ctab11=pd.crosstab(Nutrition['gender'],Nutrition['tongue']) \n",
        "ctab11"
      ],
      "metadata": {
        "colab": {
          "base_uri": "https://localhost:8080/",
          "height": 0
        },
        "outputId": "d5dd145c-1363-4c22-b49a-3299649e8843",
        "id": "OmiSuueFROPM"
      },
      "execution_count": 68,
      "outputs": [
        {
          "output_type": "execute_result",
          "data": {
            "text/plain": [
              "tongue  normal\n",
              "gender        \n",
              "Female      50\n",
              "Male        50"
            ],
            "text/html": [
              "\n",
              "  <div id=\"df-67af8381-cb97-489d-a2f2-cf6a8382a7b5\">\n",
              "    <div class=\"colab-df-container\">\n",
              "      <div>\n",
              "<style scoped>\n",
              "    .dataframe tbody tr th:only-of-type {\n",
              "        vertical-align: middle;\n",
              "    }\n",
              "\n",
              "    .dataframe tbody tr th {\n",
              "        vertical-align: top;\n",
              "    }\n",
              "\n",
              "    .dataframe thead th {\n",
              "        text-align: right;\n",
              "    }\n",
              "</style>\n",
              "<table border=\"1\" class=\"dataframe\">\n",
              "  <thead>\n",
              "    <tr style=\"text-align: right;\">\n",
              "      <th>tongue</th>\n",
              "      <th>normal</th>\n",
              "    </tr>\n",
              "    <tr>\n",
              "      <th>gender</th>\n",
              "      <th></th>\n",
              "    </tr>\n",
              "  </thead>\n",
              "  <tbody>\n",
              "    <tr>\n",
              "      <th>Female</th>\n",
              "      <td>50</td>\n",
              "    </tr>\n",
              "    <tr>\n",
              "      <th>Male</th>\n",
              "      <td>50</td>\n",
              "    </tr>\n",
              "  </tbody>\n",
              "</table>\n",
              "</div>\n",
              "      <button class=\"colab-df-convert\" onclick=\"convertToInteractive('df-67af8381-cb97-489d-a2f2-cf6a8382a7b5')\"\n",
              "              title=\"Convert this dataframe to an interactive table.\"\n",
              "              style=\"display:none;\">\n",
              "        \n",
              "  <svg xmlns=\"http://www.w3.org/2000/svg\" height=\"24px\"viewBox=\"0 0 24 24\"\n",
              "       width=\"24px\">\n",
              "    <path d=\"M0 0h24v24H0V0z\" fill=\"none\"/>\n",
              "    <path d=\"M18.56 5.44l.94 2.06.94-2.06 2.06-.94-2.06-.94-.94-2.06-.94 2.06-2.06.94zm-11 1L8.5 8.5l.94-2.06 2.06-.94-2.06-.94L8.5 2.5l-.94 2.06-2.06.94zm10 10l.94 2.06.94-2.06 2.06-.94-2.06-.94-.94-2.06-.94 2.06-2.06.94z\"/><path d=\"M17.41 7.96l-1.37-1.37c-.4-.4-.92-.59-1.43-.59-.52 0-1.04.2-1.43.59L10.3 9.45l-7.72 7.72c-.78.78-.78 2.05 0 2.83L4 21.41c.39.39.9.59 1.41.59.51 0 1.02-.2 1.41-.59l7.78-7.78 2.81-2.81c.8-.78.8-2.07 0-2.86zM5.41 20L4 18.59l7.72-7.72 1.47 1.35L5.41 20z\"/>\n",
              "  </svg>\n",
              "      </button>\n",
              "      \n",
              "  <style>\n",
              "    .colab-df-container {\n",
              "      display:flex;\n",
              "      flex-wrap:wrap;\n",
              "      gap: 12px;\n",
              "    }\n",
              "\n",
              "    .colab-df-convert {\n",
              "      background-color: #E8F0FE;\n",
              "      border: none;\n",
              "      border-radius: 50%;\n",
              "      cursor: pointer;\n",
              "      display: none;\n",
              "      fill: #1967D2;\n",
              "      height: 32px;\n",
              "      padding: 0 0 0 0;\n",
              "      width: 32px;\n",
              "    }\n",
              "\n",
              "    .colab-df-convert:hover {\n",
              "      background-color: #E2EBFA;\n",
              "      box-shadow: 0px 1px 2px rgba(60, 64, 67, 0.3), 0px 1px 3px 1px rgba(60, 64, 67, 0.15);\n",
              "      fill: #174EA6;\n",
              "    }\n",
              "\n",
              "    [theme=dark] .colab-df-convert {\n",
              "      background-color: #3B4455;\n",
              "      fill: #D2E3FC;\n",
              "    }\n",
              "\n",
              "    [theme=dark] .colab-df-convert:hover {\n",
              "      background-color: #434B5C;\n",
              "      box-shadow: 0px 1px 3px 1px rgba(0, 0, 0, 0.15);\n",
              "      filter: drop-shadow(0px 1px 2px rgba(0, 0, 0, 0.3));\n",
              "      fill: #FFFFFF;\n",
              "    }\n",
              "  </style>\n",
              "\n",
              "      <script>\n",
              "        const buttonEl =\n",
              "          document.querySelector('#df-67af8381-cb97-489d-a2f2-cf6a8382a7b5 button.colab-df-convert');\n",
              "        buttonEl.style.display =\n",
              "          google.colab.kernel.accessAllowed ? 'block' : 'none';\n",
              "\n",
              "        async function convertToInteractive(key) {\n",
              "          const element = document.querySelector('#df-67af8381-cb97-489d-a2f2-cf6a8382a7b5');\n",
              "          const dataTable =\n",
              "            await google.colab.kernel.invokeFunction('convertToInteractive',\n",
              "                                                     [key], {});\n",
              "          if (!dataTable) return;\n",
              "\n",
              "          const docLinkHtml = 'Like what you see? Visit the ' +\n",
              "            '<a target=\"_blank\" href=https://colab.research.google.com/notebooks/data_table.ipynb>data table notebook</a>'\n",
              "            + ' to learn more about interactive tables.';\n",
              "          element.innerHTML = '';\n",
              "          dataTable['output_type'] = 'display_data';\n",
              "          await google.colab.output.renderOutput(dataTable, element);\n",
              "          const docLink = document.createElement('div');\n",
              "          docLink.innerHTML = docLinkHtml;\n",
              "          element.appendChild(docLink);\n",
              "        }\n",
              "      </script>\n",
              "    </div>\n",
              "  </div>\n",
              "  "
            ]
          },
          "metadata": {},
          "execution_count": 68
        }
      ]
    },
    {
      "cell_type": "code",
      "source": [
        "ctab11.plot(kind='bar', cmap ='cividis')\n",
        "plt.title('Gender vs Tongue', fontdict= {'fontsize':20, 'fontweight':5, 'color':'darkblue'})"
      ],
      "metadata": {
        "colab": {
          "base_uri": "https://localhost:8080/",
          "height": 0
        },
        "outputId": "68a2953c-48c9-4522-f286-a5d239235fb5",
        "id": "Vi7yT1xbROPN"
      },
      "execution_count": 69,
      "outputs": [
        {
          "output_type": "execute_result",
          "data": {
            "text/plain": [
              "Text(0.5, 1.0, 'Gender vs Tongue')"
            ]
          },
          "metadata": {},
          "execution_count": 69
        },
        {
          "output_type": "display_data",
          "data": {
            "text/plain": [
              "<Figure size 432x288 with 1 Axes>"
            ],
            "image/png": "[encoded data removed]"
          },
          "metadata": {
            "needs_background": "light"
          }
        }
      ]
    },
    {
      "cell_type": "code",
      "source": [
        "alpha=0.05\n",
        "values=stats.chi2_contingency(ctab11)\n",
        "values"
      ],
      "metadata": {
        "colab": {
          "base_uri": "https://localhost:8080/"
        },
        "outputId": "445c1b78-f8e8-4fea-f1e3-f90f0cdd3a12",
        "id": "vfHg_1YGROPO"
      },
      "execution_count": 70,
      "outputs": [
        {
          "output_type": "execute_result",
          "data": {
            "text/plain": [
              "(0.0, 1.0, 0, array([[50.],\n",
              "        [50.]]))"
            ]
          },
          "metadata": {},
          "execution_count": 70
        }
      ]
    },
    {
      "cell_type": "code",
      "source": [
        "p_value11=values[1]\n",
        "p_value11"
      ],
      "metadata": {
        "colab": {
          "base_uri": "https://localhost:8080/"
        },
        "outputId": "ca53aafd-6430-46bc-e5ce-6bc9ed0130a6",
        "id": "dnWWv4jrROPO"
      },
      "execution_count": 71,
      "outputs": [
        {
          "output_type": "execute_result",
          "data": {
            "text/plain": [
              "1.0"
            ]
          },
          "metadata": {},
          "execution_count": 71
        }
      ]
    },
    {
      "cell_type": "code",
      "source": [
        "if p_value11 <= alpha:\n",
        "   print(\"Reject H0\")\n",
        "else:\n",
        "  print(\"Accept H0\")"
      ],
      "metadata": {
        "colab": {
          "base_uri": "https://localhost:8080/"
        },
        "outputId": "945e4257-eb96-4d26-d206-94db6ea633df",
        "id": "65x8gzKDROPP"
      },
      "execution_count": 72,
      "outputs": [
        {
          "output_type": "stream",
          "name": "stdout",
          "text": [
            "Accept H0\n"
          ]
        }
      ]
    },
    {
      "cell_type": "markdown",
      "source": [
        "###12. Teeth"
      ],
      "metadata": {
        "id": "sYNkSQATRFIe"
      }
    },
    {
      "cell_type": "code",
      "source": [
        "ctab12=pd.crosstab(Nutrition['gender'],Nutrition['teeth']) \n",
        "ctab12"
      ],
      "metadata": {
        "colab": {
          "base_uri": "https://localhost:8080/",
          "height": 0
        },
        "outputId": "b09991b6-4fc0-4315-ff00-4e0f75c158bb",
        "id": "m8Td0NlCRwYO"
      },
      "execution_count": 73,
      "outputs": [
        {
          "output_type": "execute_result",
          "data": {
            "text/plain": [
              "teeth   normal\n",
              "gender        \n",
              "Female      50\n",
              "Male        50"
            ],
            "text/html": [
              "\n",
              "  <div id=\"df-23273492-a62f-4cde-a978-47a90293c36e\">\n",
              "    <div class=\"colab-df-container\">\n",
              "      <div>\n",
              "<style scoped>\n",
              "    .dataframe tbody tr th:only-of-type {\n",
              "        vertical-align: middle;\n",
              "    }\n",
              "\n",
              "    .dataframe tbody tr th {\n",
              "        vertical-align: top;\n",
              "    }\n",
              "\n",
              "    .dataframe thead th {\n",
              "        text-align: right;\n",
              "    }\n",
              "</style>\n",
              "<table border=\"1\" class=\"dataframe\">\n",
              "  <thead>\n",
              "    <tr style=\"text-align: right;\">\n",
              "      <th>teeth</th>\n",
              "      <th>normal</th>\n",
              "    </tr>\n",
              "    <tr>\n",
              "      <th>gender</th>\n",
              "      <th></th>\n",
              "    </tr>\n",
              "  </thead>\n",
              "  <tbody>\n",
              "    <tr>\n",
              "      <th>Female</th>\n",
              "      <td>50</td>\n",
              "    </tr>\n",
              "    <tr>\n",
              "      <th>Male</th>\n",
              "      <td>50</td>\n",
              "    </tr>\n",
              "  </tbody>\n",
              "</table>\n",
              "</div>\n",
              "      <button class=\"colab-df-convert\" onclick=\"convertToInteractive('df-23273492-a62f-4cde-a978-47a90293c36e')\"\n",
              "              title=\"Convert this dataframe to an interactive table.\"\n",
              "              style=\"display:none;\">\n",
              "        \n",
              "  <svg xmlns=\"http://www.w3.org/2000/svg\" height=\"24px\"viewBox=\"0 0 24 24\"\n",
              "       width=\"24px\">\n",
              "    <path d=\"M0 0h24v24H0V0z\" fill=\"none\"/>\n",
              "    <path d=\"M18.56 5.44l.94 2.06.94-2.06 2.06-.94-2.06-.94-.94-2.06-.94 2.06-2.06.94zm-11 1L8.5 8.5l.94-2.06 2.06-.94-2.06-.94L8.5 2.5l-.94 2.06-2.06.94zm10 10l.94 2.06.94-2.06 2.06-.94-2.06-.94-.94-2.06-.94 2.06-2.06.94z\"/><path d=\"M17.41 7.96l-1.37-1.37c-.4-.4-.92-.59-1.43-.59-.52 0-1.04.2-1.43.59L10.3 9.45l-7.72 7.72c-.78.78-.78 2.05 0 2.83L4 21.41c.39.39.9.59 1.41.59.51 0 1.02-.2 1.41-.59l7.78-7.78 2.81-2.81c.8-.78.8-2.07 0-2.86zM5.41 20L4 18.59l7.72-7.72 1.47 1.35L5.41 20z\"/>\n",
              "  </svg>\n",
              "      </button>\n",
              "      \n",
              "  <style>\n",
              "    .colab-df-container {\n",
              "      display:flex;\n",
              "      flex-wrap:wrap;\n",
              "      gap: 12px;\n",
              "    }\n",
              "\n",
              "    .colab-df-convert {\n",
              "      background-color: #E8F0FE;\n",
              "      border: none;\n",
              "      border-radius: 50%;\n",
              "      cursor: pointer;\n",
              "      display: none;\n",
              "      fill: #1967D2;\n",
              "      height: 32px;\n",
              "      padding: 0 0 0 0;\n",
              "      width: 32px;\n",
              "    }\n",
              "\n",
              "    .colab-df-convert:hover {\n",
              "      background-color: #E2EBFA;\n",
              "      box-shadow: 0px 1px 2px rgba(60, 64, 67, 0.3), 0px 1px 3px 1px rgba(60, 64, 67, 0.15);\n",
              "      fill: #174EA6;\n",
              "    }\n",
              "\n",
              "    [theme=dark] .colab-df-convert {\n",
              "      background-color: #3B4455;\n",
              "      fill: #D2E3FC;\n",
              "    }\n",
              "\n",
              "    [theme=dark] .colab-df-convert:hover {\n",
              "      background-color: #434B5C;\n",
              "      box-shadow: 0px 1px 3px 1px rgba(0, 0, 0, 0.15);\n",
              "      filter: drop-shadow(0px 1px 2px rgba(0, 0, 0, 0.3));\n",
              "      fill: #FFFFFF;\n",
              "    }\n",
              "  </style>\n",
              "\n",
              "      <script>\n",
              "        const buttonEl =\n",
              "          document.querySelector('#df-23273492-a62f-4cde-a978-47a90293c36e button.colab-df-convert');\n",
              "        buttonEl.style.display =\n",
              "          google.colab.kernel.accessAllowed ? 'block' : 'none';\n",
              "\n",
              "        async function convertToInteractive(key) {\n",
              "          const element = document.querySelector('#df-23273492-a62f-4cde-a978-47a90293c36e');\n",
              "          const dataTable =\n",
              "            await google.colab.kernel.invokeFunction('convertToInteractive',\n",
              "                                                     [key], {});\n",
              "          if (!dataTable) return;\n",
              "\n",
              "          const docLinkHtml = 'Like what you see? Visit the ' +\n",
              "            '<a target=\"_blank\" href=https://colab.research.google.com/notebooks/data_table.ipynb>data table notebook</a>'\n",
              "            + ' to learn more about interactive tables.';\n",
              "          element.innerHTML = '';\n",
              "          dataTable['output_type'] = 'display_data';\n",
              "          await google.colab.output.renderOutput(dataTable, element);\n",
              "          const docLink = document.createElement('div');\n",
              "          docLink.innerHTML = docLinkHtml;\n",
              "          element.appendChild(docLink);\n",
              "        }\n",
              "      </script>\n",
              "    </div>\n",
              "  </div>\n",
              "  "
            ]
          },
          "metadata": {},
          "execution_count": 73
        }
      ]
    },
    {
      "cell_type": "code",
      "source": [
        "ctab12.plot(kind='bar', cmap ='cividis')\n",
        "plt.title('Gender vs Teeth', fontdict= {'fontsize':20, 'fontweight':5, 'color':'darkblue'})"
      ],
      "metadata": {
        "colab": {
          "base_uri": "https://localhost:8080/",
          "height": 0
        },
        "outputId": "53f01cfc-1505-47e1-9423-11b4e0ddedee",
        "id": "okwLdLnaRwYQ"
      },
      "execution_count": 74,
      "outputs": [
        {
          "output_type": "execute_result",
          "data": {
            "text/plain": [
              "Text(0.5, 1.0, 'Gender vs Teeth')"
            ]
          },
          "metadata": {},
          "execution_count": 74
        },
        {
          "output_type": "display_data",
          "data": {
            "text/plain": [
              "<Figure size 432x288 with 1 Axes>"
            ],
            "image/png": "[encoded data removed]"
          },
          "metadata": {
            "needs_background": "light"
          }
        }
      ]
    },
    {
      "cell_type": "code",
      "source": [
        "alpha=0.05\n",
        "values=stats.chi2_contingency(ctab12)\n",
        "values"
      ],
      "metadata": {
        "colab": {
          "base_uri": "https://localhost:8080/"
        },
        "outputId": "fda67aff-dfa8-4aca-dc0b-1e268b129ffc",
        "id": "G8rQghKDRwYQ"
      },
      "execution_count": 75,
      "outputs": [
        {
          "output_type": "execute_result",
          "data": {
            "text/plain": [
              "(0.0, 1.0, 0, array([[50.],\n",
              "        [50.]]))"
            ]
          },
          "metadata": {},
          "execution_count": 75
        }
      ]
    },
    {
      "cell_type": "code",
      "source": [
        "p_value12=values[1]\n",
        "p_value12"
      ],
      "metadata": {
        "colab": {
          "base_uri": "https://localhost:8080/"
        },
        "outputId": "ed9f3318-6c30-4997-fd65-2c670a99de9e",
        "id": "RmqWn9NbRwYR"
      },
      "execution_count": 76,
      "outputs": [
        {
          "output_type": "execute_result",
          "data": {
            "text/plain": [
              "1.0"
            ]
          },
          "metadata": {},
          "execution_count": 76
        }
      ]
    },
    {
      "cell_type": "code",
      "source": [
        "if p_value12 <= alpha:\n",
        "   print(\"Reject H0\")\n",
        "else:\n",
        "  print(\"Accept H0\")"
      ],
      "metadata": {
        "colab": {
          "base_uri": "https://localhost:8080/"
        },
        "outputId": "0d522a36-d39b-487f-93b3-cf235762f823",
        "id": "emoK5tJeRwYR"
      },
      "execution_count": 77,
      "outputs": [
        {
          "output_type": "stream",
          "name": "stdout",
          "text": [
            "Accept H0\n"
          ]
        }
      ]
    },
    {
      "cell_type": "markdown",
      "source": [
        "###13. Nail"
      ],
      "metadata": {
        "id": "Qxl9JyFPRHNB"
      }
    },
    {
      "cell_type": "code",
      "source": [
        "ctab13=pd.crosstab(Nutrition['gender'],Nutrition['nail']) \n",
        "ctab13"
      ],
      "metadata": {
        "colab": {
          "base_uri": "https://localhost:8080/",
          "height": 0
        },
        "outputId": "7ed66a1b-1daf-44d7-e96d-f6f2d7a1267e",
        "id": "XHicngGkSDzR"
      },
      "execution_count": 78,
      "outputs": [
        {
          "output_type": "execute_result",
          "data": {
            "text/plain": [
              "nail    normal\n",
              "gender        \n",
              "Female      50\n",
              "Male        50"
            ],
            "text/html": [
              "\n",
              "  <div id=\"df-1ecc26b1-53e5-41bf-865a-c5858644bb96\">\n",
              "    <div class=\"colab-df-container\">\n",
              "      <div>\n",
              "<style scoped>\n",
              "    .dataframe tbody tr th:only-of-type {\n",
              "        vertical-align: middle;\n",
              "    }\n",
              "\n",
              "    .dataframe tbody tr th {\n",
              "        vertical-align: top;\n",
              "    }\n",
              "\n",
              "    .dataframe thead th {\n",
              "        text-align: right;\n",
              "    }\n",
              "</style>\n",
              "<table border=\"1\" class=\"dataframe\">\n",
              "  <thead>\n",
              "    <tr style=\"text-align: right;\">\n",
              "      <th>nail</th>\n",
              "      <th>normal</th>\n",
              "    </tr>\n",
              "    <tr>\n",
              "      <th>gender</th>\n",
              "      <th></th>\n",
              "    </tr>\n",
              "  </thead>\n",
              "  <tbody>\n",
              "    <tr>\n",
              "      <th>Female</th>\n",
              "      <td>50</td>\n",
              "    </tr>\n",
              "    <tr>\n",
              "      <th>Male</th>\n",
              "      <td>50</td>\n",
              "    </tr>\n",
              "  </tbody>\n",
              "</table>\n",
              "</div>\n",
              "      <button class=\"colab-df-convert\" onclick=\"convertToInteractive('df-1ecc26b1-53e5-41bf-865a-c5858644bb96')\"\n",
              "              title=\"Convert this dataframe to an interactive table.\"\n",
              "              style=\"display:none;\">\n",
              "        \n",
              "  <svg xmlns=\"http://www.w3.org/2000/svg\" height=\"24px\"viewBox=\"0 0 24 24\"\n",
              "       width=\"24px\">\n",
              "    <path d=\"M0 0h24v24H0V0z\" fill=\"none\"/>\n",
              "    <path d=\"M18.56 5.44l.94 2.06.94-2.06 2.06-.94-2.06-.94-.94-2.06-.94 2.06-2.06.94zm-11 1L8.5 8.5l.94-2.06 2.06-.94-2.06-.94L8.5 2.5l-.94 2.06-2.06.94zm10 10l.94 2.06.94-2.06 2.06-.94-2.06-.94-.94-2.06-.94 2.06-2.06.94z\"/><path d=\"M17.41 7.96l-1.37-1.37c-.4-.4-.92-.59-1.43-.59-.52 0-1.04.2-1.43.59L10.3 9.45l-7.72 7.72c-.78.78-.78 2.05 0 2.83L4 21.41c.39.39.9.59 1.41.59.51 0 1.02-.2 1.41-.59l7.78-7.78 2.81-2.81c.8-.78.8-2.07 0-2.86zM5.41 20L4 18.59l7.72-7.72 1.47 1.35L5.41 20z\"/>\n",
              "  </svg>\n",
              "      </button>\n",
              "      \n",
              "  <style>\n",
              "    .colab-df-container {\n",
              "      display:flex;\n",
              "      flex-wrap:wrap;\n",
              "      gap: 12px;\n",
              "    }\n",
              "\n",
              "    .colab-df-convert {\n",
              "      background-color: #E8F0FE;\n",
              "      border: none;\n",
              "      border-radius: 50%;\n",
              "      cursor: pointer;\n",
              "      display: none;\n",
              "      fill: #1967D2;\n",
              "      height: 32px;\n",
              "      padding: 0 0 0 0;\n",
              "      width: 32px;\n",
              "    }\n",
              "\n",
              "    .colab-df-convert:hover {\n",
              "      background-color: #E2EBFA;\n",
              "      box-shadow: 0px 1px 2px rgba(60, 64, 67, 0.3), 0px 1px 3px 1px rgba(60, 64, 67, 0.15);\n",
              "      fill: #174EA6;\n",
              "    }\n",
              "\n",
              "    [theme=dark] .colab-df-convert {\n",
              "      background-color: #3B4455;\n",
              "      fill: #D2E3FC;\n",
              "    }\n",
              "\n",
              "    [theme=dark] .colab-df-convert:hover {\n",
              "      background-color: #434B5C;\n",
              "      box-shadow: 0px 1px 3px 1px rgba(0, 0, 0, 0.15);\n",
              "      filter: drop-shadow(0px 1px 2px rgba(0, 0, 0, 0.3));\n",
              "      fill: #FFFFFF;\n",
              "    }\n",
              "  </style>\n",
              "\n",
              "      <script>\n",
              "        const buttonEl =\n",
              "          document.querySelector('#df-1ecc26b1-53e5-41bf-865a-c5858644bb96 button.colab-df-convert');\n",
              "        buttonEl.style.display =\n",
              "          google.colab.kernel.accessAllowed ? 'block' : 'none';\n",
              "\n",
              "        async function convertToInteractive(key) {\n",
              "          const element = document.querySelector('#df-1ecc26b1-53e5-41bf-865a-c5858644bb96');\n",
              "          const dataTable =\n",
              "            await google.colab.kernel.invokeFunction('convertToInteractive',\n",
              "                                                     [key], {});\n",
              "          if (!dataTable) return;\n",
              "\n",
              "          const docLinkHtml = 'Like what you see? Visit the ' +\n",
              "            '<a target=\"_blank\" href=https://colab.research.google.com/notebooks/data_table.ipynb>data table notebook</a>'\n",
              "            + ' to learn more about interactive tables.';\n",
              "          element.innerHTML = '';\n",
              "          dataTable['output_type'] = 'display_data';\n",
              "          await google.colab.output.renderOutput(dataTable, element);\n",
              "          const docLink = document.createElement('div');\n",
              "          docLink.innerHTML = docLinkHtml;\n",
              "          element.appendChild(docLink);\n",
              "        }\n",
              "      </script>\n",
              "    </div>\n",
              "  </div>\n",
              "  "
            ]
          },
          "metadata": {},
          "execution_count": 78
        }
      ]
    },
    {
      "cell_type": "code",
      "source": [
        "ctab13.plot(kind='bar', cmap ='cividis')\n",
        "plt.title('Gender vs Nail', fontdict= {'fontsize':20, 'fontweight':5, 'color':'darkblue'})"
      ],
      "metadata": {
        "colab": {
          "base_uri": "https://localhost:8080/",
          "height": 0
        },
        "outputId": "e9c58373-08e7-481b-ab41-fc8d50bf2155",
        "id": "_MlJ_qi2SDzS"
      },
      "execution_count": 79,
      "outputs": [
        {
          "output_type": "execute_result",
          "data": {
            "text/plain": [
              "Text(0.5, 1.0, 'Gender vs Nail')"
            ]
          },
          "metadata": {},
          "execution_count": 79
        },
        {
          "output_type": "display_data",
          "data": {
            "text/plain": [
              "<Figure size 432x288 with 1 Axes>"
            ],
            "image/png": "[encoded data removed]"
          },
          "metadata": {
            "needs_background": "light"
          }
        }
      ]
    },
    {
      "cell_type": "code",
      "source": [
        "alpha=0.05\n",
        "values=stats.chi2_contingency(ctab13)\n",
        "values"
      ],
      "metadata": {
        "colab": {
          "base_uri": "https://localhost:8080/"
        },
        "outputId": "33c3d7db-003b-4998-9acd-86a971997446",
        "id": "WiQthBi2SDzS"
      },
      "execution_count": 80,
      "outputs": [
        {
          "output_type": "execute_result",
          "data": {
            "text/plain": [
              "(0.0, 1.0, 0, array([[50.],\n",
              "        [50.]]))"
            ]
          },
          "metadata": {},
          "execution_count": 80
        }
      ]
    },
    {
      "cell_type": "code",
      "source": [
        "p_value13=values[1]\n",
        "p_value13"
      ],
      "metadata": {
        "colab": {
          "base_uri": "https://localhost:8080/"
        },
        "outputId": "b94bdaf9-91d1-4666-ed93-cdf2872fdba4",
        "id": "e3mGbSJ2SDzS"
      },
      "execution_count": 81,
      "outputs": [
        {
          "output_type": "execute_result",
          "data": {
            "text/plain": [
              "1.0"
            ]
          },
          "metadata": {},
          "execution_count": 81
        }
      ]
    },
    {
      "cell_type": "code",
      "source": [
        "if p_value13 <= alpha:\n",
        "   print(\"Reject H0\")\n",
        "else:\n",
        "  print(\"Accept H0\")"
      ],
      "metadata": {
        "colab": {
          "base_uri": "https://localhost:8080/"
        },
        "outputId": "1a8233e9-8d5a-417f-a2a2-9730cf068d92",
        "id": "VPmhZOQ2SDzT"
      },
      "execution_count": 82,
      "outputs": [
        {
          "output_type": "stream",
          "name": "stdout",
          "text": [
            "Accept H0\n"
          ]
        }
      ]
    },
    {
      "cell_type": "markdown",
      "source": [
        "### 14. Weight loss"
      ],
      "metadata": {
        "id": "kLtS44LeSTNp"
      }
    },
    {
      "cell_type": "code",
      "source": [
        "ctab14=pd.crosstab(Nutrition['gender'],Nutrition['weight lose']) \n",
        "ctab14"
      ],
      "metadata": {
        "colab": {
          "base_uri": "https://localhost:8080/",
          "height": 0
        },
        "outputId": "f7649bf9-e777-4c2a-a60f-0b1b3e066196",
        "id": "WTT_gIpjTN08"
      },
      "execution_count": 83,
      "outputs": [
        {
          "output_type": "execute_result",
          "data": {
            "text/plain": [
              "weight lose  no  yes\n",
              "gender              \n",
              "Female        7   43\n",
              "Male          6   44"
            ],
            "text/html": [
              "\n",
              "  <div id=\"df-4227619e-f442-4566-acc2-e465218708e9\">\n",
              "    <div class=\"colab-df-container\">\n",
              "      <div>\n",
              "<style scoped>\n",
              "    .dataframe tbody tr th:only-of-type {\n",
              "        vertical-align: middle;\n",
              "    }\n",
              "\n",
              "    .dataframe tbody tr th {\n",
              "        vertical-align: top;\n",
              "    }\n",
              "\n",
              "    .dataframe thead th {\n",
              "        text-align: right;\n",
              "    }\n",
              "</style>\n",
              "<table border=\"1\" class=\"dataframe\">\n",
              "  <thead>\n",
              "    <tr style=\"text-align: right;\">\n",
              "      <th>weight lose</th>\n",
              "      <th>no</th>\n",
              "      <th>yes</th>\n",
              "    </tr>\n",
              "    <tr>\n",
              "      <th>gender</th>\n",
              "      <th></th>\n",
              "      <th></th>\n",
              "    </tr>\n",
              "  </thead>\n",
              "  <tbody>\n",
              "    <tr>\n",
              "      <th>Female</th>\n",
              "      <td>7</td>\n",
              "      <td>43</td>\n",
              "    </tr>\n",
              "    <tr>\n",
              "      <th>Male</th>\n",
              "      <td>6</td>\n",
              "      <td>44</td>\n",
              "    </tr>\n",
              "  </tbody>\n",
              "</table>\n",
              "</div>\n",
              "      <button class=\"colab-df-convert\" onclick=\"convertToInteractive('df-4227619e-f442-4566-acc2-e465218708e9')\"\n",
              "              title=\"Convert this dataframe to an interactive table.\"\n",
              "              style=\"display:none;\">\n",
              "        \n",
              "  <svg xmlns=\"http://www.w3.org/2000/svg\" height=\"24px\"viewBox=\"0 0 24 24\"\n",
              "       width=\"24px\">\n",
              "    <path d=\"M0 0h24v24H0V0z\" fill=\"none\"/>\n",
              "    <path d=\"M18.56 5.44l.94 2.06.94-2.06 2.06-.94-2.06-.94-.94-2.06-.94 2.06-2.06.94zm-11 1L8.5 8.5l.94-2.06 2.06-.94-2.06-.94L8.5 2.5l-.94 2.06-2.06.94zm10 10l.94 2.06.94-2.06 2.06-.94-2.06-.94-.94-2.06-.94 2.06-2.06.94z\"/><path d=\"M17.41 7.96l-1.37-1.37c-.4-.4-.92-.59-1.43-.59-.52 0-1.04.2-1.43.59L10.3 9.45l-7.72 7.72c-.78.78-.78 2.05 0 2.83L4 21.41c.39.39.9.59 1.41.59.51 0 1.02-.2 1.41-.59l7.78-7.78 2.81-2.81c.8-.78.8-2.07 0-2.86zM5.41 20L4 18.59l7.72-7.72 1.47 1.35L5.41 20z\"/>\n",
              "  </svg>\n",
              "      </button>\n",
              "      \n",
              "  <style>\n",
              "    .colab-df-container {\n",
              "      display:flex;\n",
              "      flex-wrap:wrap;\n",
              "      gap: 12px;\n",
              "    }\n",
              "\n",
              "    .colab-df-convert {\n",
              "      background-color: #E8F0FE;\n",
              "      border: none;\n",
              "      border-radius: 50%;\n",
              "      cursor: pointer;\n",
              "      display: none;\n",
              "      fill: #1967D2;\n",
              "      height: 32px;\n",
              "      padding: 0 0 0 0;\n",
              "      width: 32px;\n",
              "    }\n",
              "\n",
              "    .colab-df-convert:hover {\n",
              "      background-color: #E2EBFA;\n",
              "      box-shadow: 0px 1px 2px rgba(60, 64, 67, 0.3), 0px 1px 3px 1px rgba(60, 64, 67, 0.15);\n",
              "      fill: #174EA6;\n",
              "    }\n",
              "\n",
              "    [theme=dark] .colab-df-convert {\n",
              "      background-color: #3B4455;\n",
              "      fill: #D2E3FC;\n",
              "    }\n",
              "\n",
              "    [theme=dark] .colab-df-convert:hover {\n",
              "      background-color: #434B5C;\n",
              "      box-shadow: 0px 1px 3px 1px rgba(0, 0, 0, 0.15);\n",
              "      filter: drop-shadow(0px 1px 2px rgba(0, 0, 0, 0.3));\n",
              "      fill: #FFFFFF;\n",
              "    }\n",
              "  </style>\n",
              "\n",
              "      <script>\n",
              "        const buttonEl =\n",
              "          document.querySelector('#df-4227619e-f442-4566-acc2-e465218708e9 button.colab-df-convert');\n",
              "        buttonEl.style.display =\n",
              "          google.colab.kernel.accessAllowed ? 'block' : 'none';\n",
              "\n",
              "        async function convertToInteractive(key) {\n",
              "          const element = document.querySelector('#df-4227619e-f442-4566-acc2-e465218708e9');\n",
              "          const dataTable =\n",
              "            await google.colab.kernel.invokeFunction('convertToInteractive',\n",
              "                                                     [key], {});\n",
              "          if (!dataTable) return;\n",
              "\n",
              "          const docLinkHtml = 'Like what you see? Visit the ' +\n",
              "            '<a target=\"_blank\" href=https://colab.research.google.com/notebooks/data_table.ipynb>data table notebook</a>'\n",
              "            + ' to learn more about interactive tables.';\n",
              "          element.innerHTML = '';\n",
              "          dataTable['output_type'] = 'display_data';\n",
              "          await google.colab.output.renderOutput(dataTable, element);\n",
              "          const docLink = document.createElement('div');\n",
              "          docLink.innerHTML = docLinkHtml;\n",
              "          element.appendChild(docLink);\n",
              "        }\n",
              "      </script>\n",
              "    </div>\n",
              "  </div>\n",
              "  "
            ]
          },
          "metadata": {},
          "execution_count": 83
        }
      ]
    },
    {
      "cell_type": "code",
      "source": [
        "ctab14.plot(kind='bar', cmap ='cividis')\n",
        "plt.title('Gender vs weight lose', fontdict= {'fontsize':20, 'fontweight':5, 'color':'darkblue'})"
      ],
      "metadata": {
        "colab": {
          "base_uri": "https://localhost:8080/",
          "height": 0
        },
        "outputId": "711008ae-5634-4194-bc46-898384340994",
        "id": "buCExTccTN09"
      },
      "execution_count": 84,
      "outputs": [
        {
          "output_type": "execute_result",
          "data": {
            "text/plain": [
              "Text(0.5, 1.0, 'Gender vs weight lose')"
            ]
          },
          "metadata": {},
          "execution_count": 84
        },
        {
          "output_type": "display_data",
          "data": {
            "text/plain": [
              "<Figure size 432x288 with 1 Axes>"
            ],
            "image/png": "[encoded data removed]"
          },
          "metadata": {
            "needs_background": "light"
          }
        }
      ]
    },
    {
      "cell_type": "code",
      "source": [
        "alpha=0.05\n",
        "values=stats.chi2_contingency(ctab14)\n",
        "values"
      ],
      "metadata": {
        "colab": {
          "base_uri": "https://localhost:8080/"
        },
        "outputId": "7bfd4849-9b35-4805-82f6-ab5c0f0efd8d",
        "id": "lqixXBm6TN0-"
      },
      "execution_count": 85,
      "outputs": [
        {
          "output_type": "execute_result",
          "data": {
            "text/plain": [
              "(0.0, 1.0, 1, array([[ 6.5, 43.5],\n",
              "        [ 6.5, 43.5]]))"
            ]
          },
          "metadata": {},
          "execution_count": 85
        }
      ]
    },
    {
      "cell_type": "code",
      "source": [
        "p_value14=values[1]\n",
        "p_value14"
      ],
      "metadata": {
        "colab": {
          "base_uri": "https://localhost:8080/"
        },
        "outputId": "0dc634c7-1960-4c2b-e3f9-7e7e8869d731",
        "id": "xu3U9n2dTN0-"
      },
      "execution_count": 86,
      "outputs": [
        {
          "output_type": "execute_result",
          "data": {
            "text/plain": [
              "1.0"
            ]
          },
          "metadata": {},
          "execution_count": 86
        }
      ]
    },
    {
      "cell_type": "code",
      "source": [
        "if p_value14 <= alpha:\n",
        "   print(\"Reject H0\")\n",
        "else:\n",
        "  print(\"Accept H0\")"
      ],
      "metadata": {
        "colab": {
          "base_uri": "https://localhost:8080/"
        },
        "outputId": "a17a709e-b0e0-4c8e-875b-8e9ea01cca61",
        "id": "crc4lJEwTN0_"
      },
      "execution_count": 87,
      "outputs": [
        {
          "output_type": "stream",
          "name": "stdout",
          "text": [
            "Accept H0\n"
          ]
        }
      ]
    },
    {
      "cell_type": "markdown",
      "source": [
        "### 15. post covid symtoms"
      ],
      "metadata": {
        "id": "v5H0q4rUTDC-"
      }
    },
    {
      "cell_type": "code",
      "source": [
        "ctab15=pd.crosstab(Nutrition['gender'],Nutrition['post covid symptoms']) \n",
        "ctab15"
      ],
      "metadata": {
        "colab": {
          "base_uri": "https://localhost:8080/",
          "height": 0
        },
        "outputId": "14f23eed-378b-4bcd-faa4-2d17b701d7dd",
        "id": "bsNuICl_TzkT"
      },
      "execution_count": 88,
      "outputs": [
        {
          "output_type": "execute_result",
          "data": {
            "text/plain": [
              "post covid symptoms  yes\n",
              "gender                  \n",
              "Female                50\n",
              "Male                  50"
            ],
            "text/html": [
              "\n",
              "  <div id=\"df-2bb459e0-0cd4-45c5-bb9d-88071edf1807\">\n",
              "    <div class=\"colab-df-container\">\n",
              "      <div>\n",
              "<style scoped>\n",
              "    .dataframe tbody tr th:only-of-type {\n",
              "        vertical-align: middle;\n",
              "    }\n",
              "\n",
              "    .dataframe tbody tr th {\n",
              "        vertical-align: top;\n",
              "    }\n",
              "\n",
              "    .dataframe thead th {\n",
              "        text-align: right;\n",
              "    }\n",
              "</style>\n",
              "<table border=\"1\" class=\"dataframe\">\n",
              "  <thead>\n",
              "    <tr style=\"text-align: right;\">\n",
              "      <th>post covid symptoms</th>\n",
              "      <th>yes</th>\n",
              "    </tr>\n",
              "    <tr>\n",
              "      <th>gender</th>\n",
              "      <th></th>\n",
              "    </tr>\n",
              "  </thead>\n",
              "  <tbody>\n",
              "    <tr>\n",
              "      <th>Female</th>\n",
              "      <td>50</td>\n",
              "    </tr>\n",
              "    <tr>\n",
              "      <th>Male</th>\n",
              "      <td>50</td>\n",
              "    </tr>\n",
              "  </tbody>\n",
              "</table>\n",
              "</div>\n",
              "      <button class=\"colab-df-convert\" onclick=\"convertToInteractive('df-2bb459e0-0cd4-45c5-bb9d-88071edf1807')\"\n",
              "              title=\"Convert this dataframe to an interactive table.\"\n",
              "              style=\"display:none;\">\n",
              "        \n",
              "  <svg xmlns=\"http://www.w3.org/2000/svg\" height=\"24px\"viewBox=\"0 0 24 24\"\n",
              "       width=\"24px\">\n",
              "    <path d=\"M0 0h24v24H0V0z\" fill=\"none\"/>\n",
              "    <path d=\"M18.56 5.44l.94 2.06.94-2.06 2.06-.94-2.06-.94-.94-2.06-.94 2.06-2.06.94zm-11 1L8.5 8.5l.94-2.06 2.06-.94-2.06-.94L8.5 2.5l-.94 2.06-2.06.94zm10 10l.94 2.06.94-2.06 2.06-.94-2.06-.94-.94-2.06-.94 2.06-2.06.94z\"/><path d=\"M17.41 7.96l-1.37-1.37c-.4-.4-.92-.59-1.43-.59-.52 0-1.04.2-1.43.59L10.3 9.45l-7.72 7.72c-.78.78-.78 2.05 0 2.83L4 21.41c.39.39.9.59 1.41.59.51 0 1.02-.2 1.41-.59l7.78-7.78 2.81-2.81c.8-.78.8-2.07 0-2.86zM5.41 20L4 18.59l7.72-7.72 1.47 1.35L5.41 20z\"/>\n",
              "  </svg>\n",
              "      </button>\n",
              "      \n",
              "  <style>\n",
              "    .colab-df-container {\n",
              "      display:flex;\n",
              "      flex-wrap:wrap;\n",
              "      gap: 12px;\n",
              "    }\n",
              "\n",
              "    .colab-df-convert {\n",
              "      background-color: #E8F0FE;\n",
              "      border: none;\n",
              "      border-radius: 50%;\n",
              "      cursor: pointer;\n",
              "      display: none;\n",
              "      fill: #1967D2;\n",
              "      height: 32px;\n",
              "      padding: 0 0 0 0;\n",
              "      width: 32px;\n",
              "    }\n",
              "\n",
              "    .colab-df-convert:hover {\n",
              "      background-color: #E2EBFA;\n",
              "      box-shadow: 0px 1px 2px rgba(60, 64, 67, 0.3), 0px 1px 3px 1px rgba(60, 64, 67, 0.15);\n",
              "      fill: #174EA6;\n",
              "    }\n",
              "\n",
              "    [theme=dark] .colab-df-convert {\n",
              "      background-color: #3B4455;\n",
              "      fill: #D2E3FC;\n",
              "    }\n",
              "\n",
              "    [theme=dark] .colab-df-convert:hover {\n",
              "      background-color: #434B5C;\n",
              "      box-shadow: 0px 1px 3px 1px rgba(0, 0, 0, 0.15);\n",
              "      filter: drop-shadow(0px 1px 2px rgba(0, 0, 0, 0.3));\n",
              "      fill: #FFFFFF;\n",
              "    }\n",
              "  </style>\n",
              "\n",
              "      <script>\n",
              "        const buttonEl =\n",
              "          document.querySelector('#df-2bb459e0-0cd4-45c5-bb9d-88071edf1807 button.colab-df-convert');\n",
              "        buttonEl.style.display =\n",
              "          google.colab.kernel.accessAllowed ? 'block' : 'none';\n",
              "\n",
              "        async function convertToInteractive(key) {\n",
              "          const element = document.querySelector('#df-2bb459e0-0cd4-45c5-bb9d-88071edf1807');\n",
              "          const dataTable =\n",
              "            await google.colab.kernel.invokeFunction('convertToInteractive',\n",
              "                                                     [key], {});\n",
              "          if (!dataTable) return;\n",
              "\n",
              "          const docLinkHtml = 'Like what you see? Visit the ' +\n",
              "            '<a target=\"_blank\" href=https://colab.research.google.com/notebooks/data_table.ipynb>data table notebook</a>'\n",
              "            + ' to learn more about interactive tables.';\n",
              "          element.innerHTML = '';\n",
              "          dataTable['output_type'] = 'display_data';\n",
              "          await google.colab.output.renderOutput(dataTable, element);\n",
              "          const docLink = document.createElement('div');\n",
              "          docLink.innerHTML = docLinkHtml;\n",
              "          element.appendChild(docLink);\n",
              "        }\n",
              "      </script>\n",
              "    </div>\n",
              "  </div>\n",
              "  "
            ]
          },
          "metadata": {},
          "execution_count": 88
        }
      ]
    },
    {
      "cell_type": "code",
      "source": [
        "ctab15.plot(kind='bar', cmap ='cividis')\n",
        "plt.title('Gender vs post covid symptoms', fontdict= {'fontsize':20, 'fontweight':5, 'color':'darkblue'})"
      ],
      "metadata": {
        "colab": {
          "base_uri": "https://localhost:8080/",
          "height": 0
        },
        "outputId": "c6281006-737b-4ea0-f2cb-bae054848802",
        "id": "yPqlusAgTzkU"
      },
      "execution_count": 89,
      "outputs": [
        {
          "output_type": "execute_result",
          "data": {
            "text/plain": [
              "Text(0.5, 1.0, 'Gender vs post covid symptoms')"
            ]
          },
          "metadata": {},
          "execution_count": 89
        },
        {
          "output_type": "display_data",
          "data": {
            "text/plain": [
              "<Figure size 432x288 with 1 Axes>"
            ],
            "image/png": "[encoded data removed]"
          },
          "metadata": {
            "needs_background": "light"
          }
        }
      ]
    },
    {
      "cell_type": "code",
      "source": [
        "alpha=0.05\n",
        "values=stats.chi2_contingency(ctab15)\n",
        "values"
      ],
      "metadata": {
        "colab": {
          "base_uri": "https://localhost:8080/"
        },
        "outputId": "afda08df-40f2-4c52-bf13-5b074d3ef893",
        "id": "7aXyBNjUTzkV"
      },
      "execution_count": 90,
      "outputs": [
        {
          "output_type": "execute_result",
          "data": {
            "text/plain": [
              "(0.0, 1.0, 0, array([[50.],\n",
              "        [50.]]))"
            ]
          },
          "metadata": {},
          "execution_count": 90
        }
      ]
    },
    {
      "cell_type": "code",
      "source": [
        "p_value15=values[1]\n",
        "p_value15"
      ],
      "metadata": {
        "colab": {
          "base_uri": "https://localhost:8080/"
        },
        "outputId": "693d6cf7-ed5e-43eb-c47d-1b047aa18ab3",
        "id": "y9518-iuTzkV"
      },
      "execution_count": 91,
      "outputs": [
        {
          "output_type": "execute_result",
          "data": {
            "text/plain": [
              "1.0"
            ]
          },
          "metadata": {},
          "execution_count": 91
        }
      ]
    },
    {
      "cell_type": "code",
      "source": [
        "if p_value15 <= alpha:\n",
        "   print(\"Reject H0\")\n",
        "else:\n",
        "  print(\"Accept H0\")"
      ],
      "metadata": {
        "colab": {
          "base_uri": "https://localhost:8080/"
        },
        "outputId": "4f8a07ef-d978-4d6c-9bc7-444ea2eb7e13",
        "id": "vh1GrpQJTzkV"
      },
      "execution_count": 92,
      "outputs": [
        {
          "output_type": "stream",
          "name": "stdout",
          "text": [
            "Accept H0\n"
          ]
        }
      ]
    },
    {
      "cell_type": "markdown",
      "source": [
        "## Frequency table"
      ],
      "metadata": {
        "id": "5j-ITomnf--l"
      }
    },
    {
      "cell_type": "markdown",
      "source": [
        "![image.png](data:image/png;base64,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)"
      ],
      "metadata": {
        "id": "NSBjsn0sUUUd"
      }
    },
    {
      "cell_type": "code",
      "source": [
        "ctab16=pd.crosstab(Nutrition['gender'],Nutrition['frequency table- cereals & millets']) \n",
        "ctab16"
      ],
      "metadata": {
        "colab": {
          "base_uri": "https://localhost:8080/",
          "height": 0
        },
        "outputId": "7bab4c29-8ce0-450f-c47c-7b15e5bf2040",
        "id": "6bg3pQM4Uocv"
      },
      "execution_count": 93,
      "outputs": [
        {
          "output_type": "execute_result",
          "data": {
            "text/plain": [
              "frequency table- cereals & millets  daily\n",
              "gender                                   \n",
              "Female                                 50\n",
              "Male                                   50"
            ],
            "text/html": [
              "\n",
              "  <div id=\"df-7acf6fe0-7e40-4e8c-9520-49de4d4a2339\">\n",
              "    <div class=\"colab-df-container\">\n",
              "      <div>\n",
              "<style scoped>\n",
              "    .dataframe tbody tr th:only-of-type {\n",
              "        vertical-align: middle;\n",
              "    }\n",
              "\n",
              "    .dataframe tbody tr th {\n",
              "        vertical-align: top;\n",
              "    }\n",
              "\n",
              "    .dataframe thead th {\n",
              "        text-align: right;\n",
              "    }\n",
              "</style>\n",
              "<table border=\"1\" class=\"dataframe\">\n",
              "  <thead>\n",
              "    <tr style=\"text-align: right;\">\n",
              "      <th>frequency table- cereals &amp; millets</th>\n",
              "      <th>daily</th>\n",
              "    </tr>\n",
              "    <tr>\n",
              "      <th>gender</th>\n",
              "      <th></th>\n",
              "    </tr>\n",
              "  </thead>\n",
              "  <tbody>\n",
              "    <tr>\n",
              "      <th>Female</th>\n",
              "      <td>50</td>\n",
              "    </tr>\n",
              "    <tr>\n",
              "      <th>Male</th>\n",
              "      <td>50</td>\n",
              "    </tr>\n",
              "  </tbody>\n",
              "</table>\n",
              "</div>\n",
              "      <button class=\"colab-df-convert\" onclick=\"convertToInteractive('df-7acf6fe0-7e40-4e8c-9520-49de4d4a2339')\"\n",
              "              title=\"Convert this dataframe to an interactive table.\"\n",
              "              style=\"display:none;\">\n",
              "        \n",
              "  <svg xmlns=\"http://www.w3.org/2000/svg\" height=\"24px\"viewBox=\"0 0 24 24\"\n",
              "       width=\"24px\">\n",
              "    <path d=\"M0 0h24v24H0V0z\" fill=\"none\"/>\n",
              "    <path d=\"M18.56 5.44l.94 2.06.94-2.06 2.06-.94-2.06-.94-.94-2.06-.94 2.06-2.06.94zm-11 1L8.5 8.5l.94-2.06 2.06-.94-2.06-.94L8.5 2.5l-.94 2.06-2.06.94zm10 10l.94 2.06.94-2.06 2.06-.94-2.06-.94-.94-2.06-.94 2.06-2.06.94z\"/><path d=\"M17.41 7.96l-1.37-1.37c-.4-.4-.92-.59-1.43-.59-.52 0-1.04.2-1.43.59L10.3 9.45l-7.72 7.72c-.78.78-.78 2.05 0 2.83L4 21.41c.39.39.9.59 1.41.59.51 0 1.02-.2 1.41-.59l7.78-7.78 2.81-2.81c.8-.78.8-2.07 0-2.86zM5.41 20L4 18.59l7.72-7.72 1.47 1.35L5.41 20z\"/>\n",
              "  </svg>\n",
              "      </button>\n",
              "      \n",
              "  <style>\n",
              "    .colab-df-container {\n",
              "      display:flex;\n",
              "      flex-wrap:wrap;\n",
              "      gap: 12px;\n",
              "    }\n",
              "\n",
              "    .colab-df-convert {\n",
              "      background-color: #E8F0FE;\n",
              "      border: none;\n",
              "      border-radius: 50%;\n",
              "      cursor: pointer;\n",
              "      display: none;\n",
              "      fill: #1967D2;\n",
              "      height: 32px;\n",
              "      padding: 0 0 0 0;\n",
              "      width: 32px;\n",
              "    }\n",
              "\n",
              "    .colab-df-convert:hover {\n",
              "      background-color: #E2EBFA;\n",
              "      box-shadow: 0px 1px 2px rgba(60, 64, 67, 0.3), 0px 1px 3px 1px rgba(60, 64, 67, 0.15);\n",
              "      fill: #174EA6;\n",
              "    }\n",
              "\n",
              "    [theme=dark] .colab-df-convert {\n",
              "      background-color: #3B4455;\n",
              "      fill: #D2E3FC;\n",
              "    }\n",
              "\n",
              "    [theme=dark] .colab-df-convert:hover {\n",
              "      background-color: #434B5C;\n",
              "      box-shadow: 0px 1px 3px 1px rgba(0, 0, 0, 0.15);\n",
              "      filter: drop-shadow(0px 1px 2px rgba(0, 0, 0, 0.3));\n",
              "      fill: #FFFFFF;\n",
              "    }\n",
              "  </style>\n",
              "\n",
              "      <script>\n",
              "        const buttonEl =\n",
              "          document.querySelector('#df-7acf6fe0-7e40-4e8c-9520-49de4d4a2339 button.colab-df-convert');\n",
              "        buttonEl.style.display =\n",
              "          google.colab.kernel.accessAllowed ? 'block' : 'none';\n",
              "\n",
              "        async function convertToInteractive(key) {\n",
              "          const element = document.querySelector('#df-7acf6fe0-7e40-4e8c-9520-49de4d4a2339');\n",
              "          const dataTable =\n",
              "            await google.colab.kernel.invokeFunction('convertToInteractive',\n",
              "                                                     [key], {});\n",
              "          if (!dataTable) return;\n",
              "\n",
              "          const docLinkHtml = 'Like what you see? Visit the ' +\n",
              "            '<a target=\"_blank\" href=https://colab.research.google.com/notebooks/data_table.ipynb>data table notebook</a>'\n",
              "            + ' to learn more about interactive tables.';\n",
              "          element.innerHTML = '';\n",
              "          dataTable['output_type'] = 'display_data';\n",
              "          await google.colab.output.renderOutput(dataTable, element);\n",
              "          const docLink = document.createElement('div');\n",
              "          docLink.innerHTML = docLinkHtml;\n",
              "          element.appendChild(docLink);\n",
              "        }\n",
              "      </script>\n",
              "    </div>\n",
              "  </div>\n",
              "  "
            ]
          },
          "metadata": {},
          "execution_count": 93
        }
      ]
    },
    {
      "cell_type": "code",
      "source": [
        "ctab16.plot(kind='bar', cmap ='cividis')\n",
        "plt.title('Gender vs frequency table- cereals & millets', fontdict= {'fontsize':20, 'fontweight':5, 'color':'darkblue'})"
      ],
      "metadata": {
        "colab": {
          "base_uri": "https://localhost:8080/",
          "height": 0
        },
        "outputId": "ad5d63fe-6bb0-4679-d6c9-81fff1d70d99",
        "id": "XGFlWbE0Uocw"
      },
      "execution_count": 94,
      "outputs": [
        {
          "output_type": "execute_result",
          "data": {
            "text/plain": [
              "Text(0.5, 1.0, 'Gender vs frequency table- cereals & millets')"
            ]
          },
          "metadata": {},
          "execution_count": 94
        },
        {
          "output_type": "display_data",
          "data": {
            "text/plain": [
              "<Figure size 432x288 with 1 Axes>"
            ],
            "image/png": "[encoded data removed]"
          },
          "metadata": {
            "needs_background": "light"
          }
        }
      ]
    },
    {
      "cell_type": "markdown",
      "source": [
        "![image.png](data:image/png;base64,iVBORw0KGgoAAAANSUhEUgAAAPMAAAAeCAYAAAD5LChjAAAFNElEQVR4nO2dMXajPBCAP/63R8EudnMCcQKTJlXa7UQZN9ttmW4bXJoubao0EScwJ2BTBO6ivwAcwDIBJ7ET73zvqYHxaMRokDRjP3t5nlsEQfjyfAP48ePHqe0QBOEN/P37l/9ObYQgCO+DBLMgnAkSzIJwJkgwC8KZIMEsCGeCBLMgnAmnCeY0wvM8glV5ku5HUaasogDP87YtCFakU03+CmMVzgJZmZ2kRLOQZQJKxxhjiLUiy5aEs4j01OYJgoNvpzbgM1KubkkAFd+xufEBWCwWzPEIk4SHdM1icVobBaGPrMwDXMz9U5sgCKORYHbgzy8ASB5aG+pyxW21XPNLVmXhE+IO5jTC8wJWJZRpRBC0kkBRyk4qp07yRDuHyZJV4OF5Y86ZJekqIugnnFxyUdCTixyJqbH6HCx+ESsguX15BrMlGRpzd8P7rNdjxwGUK6KWDzqteehTfdCSL9P2cwqIGiM6/QZEe5N4R/CJ8Dp5ntsdjLagrFLKAlYpbbXWVoEFLNo45LH9y9YWNlZY0NY45FVctC5VupWOrTHGmlhbpZRtibT0qa4c1bW27Dh9A9Q2Nk1pY8d+1KVHdToeP46tHUrbuCenY2NN0ZWb6gMaH2tttVat8aptv23fq50HeESfCHvJ89wOBLNjYllj9cCEOzyYazkVDwZMESt3P0VcTZ7tjXH6BnqycWti7+qZoN8RzOPH0QRA7/nVcqobKYcFc8+XjW07gdvY1hvz8XwiDJHnuR08M6v4jpvOnnLBr1gBGfePH1A3ze553FvILXm8z0BprmYlZdlqzLlQQP7cPQIM6ttHySqYsUwytCkwGsiWzHb3rwcyZRwlzzmgvjNrq/DnXADZU/Fma/o+9i+vUQDabDP59Q2uFZA98dLrsXwijGFyAqxJDr0vPjd3MVplLMMZXhAQrfpn84KnDMgSwtmMWaeFJNlUfW7K1U+WGai4YL3wWayL+vwcvpxPy0fuM+BifsD5edo45lXU0gnb9KEqnX3vhPj7UL8oxnEcnwjj+DzZbP+G9cZSmBhNRrIMmdVJuA4qxhQFhattWsmpsfo61CsNiuvLRpPPzaYb0OnjPRmgr96Q1h45jsWVBhLCIGKVplUCKUx6Np6YD/WJMJbJwVw+54C7Bps/v90r/qJxuAYyln+a7e2M7/U2D9/Hd7VJ+iZZ1QnosFq6DyxRTRlHyeo2AaXRJCzDkLD6Whqm2PSOQBXv4YPxnNInQp/BYM6WP3tvzZQ/y2rlcu3w+me4Zst6CP7iCt29wuW1AhJuXa/ysqQcmMe7+pxS1ba2nmBl797lb12dJwF4ojgobqaMo9rGqosr1huLtVXbbNYs9izK7+mD1zmGT4TRDGezaZWm1IjyRKuU0ZQrxmSzi9iqdmnDxFbX+rpZ0iabXpU34lq2yTxP1+fipQ9QVuteWU5pG28zvlUfg9lZZ2lq5Djaz7XdlLJKaRsbV7nrQB/0bdtNT7uz4kfxifAar5amVFzYIm5NZJTVZs/ULYyNVausobQ1xZ7SiqM0ZVovi23QOPsaIztFn3Mwjs9XY99qKEw9GfuTu8feoBlnY1X6qWvKpmpx6+XSCYQ3+WB7Y2Iwjx3LW30iDDEqmIUTMuQHR01a+Hd5tc4snJahZCPFExkfVJ4SviTyE8hPjH95jVpmJGFArq/5fTUH4PnhlvskAzS/XSlt4Z9Egvkz49+wKeZEP29JkiVh0txQKG0o1ot3+tGHcA54eZ5b+UcLQfjayD9aCMIZ8Q2qqBYE4WvzP3lDBrKcgrZ2AAAAAElFTkSuQmCC)"
      ],
      "metadata": {
        "id": "5EaRAjT8U2Dl"
      }
    },
    {
      "cell_type": "code",
      "source": [
        "ctab17=pd.crosstab(Nutrition['gender'],Nutrition['pulses & legumes']) \n",
        "ctab17"
      ],
      "metadata": {
        "colab": {
          "base_uri": "https://localhost:8080/",
          "height": 0
        },
        "outputId": "8fcdc39d-2bc5-4233-95fc-5247ef6c9bce",
        "id": "BAtkijQgU_QB"
      },
      "execution_count": 95,
      "outputs": [
        {
          "output_type": "execute_result",
          "data": {
            "text/plain": [
              "pulses & legumes  alternatively  occassionaly  once or twice in a week\n",
              "gender                                                                \n",
              "Female                       22             1                       27\n",
              "Male                         11            12                       27"
            ],
            "text/html": [
              "\n",
              "  <div id=\"df-9ff8b1fe-2a42-4d46-893e-3e2b55070504\">\n",
              "    <div class=\"colab-df-container\">\n",
              "      <div>\n",
              "<style scoped>\n",
              "    .dataframe tbody tr th:only-of-type {\n",
              "        vertical-align: middle;\n",
              "    }\n",
              "\n",
              "    .dataframe tbody tr th {\n",
              "        vertical-align: top;\n",
              "    }\n",
              "\n",
              "    .dataframe thead th {\n",
              "        text-align: right;\n",
              "    }\n",
              "</style>\n",
              "<table border=\"1\" class=\"dataframe\">\n",
              "  <thead>\n",
              "    <tr style=\"text-align: right;\">\n",
              "      <th>pulses &amp; legumes</th>\n",
              "      <th>alternatively</th>\n",
              "      <th>occassionaly</th>\n",
              "      <th>once or twice in a week</th>\n",
              "    </tr>\n",
              "    <tr>\n",
              "      <th>gender</th>\n",
              "      <th></th>\n",
              "      <th></th>\n",
              "      <th></th>\n",
              "    </tr>\n",
              "  </thead>\n",
              "  <tbody>\n",
              "    <tr>\n",
              "      <th>Female</th>\n",
              "      <td>22</td>\n",
              "      <td>1</td>\n",
              "      <td>27</td>\n",
              "    </tr>\n",
              "    <tr>\n",
              "      <th>Male</th>\n",
              "      <td>11</td>\n",
              "      <td>12</td>\n",
              "      <td>27</td>\n",
              "    </tr>\n",
              "  </tbody>\n",
              "</table>\n",
              "</div>\n",
              "      <button class=\"colab-df-convert\" onclick=\"convertToInteractive('df-9ff8b1fe-2a42-4d46-893e-3e2b55070504')\"\n",
              "              title=\"Convert this dataframe to an interactive table.\"\n",
              "              style=\"display:none;\">\n",
              "        \n",
              "  <svg xmlns=\"http://www.w3.org/2000/svg\" height=\"24px\"viewBox=\"0 0 24 24\"\n",
              "       width=\"24px\">\n",
              "    <path d=\"M0 0h24v24H0V0z\" fill=\"none\"/>\n",
              "    <path d=\"M18.56 5.44l.94 2.06.94-2.06 2.06-.94-2.06-.94-.94-2.06-.94 2.06-2.06.94zm-11 1L8.5 8.5l.94-2.06 2.06-.94-2.06-.94L8.5 2.5l-.94 2.06-2.06.94zm10 10l.94 2.06.94-2.06 2.06-.94-2.06-.94-.94-2.06-.94 2.06-2.06.94z\"/><path d=\"M17.41 7.96l-1.37-1.37c-.4-.4-.92-.59-1.43-.59-.52 0-1.04.2-1.43.59L10.3 9.45l-7.72 7.72c-.78.78-.78 2.05 0 2.83L4 21.41c.39.39.9.59 1.41.59.51 0 1.02-.2 1.41-.59l7.78-7.78 2.81-2.81c.8-.78.8-2.07 0-2.86zM5.41 20L4 18.59l7.72-7.72 1.47 1.35L5.41 20z\"/>\n",
              "  </svg>\n",
              "      </button>\n",
              "      \n",
              "  <style>\n",
              "    .colab-df-container {\n",
              "      display:flex;\n",
              "      flex-wrap:wrap;\n",
              "      gap: 12px;\n",
              "    }\n",
              "\n",
              "    .colab-df-convert {\n",
              "      background-color: #E8F0FE;\n",
              "      border: none;\n",
              "      border-radius: 50%;\n",
              "      cursor: pointer;\n",
              "      display: none;\n",
              "      fill: #1967D2;\n",
              "      height: 32px;\n",
              "      padding: 0 0 0 0;\n",
              "      width: 32px;\n",
              "    }\n",
              "\n",
              "    .colab-df-convert:hover {\n",
              "      background-color: #E2EBFA;\n",
              "      box-shadow: 0px 1px 2px rgba(60, 64, 67, 0.3), 0px 1px 3px 1px rgba(60, 64, 67, 0.15);\n",
              "      fill: #174EA6;\n",
              "    }\n",
              "\n",
              "    [theme=dark] .colab-df-convert {\n",
              "      background-color: #3B4455;\n",
              "      fill: #D2E3FC;\n",
              "    }\n",
              "\n",
              "    [theme=dark] .colab-df-convert:hover {\n",
              "      background-color: #434B5C;\n",
              "      box-shadow: 0px 1px 3px 1px rgba(0, 0, 0, 0.15);\n",
              "      filter: drop-shadow(0px 1px 2px rgba(0, 0, 0, 0.3));\n",
              "      fill: #FFFFFF;\n",
              "    }\n",
              "  </style>\n",
              "\n",
              "      <script>\n",
              "        const buttonEl =\n",
              "          document.querySelector('#df-9ff8b1fe-2a42-4d46-893e-3e2b55070504 button.colab-df-convert');\n",
              "        buttonEl.style.display =\n",
              "          google.colab.kernel.accessAllowed ? 'block' : 'none';\n",
              "\n",
              "        async function convertToInteractive(key) {\n",
              "          const element = document.querySelector('#df-9ff8b1fe-2a42-4d46-893e-3e2b55070504');\n",
              "          const dataTable =\n",
              "            await google.colab.kernel.invokeFunction('convertToInteractive',\n",
              "                                                     [key], {});\n",
              "          if (!dataTable) return;\n",
              "\n",
              "          const docLinkHtml = 'Like what you see? Visit the ' +\n",
              "            '<a target=\"_blank\" href=https://colab.research.google.com/notebooks/data_table.ipynb>data table notebook</a>'\n",
              "            + ' to learn more about interactive tables.';\n",
              "          element.innerHTML = '';\n",
              "          dataTable['output_type'] = 'display_data';\n",
              "          await google.colab.output.renderOutput(dataTable, element);\n",
              "          const docLink = document.createElement('div');\n",
              "          docLink.innerHTML = docLinkHtml;\n",
              "          element.appendChild(docLink);\n",
              "        }\n",
              "      </script>\n",
              "    </div>\n",
              "  </div>\n",
              "  "
            ]
          },
          "metadata": {},
          "execution_count": 95
        }
      ]
    },
    {
      "cell_type": "code",
      "source": [
        "ctab17.plot(kind='bar', cmap ='cividis')\n",
        "plt.title('Gender vs pulses & legumes', fontdict= {'fontsize':20, 'fontweight':5, 'color':'darkblue'})"
      ],
      "metadata": {
        "colab": {
          "base_uri": "https://localhost:8080/",
          "height": 0
        },
        "outputId": "0487548f-435c-4ba7-e05b-bdeb46319655",
        "id": "wtauyVOqU_QC"
      },
      "execution_count": 96,
      "outputs": [
        {
          "output_type": "execute_result",
          "data": {
            "text/plain": [
              "Text(0.5, 1.0, 'Gender vs pulses & legumes')"
            ]
          },
          "metadata": {},
          "execution_count": 96
        },
        {
          "output_type": "display_data",
          "data": {
            "text/plain": [
              "<Figure size 432x288 with 1 Axes>"
            ],
            "image/png": "[encoded data removed]"
          },
          "metadata": {
            "needs_background": "light"
          }
        }
      ]
    },
    {
      "cell_type": "code",
      "source": [
        "alpha=0.05\n",
        "values=stats.chi2_contingency(ctab17)\n",
        "values"
      ],
      "metadata": {
        "colab": {
          "base_uri": "https://localhost:8080/"
        },
        "outputId": "a248edc2-e137-479e-9e00-96b56011e549",
        "id": "A3r0_BAyVK_c"
      },
      "execution_count": 97,
      "outputs": [
        {
          "output_type": "execute_result",
          "data": {
            "text/plain": [
              "(12.974358974358974, 0.0015228381409474131, 2, array([[16.5,  6.5, 27. ],\n",
              "        [16.5,  6.5, 27. ]]))"
            ]
          },
          "metadata": {},
          "execution_count": 97
        }
      ]
    },
    {
      "cell_type": "code",
      "source": [
        "p_value17=values[1]\n",
        "p_value17"
      ],
      "metadata": {
        "colab": {
          "base_uri": "https://localhost:8080/"
        },
        "outputId": "a9db1cce-e824-4f25-a4b3-60fceef9d1ea",
        "id": "57BwEirfVK_d"
      },
      "execution_count": 98,
      "outputs": [
        {
          "output_type": "execute_result",
          "data": {
            "text/plain": [
              "0.0015228381409474131"
            ]
          },
          "metadata": {},
          "execution_count": 98
        }
      ]
    },
    {
      "cell_type": "code",
      "source": [
        "if p_value17 <= alpha:\n",
        "   print(\"Reject H0\")\n",
        "else:\n",
        "  print(\"Accept H0\")"
      ],
      "metadata": {
        "colab": {
          "base_uri": "https://localhost:8080/"
        },
        "outputId": "709d4cbd-7873-435f-d0c4-a758eac3076f",
        "id": "ZQlMYMm8VK_d"
      },
      "execution_count": 99,
      "outputs": [
        {
          "output_type": "stream",
          "name": "stdout",
          "text": [
            "Reject H0\n"
          ]
        }
      ]
    },
    {
      "cell_type": "markdown",
      "source": [
        "![image.png](data:image/png;base64,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)"
      ],
      "metadata": {
        "id": "CVqoa6i7VPwJ"
      }
    },
    {
      "cell_type": "code",
      "source": [
        "ctab18=pd.crosstab(Nutrition['gender'],Nutrition['green leafy vegetables']) \n",
        "ctab18"
      ],
      "metadata": {
        "colab": {
          "base_uri": "https://localhost:8080/",
          "height": 0
        },
        "outputId": "d57ab193-ab4b-4265-cdfe-e0048316f7e8",
        "id": "bzvxrU46VU12"
      },
      "execution_count": 100,
      "outputs": [
        {
          "output_type": "execute_result",
          "data": {
            "text/plain": [
              "green leafy vegetables  alternatively  occassionaly  once in two weeks  \\\n",
              "gender                                                                   \n",
              "Female                             19             7                  1   \n",
              "Male                               14             8                  2   \n",
              "\n",
              "green leafy vegetables  once or twice in a week  \n",
              "gender                                           \n",
              "Female                                       23  \n",
              "Male                                         26  "
            ],
            "text/html": [
              "\n",
              "  <div id=\"df-d2986dbc-454a-429d-99fd-18375d269078\">\n",
              "    <div class=\"colab-df-container\">\n",
              "      <div>\n",
              "<style scoped>\n",
              "    .dataframe tbody tr th:only-of-type {\n",
              "        vertical-align: middle;\n",
              "    }\n",
              "\n",
              "    .dataframe tbody tr th {\n",
              "        vertical-align: top;\n",
              "    }\n",
              "\n",
              "    .dataframe thead th {\n",
              "        text-align: right;\n",
              "    }\n",
              "</style>\n",
              "<table border=\"1\" class=\"dataframe\">\n",
              "  <thead>\n",
              "    <tr style=\"text-align: right;\">\n",
              "      <th>green leafy vegetables</th>\n",
              "      <th>alternatively</th>\n",
              "      <th>occassionaly</th>\n",
              "      <th>once in two weeks</th>\n",
              "      <th>once or twice in a week</th>\n",
              "    </tr>\n",
              "    <tr>\n",
              "      <th>gender</th>\n",
              "      <th></th>\n",
              "      <th></th>\n",
              "      <th></th>\n",
              "      <th></th>\n",
              "    </tr>\n",
              "  </thead>\n",
              "  <tbody>\n",
              "    <tr>\n",
              "      <th>Female</th>\n",
              "      <td>19</td>\n",
              "      <td>7</td>\n",
              "      <td>1</td>\n",
              "      <td>23</td>\n",
              "    </tr>\n",
              "    <tr>\n",
              "      <th>Male</th>\n",
              "      <td>14</td>\n",
              "      <td>8</td>\n",
              "      <td>2</td>\n",
              "      <td>26</td>\n",
              "    </tr>\n",
              "  </tbody>\n",
              "</table>\n",
              "</div>\n",
              "      <button class=\"colab-df-convert\" onclick=\"convertToInteractive('df-d2986dbc-454a-429d-99fd-18375d269078')\"\n",
              "              title=\"Convert this dataframe to an interactive table.\"\n",
              "              style=\"display:none;\">\n",
              "        \n",
              "  <svg xmlns=\"http://www.w3.org/2000/svg\" height=\"24px\"viewBox=\"0 0 24 24\"\n",
              "       width=\"24px\">\n",
              "    <path d=\"M0 0h24v24H0V0z\" fill=\"none\"/>\n",
              "    <path d=\"M18.56 5.44l.94 2.06.94-2.06 2.06-.94-2.06-.94-.94-2.06-.94 2.06-2.06.94zm-11 1L8.5 8.5l.94-2.06 2.06-.94-2.06-.94L8.5 2.5l-.94 2.06-2.06.94zm10 10l.94 2.06.94-2.06 2.06-.94-2.06-.94-.94-2.06-.94 2.06-2.06.94z\"/><path d=\"M17.41 7.96l-1.37-1.37c-.4-.4-.92-.59-1.43-.59-.52 0-1.04.2-1.43.59L10.3 9.45l-7.72 7.72c-.78.78-.78 2.05 0 2.83L4 21.41c.39.39.9.59 1.41.59.51 0 1.02-.2 1.41-.59l7.78-7.78 2.81-2.81c.8-.78.8-2.07 0-2.86zM5.41 20L4 18.59l7.72-7.72 1.47 1.35L5.41 20z\"/>\n",
              "  </svg>\n",
              "      </button>\n",
              "      \n",
              "  <style>\n",
              "    .colab-df-container {\n",
              "      display:flex;\n",
              "      flex-wrap:wrap;\n",
              "      gap: 12px;\n",
              "    }\n",
              "\n",
              "    .colab-df-convert {\n",
              "      background-color: #E8F0FE;\n",
              "      border: none;\n",
              "      border-radius: 50%;\n",
              "      cursor: pointer;\n",
              "      display: none;\n",
              "      fill: #1967D2;\n",
              "      height: 32px;\n",
              "      padding: 0 0 0 0;\n",
              "      width: 32px;\n",
              "    }\n",
              "\n",
              "    .colab-df-convert:hover {\n",
              "      background-color: #E2EBFA;\n",
              "      box-shadow: 0px 1px 2px rgba(60, 64, 67, 0.3), 0px 1px 3px 1px rgba(60, 64, 67, 0.15);\n",
              "      fill: #174EA6;\n",
              "    }\n",
              "\n",
              "    [theme=dark] .colab-df-convert {\n",
              "      background-color: #3B4455;\n",
              "      fill: #D2E3FC;\n",
              "    }\n",
              "\n",
              "    [theme=dark] .colab-df-convert:hover {\n",
              "      background-color: #434B5C;\n",
              "      box-shadow: 0px 1px 3px 1px rgba(0, 0, 0, 0.15);\n",
              "      filter: drop-shadow(0px 1px 2px rgba(0, 0, 0, 0.3));\n",
              "      fill: #FFFFFF;\n",
              "    }\n",
              "  </style>\n",
              "\n",
              "      <script>\n",
              "        const buttonEl =\n",
              "          document.querySelector('#df-d2986dbc-454a-429d-99fd-18375d269078 button.colab-df-convert');\n",
              "        buttonEl.style.display =\n",
              "          google.colab.kernel.accessAllowed ? 'block' : 'none';\n",
              "\n",
              "        async function convertToInteractive(key) {\n",
              "          const element = document.querySelector('#df-d2986dbc-454a-429d-99fd-18375d269078');\n",
              "          const dataTable =\n",
              "            await google.colab.kernel.invokeFunction('convertToInteractive',\n",
              "                                                     [key], {});\n",
              "          if (!dataTable) return;\n",
              "\n",
              "          const docLinkHtml = 'Like what you see? Visit the ' +\n",
              "            '<a target=\"_blank\" href=https://colab.research.google.com/notebooks/data_table.ipynb>data table notebook</a>'\n",
              "            + ' to learn more about interactive tables.';\n",
              "          element.innerHTML = '';\n",
              "          dataTable['output_type'] = 'display_data';\n",
              "          await google.colab.output.renderOutput(dataTable, element);\n",
              "          const docLink = document.createElement('div');\n",
              "          docLink.innerHTML = docLinkHtml;\n",
              "          element.appendChild(docLink);\n",
              "        }\n",
              "      </script>\n",
              "    </div>\n",
              "  </div>\n",
              "  "
            ]
          },
          "metadata": {},
          "execution_count": 100
        }
      ]
    },
    {
      "cell_type": "code",
      "source": [
        "ctab18.plot(kind='bar', cmap ='cividis')\n",
        "plt.title('Gender vs green leafy vegetables', fontdict= {'fontsize':20, 'fontweight':5, 'color':'darkblue'})"
      ],
      "metadata": {
        "colab": {
          "base_uri": "https://localhost:8080/",
          "height": 0
        },
        "outputId": "ebce8dc4-bd88-4221-e659-00f936f6b10d",
        "id": "oGtOeqBCVU13"
      },
      "execution_count": 101,
      "outputs": [
        {
          "output_type": "execute_result",
          "data": {
            "text/plain": [
              "Text(0.5, 1.0, 'Gender vs green leafy vegetables')"
            ]
          },
          "metadata": {},
          "execution_count": 101
        },
        {
          "output_type": "display_data",
          "data": {
            "text/plain": [
              "<Figure size 432x288 with 1 Axes>"
            ],
            "image/png": "[encoded data removed]"
          },
          "metadata": {
            "needs_background": "light"
          }
        }
      ]
    },
    {
      "cell_type": "code",
      "source": [
        "alpha=0.05\n",
        "values=stats.chi2_contingency(ctab18)\n",
        "values"
      ],
      "metadata": {
        "colab": {
          "base_uri": "https://localhost:8080/"
        },
        "outputId": "48d36993-bedf-4bb2-e1ef-86dd836312ff",
        "id": "4vWqGss2VU15"
      },
      "execution_count": 102,
      "outputs": [
        {
          "output_type": "execute_result",
          "data": {
            "text/plain": [
              "(1.3412492269635128, 0.7193621168816291, 3, array([[16.5,  7.5,  1.5, 24.5],\n",
              "        [16.5,  7.5,  1.5, 24.5]]))"
            ]
          },
          "metadata": {},
          "execution_count": 102
        }
      ]
    },
    {
      "cell_type": "code",
      "source": [
        "p_value18=values[1]\n",
        "p_value18"
      ],
      "metadata": {
        "colab": {
          "base_uri": "https://localhost:8080/"
        },
        "outputId": "0c0d95b8-2b86-40b6-9b7e-346937e3fe86",
        "id": "PHJgSViaVU16"
      },
      "execution_count": 103,
      "outputs": [
        {
          "output_type": "execute_result",
          "data": {
            "text/plain": [
              "0.7193621168816291"
            ]
          },
          "metadata": {},
          "execution_count": 103
        }
      ]
    },
    {
      "cell_type": "code",
      "source": [
        "if p_value18 <= alpha:\n",
        "   print(\"Reject H0\")\n",
        "else:\n",
        "  print(\"Accept H0\")"
      ],
      "metadata": {
        "colab": {
          "base_uri": "https://localhost:8080/"
        },
        "outputId": "b52b11b0-88d8-424c-a302-0790ab1ccd53",
        "id": "X6WXRDbMVU16"
      },
      "execution_count": 104,
      "outputs": [
        {
          "output_type": "stream",
          "name": "stdout",
          "text": [
            "Accept H0\n"
          ]
        }
      ]
    },
    {
      "cell_type": "markdown",
      "source": [
        "![image.png](data:image/png;base64,iVBORw0KGgoAAAANSUhEUgAAAPcAAAAeCAYAAADwx4gZAAAEZUlEQVR4nO2cP3KjTBDFH1t7FHBg+wStE0hOHG262SgUyWYbOttkFIrMqaIv0egE4gRjBx7u0l8ASCD+CCG5hHH/qggsRkPzZt6M6KbsWWsZgiCMjp8A8PDwcOs4BEG4Im9vb/hx6yAEQfgcxNyCMFLE3IIwUsTcgjBSxNyCMFLE3IIwUr6fuZMtlvMJPM/bH5PJEtvkhjFt52kcy1sGIYyNb2buLebBDGEEkNIwxkArQhyHmAVzbG8dniBckYGae4u558GbLHHNvSxZviACQPoVu9UC0+kUi9UORgFAhP/OcvfnxCgI12Kg5v5cHu/8W4cgCJ/OtzK3f/cIAIiKW3SyxEu6nePP9DZxCcKnYK3lCkYxAFaG2ShiAAwQa1Ns5NhoxQRk58EgYmVctb8z2htVOF88lGnsh0izqV6wNgZN2b04ZmfyfhQ3hl3DyRgL+tVfX5XjzdqTdmlMhL3mpAzXh+bYKDrSoeY+To7lJXoKQ8Vay63mPkwwxYrKE0JTwaBKsSpMNKrM6jPaO8PG6PQcKdbGsDFmP2lzY5HS6edaMVFq1k6U7g0t5mnhRIx9zV00qVIFwzXqSWUdcuO6pr6rY3mxnsIg6WDu+kF2mhomnWFV871z2+8/J31kvGxSVz7vimO9370u7b8pRr7A3A06NOhZ9Xy24BRPtI7lpXoKQ8Vay63P3KRfsajknhJs1jEABbM6fkid4o8mADHWm6Rn+w7Ea2zOLkwnWE4ChFEMZVyaIY9DBPPhFMCqerfoSQrPQYIkKRy4wyMBsB+VDH79WGb00lMYOj0Sag7vMQC6R1BzNk9axe+uZ/s2fCxeNRTFCGcBvMkE8+W2UykqWf5GGAOkHVZTH9OVgyYA0QxebvBkg3UM4PEOQ8mn5/ocyPSMI8yCAEHpmCGKz+q9t57C8Pl62XJ/gdWO4YyGQowonCHwJmh/uSv/9UD49ZTb1sdiVzb4drNGDEA9f4G0OWkY5+Dqjt2i++LUS0/hK9DD3AHuCUD8jrq9NvmwAAC6D3q274Y/zSelAhAj/Nfn53XZ4LN0a79aScx+XO6QXJ9Dbf6gJ3wfft3R4zrX0VMYEj3M7SP9pRjh5Xh5T7b4F1Z3yPPaA6cWhFI002eozjGnkzY5Ovf0V4H2f7/DdfLk6RiPHzXyR4Mm4vD30Y550Oew9vl4+kWo1RMAkgTJBWtKNz2FL0Fbtpwa6yF5Frdc2kJeyql879z2hVoyZWUzZbJscKH8YzSrrMRWzUy3xIw8hkK5iRRrTYWS0ekMcm2MzFwu/WXXyUtXjdly2te3j0thbXqS0lkpTu8rAaX2bWN5kZ7CkDlZCms2N3NeVjp+iUK3vMRyXnuzn2iHWKovbqC1j2oM1e+nL9Lse3D5dVWHFznqYjz0o4lK92pcviDUm1s7Zld6oYRYNY5BRy1ax/JSPYWhYq1lz1rL8t9PBWFcyH8/FYQRI+YWhJEi5haEkSLmFoSRIuYWhJHyE0gza4IgjIv/ASTRZ3nrCZJZAAAAAElFTkSuQmCC)"
      ],
      "metadata": {
        "id": "1BrXsqktVpgF"
      }
    },
    {
      "cell_type": "code",
      "source": [
        "ctab19=pd.crosstab(Nutrition['gender'],Nutrition['roots & tubers']) \n",
        "ctab19"
      ],
      "metadata": {
        "colab": {
          "base_uri": "https://localhost:8080/",
          "height": 0
        },
        "outputId": "9c1ee97e-2a35-479c-9ab3-efb9418d4e9d",
        "id": "we2sX0vgVwfW"
      },
      "execution_count": 105,
      "outputs": [
        {
          "output_type": "execute_result",
          "data": {
            "text/plain": [
              "roots & tubers  alternatively  occasionaly  occassionaly  once in two weeks  \\\n",
              "gender                                                                        \n",
              "Female                      0           41             0                  1   \n",
              "Male                        9            0             8                  0   \n",
              "\n",
              "roots & tubers  once or twice in a week  once or twice in aweek  \n",
              "gender                                                           \n",
              "Female                                8                       0  \n",
              "Male                                  0                      33  "
            ],
            "text/html": [
              "\n",
              "  <div id=\"df-dab3a75d-6efb-4f20-a9b7-d45216bf0295\">\n",
              "    <div class=\"colab-df-container\">\n",
              "      <div>\n",
              "<style scoped>\n",
              "    .dataframe tbody tr th:only-of-type {\n",
              "        vertical-align: middle;\n",
              "    }\n",
              "\n",
              "    .dataframe tbody tr th {\n",
              "        vertical-align: top;\n",
              "    }\n",
              "\n",
              "    .dataframe thead th {\n",
              "        text-align: right;\n",
              "    }\n",
              "</style>\n",
              "<table border=\"1\" class=\"dataframe\">\n",
              "  <thead>\n",
              "    <tr style=\"text-align: right;\">\n",
              "      <th>roots &amp; tubers</th>\n",
              "      <th>alternatively</th>\n",
              "      <th>occasionaly</th>\n",
              "      <th>occassionaly</th>\n",
              "      <th>once in two weeks</th>\n",
              "      <th>once or twice in a week</th>\n",
              "      <th>once or twice in aweek</th>\n",
              "    </tr>\n",
              "    <tr>\n",
              "      <th>gender</th>\n",
              "      <th></th>\n",
              "      <th></th>\n",
              "      <th></th>\n",
              "      <th></th>\n",
              "      <th></th>\n",
              "      <th></th>\n",
              "    </tr>\n",
              "  </thead>\n",
              "  <tbody>\n",
              "    <tr>\n",
              "      <th>Female</th>\n",
              "      <td>0</td>\n",
              "      <td>41</td>\n",
              "      <td>0</td>\n",
              "      <td>1</td>\n",
              "      <td>8</td>\n",
              "      <td>0</td>\n",
              "    </tr>\n",
              "    <tr>\n",
              "      <th>Male</th>\n",
              "      <td>9</td>\n",
              "      <td>0</td>\n",
              "      <td>8</td>\n",
              "      <td>0</td>\n",
              "      <td>0</td>\n",
              "      <td>33</td>\n",
              "    </tr>\n",
              "  </tbody>\n",
              "</table>\n",
              "</div>\n",
              "      <button class=\"colab-df-convert\" onclick=\"convertToInteractive('df-dab3a75d-6efb-4f20-a9b7-d45216bf0295')\"\n",
              "              title=\"Convert this dataframe to an interactive table.\"\n",
              "              style=\"display:none;\">\n",
              "        \n",
              "  <svg xmlns=\"http://www.w3.org/2000/svg\" height=\"24px\"viewBox=\"0 0 24 24\"\n",
              "       width=\"24px\">\n",
              "    <path d=\"M0 0h24v24H0V0z\" fill=\"none\"/>\n",
              "    <path d=\"M18.56 5.44l.94 2.06.94-2.06 2.06-.94-2.06-.94-.94-2.06-.94 2.06-2.06.94zm-11 1L8.5 8.5l.94-2.06 2.06-.94-2.06-.94L8.5 2.5l-.94 2.06-2.06.94zm10 10l.94 2.06.94-2.06 2.06-.94-2.06-.94-.94-2.06-.94 2.06-2.06.94z\"/><path d=\"M17.41 7.96l-1.37-1.37c-.4-.4-.92-.59-1.43-.59-.52 0-1.04.2-1.43.59L10.3 9.45l-7.72 7.72c-.78.78-.78 2.05 0 2.83L4 21.41c.39.39.9.59 1.41.59.51 0 1.02-.2 1.41-.59l7.78-7.78 2.81-2.81c.8-.78.8-2.07 0-2.86zM5.41 20L4 18.59l7.72-7.72 1.47 1.35L5.41 20z\"/>\n",
              "  </svg>\n",
              "      </button>\n",
              "      \n",
              "  <style>\n",
              "    .colab-df-container {\n",
              "      display:flex;\n",
              "      flex-wrap:wrap;\n",
              "      gap: 12px;\n",
              "    }\n",
              "\n",
              "    .colab-df-convert {\n",
              "      background-color: #E8F0FE;\n",
              "      border: none;\n",
              "      border-radius: 50%;\n",
              "      cursor: pointer;\n",
              "      display: none;\n",
              "      fill: #1967D2;\n",
              "      height: 32px;\n",
              "      padding: 0 0 0 0;\n",
              "      width: 32px;\n",
              "    }\n",
              "\n",
              "    .colab-df-convert:hover {\n",
              "      background-color: #E2EBFA;\n",
              "      box-shadow: 0px 1px 2px rgba(60, 64, 67, 0.3), 0px 1px 3px 1px rgba(60, 64, 67, 0.15);\n",
              "      fill: #174EA6;\n",
              "    }\n",
              "\n",
              "    [theme=dark] .colab-df-convert {\n",
              "      background-color: #3B4455;\n",
              "      fill: #D2E3FC;\n",
              "    }\n",
              "\n",
              "    [theme=dark] .colab-df-convert:hover {\n",
              "      background-color: #434B5C;\n",
              "      box-shadow: 0px 1px 3px 1px rgba(0, 0, 0, 0.15);\n",
              "      filter: drop-shadow(0px 1px 2px rgba(0, 0, 0, 0.3));\n",
              "      fill: #FFFFFF;\n",
              "    }\n",
              "  </style>\n",
              "\n",
              "      <script>\n",
              "        const buttonEl =\n",
              "          document.querySelector('#df-dab3a75d-6efb-4f20-a9b7-d45216bf0295 button.colab-df-convert');\n",
              "        buttonEl.style.display =\n",
              "          google.colab.kernel.accessAllowed ? 'block' : 'none';\n",
              "\n",
              "        async function convertToInteractive(key) {\n",
              "          const element = document.querySelector('#df-dab3a75d-6efb-4f20-a9b7-d45216bf0295');\n",
              "          const dataTable =\n",
              "            await google.colab.kernel.invokeFunction('convertToInteractive',\n",
              "                                                     [key], {});\n",
              "          if (!dataTable) return;\n",
              "\n",
              "          const docLinkHtml = 'Like what you see? Visit the ' +\n",
              "            '<a target=\"_blank\" href=https://colab.research.google.com/notebooks/data_table.ipynb>data table notebook</a>'\n",
              "            + ' to learn more about interactive tables.';\n",
              "          element.innerHTML = '';\n",
              "          dataTable['output_type'] = 'display_data';\n",
              "          await google.colab.output.renderOutput(dataTable, element);\n",
              "          const docLink = document.createElement('div');\n",
              "          docLink.innerHTML = docLinkHtml;\n",
              "          element.appendChild(docLink);\n",
              "        }\n",
              "      </script>\n",
              "    </div>\n",
              "  </div>\n",
              "  "
            ]
          },
          "metadata": {},
          "execution_count": 105
        }
      ]
    },
    {
      "cell_type": "code",
      "source": [
        "ctab19.plot(kind='bar', cmap ='cividis')\n",
        "plt.title('Gender vs roots & tubers', fontdict= {'fontsize':20, 'fontweight':5, 'color':'darkblue'})"
      ],
      "metadata": {
        "colab": {
          "base_uri": "https://localhost:8080/",
          "height": 0
        },
        "outputId": "304743e9-8e4a-47ea-e66b-2f408ed91d3e",
        "id": "unXTLYxlVwfX"
      },
      "execution_count": 106,
      "outputs": [
        {
          "output_type": "execute_result",
          "data": {
            "text/plain": [
              "Text(0.5, 1.0, 'Gender vs roots & tubers')"
            ]
          },
          "metadata": {},
          "execution_count": 106
        },
        {
          "output_type": "display_data",
          "data": {
            "text/plain": [
              "<Figure size 432x288 with 1 Axes>"
            ],
            "image/png": "[encoded data removed]"
          },
          "metadata": {
            "needs_background": "light"
          }
        }
      ]
    },
    {
      "cell_type": "code",
      "source": [
        "alpha=0.05\n",
        "values=stats.chi2_contingency(ctab19)\n",
        "values"
      ],
      "metadata": {
        "colab": {
          "base_uri": "https://localhost:8080/"
        },
        "outputId": "b5d8a5cc-9fed-400c-cdec-f988ada05328",
        "id": "SsxARxqaVwfY"
      },
      "execution_count": 107,
      "outputs": [
        {
          "output_type": "execute_result",
          "data": {
            "text/plain": [
              "(100.0, 5.285148360943219e-20, 5, array([[ 4.5, 20.5,  4. ,  0.5,  4. , 16.5],\n",
              "        [ 4.5, 20.5,  4. ,  0.5,  4. , 16.5]]))"
            ]
          },
          "metadata": {},
          "execution_count": 107
        }
      ]
    },
    {
      "cell_type": "code",
      "source": [
        "p_value19=values[1]\n",
        "p_value19"
      ],
      "metadata": {
        "colab": {
          "base_uri": "https://localhost:8080/"
        },
        "outputId": "88122d17-658f-4ce7-fdca-3da1a3934b85",
        "id": "BFtaWQ_zVwfY"
      },
      "execution_count": 108,
      "outputs": [
        {
          "output_type": "execute_result",
          "data": {
            "text/plain": [
              "5.285148360943219e-20"
            ]
          },
          "metadata": {},
          "execution_count": 108
        }
      ]
    },
    {
      "cell_type": "code",
      "source": [
        "if p_value19 <= alpha:\n",
        "   print(\"Reject H0\")\n",
        "else:\n",
        "  print(\"Accept H0\")"
      ],
      "metadata": {
        "colab": {
          "base_uri": "https://localhost:8080/"
        },
        "outputId": "f0711bbf-c5d9-488e-8cef-ac83fab389d0",
        "id": "VMki-TDUVwfZ"
      },
      "execution_count": 109,
      "outputs": [
        {
          "output_type": "stream",
          "name": "stdout",
          "text": [
            "Reject H0\n"
          ]
        }
      ]
    },
    {
      "cell_type": "markdown",
      "source": [
        "![image.png](data:image/png;base64,iVBORw0KGgoAAAANSUhEUgAAAMwAAAAeCAYAAABg1PHWAAAFR0lEQVR4nO2cPXKrPBSGH765S8EukqxArMB248ptOlFCky6lu9vg0nRpU7kxrCCsgOsisBd9BWDzI2xInEmc0TPjBoTO0SsdEC8zttI0VRgMhkH8Abi/v//uPAyGH8+/f//477uTMBhuCVMwBsMITMEYDCMwBWMwjMAUjMEwAlMwBsMIvr5gYhfLsnA2+ZeHMmgYq7+Zr7OYJ4zBMIIrFUyMa1lYzgZzX7oWRtOfiHnCGAwjMAVjMIzgTMHkxBsXx7Kwqp/j4MbNDULsWljWnBAg8ZlUbd2422Ps4jhVfw5u74tlTuw6jdiO4xK3m5cvqG4Msesc+910Q9dyLdprTmpedgfmAZBvcJ2aVvVfI+DlPi9rmre0vKRneVVLf8eNR2z3hmrRXTeOs6FnSm6PNE1Vl0wFAgUohFBSSiWlUILimJBRrWmkoigozgmpgihSURSpKCvPR7Lop7pWtPoKsp7YQgkZFH0FsmwvVKN5o2+hhJRKCqGCSOnJyjxlt0Ek2/1/II9q/LV2MqhpMbTPC5pmgThqWZwLlBQ9emr1l0f9O1qU7Zv9DNei0JFmO9HS60ZJ01RpC6aakO7CipTULZjquAhUR5fjhLWuqRZv65oqdie0brH39d1LNfFSNbvv5j8mj2KRtPos29UX3qixndM0i1TWFVrfvlejnrnUFMzwvEt9dTn/AtI0VZotWc7+NQEk0XbWOjfjKRBAwut+nHcjghc8u3bAXrASQHIga8cWkuUkJ89rP6Y8CCB972wjOn33YrNYCSBkV98jxDtCQKwW2KPzyHlPAXHHpBFqygOQHKrRfWxs+mHMsDvjnXDX0fNEV6Ohc/mBvJNX9tp96+3zp3so45DQXQAl9vQBSMqFMGiVjqCMTch8EuqbiM9FsBcrhJ8Q7mK2s+KGEO9CQLBaVOMZk4fN9AEIi4V6VKQqwrtKxWuPLSeP9+x3Bw7lkTQZc/1pLs8zTgvvJeDw6OPPJ/hCIFfPPHmzq6+U70JTMD8AERC9LLQFi21/Tnx7wUr4JOGazdMMz47ZhYB87j6lBuYxW0oIQ+YOBM9Lpu871n67CK84ttjFmYcXl/pVGZq37bF983iKN/xd+4T+nNAXBNnbwF3Az0ZTMM1He3uM+XsK1O+c1+QUG9v7oruSjfcs8echr/scb1o8CeSyvv0ck0fOZh2CkEhC/HlxFxZCEr1smR0vvtbYingJAhm9sD0GyNk4E/wRVVTN5cP0XDYfy9ueeWxnHk+xy2Qe4v+N8Tpb/NtD8w5TbjEIWbdtyjzmr5/QvXOe3z8P5/SO0YkNkOfk19gaz5ZIIHndsykeLzTqZVQexZZFPCzZvimUKn5vb/Vi+cjY+jSttswrnhoBsuPWTEfiP9IMe5rL8/e+z82JXWr9a9DbypWD0rSV6bWCT3YilW1cOSdam1Kpi45VaU1WtmlQxhdND7M3n0sc8+2xmYfnUbPg6z8hSts3+0Cf5zVtW7dBULOJ23pGsrCDK9u5ZSv32dDN4wPzzgIl6tZzze7WSnxj9NrKBZkKat9LKrGbC6BOdBSnIeLoginORa3Y6GJ/omCGWdLD8ihs1/KbS/nNJKgtyuZiGTi2Ikm9puXcnApUKBllenu7LJggUyprFJZQUjfwM/N1Oe8xY7s9LhSMYRDnivbMh1LD7dHzHcYwhrMvztmBwqH/CoPE8B38TFv5hjh+15k7pHLF83IKwPtuzWtYfAB+/g1+qgEwBfN5bI+3bIr7uCYMfebHb3sCISOy7e/5aGcAK01TZf750mC4jPnnS4NhJH+gqByDwXCZ/wGJFsLICi5gEQAAAABJRU5ErkJggg==)"
      ],
      "metadata": {
        "id": "lgXAUdzoWAVt"
      }
    },
    {
      "cell_type": "code",
      "source": [
        "ctab20=pd.crosstab(Nutrition['gender'],Nutrition['other vegetables']) \n",
        "ctab20"
      ],
      "metadata": {
        "colab": {
          "base_uri": "https://localhost:8080/",
          "height": 0
        },
        "outputId": "6be20d0a-75fe-4165-cdba-42796f9d1cbb",
        "id": "oDXjFJ_fWIfV"
      },
      "execution_count": 110,
      "outputs": [
        {
          "output_type": "execute_result",
          "data": {
            "text/plain": [
              "other vegetables  altenatively  alternatively  occassionaly  \\\n",
              "gender                                                        \n",
              "Female                       0             50             0   \n",
              "Male                        21              1             5   \n",
              "\n",
              "other vegetables  once or twice in week  \n",
              "gender                                   \n",
              "Female                                0  \n",
              "Male                                 23  "
            ],
            "text/html": [
              "\n",
              "  <div id=\"df-58ff6830-3fde-4383-9c10-ab830ed333f0\">\n",
              "    <div class=\"colab-df-container\">\n",
              "      <div>\n",
              "<style scoped>\n",
              "    .dataframe tbody tr th:only-of-type {\n",
              "        vertical-align: middle;\n",
              "    }\n",
              "\n",
              "    .dataframe tbody tr th {\n",
              "        vertical-align: top;\n",
              "    }\n",
              "\n",
              "    .dataframe thead th {\n",
              "        text-align: right;\n",
              "    }\n",
              "</style>\n",
              "<table border=\"1\" class=\"dataframe\">\n",
              "  <thead>\n",
              "    <tr style=\"text-align: right;\">\n",
              "      <th>other vegetables</th>\n",
              "      <th>altenatively</th>\n",
              "      <th>alternatively</th>\n",
              "      <th>occassionaly</th>\n",
              "      <th>once or twice in week</th>\n",
              "    </tr>\n",
              "    <tr>\n",
              "      <th>gender</th>\n",
              "      <th></th>\n",
              "      <th></th>\n",
              "      <th></th>\n",
              "      <th></th>\n",
              "    </tr>\n",
              "  </thead>\n",
              "  <tbody>\n",
              "    <tr>\n",
              "      <th>Female</th>\n",
              "      <td>0</td>\n",
              "      <td>50</td>\n",
              "      <td>0</td>\n",
              "      <td>0</td>\n",
              "    </tr>\n",
              "    <tr>\n",
              "      <th>Male</th>\n",
              "      <td>21</td>\n",
              "      <td>1</td>\n",
              "      <td>5</td>\n",
              "      <td>23</td>\n",
              "    </tr>\n",
              "  </tbody>\n",
              "</table>\n",
              "</div>\n",
              "      <button class=\"colab-df-convert\" onclick=\"convertToInteractive('df-58ff6830-3fde-4383-9c10-ab830ed333f0')\"\n",
              "              title=\"Convert this dataframe to an interactive table.\"\n",
              "              style=\"display:none;\">\n",
              "        \n",
              "  <svg xmlns=\"http://www.w3.org/2000/svg\" height=\"24px\"viewBox=\"0 0 24 24\"\n",
              "       width=\"24px\">\n",
              "    <path d=\"M0 0h24v24H0V0z\" fill=\"none\"/>\n",
              "    <path d=\"M18.56 5.44l.94 2.06.94-2.06 2.06-.94-2.06-.94-.94-2.06-.94 2.06-2.06.94zm-11 1L8.5 8.5l.94-2.06 2.06-.94-2.06-.94L8.5 2.5l-.94 2.06-2.06.94zm10 10l.94 2.06.94-2.06 2.06-.94-2.06-.94-.94-2.06-.94 2.06-2.06.94z\"/><path d=\"M17.41 7.96l-1.37-1.37c-.4-.4-.92-.59-1.43-.59-.52 0-1.04.2-1.43.59L10.3 9.45l-7.72 7.72c-.78.78-.78 2.05 0 2.83L4 21.41c.39.39.9.59 1.41.59.51 0 1.02-.2 1.41-.59l7.78-7.78 2.81-2.81c.8-.78.8-2.07 0-2.86zM5.41 20L4 18.59l7.72-7.72 1.47 1.35L5.41 20z\"/>\n",
              "  </svg>\n",
              "      </button>\n",
              "      \n",
              "  <style>\n",
              "    .colab-df-container {\n",
              "      display:flex;\n",
              "      flex-wrap:wrap;\n",
              "      gap: 12px;\n",
              "    }\n",
              "\n",
              "    .colab-df-convert {\n",
              "      background-color: #E8F0FE;\n",
              "      border: none;\n",
              "      border-radius: 50%;\n",
              "      cursor: pointer;\n",
              "      display: none;\n",
              "      fill: #1967D2;\n",
              "      height: 32px;\n",
              "      padding: 0 0 0 0;\n",
              "      width: 32px;\n",
              "    }\n",
              "\n",
              "    .colab-df-convert:hover {\n",
              "      background-color: #E2EBFA;\n",
              "      box-shadow: 0px 1px 2px rgba(60, 64, 67, 0.3), 0px 1px 3px 1px rgba(60, 64, 67, 0.15);\n",
              "      fill: #174EA6;\n",
              "    }\n",
              "\n",
              "    [theme=dark] .colab-df-convert {\n",
              "      background-color: #3B4455;\n",
              "      fill: #D2E3FC;\n",
              "    }\n",
              "\n",
              "    [theme=dark] .colab-df-convert:hover {\n",
              "      background-color: #434B5C;\n",
              "      box-shadow: 0px 1px 3px 1px rgba(0, 0, 0, 0.15);\n",
              "      filter: drop-shadow(0px 1px 2px rgba(0, 0, 0, 0.3));\n",
              "      fill: #FFFFFF;\n",
              "    }\n",
              "  </style>\n",
              "\n",
              "      <script>\n",
              "        const buttonEl =\n",
              "          document.querySelector('#df-58ff6830-3fde-4383-9c10-ab830ed333f0 button.colab-df-convert');\n",
              "        buttonEl.style.display =\n",
              "          google.colab.kernel.accessAllowed ? 'block' : 'none';\n",
              "\n",
              "        async function convertToInteractive(key) {\n",
              "          const element = document.querySelector('#df-58ff6830-3fde-4383-9c10-ab830ed333f0');\n",
              "          const dataTable =\n",
              "            await google.colab.kernel.invokeFunction('convertToInteractive',\n",
              "                                                     [key], {});\n",
              "          if (!dataTable) return;\n",
              "\n",
              "          const docLinkHtml = 'Like what you see? Visit the ' +\n",
              "            '<a target=\"_blank\" href=https://colab.research.google.com/notebooks/data_table.ipynb>data table notebook</a>'\n",
              "            + ' to learn more about interactive tables.';\n",
              "          element.innerHTML = '';\n",
              "          dataTable['output_type'] = 'display_data';\n",
              "          await google.colab.output.renderOutput(dataTable, element);\n",
              "          const docLink = document.createElement('div');\n",
              "          docLink.innerHTML = docLinkHtml;\n",
              "          element.appendChild(docLink);\n",
              "        }\n",
              "      </script>\n",
              "    </div>\n",
              "  </div>\n",
              "  "
            ]
          },
          "metadata": {},
          "execution_count": 110
        }
      ]
    },
    {
      "cell_type": "code",
      "source": [
        "ctab20.plot(kind='bar', cmap ='cividis')\n",
        "plt.title('Gender vs other vegetables', fontdict= {'fontsize':20, 'fontweight':5, 'color':'darkblue'})"
      ],
      "metadata": {
        "colab": {
          "base_uri": "https://localhost:8080/",
          "height": 0
        },
        "outputId": "099eddbc-39c7-4f59-eb2c-13ab4f7192c1",
        "id": "JOJ8uJXRWIfW"
      },
      "execution_count": 111,
      "outputs": [
        {
          "output_type": "execute_result",
          "data": {
            "text/plain": [
              "Text(0.5, 1.0, 'Gender vs other vegetables')"
            ]
          },
          "metadata": {},
          "execution_count": 111
        },
        {
          "output_type": "display_data",
          "data": {
            "text/plain": [
              "<Figure size 432x288 with 1 Axes>"
            ],
            "image/png": "[encoded data removed]"
          },
          "metadata": {
            "needs_background": "light"
          }
        }
      ]
    },
    {
      "cell_type": "code",
      "source": [
        "alpha=0.05\n",
        "values=stats.chi2_contingency(ctab20)\n",
        "values"
      ],
      "metadata": {
        "colab": {
          "base_uri": "https://localhost:8080/"
        },
        "outputId": "7be4daff-fa16-469c-af8c-0c01883399e5",
        "id": "WoWah_uuWIfW"
      },
      "execution_count": 112,
      "outputs": [
        {
          "output_type": "execute_result",
          "data": {
            "text/plain": [
              "(96.07843137254902, 1.0827754260119571e-20, 3, array([[10.5, 25.5,  2.5, 11.5],\n",
              "        [10.5, 25.5,  2.5, 11.5]]))"
            ]
          },
          "metadata": {},
          "execution_count": 112
        }
      ]
    },
    {
      "cell_type": "code",
      "source": [
        "p_value20=values[1]\n",
        "p_value20"
      ],
      "metadata": {
        "colab": {
          "base_uri": "https://localhost:8080/"
        },
        "outputId": "66b8d737-b339-4924-a708-159b682240e7",
        "id": "nOG_XrghWIfW"
      },
      "execution_count": 113,
      "outputs": [
        {
          "output_type": "execute_result",
          "data": {
            "text/plain": [
              "1.0827754260119571e-20"
            ]
          },
          "metadata": {},
          "execution_count": 113
        }
      ]
    },
    {
      "cell_type": "code",
      "source": [
        "if p_value20 <= alpha:\n",
        "   print(\"Reject H0\")\n",
        "else:\n",
        "  print(\"Accept H0\")"
      ],
      "metadata": {
        "colab": {
          "base_uri": "https://localhost:8080/"
        },
        "outputId": "1348ff0b-4124-44af-f3e1-289ffd54d758",
        "id": "Zka9GqnmWIfW"
      },
      "execution_count": 114,
      "outputs": [
        {
          "output_type": "stream",
          "name": "stdout",
          "text": [
            "Reject H0\n"
          ]
        }
      ]
    },
    {
      "cell_type": "markdown",
      "source": [
        "![image.png](data:image/png;base64,iVBORw0KGgoAAAANSUhEUgAAAGEAAAAeCAYAAAA8cnC3AAACYUlEQVRoge2avW6jQBSFP1Z5FJwiyRNcnmDYxtW26cYlNO5SpttmXIYuras0GT+B5wkmKQzvMlvgRP5JvFFkbFDmkyjgDtwrHeDoIBLvfSByVi4Arq+vzz3Hj+Xl5YVf5x4iQhShD0QRekAUoQdEEXpAFKEHHBChYTHJSJKk3SYzmtPN9aP4VIRmdkteORCDtQbT0QDNrBU6m/1ciS8+PtzwPHeAxi4LFKDUKcdaMElyKjHUy4L0lK3PwCcirJErRh0PkBZLQtFxk54TjbkPeO/DJlYTYH/T9n3B+77Vsq5LMB/Ut6mDEQLosFVarxdTH+zP+wXrYI0OslETMWGv3UDw3oe9J0FNLdYatACiMdZirWW6816q8oS8AtG6XXsk3voL2/3ttDWlxWREXlagTXvcaGDOasC+vu8JqUKlI1b3JXDFb6U+MUbB1EuKY7tmqlApPAFur3/DygNieHxYG7ZSqIF7yrc9Qczj8QX4Km7O82LAt/4OAzPmlOLRoMVR5iOSLGMyWww+RA5MBCAteFgGamvQOKoyZ5RkDDnrdSaC79gpU/UmhgYc5d9Fp/26pDMR3Gu9td/MbindV88ecSWAe6X+z8pUjdHfmK9PHE7M30FNMVJRVjmJ1+gb8L7COUEE3JeESLm8AVxFnoG+8XjuWE5XZKM56D/cjS+BFU/3JRWgxyf9rnJcdsNayzpYiQn1bmknXH1IbYMR2QhTOtj6LYgdDmsbhaBlI5CZOoRQB6tlK6ghOhh7YJae470Pifc+xL8tzkf826InRBF6QBShB0QRekAUoQdcQOvQkfPxD4nOIIn+FAfmAAAAAElFTkSuQmCC)"
      ],
      "metadata": {
        "id": "koFKP8p8Wffd"
      }
    },
    {
      "cell_type": "code",
      "source": [
        "ctab21=pd.crosstab(Nutrition['gender'],Nutrition['fruits']) \n",
        "ctab21"
      ],
      "metadata": {
        "colab": {
          "base_uri": "https://localhost:8080/",
          "height": 0
        },
        "outputId": "76b922ed-d7c4-422f-bae4-be564c6813a7",
        "id": "7BCBfGCQW3g6"
      },
      "execution_count": 115,
      "outputs": [
        {
          "output_type": "execute_result",
          "data": {
            "text/plain": [
              "fruits  daily\n",
              "gender       \n",
              "Female     50\n",
              "Male       50"
            ],
            "text/html": [
              "\n",
              "  <div id=\"df-e6e7b127-0ede-482f-8e54-4c4c8742b9d6\">\n",
              "    <div class=\"colab-df-container\">\n",
              "      <div>\n",
              "<style scoped>\n",
              "    .dataframe tbody tr th:only-of-type {\n",
              "        vertical-align: middle;\n",
              "    }\n",
              "\n",
              "    .dataframe tbody tr th {\n",
              "        vertical-align: top;\n",
              "    }\n",
              "\n",
              "    .dataframe thead th {\n",
              "        text-align: right;\n",
              "    }\n",
              "</style>\n",
              "<table border=\"1\" class=\"dataframe\">\n",
              "  <thead>\n",
              "    <tr style=\"text-align: right;\">\n",
              "      <th>fruits</th>\n",
              "      <th>daily</th>\n",
              "    </tr>\n",
              "    <tr>\n",
              "      <th>gender</th>\n",
              "      <th></th>\n",
              "    </tr>\n",
              "  </thead>\n",
              "  <tbody>\n",
              "    <tr>\n",
              "      <th>Female</th>\n",
              "      <td>50</td>\n",
              "    </tr>\n",
              "    <tr>\n",
              "      <th>Male</th>\n",
              "      <td>50</td>\n",
              "    </tr>\n",
              "  </tbody>\n",
              "</table>\n",
              "</div>\n",
              "      <button class=\"colab-df-convert\" onclick=\"convertToInteractive('df-e6e7b127-0ede-482f-8e54-4c4c8742b9d6')\"\n",
              "              title=\"Convert this dataframe to an interactive table.\"\n",
              "              style=\"display:none;\">\n",
              "        \n",
              "  <svg xmlns=\"http://www.w3.org/2000/svg\" height=\"24px\"viewBox=\"0 0 24 24\"\n",
              "       width=\"24px\">\n",
              "    <path d=\"M0 0h24v24H0V0z\" fill=\"none\"/>\n",
              "    <path d=\"M18.56 5.44l.94 2.06.94-2.06 2.06-.94-2.06-.94-.94-2.06-.94 2.06-2.06.94zm-11 1L8.5 8.5l.94-2.06 2.06-.94-2.06-.94L8.5 2.5l-.94 2.06-2.06.94zm10 10l.94 2.06.94-2.06 2.06-.94-2.06-.94-.94-2.06-.94 2.06-2.06.94z\"/><path d=\"M17.41 7.96l-1.37-1.37c-.4-.4-.92-.59-1.43-.59-.52 0-1.04.2-1.43.59L10.3 9.45l-7.72 7.72c-.78.78-.78 2.05 0 2.83L4 21.41c.39.39.9.59 1.41.59.51 0 1.02-.2 1.41-.59l7.78-7.78 2.81-2.81c.8-.78.8-2.07 0-2.86zM5.41 20L4 18.59l7.72-7.72 1.47 1.35L5.41 20z\"/>\n",
              "  </svg>\n",
              "      </button>\n",
              "      \n",
              "  <style>\n",
              "    .colab-df-container {\n",
              "      display:flex;\n",
              "      flex-wrap:wrap;\n",
              "      gap: 12px;\n",
              "    }\n",
              "\n",
              "    .colab-df-convert {\n",
              "      background-color: #E8F0FE;\n",
              "      border: none;\n",
              "      border-radius: 50%;\n",
              "      cursor: pointer;\n",
              "      display: none;\n",
              "      fill: #1967D2;\n",
              "      height: 32px;\n",
              "      padding: 0 0 0 0;\n",
              "      width: 32px;\n",
              "    }\n",
              "\n",
              "    .colab-df-convert:hover {\n",
              "      background-color: #E2EBFA;\n",
              "      box-shadow: 0px 1px 2px rgba(60, 64, 67, 0.3), 0px 1px 3px 1px rgba(60, 64, 67, 0.15);\n",
              "      fill: #174EA6;\n",
              "    }\n",
              "\n",
              "    [theme=dark] .colab-df-convert {\n",
              "      background-color: #3B4455;\n",
              "      fill: #D2E3FC;\n",
              "    }\n",
              "\n",
              "    [theme=dark] .colab-df-convert:hover {\n",
              "      background-color: #434B5C;\n",
              "      box-shadow: 0px 1px 3px 1px rgba(0, 0, 0, 0.15);\n",
              "      filter: drop-shadow(0px 1px 2px rgba(0, 0, 0, 0.3));\n",
              "      fill: #FFFFFF;\n",
              "    }\n",
              "  </style>\n",
              "\n",
              "      <script>\n",
              "        const buttonEl =\n",
              "          document.querySelector('#df-e6e7b127-0ede-482f-8e54-4c4c8742b9d6 button.colab-df-convert');\n",
              "        buttonEl.style.display =\n",
              "          google.colab.kernel.accessAllowed ? 'block' : 'none';\n",
              "\n",
              "        async function convertToInteractive(key) {\n",
              "          const element = document.querySelector('#df-e6e7b127-0ede-482f-8e54-4c4c8742b9d6');\n",
              "          const dataTable =\n",
              "            await google.colab.kernel.invokeFunction('convertToInteractive',\n",
              "                                                     [key], {});\n",
              "          if (!dataTable) return;\n",
              "\n",
              "          const docLinkHtml = 'Like what you see? Visit the ' +\n",
              "            '<a target=\"_blank\" href=https://colab.research.google.com/notebooks/data_table.ipynb>data table notebook</a>'\n",
              "            + ' to learn more about interactive tables.';\n",
              "          element.innerHTML = '';\n",
              "          dataTable['output_type'] = 'display_data';\n",
              "          await google.colab.output.renderOutput(dataTable, element);\n",
              "          const docLink = document.createElement('div');\n",
              "          docLink.innerHTML = docLinkHtml;\n",
              "          element.appendChild(docLink);\n",
              "        }\n",
              "      </script>\n",
              "    </div>\n",
              "  </div>\n",
              "  "
            ]
          },
          "metadata": {},
          "execution_count": 115
        }
      ]
    },
    {
      "cell_type": "code",
      "source": [
        "ctab21.plot(kind='bar', cmap ='cividis')\n",
        "plt.title('Gender vs fruits', fontdict= {'fontsize':20, 'fontweight':5, 'color':'darkblue'})"
      ],
      "metadata": {
        "colab": {
          "base_uri": "https://localhost:8080/",
          "height": 0
        },
        "outputId": "b871ac92-8e3a-4bbc-f168-f952be53692c",
        "id": "5XSrHO8wW3g7"
      },
      "execution_count": 116,
      "outputs": [
        {
          "output_type": "execute_result",
          "data": {
            "text/plain": [
              "Text(0.5, 1.0, 'Gender vs fruits')"
            ]
          },
          "metadata": {},
          "execution_count": 116
        },
        {
          "output_type": "display_data",
          "data": {
            "text/plain": [
              "<Figure size 432x288 with 1 Axes>"
            ],
            "image/png": "[encoded data removed]"
          },
          "metadata": {
            "needs_background": "light"
          }
        }
      ]
    },
    {
      "cell_type": "code",
      "source": [
        "alpha=0.05\n",
        "values=stats.chi2_contingency(ctab21)\n",
        "values"
      ],
      "metadata": {
        "colab": {
          "base_uri": "https://localhost:8080/"
        },
        "outputId": "0412a383-18be-4158-8a7e-add4747d7c0f",
        "id": "-L6FXI0wW3g7"
      },
      "execution_count": 117,
      "outputs": [
        {
          "output_type": "execute_result",
          "data": {
            "text/plain": [
              "(0.0, 1.0, 0, array([[50.],\n",
              "        [50.]]))"
            ]
          },
          "metadata": {},
          "execution_count": 117
        }
      ]
    },
    {
      "cell_type": "code",
      "source": [
        "p_value21=values[1]\n",
        "p_value21"
      ],
      "metadata": {
        "colab": {
          "base_uri": "https://localhost:8080/"
        },
        "outputId": "f89824c5-7eca-48fc-910f-060bf912225b",
        "id": "iVHxVkqxW3g7"
      },
      "execution_count": 118,
      "outputs": [
        {
          "output_type": "execute_result",
          "data": {
            "text/plain": [
              "1.0"
            ]
          },
          "metadata": {},
          "execution_count": 118
        }
      ]
    },
    {
      "cell_type": "code",
      "source": [
        "if p_value21 <= alpha:\n",
        "   print(\"Reject H0\")\n",
        "else:\n",
        "  print(\"Accept H0\")"
      ],
      "metadata": {
        "colab": {
          "base_uri": "https://localhost:8080/"
        },
        "outputId": "323dd4f2-a98f-4b34-8fbc-5e2103aa5b06",
        "id": "fQNdyluKW3g8"
      },
      "execution_count": 119,
      "outputs": [
        {
          "output_type": "stream",
          "name": "stdout",
          "text": [
            "Accept H0\n"
          ]
        }
      ]
    },
    {
      "cell_type": "markdown",
      "source": [
        "![image.png](data:image/png;base64,iVBORw0KGgoAAAANSUhEUgAAAQIAAAAeCAYAAADHLBAEAAAFdklEQVR4nO2cPXKjShCAP17tUcCB1yeYOQFs4mjTzYZQJM42dLbJEIrMqaNNDCcQJ8AOFu4yL0BIgNDfam3Jdn9VrrJRu6d7YJqe7il5VVU5BEH41HwB+Pr167ntEAThTDw/P/PfuY0QBOH8SCAQBEECgSAIEggEQUACgSAISCAQBIFzBIIixvM8dNrsvnYsTUEaazzPW/1onVKcoPKf81q+XxwNqfbwvJji3KYIB/GqgaBJ9Rs95AVxEJFkoIwlz3OsUZRlQhSc52F8O98F4XQ+xNagSe/JAGUfWMxnhGHIbL4gNwAZv+W19IEpiD0PT6dIyP17vrymcn+2wM1ec4QhN1f+2w22h7f2XRBO4UNkBP7VDQBZ/9XfpNy3aQJ34XnsEoT3wnQgWBaw4gKaIkavCnCauKu+NSmx7l2f2gufUghriqX+eH/BL7zDKiC7J22WNgcJJYb8YcZRecJ78r2I8Ty99ln3CqVxsZkq93wrVoVVTTrYOjUUad9vD0/3fJ+wdVCk1Tts7o0/UrKjuNiMisB65VsRe3heRAZQJgSdzGqATV+0TqWAOUVVVW6D3DjAoZQDnDLGGdP+3v69/F0ZZ4xxqrtu60k9g+sHXcudAQfKjVVupbN5ZWPuDv3Xd+t7bhwopzpbRzZh8h1zpFrflHJ2JVY7q1j5b5a+q96cjhQube3Nh6I3hnH5xPgbalbjjuQn9BvVm+86d3luW/uUcTbPXZ7nLq+74Tq7bXvdGqfUEc/UJ6GqKrc7EIwextr2FsTwg+XNsMPF91eLIV/e7GNuWO1sb7Fu2NE9aBvXJ3hPvm+xdWsw2So/8nHrgp+ek3EQXM/VaYFgm/42AIxsO+Wef3KqqnI7awTKPjDr5dX+t+8oAJOzGH7AdwWUL9S7E5A91KQ6IisVtl4Mxt5OQ6oDkqzE5HXbKSgTgs388yjeh+/TtkLInVVAyePTZp6+KQ/Q8PRYAoZ8Pi6qTOlby/8cKfNnD+1W7SS268cPCQ+t+5SPPF3UYZLL5LhioX/FzSsZAlAmEUkJmJ8HL4Qm/UFSgrI189AnnNfLekG03is2TzyWwM3VcfWCPhfo+y66Aurh1LyUgLom2KGvfKkPkj+dU/X7zB4sRpUkUdDWOdKJuokAXFjXQNl8tYgPe6F3bw3F92/d6vGZLYbBoHh6pATM7eW2D473XdiLP2O+cNS5xVCSJRHBsrgqDLmoQAABs0WOAbLolBs2DAZRmzJceBvxX/ne0vypgGPOVgRc79jidPrUdXCQ/C6qP0c4d/KWC/ywCwgGKEl+SaQdc2GBACBkXlsUJcne48E+bcba3txm9Nm3n4b1VvWF+uLfBMf4vqZMfowCR8GvpM2Urg/Oq7u5zLgfR6Fmra+feU3LNxRxu13bau/LcGl327shIbdmuz3pat9/eEDyw1vMHpnPygUGAsCf8dC+zon2HB0N5+1blKxN++I4Jo7b3nEQZZTKYK2CMiMKNDq+8KOoR/i+piQJPLSOiWONXvbWp4uC2+nmskyWe+q41ecF0/rCO4tayrdjx2gvIMpATRULV+c9IrxOXnsEybR8X38nH2sPL4hIfnfLfh2Qos7/uIAmRXvt/S6KgqJIiXXrxyVvEc/GrvbhRtuma9Vs9H+29IH/upfeXd7SPtqgdnmv303XB8/rdeuo7lpz4171O/a997+17Z0foPX9cN9G/ozmUinj7JQ+53rz2uvZ110Pf2Ku69xZpQa698mbnnx7/mF8RmRkg63d9DOxw49PTFVVzquqysm3GL9TihgvylC2HrY0BeEI5FuMBUEALrVGIAjCmyKBQBCE1/0+AuGVCec4Nz+3FcIHQDICQRDajOD5+fncdgiCcEb+B5Dnh/Z1dw5EAAAAAElFTkSuQmCC)"
      ],
      "metadata": {
        "id": "3ngjIx1VXNz2"
      }
    },
    {
      "cell_type": "code",
      "source": [
        "ctab22=pd.crosstab(Nutrition['gender'],Nutrition['milk & milk products']) \n",
        "ctab22"
      ],
      "metadata": {
        "colab": {
          "base_uri": "https://localhost:8080/",
          "height": 0
        },
        "outputId": "cac84b71-f436-4cf0-f00b-88eed1bab2fc",
        "id": "embQeH6ZXSQT"
      },
      "execution_count": 120,
      "outputs": [
        {
          "output_type": "execute_result",
          "data": {
            "text/plain": [
              "milk & milk products  daily\n",
              "gender                     \n",
              "Female                   50\n",
              "Male                     50"
            ],
            "text/html": [
              "\n",
              "  <div id=\"df-a9112d13-52c0-414b-bdfa-ad91a3fef278\">\n",
              "    <div class=\"colab-df-container\">\n",
              "      <div>\n",
              "<style scoped>\n",
              "    .dataframe tbody tr th:only-of-type {\n",
              "        vertical-align: middle;\n",
              "    }\n",
              "\n",
              "    .dataframe tbody tr th {\n",
              "        vertical-align: top;\n",
              "    }\n",
              "\n",
              "    .dataframe thead th {\n",
              "        text-align: right;\n",
              "    }\n",
              "</style>\n",
              "<table border=\"1\" class=\"dataframe\">\n",
              "  <thead>\n",
              "    <tr style=\"text-align: right;\">\n",
              "      <th>milk &amp; milk products</th>\n",
              "      <th>daily</th>\n",
              "    </tr>\n",
              "    <tr>\n",
              "      <th>gender</th>\n",
              "      <th></th>\n",
              "    </tr>\n",
              "  </thead>\n",
              "  <tbody>\n",
              "    <tr>\n",
              "      <th>Female</th>\n",
              "      <td>50</td>\n",
              "    </tr>\n",
              "    <tr>\n",
              "      <th>Male</th>\n",
              "      <td>50</td>\n",
              "    </tr>\n",
              "  </tbody>\n",
              "</table>\n",
              "</div>\n",
              "      <button class=\"colab-df-convert\" onclick=\"convertToInteractive('df-a9112d13-52c0-414b-bdfa-ad91a3fef278')\"\n",
              "              title=\"Convert this dataframe to an interactive table.\"\n",
              "              style=\"display:none;\">\n",
              "        \n",
              "  <svg xmlns=\"http://www.w3.org/2000/svg\" height=\"24px\"viewBox=\"0 0 24 24\"\n",
              "       width=\"24px\">\n",
              "    <path d=\"M0 0h24v24H0V0z\" fill=\"none\"/>\n",
              "    <path d=\"M18.56 5.44l.94 2.06.94-2.06 2.06-.94-2.06-.94-.94-2.06-.94 2.06-2.06.94zm-11 1L8.5 8.5l.94-2.06 2.06-.94-2.06-.94L8.5 2.5l-.94 2.06-2.06.94zm10 10l.94 2.06.94-2.06 2.06-.94-2.06-.94-.94-2.06-.94 2.06-2.06.94z\"/><path d=\"M17.41 7.96l-1.37-1.37c-.4-.4-.92-.59-1.43-.59-.52 0-1.04.2-1.43.59L10.3 9.45l-7.72 7.72c-.78.78-.78 2.05 0 2.83L4 21.41c.39.39.9.59 1.41.59.51 0 1.02-.2 1.41-.59l7.78-7.78 2.81-2.81c.8-.78.8-2.07 0-2.86zM5.41 20L4 18.59l7.72-7.72 1.47 1.35L5.41 20z\"/>\n",
              "  </svg>\n",
              "      </button>\n",
              "      \n",
              "  <style>\n",
              "    .colab-df-container {\n",
              "      display:flex;\n",
              "      flex-wrap:wrap;\n",
              "      gap: 12px;\n",
              "    }\n",
              "\n",
              "    .colab-df-convert {\n",
              "      background-color: #E8F0FE;\n",
              "      border: none;\n",
              "      border-radius: 50%;\n",
              "      cursor: pointer;\n",
              "      display: none;\n",
              "      fill: #1967D2;\n",
              "      height: 32px;\n",
              "      padding: 0 0 0 0;\n",
              "      width: 32px;\n",
              "    }\n",
              "\n",
              "    .colab-df-convert:hover {\n",
              "      background-color: #E2EBFA;\n",
              "      box-shadow: 0px 1px 2px rgba(60, 64, 67, 0.3), 0px 1px 3px 1px rgba(60, 64, 67, 0.15);\n",
              "      fill: #174EA6;\n",
              "    }\n",
              "\n",
              "    [theme=dark] .colab-df-convert {\n",
              "      background-color: #3B4455;\n",
              "      fill: #D2E3FC;\n",
              "    }\n",
              "\n",
              "    [theme=dark] .colab-df-convert:hover {\n",
              "      background-color: #434B5C;\n",
              "      box-shadow: 0px 1px 3px 1px rgba(0, 0, 0, 0.15);\n",
              "      filter: drop-shadow(0px 1px 2px rgba(0, 0, 0, 0.3));\n",
              "      fill: #FFFFFF;\n",
              "    }\n",
              "  </style>\n",
              "\n",
              "      <script>\n",
              "        const buttonEl =\n",
              "          document.querySelector('#df-a9112d13-52c0-414b-bdfa-ad91a3fef278 button.colab-df-convert');\n",
              "        buttonEl.style.display =\n",
              "          google.colab.kernel.accessAllowed ? 'block' : 'none';\n",
              "\n",
              "        async function convertToInteractive(key) {\n",
              "          const element = document.querySelector('#df-a9112d13-52c0-414b-bdfa-ad91a3fef278');\n",
              "          const dataTable =\n",
              "            await google.colab.kernel.invokeFunction('convertToInteractive',\n",
              "                                                     [key], {});\n",
              "          if (!dataTable) return;\n",
              "\n",
              "          const docLinkHtml = 'Like what you see? Visit the ' +\n",
              "            '<a target=\"_blank\" href=https://colab.research.google.com/notebooks/data_table.ipynb>data table notebook</a>'\n",
              "            + ' to learn more about interactive tables.';\n",
              "          element.innerHTML = '';\n",
              "          dataTable['output_type'] = 'display_data';\n",
              "          await google.colab.output.renderOutput(dataTable, element);\n",
              "          const docLink = document.createElement('div');\n",
              "          docLink.innerHTML = docLinkHtml;\n",
              "          element.appendChild(docLink);\n",
              "        }\n",
              "      </script>\n",
              "    </div>\n",
              "  </div>\n",
              "  "
            ]
          },
          "metadata": {},
          "execution_count": 120
        }
      ]
    },
    {
      "cell_type": "code",
      "source": [
        "ctab22.plot(kind='bar', cmap ='cividis')\n",
        "plt.title('Gender vs milk & milk products', fontdict= {'fontsize':20, 'fontweight':5, 'color':'darkblue'})"
      ],
      "metadata": {
        "colab": {
          "base_uri": "https://localhost:8080/",
          "height": 0
        },
        "outputId": "1e071e03-86c8-41fa-8610-182b88c0bbc7",
        "id": "aC7LeNoZXSQT"
      },
      "execution_count": 121,
      "outputs": [
        {
          "output_type": "execute_result",
          "data": {
            "text/plain": [
              "Text(0.5, 1.0, 'Gender vs milk & milk products')"
            ]
          },
          "metadata": {},
          "execution_count": 121
        },
        {
          "output_type": "display_data",
          "data": {
            "text/plain": [
              "<Figure size 432x288 with 1 Axes>"
            ],
            "image/png": "[encoded data removed]"
          },
          "metadata": {
            "needs_background": "light"
          }
        }
      ]
    },
    {
      "cell_type": "code",
      "source": [
        "alpha=0.05\n",
        "values=stats.chi2_contingency(ctab22)\n",
        "values"
      ],
      "metadata": {
        "colab": {
          "base_uri": "https://localhost:8080/"
        },
        "outputId": "28b0286a-a830-4ae5-c4eb-7d71a48410ff",
        "id": "8pT7B1R1XSQU"
      },
      "execution_count": 122,
      "outputs": [
        {
          "output_type": "execute_result",
          "data": {
            "text/plain": [
              "(0.0, 1.0, 0, array([[50.],\n",
              "        [50.]]))"
            ]
          },
          "metadata": {},
          "execution_count": 122
        }
      ]
    },
    {
      "cell_type": "code",
      "source": [
        "p_value22=values[1]\n",
        "p_value22"
      ],
      "metadata": {
        "colab": {
          "base_uri": "https://localhost:8080/"
        },
        "outputId": "ed264fb3-205c-4088-fa94-02b17e121620",
        "id": "oY-iPBB_XSQU"
      },
      "execution_count": 123,
      "outputs": [
        {
          "output_type": "execute_result",
          "data": {
            "text/plain": [
              "1.0"
            ]
          },
          "metadata": {},
          "execution_count": 123
        }
      ]
    },
    {
      "cell_type": "code",
      "source": [
        "if p_value22 <= alpha:\n",
        "   print(\"Reject H0\")\n",
        "else:\n",
        "  print(\"Accept H0\")"
      ],
      "metadata": {
        "colab": {
          "base_uri": "https://localhost:8080/"
        },
        "outputId": "dde0e22b-c157-429f-fb4c-12f410752c52",
        "id": "6rJfqQ0rXSQU"
      },
      "execution_count": 124,
      "outputs": [
        {
          "output_type": "stream",
          "name": "stdout",
          "text": [
            "Accept H0\n"
          ]
        }
      ]
    },
    {
      "cell_type": "markdown",
      "source": [
        "![image.png](data:image/png;base64,iVBORw0KGgoAAAANSUhEUgAAARAAAAAeCAYAAADkd0HRAAAFm0lEQVR4nO2cPXLjPAyGX32zR5FTJDkBfAI5Taq06ejSatJtmW4burS6tKm2CX0C6wSKi6Xuwq/QHyXqz/JmHdt4ZjTjkWAQACmYJDj2kiQxYBiGmcAPALi7uzu1HQzDnBmfn5/479RGMAxzvnACYRhmMpxAGIaZDCcQhmEmwwmEYZjJcAJhGGYy15VA0i3Wyzk8zyuv+XyNbXpqw5h2UqznHjxvie2pTWFauaIEssVytkAYASQklFKQghDHIRYzHqAMM4UzTSBbLD0P3nyNsZOHdP2KCADJN+w2KwRBgNVmByUAIMLvi8ogh8eH4ZhN4UwTyHTub/xTm8AwF8PVJBD/5h4AENlTjXSN12xagpfgNHYxzFmTJIlxUMIAMEIZo5UwBBgABiAjlM5ktDSCrPtSu3oyQaMEWTpgiIRRjrjO2qJKrk2vEvZz6xKqo/1Kv6RMp9S2X222DHBp8VGiHherDRLKOKZY/itBpS2y1oQ2SoqaXyArPo57yshSFwxIGKWLPhOmptpqvxmjVvnima0fVPo2HDPXFyLZ0sZ1kSSJ6U0gIMoHkTDCCj4Vn0kYIarAkvOSVC8tCWmUUlZHZAO2lJRUvjxSKaNU9QLW9OrsGeXtZ7JqXBIo/Op7OcZwafHJEwhR1YZtt5N8anGkzH+yE0jhV5408viQFfeGQiOsxCFEM1Eem0Bc/bXYDcSsSDC1PqJ6/1wjwwmkYxC7g7YIvqy9kIW809GFvP1AK6Pdn7qs4xt6u+/30fgFcr6bD74xOi8tPh3+VC9e436nfN0vd9bTrq9Mjg1lVTyPSyBd+rPE0bDtmHFxZSRJYnr3QEi+YWXtOfoPTyAAEAq7+gM8EYB4D13eTPHxHgMk8DhLkabWhRvcE4DkT7Xj7Qfwnf3NGW4dvVNIsZ7PEEYxhNJZ5SUOMVseV3q5nPi0+wMEeJEEIMb7h1ubcOUtvyCgNs2NpTZ9lfzPhjJ/9QZJ0/0Z0g8/QDB27yt+xwcfGHL4cZC0f4N7APEoYY19DAARFrOoXcQZHCnS7Qc+fu+xz+8k4xrrJV0/I4wBkhqbwAcCDZnMEEYLeFAwmwBIP5CNsxtMrtOcaXz6yDafD2kk94tuMevRF+81AH9Q/niO1e9j9Saxfw4RLmYIiSCefuJlFUwfJxfEYQlkCiSh3h7aO8/3q07YLjFfRAcN1XEUv0CEp4eiNR+rnQbmVRJRt++IAYjHf1yOOXl8mEH8FTa7FV62a/x6DRGFC0QhQepdywzsuvjCMm41vYbvw2+7StkU69cIMQhCaRhj8kv/hSlsF1kSkQQgWmCRTVH+YTn3u8cnb/lPAuCQ8zP9y6pCH93ORsn3kfw5YEnxF5Z5frDCZmegszUwwl8XdfpwEl+YQHw8PBGACK/rlo5OU6Tl7WKa+YSXwB6oupyq1zlk0PnIjoBkHZ42nj38FNZKYQ/9z5a53yU+FXH4jLopW/wKs9nb7ej5fxHvFr/SSp89G2yXT7FdZkvPTnv3de+KpWqdAI+i2551ua8xPmZ+8AgxIHM19FVh3LJjvlPtlg0Gy2ckZFl+LKohtv5mqUzW6u5uXb+s3VNeIuw9B2KV8VCUFS39JIyU1XkGEgM77pcWn2Z5mxpl16afnf67ftllXHTpK6pOTgmZ8nJu0z+7TGyXfTvkLf3NMq7dV60x09KQXWa3yueDR48unMEy7vEvSPaseVAqq7W3nIloHPQRSued2qZXWQe1+gZznx1ZG+U3daGzrT276QuLj+WPlh0H40b579rbPCDn+lWIN+wV0ihtuv3Tykiimu4heUHtB8n6Yza2f66PJEmMlySJ4X9lv3K2S3iLCCR1vfzMMD3wv7IzDHMUnEAYhpkMJxCGYSbz9QfJmO9PsIExm1NbwZwhPANhGGYyP4BsN5VhGOZQ/gfRl/YxiwjCgwAAAABJRU5ErkJggg==)"
      ],
      "metadata": {
        "id": "Nb7ckR0wXhh0"
      }
    },
    {
      "cell_type": "code",
      "source": [
        "ctab23=pd.crosstab(Nutrition['gender'],Nutrition['meat & meat products']) \n",
        "ctab23"
      ],
      "metadata": {
        "colab": {
          "base_uri": "https://localhost:8080/",
          "height": 0
        },
        "outputId": "f549062f-6c5f-42f2-cec0-6060c115cef4",
        "id": "xSQAzzPwXmTm"
      },
      "execution_count": 125,
      "outputs": [
        {
          "output_type": "execute_result",
          "data": {
            "text/plain": [
              "meat & meat products  occassionaly  once in a week  once in two weeks  \\\n",
              "gender                                                                  \n",
              "Female                           4               1                  1   \n",
              "Male                             0               0                  8   \n",
              "\n",
              "meat & meat products  once or twice in a week  once or twice in aweek  \n",
              "gender                                                                 \n",
              "Female                                     44                       0  \n",
              "Male                                        0                      42  "
            ],
            "text/html": [
              "\n",
              "  <div id=\"df-44ab0960-36c3-401a-a4b1-6dd64fd4b6e7\">\n",
              "    <div class=\"colab-df-container\">\n",
              "      <div>\n",
              "<style scoped>\n",
              "    .dataframe tbody tr th:only-of-type {\n",
              "        vertical-align: middle;\n",
              "    }\n",
              "\n",
              "    .dataframe tbody tr th {\n",
              "        vertical-align: top;\n",
              "    }\n",
              "\n",
              "    .dataframe thead th {\n",
              "        text-align: right;\n",
              "    }\n",
              "</style>\n",
              "<table border=\"1\" class=\"dataframe\">\n",
              "  <thead>\n",
              "    <tr style=\"text-align: right;\">\n",
              "      <th>meat &amp; meat products</th>\n",
              "      <th>occassionaly</th>\n",
              "      <th>once in a week</th>\n",
              "      <th>once in two weeks</th>\n",
              "      <th>once or twice in a week</th>\n",
              "      <th>once or twice in aweek</th>\n",
              "    </tr>\n",
              "    <tr>\n",
              "      <th>gender</th>\n",
              "      <th></th>\n",
              "      <th></th>\n",
              "      <th></th>\n",
              "      <th></th>\n",
              "      <th></th>\n",
              "    </tr>\n",
              "  </thead>\n",
              "  <tbody>\n",
              "    <tr>\n",
              "      <th>Female</th>\n",
              "      <td>4</td>\n",
              "      <td>1</td>\n",
              "      <td>1</td>\n",
              "      <td>44</td>\n",
              "      <td>0</td>\n",
              "    </tr>\n",
              "    <tr>\n",
              "      <th>Male</th>\n",
              "      <td>0</td>\n",
              "      <td>0</td>\n",
              "      <td>8</td>\n",
              "      <td>0</td>\n",
              "      <td>42</td>\n",
              "    </tr>\n",
              "  </tbody>\n",
              "</table>\n",
              "</div>\n",
              "      <button class=\"colab-df-convert\" onclick=\"convertToInteractive('df-44ab0960-36c3-401a-a4b1-6dd64fd4b6e7')\"\n",
              "              title=\"Convert this dataframe to an interactive table.\"\n",
              "              style=\"display:none;\">\n",
              "        \n",
              "  <svg xmlns=\"http://www.w3.org/2000/svg\" height=\"24px\"viewBox=\"0 0 24 24\"\n",
              "       width=\"24px\">\n",
              "    <path d=\"M0 0h24v24H0V0z\" fill=\"none\"/>\n",
              "    <path d=\"M18.56 5.44l.94 2.06.94-2.06 2.06-.94-2.06-.94-.94-2.06-.94 2.06-2.06.94zm-11 1L8.5 8.5l.94-2.06 2.06-.94-2.06-.94L8.5 2.5l-.94 2.06-2.06.94zm10 10l.94 2.06.94-2.06 2.06-.94-2.06-.94-.94-2.06-.94 2.06-2.06.94z\"/><path d=\"M17.41 7.96l-1.37-1.37c-.4-.4-.92-.59-1.43-.59-.52 0-1.04.2-1.43.59L10.3 9.45l-7.72 7.72c-.78.78-.78 2.05 0 2.83L4 21.41c.39.39.9.59 1.41.59.51 0 1.02-.2 1.41-.59l7.78-7.78 2.81-2.81c.8-.78.8-2.07 0-2.86zM5.41 20L4 18.59l7.72-7.72 1.47 1.35L5.41 20z\"/>\n",
              "  </svg>\n",
              "      </button>\n",
              "      \n",
              "  <style>\n",
              "    .colab-df-container {\n",
              "      display:flex;\n",
              "      flex-wrap:wrap;\n",
              "      gap: 12px;\n",
              "    }\n",
              "\n",
              "    .colab-df-convert {\n",
              "      background-color: #E8F0FE;\n",
              "      border: none;\n",
              "      border-radius: 50%;\n",
              "      cursor: pointer;\n",
              "      display: none;\n",
              "      fill: #1967D2;\n",
              "      height: 32px;\n",
              "      padding: 0 0 0 0;\n",
              "      width: 32px;\n",
              "    }\n",
              "\n",
              "    .colab-df-convert:hover {\n",
              "      background-color: #E2EBFA;\n",
              "      box-shadow: 0px 1px 2px rgba(60, 64, 67, 0.3), 0px 1px 3px 1px rgba(60, 64, 67, 0.15);\n",
              "      fill: #174EA6;\n",
              "    }\n",
              "\n",
              "    [theme=dark] .colab-df-convert {\n",
              "      background-color: #3B4455;\n",
              "      fill: #D2E3FC;\n",
              "    }\n",
              "\n",
              "    [theme=dark] .colab-df-convert:hover {\n",
              "      background-color: #434B5C;\n",
              "      box-shadow: 0px 1px 3px 1px rgba(0, 0, 0, 0.15);\n",
              "      filter: drop-shadow(0px 1px 2px rgba(0, 0, 0, 0.3));\n",
              "      fill: #FFFFFF;\n",
              "    }\n",
              "  </style>\n",
              "\n",
              "      <script>\n",
              "        const buttonEl =\n",
              "          document.querySelector('#df-44ab0960-36c3-401a-a4b1-6dd64fd4b6e7 button.colab-df-convert');\n",
              "        buttonEl.style.display =\n",
              "          google.colab.kernel.accessAllowed ? 'block' : 'none';\n",
              "\n",
              "        async function convertToInteractive(key) {\n",
              "          const element = document.querySelector('#df-44ab0960-36c3-401a-a4b1-6dd64fd4b6e7');\n",
              "          const dataTable =\n",
              "            await google.colab.kernel.invokeFunction('convertToInteractive',\n",
              "                                                     [key], {});\n",
              "          if (!dataTable) return;\n",
              "\n",
              "          const docLinkHtml = 'Like what you see? Visit the ' +\n",
              "            '<a target=\"_blank\" href=https://colab.research.google.com/notebooks/data_table.ipynb>data table notebook</a>'\n",
              "            + ' to learn more about interactive tables.';\n",
              "          element.innerHTML = '';\n",
              "          dataTable['output_type'] = 'display_data';\n",
              "          await google.colab.output.renderOutput(dataTable, element);\n",
              "          const docLink = document.createElement('div');\n",
              "          docLink.innerHTML = docLinkHtml;\n",
              "          element.appendChild(docLink);\n",
              "        }\n",
              "      </script>\n",
              "    </div>\n",
              "  </div>\n",
              "  "
            ]
          },
          "metadata": {},
          "execution_count": 125
        }
      ]
    },
    {
      "cell_type": "code",
      "source": [
        "ctab23.plot(kind='bar', cmap ='cividis')\n",
        "plt.title('Gender vs meat & meat products', fontdict= {'fontsize':20, 'fontweight':5, 'color':'darkblue'})"
      ],
      "metadata": {
        "colab": {
          "base_uri": "https://localhost:8080/",
          "height": 0
        },
        "outputId": "50da4cef-c020-4970-80fe-7c55f6a4c81a",
        "id": "Ax_jyr1NXmTn"
      },
      "execution_count": 126,
      "outputs": [
        {
          "output_type": "execute_result",
          "data": {
            "text/plain": [
              "Text(0.5, 1.0, 'Gender vs meat & meat products')"
            ]
          },
          "metadata": {},
          "execution_count": 126
        },
        {
          "output_type": "display_data",
          "data": {
            "text/plain": [
              "<Figure size 432x288 with 1 Axes>"
            ],
            "image/png": "[encoded data removed]"
          },
          "metadata": {
            "needs_background": "light"
          }
        }
      ]
    },
    {
      "cell_type": "code",
      "source": [
        "alpha=0.05\n",
        "values=stats.chi2_contingency(ctab23)\n",
        "values"
      ],
      "metadata": {
        "colab": {
          "base_uri": "https://localhost:8080/"
        },
        "outputId": "de249230-c84b-4c2c-c6a3-42146c2b659e",
        "id": "jP6TN4EHXmTn"
      },
      "execution_count": 127,
      "outputs": [
        {
          "output_type": "execute_result",
          "data": {
            "text/plain": [
              "(96.44444444444444,\n",
              " 5.617152317228022e-20,\n",
              " 4,\n",
              " array([[ 2. ,  0.5,  4.5, 22. , 21. ],\n",
              "        [ 2. ,  0.5,  4.5, 22. , 21. ]]))"
            ]
          },
          "metadata": {},
          "execution_count": 127
        }
      ]
    },
    {
      "cell_type": "code",
      "source": [
        "p_value23=values[1]\n",
        "p_value23"
      ],
      "metadata": {
        "colab": {
          "base_uri": "https://localhost:8080/"
        },
        "outputId": "5a49e83f-fcdc-455c-85b5-1d61cf72f49d",
        "id": "pNkokkn1XmTn"
      },
      "execution_count": 128,
      "outputs": [
        {
          "output_type": "execute_result",
          "data": {
            "text/plain": [
              "5.617152317228022e-20"
            ]
          },
          "metadata": {},
          "execution_count": 128
        }
      ]
    },
    {
      "cell_type": "code",
      "source": [
        "if p_value23 <= alpha:\n",
        "   print(\"Reject H0\")\n",
        "else:\n",
        "  print(\"Accept H0\")"
      ],
      "metadata": {
        "colab": {
          "base_uri": "https://localhost:8080/"
        },
        "outputId": "9b1436c2-2243-4235-eada-e88e8cf54f85",
        "id": "7-NV6TaLXmTo"
      },
      "execution_count": 129,
      "outputs": [
        {
          "output_type": "stream",
          "name": "stdout",
          "text": [
            "Reject H0\n"
          ]
        }
      ]
    },
    {
      "cell_type": "markdown",
      "source": [
        "![image.png](data:image/png;base64,iVBORw0KGgoAAAANSUhEUgAAAL0AAAAeCAYAAAB5Xx9wAAADy0lEQVR4nO2cO3ajShRFN295KMiB7REUI5CcdNTpy4pQJM5e6KyTIpQyp4o6UTECMQLsoGEu9QJAH8AylrDlNnevpUAI7geO4NYJ8LIscwjCiLgCuL29vXQdgvApPD8/88+lixCEz0ZEL4wOEb0wOkT0wugQ0QujQ0QvjI7vJ/oiIQ4DPM/bfoIgJikuUEsSlvnjSyQXXuObiT4hnMyIlqC0wVqL0Yo0jZhNQpIPzFzEgQj8L+FCok8IPQ8viBlSIkX8yBJQ5onNYs50OmW+2GA1wJLfH6l64a/h6tIFfAR31/6n5/TnG9z809MKJ/Ctxhv/+g6A5f4tvYh5LG//PEwvU5fwtegWfbUACxMokpBguygMCLtm1r39DymIAw/P283TSejheTOWAGnEpI69PbggifdzVgvRPt1MHzAKWD4SF1Xtk4gUjX2a8/77f7sWLwgIu1bFvRetZ/QnDEOWZa6F1Q5wKOUAp5R2WiunoPxu8s79tW0Gyp1RONBu+1NunbWmjKW0M9Y6a62zeR2qyqFNud1op5RyzZSvUtde16qt63tod+3ledC6cQ6azVZ5D85Nx7az+xPOIssyd1z0NC5GXovVHArpPaIvD3C6K069f2t7X3JntNqJ/oz4uanitJqqam+em16iP7c/4VyyLHNHZ3plnpjvzwT+PT8VkL6QD/ewaZOuWL/bWC+IgwnRMkXbvHRs0ohJe+bqFWu9SgGNXTQXAlMejAJSVusTvaeT+hOG4ostZH3mTwatUqLZpJyf46SXrVnE/xKloEzOYuozXeTVfD/brReKNasUuLt+Y77PeUkBdcOkq8pqwZy+vPevf3p/wnB8MdED/pzFxpFbgyZlGc2YeAHH14f1nVnx876Ws898cyj8ZL0iBfSPC9o4J/UnDMmgos/+DHfl/GktDg2kRL9OGVMOhT8rHwU9rMsJN0fGuOJPBoC66XoO9KxskP6EUxhU9M3HfT1ytDkuqn386Q/0m5l9yomjFE/R+O3+P43afn8hf/O/Wcdb8ti8BRcJv6LmU+V0+vUnDMox96ZlTb7qxuzbe9pprZ1SpcOhOvffWXfUdqi2lTukdnaeNU5XcdvOUKvoylUp85YWo95ajCjtTO3IVDmOOyh78fYsS96wbY+6N2f1JwzBm5Zlf9E753LrjNoThdLO5rW4O/Z3dnvBd7lyZ/e88K1YbV+Dr+t45bTNdwLP67xdNbXjmUY89Vo9PS3L8/oTziXLMudlWebkbQjCWJC3IQijREQvjA4RvTA6RPTC6BDRC6PjCsoVrSCMhf8BewMlw/1g6lIAAAAASUVORK5CYII=)"
      ],
      "metadata": {
        "id": "GTKSlptvX1it"
      }
    },
    {
      "cell_type": "code",
      "source": [
        "ctab24=pd.crosstab(Nutrition['gender'],Nutrition['nuts & oils']) \n",
        "ctab24"
      ],
      "metadata": {
        "colab": {
          "base_uri": "https://localhost:8080/",
          "height": 0
        },
        "outputId": "8ca5c6a3-8df3-4106-885a-3860be4c0af5",
        "id": "fccgfWaQX5vk"
      },
      "execution_count": 130,
      "outputs": [
        {
          "output_type": "execute_result",
          "data": {
            "text/plain": [
              "nuts & oils  daily\n",
              "gender            \n",
              "Female          50\n",
              "Male            50"
            ],
            "text/html": [
              "\n",
              "  <div id=\"df-18ccd09c-4d33-469f-baf8-b01edf81cecd\">\n",
              "    <div class=\"colab-df-container\">\n",
              "      <div>\n",
              "<style scoped>\n",
              "    .dataframe tbody tr th:only-of-type {\n",
              "        vertical-align: middle;\n",
              "    }\n",
              "\n",
              "    .dataframe tbody tr th {\n",
              "        vertical-align: top;\n",
              "    }\n",
              "\n",
              "    .dataframe thead th {\n",
              "        text-align: right;\n",
              "    }\n",
              "</style>\n",
              "<table border=\"1\" class=\"dataframe\">\n",
              "  <thead>\n",
              "    <tr style=\"text-align: right;\">\n",
              "      <th>nuts &amp; oils</th>\n",
              "      <th>daily</th>\n",
              "    </tr>\n",
              "    <tr>\n",
              "      <th>gender</th>\n",
              "      <th></th>\n",
              "    </tr>\n",
              "  </thead>\n",
              "  <tbody>\n",
              "    <tr>\n",
              "      <th>Female</th>\n",
              "      <td>50</td>\n",
              "    </tr>\n",
              "    <tr>\n",
              "      <th>Male</th>\n",
              "      <td>50</td>\n",
              "    </tr>\n",
              "  </tbody>\n",
              "</table>\n",
              "</div>\n",
              "      <button class=\"colab-df-convert\" onclick=\"convertToInteractive('df-18ccd09c-4d33-469f-baf8-b01edf81cecd')\"\n",
              "              title=\"Convert this dataframe to an interactive table.\"\n",
              "              style=\"display:none;\">\n",
              "        \n",
              "  <svg xmlns=\"http://www.w3.org/2000/svg\" height=\"24px\"viewBox=\"0 0 24 24\"\n",
              "       width=\"24px\">\n",
              "    <path d=\"M0 0h24v24H0V0z\" fill=\"none\"/>\n",
              "    <path d=\"M18.56 5.44l.94 2.06.94-2.06 2.06-.94-2.06-.94-.94-2.06-.94 2.06-2.06.94zm-11 1L8.5 8.5l.94-2.06 2.06-.94-2.06-.94L8.5 2.5l-.94 2.06-2.06.94zm10 10l.94 2.06.94-2.06 2.06-.94-2.06-.94-.94-2.06-.94 2.06-2.06.94z\"/><path d=\"M17.41 7.96l-1.37-1.37c-.4-.4-.92-.59-1.43-.59-.52 0-1.04.2-1.43.59L10.3 9.45l-7.72 7.72c-.78.78-.78 2.05 0 2.83L4 21.41c.39.39.9.59 1.41.59.51 0 1.02-.2 1.41-.59l7.78-7.78 2.81-2.81c.8-.78.8-2.07 0-2.86zM5.41 20L4 18.59l7.72-7.72 1.47 1.35L5.41 20z\"/>\n",
              "  </svg>\n",
              "      </button>\n",
              "      \n",
              "  <style>\n",
              "    .colab-df-container {\n",
              "      display:flex;\n",
              "      flex-wrap:wrap;\n",
              "      gap: 12px;\n",
              "    }\n",
              "\n",
              "    .colab-df-convert {\n",
              "      background-color: #E8F0FE;\n",
              "      border: none;\n",
              "      border-radius: 50%;\n",
              "      cursor: pointer;\n",
              "      display: none;\n",
              "      fill: #1967D2;\n",
              "      height: 32px;\n",
              "      padding: 0 0 0 0;\n",
              "      width: 32px;\n",
              "    }\n",
              "\n",
              "    .colab-df-convert:hover {\n",
              "      background-color: #E2EBFA;\n",
              "      box-shadow: 0px 1px 2px rgba(60, 64, 67, 0.3), 0px 1px 3px 1px rgba(60, 64, 67, 0.15);\n",
              "      fill: #174EA6;\n",
              "    }\n",
              "\n",
              "    [theme=dark] .colab-df-convert {\n",
              "      background-color: #3B4455;\n",
              "      fill: #D2E3FC;\n",
              "    }\n",
              "\n",
              "    [theme=dark] .colab-df-convert:hover {\n",
              "      background-color: #434B5C;\n",
              "      box-shadow: 0px 1px 3px 1px rgba(0, 0, 0, 0.15);\n",
              "      filter: drop-shadow(0px 1px 2px rgba(0, 0, 0, 0.3));\n",
              "      fill: #FFFFFF;\n",
              "    }\n",
              "  </style>\n",
              "\n",
              "      <script>\n",
              "        const buttonEl =\n",
              "          document.querySelector('#df-18ccd09c-4d33-469f-baf8-b01edf81cecd button.colab-df-convert');\n",
              "        buttonEl.style.display =\n",
              "          google.colab.kernel.accessAllowed ? 'block' : 'none';\n",
              "\n",
              "        async function convertToInteractive(key) {\n",
              "          const element = document.querySelector('#df-18ccd09c-4d33-469f-baf8-b01edf81cecd');\n",
              "          const dataTable =\n",
              "            await google.colab.kernel.invokeFunction('convertToInteractive',\n",
              "                                                     [key], {});\n",
              "          if (!dataTable) return;\n",
              "\n",
              "          const docLinkHtml = 'Like what you see? Visit the ' +\n",
              "            '<a target=\"_blank\" href=https://colab.research.google.com/notebooks/data_table.ipynb>data table notebook</a>'\n",
              "            + ' to learn more about interactive tables.';\n",
              "          element.innerHTML = '';\n",
              "          dataTable['output_type'] = 'display_data';\n",
              "          await google.colab.output.renderOutput(dataTable, element);\n",
              "          const docLink = document.createElement('div');\n",
              "          docLink.innerHTML = docLinkHtml;\n",
              "          element.appendChild(docLink);\n",
              "        }\n",
              "      </script>\n",
              "    </div>\n",
              "  </div>\n",
              "  "
            ]
          },
          "metadata": {},
          "execution_count": 130
        }
      ]
    },
    {
      "cell_type": "code",
      "source": [
        "ctab24.plot(kind='bar', cmap ='cividis')\n",
        "plt.title('Gender vs nuts and oils', fontdict= {'fontsize':20, 'fontweight':5, 'color':'darkblue'})"
      ],
      "metadata": {
        "colab": {
          "base_uri": "https://localhost:8080/",
          "height": 0
        },
        "outputId": "f4d6bfb6-f493-41e1-b68c-1df270c14bb9",
        "id": "HNmnpnU_X5vl"
      },
      "execution_count": 131,
      "outputs": [
        {
          "output_type": "execute_result",
          "data": {
            "text/plain": [
              "Text(0.5, 1.0, 'Gender vs nuts and oils')"
            ]
          },
          "metadata": {},
          "execution_count": 131
        },
        {
          "output_type": "display_data",
          "data": {
            "text/plain": [
              "<Figure size 432x288 with 1 Axes>"
            ],
            "image/png": "[encoded data removed]"
          },
          "metadata": {
            "needs_background": "light"
          }
        }
      ]
    },
    {
      "cell_type": "code",
      "source": [
        "alpha=0.05\n",
        "values=stats.chi2_contingency(ctab24)\n",
        "values"
      ],
      "metadata": {
        "colab": {
          "base_uri": "https://localhost:8080/"
        },
        "outputId": "6ea26808-6982-46f4-ac75-7cd1df6a9897",
        "id": "zTdTQBPSX5vl"
      },
      "execution_count": 132,
      "outputs": [
        {
          "output_type": "execute_result",
          "data": {
            "text/plain": [
              "(0.0, 1.0, 0, array([[50.],\n",
              "        [50.]]))"
            ]
          },
          "metadata": {},
          "execution_count": 132
        }
      ]
    },
    {
      "cell_type": "code",
      "source": [
        "p_value24=values[1]\n",
        "p_value24"
      ],
      "metadata": {
        "colab": {
          "base_uri": "https://localhost:8080/"
        },
        "outputId": "2cc75f1c-30a4-4523-ecff-e87dc829ac18",
        "id": "YglJMirTX5vm"
      },
      "execution_count": 133,
      "outputs": [
        {
          "output_type": "execute_result",
          "data": {
            "text/plain": [
              "1.0"
            ]
          },
          "metadata": {},
          "execution_count": 133
        }
      ]
    },
    {
      "cell_type": "code",
      "source": [
        "if p_value24 <= alpha:\n",
        "   print(\"Reject H0\")\n",
        "else:\n",
        "  print(\"Accept H0\")"
      ],
      "metadata": {
        "colab": {
          "base_uri": "https://localhost:8080/"
        },
        "outputId": "93df23da-345e-4ae2-8fac-95d6feab6915",
        "id": "suTaUcloX5vm"
      },
      "execution_count": 134,
      "outputs": [
        {
          "output_type": "stream",
          "name": "stdout",
          "text": [
            "Accept H0\n"
          ]
        }
      ]
    },
    {
      "cell_type": "markdown",
      "source": [
        "![image.png](data:image/png;base64,iVBORw0KGgoAAAANSUhEUgAAAPcAAAAeCAYAAADwx4gZAAAE7klEQVR4nO2dMXKkOhCGf175KMwEtk/QnIDZxJFTZ1Joks02dOYEQpM5dbSJ4QTDCbADi7voBcAgBGIZj8czy/ZXRW3ZtFpNS78Q6q2yV5alBsMwi+MCAK6urk4dB8MwX8jb2xv+O3UQDMMcBxY3wywUFjfDLBQWN8MsFBY3wywUFjfDLBQW99lQIQk8eJ5EfupQmEXA4maYhcLi/ifJIT0PXpCgOnUozNFgcTPMQmFxM8xCcYi7Qp5IBJ4Hr7mCIOkf9OQSnudBDk5/Jg6GqgQy6Hz2rp2jClUuEfTsAshkZANpxJDLYGebTJ1I5bK2qTDoJ5D5cJs6q49hvrwggMwdm94qR7Lz5cELJFymn8ozqr5/L9g9Wy49eN4GKQAUEVYj+f/j2DN/B2VZaptMQAPQJGKdZZnOYqGJSMeqZ6QBaJHZrZWOCRoQunersQcJHbc+AQ2QFnGms8a3iqnuu7XLYi2oiacXgOGz8UNCaEGk40FMdhvSRF0/QrSxQMN+oD/20T4vNIi0EEILQTt/NEhQpkXrr+27bQ933mbnecR/L3+qzimZY5F1+Z819szZU5alHhF3M2ko1pPjueekqyeNNRFVPcl6olWZVoOOmwlrx7QT3h6Tz9mmFcX4Iubqo12MBouCw99u8bKc7fwcKG6X/1rUVmyDMZ459szZU5aldn9zFy94de4V96XCRwmALrEyf+2vcQ2geFfG70L4vt1+hUsCULxD2bcAUPyM+0GbaYZtQvyMCUCBl9fhc4/3UeH1pQAgkD2F1r0xf539L8uZf/+MmPZ7hiFu//BDhHaILr507JlTMSJuH/fPMQQViDar+tsxGfkW3Qsf61rFfXHmv5ECoMuVZV+hyhMkUkJKCSkf8VIcFMC8KNfXe7ZQeC8wXLQsf93iNW1/OIf6P8bYM6di/M3t3+Npq6GyGAIF0miDVXMI9VnCGwEgxSaQSPK8PrTZpAAItz+Mt0wuEXgrrDYRojRF2lzfoG0GOMrYM6dhshTmh+1ACwAFosfhmWn5MWfUKyQPKUACAimizQabqP45U1tju1vbFSCITEFr3VzqC7asM6L8KAEA1+u5e/zpz4XWX7czmbafYl6eGz7h32bO2DPnzaw6tx/eQDju9b6XAVTJHaLBa7beLtL1DZ62eifa7fYJoT+0A93iZ++GwvucQPegiO6st1GOx6gAQBh8JThpPjeQ4sF+tVWdv25n4rKvkMuxvBnxzspziBvhjifZfUfPX2Smxp45cwan5SrWBOpKIUYpqn9ia5aAzJIONf+ap7iGrXkRNSWv7mzWLsXEsVGmcpwkD06Gp+iVttpSmFG6cpTb3H2YpaeuFAaXv6ZC0PXdlQSHeds3z33/dinMPNFv84z2+UW2x9gz546zFJYZk72dAKYAO9NMx0Q9oWRqvOxVl2iamnZTW42N+rIw68aGOADSIlPjpbQDxE2x0qq3cNT9TNm7qWM2c2YvWnbehLHYkYideWvt5+a589/PIYnMKm9ZMcRK7zX2zFnjEPcRmBJI+6b5rlfDZxYEhvnLmK5zfyGTB1XqHXX15jjFIYb5V7n4jk78H7egqEC6CVCKW/y6WQMAPn4/4CV1/KcLhmEO4lvEDf8eW7WGvHtAmkbYpO0NAokM6ikES5thvhavLEvNf3GEYZYF/8URhlkwF0CtcoZhlsX/nOPsiIE9DRQAAAAASUVORK5CYII=)"
      ],
      "metadata": {
        "id": "AJyvrbvDYOGl"
      }
    },
    {
      "cell_type": "code",
      "source": [
        "ctab25=pd.crosstab(Nutrition['gender'],Nutrition['sugar products']) \n",
        "ctab25"
      ],
      "metadata": {
        "colab": {
          "base_uri": "https://localhost:8080/",
          "height": 0
        },
        "outputId": "f10c7839-7729-48c6-a9ff-b1f9f1d07cb3",
        "id": "1FwIora-YTSt"
      },
      "execution_count": 135,
      "outputs": [
        {
          "output_type": "execute_result",
          "data": {
            "text/plain": [
              "sugar products  daily\n",
              "gender               \n",
              "Female             50\n",
              "Male               50"
            ],
            "text/html": [
              "\n",
              "  <div id=\"df-59aa0879-7a4a-43a6-b23a-69b3aa927276\">\n",
              "    <div class=\"colab-df-container\">\n",
              "      <div>\n",
              "<style scoped>\n",
              "    .dataframe tbody tr th:only-of-type {\n",
              "        vertical-align: middle;\n",
              "    }\n",
              "\n",
              "    .dataframe tbody tr th {\n",
              "        vertical-align: top;\n",
              "    }\n",
              "\n",
              "    .dataframe thead th {\n",
              "        text-align: right;\n",
              "    }\n",
              "</style>\n",
              "<table border=\"1\" class=\"dataframe\">\n",
              "  <thead>\n",
              "    <tr style=\"text-align: right;\">\n",
              "      <th>sugar products</th>\n",
              "      <th>daily</th>\n",
              "    </tr>\n",
              "    <tr>\n",
              "      <th>gender</th>\n",
              "      <th></th>\n",
              "    </tr>\n",
              "  </thead>\n",
              "  <tbody>\n",
              "    <tr>\n",
              "      <th>Female</th>\n",
              "      <td>50</td>\n",
              "    </tr>\n",
              "    <tr>\n",
              "      <th>Male</th>\n",
              "      <td>50</td>\n",
              "    </tr>\n",
              "  </tbody>\n",
              "</table>\n",
              "</div>\n",
              "      <button class=\"colab-df-convert\" onclick=\"convertToInteractive('df-59aa0879-7a4a-43a6-b23a-69b3aa927276')\"\n",
              "              title=\"Convert this dataframe to an interactive table.\"\n",
              "              style=\"display:none;\">\n",
              "        \n",
              "  <svg xmlns=\"http://www.w3.org/2000/svg\" height=\"24px\"viewBox=\"0 0 24 24\"\n",
              "       width=\"24px\">\n",
              "    <path d=\"M0 0h24v24H0V0z\" fill=\"none\"/>\n",
              "    <path d=\"M18.56 5.44l.94 2.06.94-2.06 2.06-.94-2.06-.94-.94-2.06-.94 2.06-2.06.94zm-11 1L8.5 8.5l.94-2.06 2.06-.94-2.06-.94L8.5 2.5l-.94 2.06-2.06.94zm10 10l.94 2.06.94-2.06 2.06-.94-2.06-.94-.94-2.06-.94 2.06-2.06.94z\"/><path d=\"M17.41 7.96l-1.37-1.37c-.4-.4-.92-.59-1.43-.59-.52 0-1.04.2-1.43.59L10.3 9.45l-7.72 7.72c-.78.78-.78 2.05 0 2.83L4 21.41c.39.39.9.59 1.41.59.51 0 1.02-.2 1.41-.59l7.78-7.78 2.81-2.81c.8-.78.8-2.07 0-2.86zM5.41 20L4 18.59l7.72-7.72 1.47 1.35L5.41 20z\"/>\n",
              "  </svg>\n",
              "      </button>\n",
              "      \n",
              "  <style>\n",
              "    .colab-df-container {\n",
              "      display:flex;\n",
              "      flex-wrap:wrap;\n",
              "      gap: 12px;\n",
              "    }\n",
              "\n",
              "    .colab-df-convert {\n",
              "      background-color: #E8F0FE;\n",
              "      border: none;\n",
              "      border-radius: 50%;\n",
              "      cursor: pointer;\n",
              "      display: none;\n",
              "      fill: #1967D2;\n",
              "      height: 32px;\n",
              "      padding: 0 0 0 0;\n",
              "      width: 32px;\n",
              "    }\n",
              "\n",
              "    .colab-df-convert:hover {\n",
              "      background-color: #E2EBFA;\n",
              "      box-shadow: 0px 1px 2px rgba(60, 64, 67, 0.3), 0px 1px 3px 1px rgba(60, 64, 67, 0.15);\n",
              "      fill: #174EA6;\n",
              "    }\n",
              "\n",
              "    [theme=dark] .colab-df-convert {\n",
              "      background-color: #3B4455;\n",
              "      fill: #D2E3FC;\n",
              "    }\n",
              "\n",
              "    [theme=dark] .colab-df-convert:hover {\n",
              "      background-color: #434B5C;\n",
              "      box-shadow: 0px 1px 3px 1px rgba(0, 0, 0, 0.15);\n",
              "      filter: drop-shadow(0px 1px 2px rgba(0, 0, 0, 0.3));\n",
              "      fill: #FFFFFF;\n",
              "    }\n",
              "  </style>\n",
              "\n",
              "      <script>\n",
              "        const buttonEl =\n",
              "          document.querySelector('#df-59aa0879-7a4a-43a6-b23a-69b3aa927276 button.colab-df-convert');\n",
              "        buttonEl.style.display =\n",
              "          google.colab.kernel.accessAllowed ? 'block' : 'none';\n",
              "\n",
              "        async function convertToInteractive(key) {\n",
              "          const element = document.querySelector('#df-59aa0879-7a4a-43a6-b23a-69b3aa927276');\n",
              "          const dataTable =\n",
              "            await google.colab.kernel.invokeFunction('convertToInteractive',\n",
              "                                                     [key], {});\n",
              "          if (!dataTable) return;\n",
              "\n",
              "          const docLinkHtml = 'Like what you see? Visit the ' +\n",
              "            '<a target=\"_blank\" href=https://colab.research.google.com/notebooks/data_table.ipynb>data table notebook</a>'\n",
              "            + ' to learn more about interactive tables.';\n",
              "          element.innerHTML = '';\n",
              "          dataTable['output_type'] = 'display_data';\n",
              "          await google.colab.output.renderOutput(dataTable, element);\n",
              "          const docLink = document.createElement('div');\n",
              "          docLink.innerHTML = docLinkHtml;\n",
              "          element.appendChild(docLink);\n",
              "        }\n",
              "      </script>\n",
              "    </div>\n",
              "  </div>\n",
              "  "
            ]
          },
          "metadata": {},
          "execution_count": 135
        }
      ]
    },
    {
      "cell_type": "code",
      "source": [
        "ctab25.plot(kind='bar', cmap ='cividis')\n",
        "plt.title('Gender vs Sugar products', fontdict= {'fontsize':20, 'fontweight':5, 'color':'darkblue'})"
      ],
      "metadata": {
        "colab": {
          "base_uri": "https://localhost:8080/",
          "height": 0
        },
        "outputId": "53e97b68-c1fc-484d-f0f0-fdac6c89211b",
        "id": "qPFQMeidYTSt"
      },
      "execution_count": 136,
      "outputs": [
        {
          "output_type": "execute_result",
          "data": {
            "text/plain": [
              "Text(0.5, 1.0, 'Gender vs Sugar products')"
            ]
          },
          "metadata": {},
          "execution_count": 136
        },
        {
          "output_type": "display_data",
          "data": {
            "text/plain": [
              "<Figure size 432x288 with 1 Axes>"
            ],
            "image/png": "[encoded data removed]"
          },
          "metadata": {
            "needs_background": "light"
          }
        }
      ]
    },
    {
      "cell_type": "code",
      "source": [
        "alpha=0.05\n",
        "values=stats.chi2_contingency(ctab25)\n",
        "values"
      ],
      "metadata": {
        "colab": {
          "base_uri": "https://localhost:8080/"
        },
        "outputId": "59d24e3d-9582-4a44-8418-d7e3c2d39ee6",
        "id": "aXtikm_oYTSu"
      },
      "execution_count": 137,
      "outputs": [
        {
          "output_type": "execute_result",
          "data": {
            "text/plain": [
              "(0.0, 1.0, 0, array([[50.],\n",
              "        [50.]]))"
            ]
          },
          "metadata": {},
          "execution_count": 137
        }
      ]
    },
    {
      "cell_type": "code",
      "source": [
        "p_value25=values[1]\n",
        "p_value25"
      ],
      "metadata": {
        "colab": {
          "base_uri": "https://localhost:8080/"
        },
        "outputId": "fbab2727-7224-404e-9960-ad8c0f8d2f7f",
        "id": "Na1BuUK_YTSu"
      },
      "execution_count": 138,
      "outputs": [
        {
          "output_type": "execute_result",
          "data": {
            "text/plain": [
              "1.0"
            ]
          },
          "metadata": {},
          "execution_count": 138
        }
      ]
    },
    {
      "cell_type": "code",
      "source": [
        "if p_value25 <= alpha:\n",
        "   print(\"Reject H0\")\n",
        "else:\n",
        "  print(\"Accept H0\")"
      ],
      "metadata": {
        "colab": {
          "base_uri": "https://localhost:8080/"
        },
        "outputId": "01d007b9-d146-422a-b03b-0ca9994004ed",
        "id": "MUeac15UYTSu"
      },
      "execution_count": 139,
      "outputs": [
        {
          "output_type": "stream",
          "name": "stdout",
          "text": [
            "Accept H0\n"
          ]
        }
      ]
    },
    {
      "cell_type": "markdown",
      "source": [
        "![image.png](data:image/png;base64,iVBORw0KGgoAAAANSUhEUgAAAc4AAAAeCAYAAAClr/4rAAAEuklEQVR4nO3cO3KjShQG4L9veSnIgeUVNCvAThw5nawJpcTZhM6coNDKnDqaxM0KzAqQgoG9nBsA4tV6YIFHc+//VSkY1PTpR1Uf06JHpWkqICIiopNcAcB8Pv/T7SAiIrp4m80G//zpRhAREf1NmDiJiIgGYOIkIiIagImTiIhoACZOIiKiAZg4iYiIBhiYOHOsfAWlQsTTtIdGwXkiIprKKE+c+cqHUgr+Kh+jOprI0HnivBIR9XGr9n8vRqgUlL8C0yMR0XFXY1TiLT4hizFqoikNnSfOKxFRH584iYiIBtifOPMYq7D4jUspBeWHiPft5cWh47ewHPEqhF/drxR8f+V4WSVHHPqdcq5YOfI4hO/X5ZTyETp/fxs79j55e4yUDz+MO1ue/bYo30foClKOYxij6OvRfuKseYpDBaXusAaAZIlZVUcYO8t/W5+IiC5ZmqbSZ8UAAkCgjRhjROvy34AARmyruBEAoqOscakoq00k1lqxkRGttTSKiEgmkYYAul0OxbVm2SzSRX3aSGStWBuJKduk25WOHtutP0b99lQxINC6KGN0GQOije1UaXZlq762yvcadeY8ZcU46vL+Ylyt2GxP+W/pExHR5UrTVJyJc5ekOotadf144iwXVx3JoWWxqq+71kpWLubNLzIrWa+yMnG04kwQ+8D9vYU/s2Jtu0y/rirhdRJ0lWS616s2dfp0/jw12uIaL0f5qftERHTJ0jQVx1Ztjo/3BIDBz4XX+sZbvCHSAx5nk3d87N03LONog4dZjjxvfHCNWw0g/V1ve3oBPK9bxww3GkCyRTZl7H33O8YIXoAgaJexr0Hn/gBPkQaQ4P2jH0VHb2hV693jsdfPEefpZFP3iYjo8jneqs2wTQDoG8y+XK2HxVuE7Y8llnczLLWGefyJp0WAeu0s42CNu9naXU1v8c+Rxx/4+LXFtrySJt8Vu+mUMTpcxru+BZAg2WYAen8RnGCMeRo35vl9IiK6fKMcR3HyFnj9XOApXuHleYn18g7rpUaUfbafPHQE+3bvXvw9r15+4xD+3Rq9PPkdsYmIiEqOrdoD259f4AULvH4KMmsAJFi+VO+21nHgefBcn10tOVbPayTQMDaDiJSf7OCW5DixDzg4RofHMf+dAgD0zVefF8edpzFint8nIqLL50icHq5vAWCN5+7xkvAHlic98jlqDR5gOnHuH7UjThUuR767XG0RPuIpaKa0bLdlO11slwAPBu778xirOMf+cSzKvCwTABqP9199rh1rnoYk4Kn7RET0F3AeR6neeNwdH6iPaRTHHY4dc4hEN495NI6OtF/GrI9TaBPtjplEpv+2aPeISbQ7OtJpzwSxnRpj1D2OUr9x2jwuUh/dwL6jGM63XkXqIyCdcT93njpji+qoSNX+Q2/hTtUnIqILtvc4ioiIZLZOBFXCyqpF9vhxFNs4q1ctypF1JaNTy2a7pIYyORibOdozRew9MitGt9ukje0cryja3Yyh98X4SpI5a552X7TrqL4/1J4p+0REdKHSNBWVpqnM5/ORn2OJiIj+ezabDf+vWiIioiGYOImIiAZg4iQiIhqAiZOIiGgAJk4iIqIBroDiLSEiIiI67l+7BFEEwkyF4QAAAABJRU5ErkJggg==)"
      ],
      "metadata": {
        "id": "Cd3mvT7mYpoA"
      }
    },
    {
      "cell_type": "code",
      "source": [
        "ctab26=pd.crosstab(Nutrition['gender'],Nutrition['disease condition']) \n",
        "ctab26"
      ],
      "metadata": {
        "colab": {
          "base_uri": "https://localhost:8080/",
          "height": 0
        },
        "outputId": "b6bb54b1-0d8a-4635-bdbf-7fb6e2e5acb6",
        "id": "8ysHsvtiY2fh"
      },
      "execution_count": 140,
      "outputs": [
        {
          "output_type": "execute_result",
          "data": {
            "text/plain": [
              "disease condition   other disease  cardiovascular disease  \\\n",
              "gender                                                      \n",
              "Female                          1                       0   \n",
              "Male                            0                       2   \n",
              "\n",
              "disease condition  cardiovascular disease, other  \\\n",
              "gender                                             \n",
              "Female                                         3   \n",
              "Male                                           0   \n",
              "\n",
              "disease condition  cardiovascular disease, other, liver disease  \\\n",
              "gender                                                            \n",
              "Female                                                        1   \n",
              "Male                                                          0   \n",
              "\n",
              "disease condition  diabetes mellitus  diabetes mellitus, other  \\\n",
              "gender                                                           \n",
              "Female                             6                         2   \n",
              "Male                               3                         1   \n",
              "\n",
              "disease condition  liver disease, cardiovascular disease, other disease  no  \\\n",
              "gender                                                                        \n",
              "Female                                                             1     33   \n",
              "Male                                                               0     39   \n",
              "\n",
              "disease condition  other  other diseases  other diseases   \n",
              "gender                                                     \n",
              "Female                 0               2                1  \n",
              "Male                   5               0                0  "
            ],
            "text/html": [
              "\n",
              "  <div id=\"df-6c21f56b-2e4f-4985-93ac-576649a36059\">\n",
              "    <div class=\"colab-df-container\">\n",
              "      <div>\n",
              "<style scoped>\n",
              "    .dataframe tbody tr th:only-of-type {\n",
              "        vertical-align: middle;\n",
              "    }\n",
              "\n",
              "    .dataframe tbody tr th {\n",
              "        vertical-align: top;\n",
              "    }\n",
              "\n",
              "    .dataframe thead th {\n",
              "        text-align: right;\n",
              "    }\n",
              "</style>\n",
              "<table border=\"1\" class=\"dataframe\">\n",
              "  <thead>\n",
              "    <tr style=\"text-align: right;\">\n",
              "      <th>disease condition</th>\n",
              "      <th>other disease</th>\n",
              "      <th>cardiovascular disease</th>\n",
              "      <th>cardiovascular disease, other</th>\n",
              "      <th>cardiovascular disease, other, liver disease</th>\n",
              "      <th>diabetes mellitus</th>\n",
              "      <th>diabetes mellitus, other</th>\n",
              "      <th>liver disease, cardiovascular disease, other disease</th>\n",
              "      <th>no</th>\n",
              "      <th>other</th>\n",
              "      <th>other diseases</th>\n",
              "      <th>other diseases</th>\n",
              "    </tr>\n",
              "    <tr>\n",
              "      <th>gender</th>\n",
              "      <th></th>\n",
              "      <th></th>\n",
              "      <th></th>\n",
              "      <th></th>\n",
              "      <th></th>\n",
              "      <th></th>\n",
              "      <th></th>\n",
              "      <th></th>\n",
              "      <th></th>\n",
              "      <th></th>\n",
              "      <th></th>\n",
              "    </tr>\n",
              "  </thead>\n",
              "  <tbody>\n",
              "    <tr>\n",
              "      <th>Female</th>\n",
              "      <td>1</td>\n",
              "      <td>0</td>\n",
              "      <td>3</td>\n",
              "      <td>1</td>\n",
              "      <td>6</td>\n",
              "      <td>2</td>\n",
              "      <td>1</td>\n",
              "      <td>33</td>\n",
              "      <td>0</td>\n",
              "      <td>2</td>\n",
              "      <td>1</td>\n",
              "    </tr>\n",
              "    <tr>\n",
              "      <th>Male</th>\n",
              "      <td>0</td>\n",
              "      <td>2</td>\n",
              "      <td>0</td>\n",
              "      <td>0</td>\n",
              "      <td>3</td>\n",
              "      <td>1</td>\n",
              "      <td>0</td>\n",
              "      <td>39</td>\n",
              "      <td>5</td>\n",
              "      <td>0</td>\n",
              "      <td>0</td>\n",
              "    </tr>\n",
              "  </tbody>\n",
              "</table>\n",
              "</div>\n",
              "      <button class=\"colab-df-convert\" onclick=\"convertToInteractive('df-6c21f56b-2e4f-4985-93ac-576649a36059')\"\n",
              "              title=\"Convert this dataframe to an interactive table.\"\n",
              "              style=\"display:none;\">\n",
              "        \n",
              "  <svg xmlns=\"http://www.w3.org/2000/svg\" height=\"24px\"viewBox=\"0 0 24 24\"\n",
              "       width=\"24px\">\n",
              "    <path d=\"M0 0h24v24H0V0z\" fill=\"none\"/>\n",
              "    <path d=\"M18.56 5.44l.94 2.06.94-2.06 2.06-.94-2.06-.94-.94-2.06-.94 2.06-2.06.94zm-11 1L8.5 8.5l.94-2.06 2.06-.94-2.06-.94L8.5 2.5l-.94 2.06-2.06.94zm10 10l.94 2.06.94-2.06 2.06-.94-2.06-.94-.94-2.06-.94 2.06-2.06.94z\"/><path d=\"M17.41 7.96l-1.37-1.37c-.4-.4-.92-.59-1.43-.59-.52 0-1.04.2-1.43.59L10.3 9.45l-7.72 7.72c-.78.78-.78 2.05 0 2.83L4 21.41c.39.39.9.59 1.41.59.51 0 1.02-.2 1.41-.59l7.78-7.78 2.81-2.81c.8-.78.8-2.07 0-2.86zM5.41 20L4 18.59l7.72-7.72 1.47 1.35L5.41 20z\"/>\n",
              "  </svg>\n",
              "      </button>\n",
              "      \n",
              "  <style>\n",
              "    .colab-df-container {\n",
              "      display:flex;\n",
              "      flex-wrap:wrap;\n",
              "      gap: 12px;\n",
              "    }\n",
              "\n",
              "    .colab-df-convert {\n",
              "      background-color: #E8F0FE;\n",
              "      border: none;\n",
              "      border-radius: 50%;\n",
              "      cursor: pointer;\n",
              "      display: none;\n",
              "      fill: #1967D2;\n",
              "      height: 32px;\n",
              "      padding: 0 0 0 0;\n",
              "      width: 32px;\n",
              "    }\n",
              "\n",
              "    .colab-df-convert:hover {\n",
              "      background-color: #E2EBFA;\n",
              "      box-shadow: 0px 1px 2px rgba(60, 64, 67, 0.3), 0px 1px 3px 1px rgba(60, 64, 67, 0.15);\n",
              "      fill: #174EA6;\n",
              "    }\n",
              "\n",
              "    [theme=dark] .colab-df-convert {\n",
              "      background-color: #3B4455;\n",
              "      fill: #D2E3FC;\n",
              "    }\n",
              "\n",
              "    [theme=dark] .colab-df-convert:hover {\n",
              "      background-color: #434B5C;\n",
              "      box-shadow: 0px 1px 3px 1px rgba(0, 0, 0, 0.15);\n",
              "      filter: drop-shadow(0px 1px 2px rgba(0, 0, 0, 0.3));\n",
              "      fill: #FFFFFF;\n",
              "    }\n",
              "  </style>\n",
              "\n",
              "      <script>\n",
              "        const buttonEl =\n",
              "          document.querySelector('#df-6c21f56b-2e4f-4985-93ac-576649a36059 button.colab-df-convert');\n",
              "        buttonEl.style.display =\n",
              "          google.colab.kernel.accessAllowed ? 'block' : 'none';\n",
              "\n",
              "        async function convertToInteractive(key) {\n",
              "          const element = document.querySelector('#df-6c21f56b-2e4f-4985-93ac-576649a36059');\n",
              "          const dataTable =\n",
              "            await google.colab.kernel.invokeFunction('convertToInteractive',\n",
              "                                                     [key], {});\n",
              "          if (!dataTable) return;\n",
              "\n",
              "          const docLinkHtml = 'Like what you see? Visit the ' +\n",
              "            '<a target=\"_blank\" href=https://colab.research.google.com/notebooks/data_table.ipynb>data table notebook</a>'\n",
              "            + ' to learn more about interactive tables.';\n",
              "          element.innerHTML = '';\n",
              "          dataTable['output_type'] = 'display_data';\n",
              "          await google.colab.output.renderOutput(dataTable, element);\n",
              "          const docLink = document.createElement('div');\n",
              "          docLink.innerHTML = docLinkHtml;\n",
              "          element.appendChild(docLink);\n",
              "        }\n",
              "      </script>\n",
              "    </div>\n",
              "  </div>\n",
              "  "
            ]
          },
          "metadata": {},
          "execution_count": 140
        }
      ]
    },
    {
      "cell_type": "code",
      "source": [
        "ctab26.plot(kind='bar', cmap ='cividis')\n",
        "plt.title('Gender vs Disease condition', fontdict= {'fontsize':20, 'fontweight':5, 'color':'darkblue'})"
      ],
      "metadata": {
        "colab": {
          "base_uri": "https://localhost:8080/",
          "height": 0
        },
        "outputId": "177ec61f-02f5-4824-d80c-9627d818ae0c",
        "id": "oMqTn_gYY2fi"
      },
      "execution_count": 141,
      "outputs": [
        {
          "output_type": "execute_result",
          "data": {
            "text/plain": [
              "Text(0.5, 1.0, 'Gender vs Disease condition')"
            ]
          },
          "metadata": {},
          "execution_count": 141
        },
        {
          "output_type": "display_data",
          "data": {
            "text/plain": [
              "<Figure size 432x288 with 1 Axes>"
            ],
            "image/png": "[encoded data removed]"
          },
          "metadata": {
            "needs_background": "light"
          }
        }
      ]
    },
    {
      "cell_type": "markdown",
      "source": [
        "![image.png](data:image/png;base64,iVBORw0KGgoAAAANSUhEUgAAApQAAAAeCAYAAACSe46rAAAEgklEQVR4nO3dP3KbTBzG8Wff8VGQi9gnWE4g3KRym263NE26lOneBkrTpU2VxnACcwLsInCXTQH6C5JlaxxbzvczoxkJft5/1TMsYNM0TRAAAADwQmeSdHFx8dbjAAAAwAl6eHjQf289CAAAAJw2AiUAAACOQqAEAADAUQiUAAAAOAqBEgAAAEchUAIAAOAoJxAoO+WxkTFe1VsPBQAAACMnECindXksY4zivPsn+wcAAHgvTjZQ/h2VvDEycS5iIwAAwLSztx7AS0U39wo3/27/AAAA7wVXKAEAAHCU6UBZeRlj5Cupq7xiY2SMkTGxfDVs/na5fLx2fOe9hJ0qH6+1YRTHXtVUeVcp9/GyzuyqWxvj+B7GbrMNEyv21dqWddfPKTYbNdvjr7yRMYkKSapTzRa1vnqy/yr3G/M18dq6Tcxhcp25NxMAAJyKpmnCSOmCpCBrg6RgnQvO9d/738N364JzLtjF8azdaqgNmVWQbLAuC2VZhjJb1NuwWV4GN7SzbNdq2afkQjkxxs0+x204uzm2NhvmZF3IyjKUZTaq6Qv7c3Zoq68tQ9nu638x337t3LBuy/VxGzMYr7Pdqh+tJwAAwPvSNE3YHyi3Qt8ijI3D1yJ4ZWEjXg312zlqWb92Yhn0tkLUqs+nA+WuNvpwuPrejnLaEES3xr/7+P7+NZrwIuhuhegd67xrPQEAAN6bpmnC3nsobfZDN9Hqd3R1LStJrtT95gldW0n1o9rlwU53P2vJOn2edeq6tY/OdWklNb+HreihVk7f1tuVFN38UGafuMz6RBuK5prPV9+jaPtvZ/o0Gv9zrfovb+db5+b6mllJtX7ejbeyt9d5ej0BAADep+c95R2d61JSfVBxq8dakgols2K6xG7V2k+aPWtAE/0d1EanrrrT3a9HPQ5HmsMm9eL+o/N+5erHVtIo0QIAAJys139tkM1U/riaDnlR9PejVeUVJ8WBoRgAAABPecXXBq22kRVFiqY+E7VHb/HubaNT/r1QLStXtgohDJ/2wG31ffbPofvdSJLsp5dfgwUAAHiPXjFQRrq6tpIKfZ96BU7XqetWteeXmqjtVPkvSg+6nDjXZzfVhvrXEVWdVtvS1/o6X7822i63vjc9J+jumkPf//9pLcnq+ortbgAA8LG86ovNo5tvcpLqdKbY58qrSlWV9++JnM30Ze0BlfnXTHZRG3t57xWbmZJCsgdePVxvwwxt+NjIzBKlv1otQ2ed6ovPVVWV8twrNomKydC6ColJ7OV9/07Lnf3flsv5mjju+/exzKx/n+Xo4RsAAIAP4JX/U85ct6FV6axUpEqTREmSKm0ulZXt1pPiN7pvSzkr1XWhoigkl6ls7/Xt8sDulm1YaWijqK2sK9UOT17Pb1tlzqouUiVJojRtdFm2Kt2OGdz2Y+rbq6W9W9b9fDNnZeu677+oZa0bzxcAAOCDME3ThIuLi7ceBwAAAE7Qw8MD/8sbAAAAxyFQAgAA4CgESgAAAByFQAkAAICjECgBAABwlDOpfzoHAAAAeIk/tWvo73JxawQAAAAASUVORK5CYII=)"
      ],
      "metadata": {
        "id": "wWbcFxUMYxJP"
      }
    },
    {
      "cell_type": "code",
      "source": [
        "ctab27=pd.crosstab(Nutrition['gender'],Nutrition['medication']) \n",
        "ctab27"
      ],
      "metadata": {
        "colab": {
          "base_uri": "https://localhost:8080/",
          "height": 0
        },
        "outputId": "031538c8-c4b0-4c25-d718-16ccc1ba8da2",
        "id": "q30dEbO2ZCg7"
      },
      "execution_count": 142,
      "outputs": [
        {
          "output_type": "execute_result",
          "data": {
            "text/plain": [
              "medication  vitamin c tablet, paracetamol  \\\n",
              "gender                                      \n",
              "Female                                 35   \n",
              "Male                                   40   \n",
              "\n",
              "medication  vitamin c tablet, paracetamol, levozet  \\\n",
              "gender                                               \n",
              "Female                                           8   \n",
              "Male                                             5   \n",
              "\n",
              "medication  vitamin c tablet, paracetmol, levozet, azithromycin  \n",
              "gender                                                           \n",
              "Female                                                      7    \n",
              "Male                                                        5    "
            ],
            "text/html": [
              "\n",
              "  <div id=\"df-9f612146-bb20-4a11-ba3d-2fd70676205f\">\n",
              "    <div class=\"colab-df-container\">\n",
              "      <div>\n",
              "<style scoped>\n",
              "    .dataframe tbody tr th:only-of-type {\n",
              "        vertical-align: middle;\n",
              "    }\n",
              "\n",
              "    .dataframe tbody tr th {\n",
              "        vertical-align: top;\n",
              "    }\n",
              "\n",
              "    .dataframe thead th {\n",
              "        text-align: right;\n",
              "    }\n",
              "</style>\n",
              "<table border=\"1\" class=\"dataframe\">\n",
              "  <thead>\n",
              "    <tr style=\"text-align: right;\">\n",
              "      <th>medication</th>\n",
              "      <th>vitamin c tablet, paracetamol</th>\n",
              "      <th>vitamin c tablet, paracetamol, levozet</th>\n",
              "      <th>vitamin c tablet, paracetmol, levozet, azithromycin</th>\n",
              "    </tr>\n",
              "    <tr>\n",
              "      <th>gender</th>\n",
              "      <th></th>\n",
              "      <th></th>\n",
              "      <th></th>\n",
              "    </tr>\n",
              "  </thead>\n",
              "  <tbody>\n",
              "    <tr>\n",
              "      <th>Female</th>\n",
              "      <td>35</td>\n",
              "      <td>8</td>\n",
              "      <td>7</td>\n",
              "    </tr>\n",
              "    <tr>\n",
              "      <th>Male</th>\n",
              "      <td>40</td>\n",
              "      <td>5</td>\n",
              "      <td>5</td>\n",
              "    </tr>\n",
              "  </tbody>\n",
              "</table>\n",
              "</div>\n",
              "      <button class=\"colab-df-convert\" onclick=\"convertToInteractive('df-9f612146-bb20-4a11-ba3d-2fd70676205f')\"\n",
              "              title=\"Convert this dataframe to an interactive table.\"\n",
              "              style=\"display:none;\">\n",
              "        \n",
              "  <svg xmlns=\"http://www.w3.org/2000/svg\" height=\"24px\"viewBox=\"0 0 24 24\"\n",
              "       width=\"24px\">\n",
              "    <path d=\"M0 0h24v24H0V0z\" fill=\"none\"/>\n",
              "    <path d=\"M18.56 5.44l.94 2.06.94-2.06 2.06-.94-2.06-.94-.94-2.06-.94 2.06-2.06.94zm-11 1L8.5 8.5l.94-2.06 2.06-.94-2.06-.94L8.5 2.5l-.94 2.06-2.06.94zm10 10l.94 2.06.94-2.06 2.06-.94-2.06-.94-.94-2.06-.94 2.06-2.06.94z\"/><path d=\"M17.41 7.96l-1.37-1.37c-.4-.4-.92-.59-1.43-.59-.52 0-1.04.2-1.43.59L10.3 9.45l-7.72 7.72c-.78.78-.78 2.05 0 2.83L4 21.41c.39.39.9.59 1.41.59.51 0 1.02-.2 1.41-.59l7.78-7.78 2.81-2.81c.8-.78.8-2.07 0-2.86zM5.41 20L4 18.59l7.72-7.72 1.47 1.35L5.41 20z\"/>\n",
              "  </svg>\n",
              "      </button>\n",
              "      \n",
              "  <style>\n",
              "    .colab-df-container {\n",
              "      display:flex;\n",
              "      flex-wrap:wrap;\n",
              "      gap: 12px;\n",
              "    }\n",
              "\n",
              "    .colab-df-convert {\n",
              "      background-color: #E8F0FE;\n",
              "      border: none;\n",
              "      border-radius: 50%;\n",
              "      cursor: pointer;\n",
              "      display: none;\n",
              "      fill: #1967D2;\n",
              "      height: 32px;\n",
              "      padding: 0 0 0 0;\n",
              "      width: 32px;\n",
              "    }\n",
              "\n",
              "    .colab-df-convert:hover {\n",
              "      background-color: #E2EBFA;\n",
              "      box-shadow: 0px 1px 2px rgba(60, 64, 67, 0.3), 0px 1px 3px 1px rgba(60, 64, 67, 0.15);\n",
              "      fill: #174EA6;\n",
              "    }\n",
              "\n",
              "    [theme=dark] .colab-df-convert {\n",
              "      background-color: #3B4455;\n",
              "      fill: #D2E3FC;\n",
              "    }\n",
              "\n",
              "    [theme=dark] .colab-df-convert:hover {\n",
              "      background-color: #434B5C;\n",
              "      box-shadow: 0px 1px 3px 1px rgba(0, 0, 0, 0.15);\n",
              "      filter: drop-shadow(0px 1px 2px rgba(0, 0, 0, 0.3));\n",
              "      fill: #FFFFFF;\n",
              "    }\n",
              "  </style>\n",
              "\n",
              "      <script>\n",
              "        const buttonEl =\n",
              "          document.querySelector('#df-9f612146-bb20-4a11-ba3d-2fd70676205f button.colab-df-convert');\n",
              "        buttonEl.style.display =\n",
              "          google.colab.kernel.accessAllowed ? 'block' : 'none';\n",
              "\n",
              "        async function convertToInteractive(key) {\n",
              "          const element = document.querySelector('#df-9f612146-bb20-4a11-ba3d-2fd70676205f');\n",
              "          const dataTable =\n",
              "            await google.colab.kernel.invokeFunction('convertToInteractive',\n",
              "                                                     [key], {});\n",
              "          if (!dataTable) return;\n",
              "\n",
              "          const docLinkHtml = 'Like what you see? Visit the ' +\n",
              "            '<a target=\"_blank\" href=https://colab.research.google.com/notebooks/data_table.ipynb>data table notebook</a>'\n",
              "            + ' to learn more about interactive tables.';\n",
              "          element.innerHTML = '';\n",
              "          dataTable['output_type'] = 'display_data';\n",
              "          await google.colab.output.renderOutput(dataTable, element);\n",
              "          const docLink = document.createElement('div');\n",
              "          docLink.innerHTML = docLinkHtml;\n",
              "          element.appendChild(docLink);\n",
              "        }\n",
              "      </script>\n",
              "    </div>\n",
              "  </div>\n",
              "  "
            ]
          },
          "metadata": {},
          "execution_count": 142
        }
      ]
    },
    {
      "cell_type": "code",
      "source": [
        "ctab27.plot(kind='bar', cmap ='cividis')\n",
        "plt.title('Gender vs medication', fontdict= {'fontsize':20, 'fontweight':5, 'color':'darkblue'})"
      ],
      "metadata": {
        "colab": {
          "base_uri": "https://localhost:8080/",
          "height": 0
        },
        "outputId": "2de6f10b-77bc-4e6d-db9a-eafb5dfa3b5d",
        "id": "_9R0sIO4ZCg8"
      },
      "execution_count": 143,
      "outputs": [
        {
          "output_type": "execute_result",
          "data": {
            "text/plain": [
              "Text(0.5, 1.0, 'Gender vs medication')"
            ]
          },
          "metadata": {},
          "execution_count": 143
        },
        {
          "output_type": "display_data",
          "data": {
            "text/plain": [
              "<Figure size 432x288 with 1 Axes>"
            ],
            "image/png": "[encoded data removed]"
          },
          "metadata": {
            "needs_background": "light"
          }
        }
      ]
    },
    {
      "cell_type": "code",
      "source": [
        ""
      ],
      "metadata": {
        "id": "2qdNY8zcVSMM"
      },
      "execution_count": 143,
      "outputs": []
    }
  ]
}